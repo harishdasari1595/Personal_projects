{
 "cells": [
  {
   "cell_type": "markdown",
   "metadata": {},
   "source": [
    "<h1>Implementing SVM on Amazon fine food reviews dataset.</h1>"
   ]
  },
  {
   "cell_type": "code",
   "execution_count": 11,
   "metadata": {},
   "outputs": [],
   "source": [
    "#Importing relevant libraries\n",
    "%matplotlib inline\n",
    "\n",
    "import warnings\n",
    "warnings.filterwarnings(\"ignore\")\n",
    "\n",
    "\n",
    "import sqlite3\n",
    "import pandas as pd\n",
    "import numpy as np\n",
    "import nltk\n",
    "import string\n",
    "import matplotlib.pyplot as plt\n",
    "import seaborn as sns\n",
    "from sklearn.feature_extraction.text import TfidfTransformer\n",
    "from sklearn.feature_extraction.text import TfidfVectorizer\n",
    "import itertools\n",
    "from sklearn.feature_extraction.text import CountVectorizer\n",
    "from sklearn.metrics import confusion_matrix\n",
    "from sklearn.metrics import precision_score\n",
    "from sklearn.metrics import recall_score\n",
    "from sklearn.metrics import f1_score\n",
    "from sklearn import metrics\n",
    "from sklearn.cross_validation import train_test_split\n",
    "from sklearn.metrics import accuracy_score\n",
    "from sklearn.cross_validation import cross_val_score\n",
    "from collections import Counter\n",
    "from sklearn import cross_validation\n",
    "from sklearn.model_selection import train_test_split\n",
    "import warnings\n",
    "warnings.filterwarnings(action='ignore')\n",
    "from sklearn.model_selection import train_test_split\n",
    "from sklearn.grid_search import GridSearchCV\n",
    "from sklearn.model_selection import RandomizedSearchCV\n",
    "from sklearn.svm import SVC\n",
    "from prettytable import PrettyTable\n",
    "from sklearn.model_selection import TimeSeriesSplit\n",
    "import datetime as dt"
   ]
  },
  {
   "cell_type": "markdown",
   "metadata": {},
   "source": [
    "<h3>Connecting to the preprocessed SQLITE database table</h3>"
   ]
  },
  {
   "cell_type": "code",
   "execution_count": 5,
   "metadata": {},
   "outputs": [],
   "source": [
    "#Connecting to the SQL table\n",
    "con = sqlite3.connect('final.sqlite')\n",
    "\n",
    "#Reading data from the database\n",
    "\n",
    "Data = pd.read_sql_query(\"\"\"\n",
    "SELECT *\n",
    "FROM Reviews \"\"\",con)\n",
    "Data.shape\n",
    "\n",
    "# Drop index column\n",
    "Data.drop(columns=['index'],inplace=True)\n"
   ]
  },
  {
   "cell_type": "markdown",
   "metadata": {},
   "source": [
    "<h3>Processing the data for further use</h3>"
   ]
  },
  {
   "cell_type": "code",
   "execution_count": 12,
   "metadata": {},
   "outputs": [
    {
     "data": {
      "text/html": [
       "<div>\n",
       "<style scoped>\n",
       "    .dataframe tbody tr th:only-of-type {\n",
       "        vertical-align: middle;\n",
       "    }\n",
       "\n",
       "    .dataframe tbody tr th {\n",
       "        vertical-align: top;\n",
       "    }\n",
       "\n",
       "    .dataframe thead th {\n",
       "        text-align: right;\n",
       "    }\n",
       "</style>\n",
       "<table border=\"1\" class=\"dataframe\">\n",
       "  <thead>\n",
       "    <tr style=\"text-align: right;\">\n",
       "      <th></th>\n",
       "      <th>Id</th>\n",
       "      <th>ProductId</th>\n",
       "      <th>UserId</th>\n",
       "      <th>ProfileName</th>\n",
       "      <th>HelpfulnessNumerator</th>\n",
       "      <th>HelpfulnessDenominator</th>\n",
       "      <th>Score</th>\n",
       "      <th>Time</th>\n",
       "      <th>Summary</th>\n",
       "      <th>Text</th>\n",
       "      <th>CleanedText</th>\n",
       "    </tr>\n",
       "  </thead>\n",
       "  <tbody>\n",
       "    <tr>\n",
       "      <th>0</th>\n",
       "      <td>150524</td>\n",
       "      <td>0006641040</td>\n",
       "      <td>ACITT7DI6IDDL</td>\n",
       "      <td>shari zychinski</td>\n",
       "      <td>0</td>\n",
       "      <td>0</td>\n",
       "      <td>positive</td>\n",
       "      <td>1999-10-08 05:30:00</td>\n",
       "      <td>EVERY book is educational</td>\n",
       "      <td>this witty little book makes my son laugh at l...</td>\n",
       "      <td>witti littl book make son laugh loud recit car...</td>\n",
       "    </tr>\n",
       "    <tr>\n",
       "      <th>1</th>\n",
       "      <td>150506</td>\n",
       "      <td>0006641040</td>\n",
       "      <td>A2IW4PEEKO2R0U</td>\n",
       "      <td>Tracy</td>\n",
       "      <td>1</td>\n",
       "      <td>1</td>\n",
       "      <td>positive</td>\n",
       "      <td>2007-11-11 05:30:00</td>\n",
       "      <td>Love the book, miss the hard cover version</td>\n",
       "      <td>I grew up reading these Sendak books, and watc...</td>\n",
       "      <td>grew read sendak book watch realli rosi movi i...</td>\n",
       "    </tr>\n",
       "    <tr>\n",
       "      <th>2</th>\n",
       "      <td>150507</td>\n",
       "      <td>0006641040</td>\n",
       "      <td>A1S4A3IQ2MU7V4</td>\n",
       "      <td>sally sue \"sally sue\"</td>\n",
       "      <td>1</td>\n",
       "      <td>1</td>\n",
       "      <td>positive</td>\n",
       "      <td>2007-10-04 05:30:00</td>\n",
       "      <td>chicken soup with rice months</td>\n",
       "      <td>This is a fun way for children to learn their ...</td>\n",
       "      <td>fun way children learn month year learn poem t...</td>\n",
       "    </tr>\n",
       "    <tr>\n",
       "      <th>3</th>\n",
       "      <td>150508</td>\n",
       "      <td>0006641040</td>\n",
       "      <td>AZGXZ2UUK6X</td>\n",
       "      <td>Catherine Hallberg \"(Kate)\"</td>\n",
       "      <td>1</td>\n",
       "      <td>1</td>\n",
       "      <td>positive</td>\n",
       "      <td>2004-02-06 05:30:00</td>\n",
       "      <td>a good swingy rhythm for reading aloud</td>\n",
       "      <td>This is a great little book to read aloud- it ...</td>\n",
       "      <td>great littl book read nice rhythm well good re...</td>\n",
       "    </tr>\n",
       "    <tr>\n",
       "      <th>4</th>\n",
       "      <td>150509</td>\n",
       "      <td>0006641040</td>\n",
       "      <td>A3CMRKGE0P909G</td>\n",
       "      <td>Teresa</td>\n",
       "      <td>3</td>\n",
       "      <td>4</td>\n",
       "      <td>positive</td>\n",
       "      <td>2002-04-10 05:30:00</td>\n",
       "      <td>A great way to learn the months</td>\n",
       "      <td>This is a book of poetry about the months of t...</td>\n",
       "      <td>book poetri month year goe month cute littl po...</td>\n",
       "    </tr>\n",
       "  </tbody>\n",
       "</table>\n",
       "</div>"
      ],
      "text/plain": [
       "       Id   ProductId          UserId                  ProfileName  \\\n",
       "0  150524  0006641040   ACITT7DI6IDDL              shari zychinski   \n",
       "1  150506  0006641040  A2IW4PEEKO2R0U                        Tracy   \n",
       "2  150507  0006641040  A1S4A3IQ2MU7V4        sally sue \"sally sue\"   \n",
       "3  150508  0006641040     AZGXZ2UUK6X  Catherine Hallberg \"(Kate)\"   \n",
       "4  150509  0006641040  A3CMRKGE0P909G                       Teresa   \n",
       "\n",
       "   HelpfulnessNumerator  HelpfulnessDenominator     Score                Time  \\\n",
       "0                     0                       0  positive 1999-10-08 05:30:00   \n",
       "1                     1                       1  positive 2007-11-11 05:30:00   \n",
       "2                     1                       1  positive 2007-10-04 05:30:00   \n",
       "3                     1                       1  positive 2004-02-06 05:30:00   \n",
       "4                     3                       4  positive 2002-04-10 05:30:00   \n",
       "\n",
       "                                      Summary  \\\n",
       "0                   EVERY book is educational   \n",
       "1  Love the book, miss the hard cover version   \n",
       "2               chicken soup with rice months   \n",
       "3      a good swingy rhythm for reading aloud   \n",
       "4             A great way to learn the months   \n",
       "\n",
       "                                                Text  \\\n",
       "0  this witty little book makes my son laugh at l...   \n",
       "1  I grew up reading these Sendak books, and watc...   \n",
       "2  This is a fun way for children to learn their ...   \n",
       "3  This is a great little book to read aloud- it ...   \n",
       "4  This is a book of poetry about the months of t...   \n",
       "\n",
       "                                         CleanedText  \n",
       "0  witti littl book make son laugh loud recit car...  \n",
       "1  grew read sendak book watch realli rosi movi i...  \n",
       "2  fun way children learn month year learn poem t...  \n",
       "3  great littl book read nice rhythm well good re...  \n",
       "4  book poetri month year goe month cute littl po...  "
      ]
     },
     "execution_count": 12,
     "metadata": {},
     "output_type": "execute_result"
    }
   ],
   "source": [
    "#SETTING THE TIME COLUMN TO STANDARD DATE-TIME\n",
    "\n",
    "Data['Time'] = Data[['Time']].applymap(lambda x: dt.datetime.fromtimestamp(x))\n",
    "\n",
    "Data.head(5)"
   ]
  },
  {
   "cell_type": "code",
   "execution_count": 13,
   "metadata": {},
   "outputs": [],
   "source": [
    "#Setting Time column as index of the dataframe \n",
    "Data.set_index(\"Time\",inplace=True)\n",
    "\n",
    "#Sampling the above data\n",
    "\n",
    "Sampled_data=Data.sample(n=30000,replace='False')\n",
    "Sorted=Sampled_data.sort_index()"
   ]
  },
  {
   "cell_type": "code",
   "execution_count": 14,
   "metadata": {},
   "outputs": [
    {
     "data": {
      "text/html": [
       "<div>\n",
       "<style scoped>\n",
       "    .dataframe tbody tr th:only-of-type {\n",
       "        vertical-align: middle;\n",
       "    }\n",
       "\n",
       "    .dataframe tbody tr th {\n",
       "        vertical-align: top;\n",
       "    }\n",
       "\n",
       "    .dataframe thead th {\n",
       "        text-align: right;\n",
       "    }\n",
       "</style>\n",
       "<table border=\"1\" class=\"dataframe\">\n",
       "  <thead>\n",
       "    <tr style=\"text-align: right;\">\n",
       "      <th></th>\n",
       "      <th>Id</th>\n",
       "      <th>ProductId</th>\n",
       "      <th>UserId</th>\n",
       "      <th>ProfileName</th>\n",
       "      <th>HelpfulnessNumerator</th>\n",
       "      <th>HelpfulnessDenominator</th>\n",
       "      <th>Score</th>\n",
       "      <th>Summary</th>\n",
       "      <th>Text</th>\n",
       "      <th>CleanedText</th>\n",
       "    </tr>\n",
       "    <tr>\n",
       "      <th>Time</th>\n",
       "      <th></th>\n",
       "      <th></th>\n",
       "      <th></th>\n",
       "      <th></th>\n",
       "      <th></th>\n",
       "      <th></th>\n",
       "      <th></th>\n",
       "      <th></th>\n",
       "      <th></th>\n",
       "      <th></th>\n",
       "    </tr>\n",
       "  </thead>\n",
       "  <tbody>\n",
       "    <tr>\n",
       "      <th>2000-06-03 05:30:00</th>\n",
       "      <td>374400</td>\n",
       "      <td>B00004CI84</td>\n",
       "      <td>A2DEE7F9XKP3ZR</td>\n",
       "      <td>jerome</td>\n",
       "      <td>0</td>\n",
       "      <td>3</td>\n",
       "      <td>positive</td>\n",
       "      <td>Research - Beatlejuice video - French version</td>\n",
       "      <td>I'm getting crazy.I'm looking for Beatlejuice ...</td>\n",
       "      <td>get crazi look beatlejuic french version video...</td>\n",
       "    </tr>\n",
       "    <tr>\n",
       "      <th>2000-12-19 05:30:00</th>\n",
       "      <td>374383</td>\n",
       "      <td>B00004CI84</td>\n",
       "      <td>A34NBH479RB0E</td>\n",
       "      <td>\"dmab6395\"</td>\n",
       "      <td>0</td>\n",
       "      <td>1</td>\n",
       "      <td>positive</td>\n",
       "      <td>FUNNY</td>\n",
       "      <td>I THOUGHT THIS MOVIE WAS SO FUNNY, MICHAEL KEA...</td>\n",
       "      <td>thought movi funni michael keaton beetlejuic r...</td>\n",
       "    </tr>\n",
       "    <tr>\n",
       "      <th>2001-06-11 05:30:00</th>\n",
       "      <td>451923</td>\n",
       "      <td>B00004CXX9</td>\n",
       "      <td>ANIMV3SPDD8SH</td>\n",
       "      <td>Guy De Federicis</td>\n",
       "      <td>1</td>\n",
       "      <td>12</td>\n",
       "      <td>negative</td>\n",
       "      <td>CASPER IS THE GHOST WITH THE MOST</td>\n",
       "      <td>Michael Keaton brings no distinguishing charac...</td>\n",
       "      <td>michael keaton bring distinguish characterist ...</td>\n",
       "    </tr>\n",
       "    <tr>\n",
       "      <th>2002-01-06 05:30:00</th>\n",
       "      <td>361317</td>\n",
       "      <td>B00005IX96</td>\n",
       "      <td>A3ODTU118FKC5J</td>\n",
       "      <td>Rosemarie E Smith</td>\n",
       "      <td>5</td>\n",
       "      <td>7</td>\n",
       "      <td>positive</td>\n",
       "      <td>A little piece of heaven.</td>\n",
       "      <td>For years I have been trying to simulate a tru...</td>\n",
       "      <td>year tri simul truli italian espresso cappucci...</td>\n",
       "    </tr>\n",
       "    <tr>\n",
       "      <th>2002-02-11 05:30:00</th>\n",
       "      <td>374420</td>\n",
       "      <td>B00004CI84</td>\n",
       "      <td>A1ZH086GZYL5MZ</td>\n",
       "      <td>Doug DeBolt</td>\n",
       "      <td>2</td>\n",
       "      <td>2</td>\n",
       "      <td>positive</td>\n",
       "      <td>A little gross, a lot of fun</td>\n",
       "      <td>Michael Keaton was already on his way to being...</td>\n",
       "      <td>michael keaton alreadi way major star play gho...</td>\n",
       "    </tr>\n",
       "  </tbody>\n",
       "</table>\n",
       "</div>"
      ],
      "text/plain": [
       "                         Id   ProductId          UserId        ProfileName  \\\n",
       "Time                                                                         \n",
       "2000-06-03 05:30:00  374400  B00004CI84  A2DEE7F9XKP3ZR             jerome   \n",
       "2000-12-19 05:30:00  374383  B00004CI84   A34NBH479RB0E         \"dmab6395\"   \n",
       "2001-06-11 05:30:00  451923  B00004CXX9   ANIMV3SPDD8SH   Guy De Federicis   \n",
       "2002-01-06 05:30:00  361317  B00005IX96  A3ODTU118FKC5J  Rosemarie E Smith   \n",
       "2002-02-11 05:30:00  374420  B00004CI84  A1ZH086GZYL5MZ        Doug DeBolt   \n",
       "\n",
       "                     HelpfulnessNumerator  HelpfulnessDenominator     Score  \\\n",
       "Time                                                                          \n",
       "2000-06-03 05:30:00                     0                       3  positive   \n",
       "2000-12-19 05:30:00                     0                       1  positive   \n",
       "2001-06-11 05:30:00                     1                      12  negative   \n",
       "2002-01-06 05:30:00                     5                       7  positive   \n",
       "2002-02-11 05:30:00                     2                       2  positive   \n",
       "\n",
       "                                                           Summary  \\\n",
       "Time                                                                 \n",
       "2000-06-03 05:30:00  Research - Beatlejuice video - French version   \n",
       "2000-12-19 05:30:00                                          FUNNY   \n",
       "2001-06-11 05:30:00              CASPER IS THE GHOST WITH THE MOST   \n",
       "2002-01-06 05:30:00                      A little piece of heaven.   \n",
       "2002-02-11 05:30:00                   A little gross, a lot of fun   \n",
       "\n",
       "                                                                  Text  \\\n",
       "Time                                                                     \n",
       "2000-06-03 05:30:00  I'm getting crazy.I'm looking for Beatlejuice ...   \n",
       "2000-12-19 05:30:00  I THOUGHT THIS MOVIE WAS SO FUNNY, MICHAEL KEA...   \n",
       "2001-06-11 05:30:00  Michael Keaton brings no distinguishing charac...   \n",
       "2002-01-06 05:30:00  For years I have been trying to simulate a tru...   \n",
       "2002-02-11 05:30:00  Michael Keaton was already on his way to being...   \n",
       "\n",
       "                                                           CleanedText  \n",
       "Time                                                                    \n",
       "2000-06-03 05:30:00  get crazi look beatlejuic french version video...  \n",
       "2000-12-19 05:30:00  thought movi funni michael keaton beetlejuic r...  \n",
       "2001-06-11 05:30:00  michael keaton bring distinguish characterist ...  \n",
       "2002-01-06 05:30:00  year tri simul truli italian espresso cappucci...  \n",
       "2002-02-11 05:30:00  michael keaton alreadi way major star play gho...  "
      ]
     },
     "execution_count": 14,
     "metadata": {},
     "output_type": "execute_result"
    }
   ],
   "source": [
    "Sorted.head()"
   ]
  },
  {
   "cell_type": "code",
   "execution_count": 15,
   "metadata": {},
   "outputs": [
    {
     "data": {
      "image/png": "[encoded data removed]",
      "text/plain": [
       "<Figure size 432x288 with 1 Axes>"
      ]
     },
     "metadata": {
      "needs_background": "light"
     },
     "output_type": "display_data"
    },
    {
     "data": {
      "text/plain": [
       "<Figure size 432x288 with 0 Axes>"
      ]
     },
     "metadata": {},
     "output_type": "display_data"
    }
   ],
   "source": [
    "Sorted=Sorted.drop_duplicates(subset={\"UserId\",\"ProfileName\",\"Summary\",\"Text\"}, keep='first', inplace=False)\n",
    "\n",
    "Full_data=Data.sample(n=150000,replace='False')\n",
    "new_sample=Full_data.sort_index()\n",
    "\n",
    "new_sample[\"Score\"].value_counts()\n",
    "#LABELS.value_counts()\n",
    "LABELS=new_sample[\"Score\"]\n",
    "sns.countplot(x=\"Score\",data=new_sample,palette=\"hls\")\n",
    "plt.show()\n",
    "plt.savefig(\"count_plot\")\n"
   ]
  },
  {
   "cell_type": "code",
   "execution_count": 16,
   "metadata": {},
   "outputs": [
    {
     "data": {
      "image/png": "[encoded data removed]",
      "text/plain": [
       "<Figure size 432x288 with 1 Axes>"
      ]
     },
     "metadata": {
      "needs_background": "light"
     },
     "output_type": "display_data"
    },
    {
     "data": {
      "text/plain": [
       "<Figure size 432x288 with 0 Axes>"
      ]
     },
     "metadata": {},
     "output_type": "display_data"
    }
   ],
   "source": [
    "polarity=Sorted[\"Score\"]\n",
    "sns.countplot(x=\"Score\",data=Sorted,palette=\"hls\")\n",
    "plt.show()\n",
    "plt.savefig(\"count_plot\")\n"
   ]
  },
  {
   "cell_type": "markdown",
   "metadata": {},
   "source": [
    "<h3>Splitting the data into 70:30 partitions sets</h3>"
   ]
  },
  {
   "cell_type": "code",
   "execution_count": 17,
   "metadata": {},
   "outputs": [],
   "source": [
    "def data_split(x,y):\n",
    "    #Splitting the model into 70:30 split of Training and Cross_validate split\n",
    "    X_1, X_test, y_1, y_test = train_test_split(x, y, test_size=0.3,shuffle=False,random_state=None)\n",
    "\n",
    "# split the train data set into cross validation train and cross validation test\n",
    "    X_tr, X_cv, y_tr, y_cv = train_test_split(X_1, y_1, test_size=0.3,shuffle=False,random_state=None)\n",
    "    \n",
    "    return X_tr,y_tr,X_cv,y_cv,X_test,y_test"
   ]
  },
  {
   "cell_type": "markdown",
   "metadata": {},
   "source": [
    "<h3>Preparing the data for further use</h3>"
   ]
  },
  {
   "cell_type": "code",
   "execution_count": 18,
   "metadata": {},
   "outputs": [
    {
     "name": "stdout",
     "output_type": "stream",
     "text": [
      "The shape of x_train is: (14110, 10)\n",
      "the shape of y_train is: (14110,)\n",
      "The shape of x_cval is: (6048, 10)\n",
      "The shape of y_cval is: (6048,)\n",
      "the shape of x_test is: (8640, 10)\n",
      "the shape of y_test is: (8640,)\n"
     ]
    }
   ],
   "source": [
    "#PARTITIONING THE DATA FOR KERNEL SVMC\n",
    "X=Sorted\n",
    "Y=polarity\n",
    "\n",
    "X_tr,y_tr,X_cv,y_cv,X_test,y_test=data_split(X,Y)\n",
    "\n",
    "print(\"The shape of x_train is:\",X_tr.shape)\n",
    "print(\"the shape of y_train is:\",y_tr.shape)\n",
    "print(\"The shape of x_cval is:\",X_cv.shape)\n",
    "print(\"The shape of y_cval is:\",y_cv.shape)\n",
    "print(\"the shape of x_test is:\",X_test.shape)\n",
    "print(\"the shape of y_test is:\",y_test.shape)"
   ]
  },
  {
   "cell_type": "markdown",
   "metadata": {},
   "source": [
    "<h3>Partioining the data for the implementation of the Linear SVM</h3>"
   ]
  },
  {
   "cell_type": "code",
   "execution_count": 19,
   "metadata": {},
   "outputs": [
    {
     "name": "stdout",
     "output_type": "stream",
     "text": [
      "The shape of x_train is: (73500, 10)\n",
      "the shape of y_train is: (73500,)\n",
      "The shape of x_cval is: (31500, 10)\n",
      "The shape of y_cval is: (31500,)\n",
      "the shape of x_test is: (45000, 10)\n",
      "the shape of y_test is: (45000,)\n"
     ]
    }
   ],
   "source": [
    "\n",
    "Linear_X=new_sample\n",
    "Linear_Y=LABELS\n",
    "\n",
    "li_xtr,li_ytr,li_xcv,li_ycv,li_xtest,li_ytest=data_split(Linear_X,Linear_Y)\n",
    "\n",
    "print(\"The shape of x_train is:\",li_xtr.shape)\n",
    "print(\"the shape of y_train is:\",li_ytr.shape)\n",
    "print(\"The shape of x_cval is:\",li_xcv.shape)\n",
    "print(\"The shape of y_cval is:\",li_ycv.shape)\n",
    "print(\"the shape of x_test is:\",li_xtest.shape)\n",
    "print(\"the shape of y_test is:\",li_ytest.shape)"
   ]
  },
  {
   "cell_type": "markdown",
   "metadata": {},
   "source": [
    "<h3>Utility functions for training the models</h3>"
   ]
  },
  {
   "cell_type": "code",
   "execution_count": 20,
   "metadata": {},
   "outputs": [],
   "source": [
    "#Function for training the data \n",
    "def train(X_tr, y_tr,X_cv,y_cv):\n",
    "#Splitting the data into train and test set\n",
    "\n",
    "    Model = SVC(class_weight=\"balanced\") #Performing weight balancing technique due to class imbalance\n",
    "    model = Model.fit(X_tr, y_tr)\n",
    "\n",
    "    print(\"The model score on train set is= \", model.score(X_tr,y_tr))\n",
    "\n",
    "    y_pred=model.predict(X_cv)\n",
    "\n",
    "    acc = accuracy_score(y_cv, y_pred, normalize=True) * float(100)\n",
    "\n",
    "    print('\\nThe accuracy of SVM over cross_val set is =  %d%% ' % ( acc))\n",
    "    \n",
    "    return y_pred,acc\n",
    "    \n",
    "    \n",
    "#Hyper-parameter tuning of SVM using Gridsearch technique\n",
    "\n",
    "def Grid_s(X_train, y_train,X_cv,y_cv):\n",
    "    \n",
    "    Cs = [ 10 ** x for x in range(-5, 3)]\n",
    "    gammas = [10 ** x for x in range(-5, 3)]\n",
    "    \n",
    "    #cv = TimeSeriesSplit(max_train_size=None, n_splits=3)\n",
    "\n",
    "    param_grid = {'C': Cs, 'gamma' : gammas}\n",
    "    grid_search = GridSearchCV(SVC(class_weight= \"balanced\"), param_grid,scoring = 'accuracy', cv=3,n_jobs=-1)\n",
    "    grid_search.fit(X_train, y_train)\n",
    "\n",
    "    print(\"The best model parameters for Gridsearch technique is \",grid_search.best_params_)\n",
    "    print(\"The model score over the cv set is \",grid_search.score(X_cv,y_cv))\n",
    "    return grid_search.best_params_\n",
    "\n",
    "#Function for doing random search\n",
    "def Random_s(X_train, y_train,X_cv,y_cv):    \n",
    "\n",
    "    from scipy.stats import uniform\n",
    "    from sklearn.model_selection import RandomizedSearchCV\n",
    "    cv = TimeSeriesSplit(max_train_size=None, n_splits=3)\n",
    "\n",
    "    C = uniform(loc=0, scale=2)\n",
    "    gammas=uniform(loc=0,scale=2)\n",
    "\n",
    "    param_grid={\"C\":C,\"gamma\":gammas}\n",
    "\n",
    "    model1 =  RandomizedSearchCV(SVC(class_weight=\"balanced\"), param_grid,scoring = 'accuracy',n_jobs=-1, cv=cv)\n",
    "    model1.fit(X_train, y_train)\n",
    "\n",
    "    print(\"The best model parameters for Randomsearch technique is \",model1.best_params_)\n",
    "    print(\"The model score over the cv set is \",model1.score(X_cv, y_cv))\n",
    "    return model1.best_params_\n",
    "    \n",
    "\n",
    "#Function for finding the test accuracy by using the default alpha   \n",
    "def tuned_test(X_tr,y_tr,X_test,y_test,c,gam):\n",
    "\n",
    "    New_clf= SVC(C=c,gamma=gam,class_weight=\"balanced\")\n",
    "\n",
    "    new_model=New_clf.fit(X_tr,y_tr)\n",
    "\n",
    "    print(\"The model score on train set is= \", new_model.score(X_tr,y_tr))\n",
    "\n",
    "    Y_pred=new_model.predict(X_test)\n",
    "\n",
    "    new_acc = accuracy_score(y_test, Y_pred, normalize=True) * float(100)\n",
    "\n",
    "    print('\\nThe accuracy of svm over Test set is =  %d%% ' % ( new_acc))\n",
    "\n",
    "\n",
    "    \n",
    "    return Y_pred,new_acc\n",
    "\n",
    "\n",
    "\n"
   ]
  },
  {
   "cell_type": "markdown",
   "metadata": {},
   "source": [
    "<h2> Common Utility functions for plotting the results</h2>"
   ]
  },
  {
   "cell_type": "code",
   "execution_count": 21,
   "metadata": {},
   "outputs": [],
   "source": [
    "from sklearn.model_selection import learning_curve\n",
    "def plot_learning_curve(estimator, title, X, y, ylim=None, cv=None,\n",
    "                        n_jobs=None, train_sizes=np.linspace(.1, 1.0, 5)):\n",
    "    \"\"\"\n",
    "    Generate a simple plot of the cv and training learning curve.\n",
    "\n",
    "       \"\"\"\n",
    "    plt.figure()\n",
    "    plt.title(title)\n",
    "    if ylim is not None:\n",
    "        plt.ylim(*ylim)\n",
    "    plt.xlabel(\"Training examples\")\n",
    "    plt.ylabel(\"Score\")\n",
    "    train_sizes, train_scores, test_scores = learning_curve(\n",
    "        estimator, X, y, cv=cv, n_jobs=n_jobs, train_sizes=train_sizes)\n",
    "    train_scores_mean = np.mean(train_scores, axis=1)\n",
    "    train_scores_std = np.std(train_scores, axis=1)\n",
    "    test_scores_mean = np.mean(test_scores, axis=1)\n",
    "    test_scores_std = np.std(test_scores, axis=1)\n",
    "    plt.grid()\n",
    "\n",
    "    plt.fill_between(train_sizes, train_scores_mean - train_scores_std,\n",
    "                     train_scores_mean + train_scores_std, alpha=0.1,\n",
    "                     color=\"r\")\n",
    "    plt.fill_between(train_sizes, test_scores_mean - test_scores_std,\n",
    "                     test_scores_mean + test_scores_std, alpha=0.1, color=\"g\")\n",
    "    plt.plot(train_sizes, train_scores_mean, 'o-', color=\"r\",\n",
    "             label=\"Training score\")\n",
    "    plt.plot(train_sizes, test_scores_mean, 'o-', color=\"g\",\n",
    "             label=\"Cross-validation score\")\n",
    "\n",
    "    plt.legend(loc=\"best\")\n",
    "    return plt"
   ]
  },
  {
   "cell_type": "markdown",
   "metadata": {},
   "source": [
    "<h2>Utility functions for plotting the confusion matrix </h2>"
   ]
  },
  {
   "cell_type": "code",
   "execution_count": 22,
   "metadata": {},
   "outputs": [],
   "source": [
    "from sklearn.metrics import confusion_matrix\n",
    "def Confusion_metric(y_test,y_pred,acc):\n",
    "    print(metrics.confusion_matrix(y_test,y_pred))\n",
    "    confusion=metrics.confusion_matrix(y_test,y_pred)\n",
    "\n",
    "    plt.figure(figsize=(9,9))\n",
    "    sns.heatmap(confusion, annot=True, fmt=\".3f\", linewidths=.5, square = True, cmap = 'Blues_r');\n",
    "    plt.ylabel('Predicted label');\n",
    "    plt.xlabel('Actual label');\n",
    "    all_sample_title = 'Accuracy Score: {0}'.format( acc)\n",
    "    plt.title(all_sample_title, size = 15);\n",
    "    plt.show()\n",
    "\n",
    "#Storing the values of the confusion matrix\n",
    "    TN=confusion[0,0]\n",
    "    FP=confusion[0,1]\n",
    "    FN=confusion[1,0]\n",
    "    TP=confusion[1,1]\n",
    "\n",
    "# use float to perform true division, not integer division\n",
    "    Class_acc=((TP + TN) / float(TP + TN + FP + FN))*100\n",
    "\n",
    "#Code for classification error\n",
    "\n",
    "    classification_error = ((FP + FN) / float(TP + TN + FP + FN))*100\n",
    "    \n",
    "\n",
    "#Code for finding the TPR,FPR,TNR,FNR\n",
    "\n",
    "    TPR = (TP / float(FN + TP))*100\n",
    "\n",
    "    FNR = (FN / float(FN + TP))*100\n",
    "\n",
    "    TNR=(TN / float(TN + FP))*100\n",
    "\n",
    "    FPR=(FP / float(TN + FP))*100\n",
    "    \n",
    "#Code for finding the Precision,Recall & F1_score    \n",
    "   \n",
    "    precision = (TP/float(TP+FP))*100\n",
    "    \n",
    "    recall= (TP / float(FN + TP))*100\n",
    "    \n",
    "    F1_s= ((float(precision*recall)/float(precision+recall))*2)\n",
    "    \n",
    "    print()\n",
    "    \n",
    "    ptable=PrettyTable()\n",
    "    ptable.title=\"The performance metrics of the above model are as follows: \"\n",
    "    ptable.field_names=[\"Metrics\",\"Scores\"]\n",
    "    ptable.add_row([\"Classification_accuracy\",Class_acc])\n",
    "    ptable.add_row([\"Classification_error\",classification_error])\n",
    "    ptable.add_row([\"True positive\",TP])\n",
    "    ptable.add_row([\"False positive\",FP])\n",
    "    ptable.add_row([\"True negative\",TN])\n",
    "    ptable.add_row([\"False negative\",FN])\n",
    "    ptable.add_row([\"True positive rate\",TPR])\n",
    "    ptable.add_row([\"False negative rate\",FNR])\n",
    "    ptable.add_row([\"True negative rate\",TNR])\n",
    "    ptable.add_row([\"False positive rate\",FPR])\n",
    "    ptable.add_row([\"Precision value\",precision])\n",
    "    ptable.add_row([\"Recall value\",recall])\n",
    "    ptable.add_row([\"f1_score value\",F1_s])\n",
    "    \n",
    "    print(ptable)\n",
    "    "
   ]
  },
  {
   "cell_type": "code",
   "execution_count": 65,
   "metadata": {},
   "outputs": [],
   "source": [
    "\n",
    "def conclusion_table():\n",
    "    print()\n",
    "    ptable=PrettyTable()\n",
    "    ptable.title=\"The comparisons of all the vectorizers are as follows: \"\n",
    "    ptable.field_names=[\"Vectorizer\",\"Algorithm\",\"Scores\",\"Status\"]\n",
    "    ptable.add_row([\"Bag-Of-Words\",\"Kernel-SVM\",\"86.6% \",\"Stable\"])\n",
    "    ptable.add_row([\"Bag-Of-Words\",\"Linear-SVM\",\"92.87%\" ,\"Stable\"])\n",
    "    ptable.add_row([\"Tf-IDF\",\"Kernel-SVM\",\"88.33%\" ,\"Stable\"])\n",
    "    ptable.add_row([\"Tf-IDF\",\"Linear-SVM\",\"89.82%\" ,\"Unstable\"])\n",
    "    ptable.add_row([\"Average-word2vec\",\"Kernel-SVM\",\"85.91%\" ,\"Unstable\"])\n",
    "    ptable.add_row([\"Average-word2vec\",\"Linear-SVM\",\"88.05%\" ,\"Unstable\"])\n",
    "    ptable.add_row([\"TF-IDF-Weighted-word2vec\",\"Kernel-SVM\",\"84.67%\" ,\"Unstable\"])\n",
    "    ptable.add_row([\"TF-IDF-Weighted-word2vec\",\"Linear-SVM\", \"85.94%\",\"Unstable\"])\n",
    "   \n",
    "    print(ptable)\n",
    "    \n",
    "    "
   ]
  },
  {
   "cell_type": "markdown",
   "metadata": {},
   "source": [
    "<h3>Utilty functions for vectorizing the data</h3>"
   ]
  },
  {
   "cell_type": "code",
   "execution_count": 24,
   "metadata": {},
   "outputs": [],
   "source": [
    "#Function for vectorizing the train data\n",
    "from sklearn.preprocessing import StandardScaler\n",
    "scaler=StandardScaler(with_mean=False)\n",
    "\n",
    "\n",
    "def vec_train(vect,X_tr):\n",
    "    import warnings\n",
    "    warnings.filterwarnings(\"ignore\")\n",
    "\n",
    "    count_vect = vect #in scikit-learn\n",
    "    BOW = count_vect.fit_transform(X_tr.values)\n",
    "\n",
    "#Standardizing the vectorized data\n",
    "    standardized_data = scaler.fit_transform(BOW)\n",
    "    standardized_data.shape\n",
    "    return count_vect,standardized_data\n",
    "\n",
    "\n",
    "#Function for vectorizing the CV data\n",
    "\n",
    "def vec_cv(count,X_cv):\n",
    "    cv=count.transform(X_cv.values)\n",
    "    cv.get_shape()\n",
    "\n",
    "    std_cv=scaler.transform(cv)\n",
    "    std_cv.shape\n",
    "    return std_cv\n",
    "\n",
    "\n",
    "#Function for vectorizing the test data\n",
    "\n",
    "def vec_test(count,X_test):\n",
    "    test=count.transform(X_test.values)\n",
    "    test.get_shape()\n",
    "\n",
    "    std_data=scaler.transform(test)\n",
    "    std_data.shape\n",
    "    return std_data\n",
    "\n",
    "#Funtion for printing the total number of top features\n",
    "def top_tfidf_feats(name,row, features, top_n=25):\n",
    "    ''' Get top n tfidf values in row and return them with their corresponding feature names.'''\n",
    "    topn_ids = np.argsort(row)[::-1][:top_n]\n",
    "    top_feats = [(features[i], row[i]) for i in topn_ids]\n",
    "    df = pd.DataFrame(top_feats)\n",
    "    df.columns = ['feature', name]\n",
    "    return df\n",
    "\n",
    "#Function for displaying top frequent 50 tokens distributions \n",
    "from yellowbrick.text import FreqDistVisualizer\n",
    "from sklearn.feature_extraction.text import CountVectorizer\n",
    "def display_token(Vect,data):\n",
    "\n",
    "    vectorizer = Vect\n",
    "    docs       = vectorizer.fit_transform(data)\n",
    "    features   = vectorizer.get_feature_names()\n",
    "    \n",
    "    visualizer = FreqDistVisualizer(features=features)\n",
    "    visualizer.fit(docs)\n",
    "    visualizer.poof()\n",
    "\n",
    "\n",
    "\n",
    "\n",
    "\n"
   ]
  },
  {
   "cell_type": "markdown",
   "metadata": {},
   "source": [
    "<h2>Implementing the Bag of words vectorization technique</h2>"
   ]
  },
  {
   "cell_type": "code",
   "execution_count": 25,
   "metadata": {},
   "outputs": [
    {
     "name": "stdout",
     "output_type": "stream",
     "text": [
      "The shape of the X_train is:  (14110, 15155)\n",
      "The shape of the X_cv is:  (6048, 15155)\n",
      "The shape of the X_test is:  (8640, 15155)\n",
      "\n",
      "Top 25 feaures acording to the Bow score are as follows\n"
     ]
    },
    {
     "data": {
      "text/html": [
       "<div>\n",
       "<style scoped>\n",
       "    .dataframe tbody tr th:only-of-type {\n",
       "        vertical-align: middle;\n",
       "    }\n",
       "\n",
       "    .dataframe tbody tr th {\n",
       "        vertical-align: top;\n",
       "    }\n",
       "\n",
       "    .dataframe thead th {\n",
       "        text-align: right;\n",
       "    }\n",
       "</style>\n",
       "<table border=\"1\" class=\"dataframe\">\n",
       "  <thead>\n",
       "    <tr style=\"text-align: right;\">\n",
       "      <th></th>\n",
       "      <th>feature</th>\n",
       "      <th>bow</th>\n",
       "    </tr>\n",
       "  </thead>\n",
       "  <tbody>\n",
       "    <tr>\n",
       "      <th>0</th>\n",
       "      <td>geeki</td>\n",
       "      <td>118.789730</td>\n",
       "    </tr>\n",
       "    <tr>\n",
       "      <th>1</th>\n",
       "      <td>scenc</td>\n",
       "      <td>118.789730</td>\n",
       "    </tr>\n",
       "    <tr>\n",
       "      <th>2</th>\n",
       "      <td>priceless</td>\n",
       "      <td>68.588144</td>\n",
       "    </tr>\n",
       "    <tr>\n",
       "      <th>3</th>\n",
       "      <td>alec</td>\n",
       "      <td>53.131915</td>\n",
       "    </tr>\n",
       "    <tr>\n",
       "      <th>4</th>\n",
       "      <td>baldwin</td>\n",
       "      <td>48.504300</td>\n",
       "    </tr>\n",
       "    <tr>\n",
       "      <th>5</th>\n",
       "      <td>keaton</td>\n",
       "      <td>42.003722</td>\n",
       "    </tr>\n",
       "    <tr>\n",
       "      <th>6</th>\n",
       "      <td>michael</td>\n",
       "      <td>30.686605</td>\n",
       "    </tr>\n",
       "    <tr>\n",
       "      <th>7</th>\n",
       "      <td>beetlejuic</td>\n",
       "      <td>19.800394</td>\n",
       "    </tr>\n",
       "    <tr>\n",
       "      <th>8</th>\n",
       "      <td>funni</td>\n",
       "      <td>15.363626</td>\n",
       "    </tr>\n",
       "    <tr>\n",
       "      <th>9</th>\n",
       "      <td>play</td>\n",
       "      <td>11.058850</td>\n",
       "    </tr>\n",
       "    <tr>\n",
       "      <th>10</th>\n",
       "      <td>movi</td>\n",
       "      <td>8.427630</td>\n",
       "    </tr>\n",
       "    <tr>\n",
       "      <th>11</th>\n",
       "      <td>husband</td>\n",
       "      <td>5.510466</td>\n",
       "    </tr>\n",
       "    <tr>\n",
       "      <th>12</th>\n",
       "      <td>thought</td>\n",
       "      <td>4.598835</td>\n",
       "    </tr>\n",
       "    <tr>\n",
       "      <th>13</th>\n",
       "      <td>kid</td>\n",
       "      <td>4.230899</td>\n",
       "    </tr>\n",
       "    <tr>\n",
       "      <th>14</th>\n",
       "      <td>right</td>\n",
       "      <td>3.909289</td>\n",
       "    </tr>\n",
       "    <tr>\n",
       "      <th>15</th>\n",
       "      <td>enjoy</td>\n",
       "      <td>3.015589</td>\n",
       "    </tr>\n",
       "    <tr>\n",
       "      <th>16</th>\n",
       "      <td>realli</td>\n",
       "      <td>2.248107</td>\n",
       "    </tr>\n",
       "    <tr>\n",
       "      <th>17</th>\n",
       "      <td>love</td>\n",
       "      <td>1.652964</td>\n",
       "    </tr>\n",
       "    <tr>\n",
       "      <th>18</th>\n",
       "      <td>one</td>\n",
       "      <td>1.447356</td>\n",
       "    </tr>\n",
       "    <tr>\n",
       "      <th>19</th>\n",
       "      <td>folger</td>\n",
       "      <td>0.000000</td>\n",
       "    </tr>\n",
       "    <tr>\n",
       "      <th>20</th>\n",
       "      <td>fong</td>\n",
       "      <td>0.000000</td>\n",
       "    </tr>\n",
       "    <tr>\n",
       "      <th>21</th>\n",
       "      <td>fonder</td>\n",
       "      <td>0.000000</td>\n",
       "    </tr>\n",
       "    <tr>\n",
       "      <th>22</th>\n",
       "      <td>flipin</td>\n",
       "      <td>0.000000</td>\n",
       "    </tr>\n",
       "    <tr>\n",
       "      <th>23</th>\n",
       "      <td>fondant</td>\n",
       "      <td>0.000000</td>\n",
       "    </tr>\n",
       "    <tr>\n",
       "      <th>24</th>\n",
       "      <td>fond</td>\n",
       "      <td>0.000000</td>\n",
       "    </tr>\n",
       "  </tbody>\n",
       "</table>\n",
       "</div>"
      ],
      "text/plain": [
       "       feature         bow\n",
       "0        geeki  118.789730\n",
       "1        scenc  118.789730\n",
       "2    priceless   68.588144\n",
       "3         alec   53.131915\n",
       "4      baldwin   48.504300\n",
       "5       keaton   42.003722\n",
       "6      michael   30.686605\n",
       "7   beetlejuic   19.800394\n",
       "8        funni   15.363626\n",
       "9         play   11.058850\n",
       "10        movi    8.427630\n",
       "11     husband    5.510466\n",
       "12     thought    4.598835\n",
       "13         kid    4.230899\n",
       "14       right    3.909289\n",
       "15       enjoy    3.015589\n",
       "16      realli    2.248107\n",
       "17        love    1.652964\n",
       "18         one    1.447356\n",
       "19      folger    0.000000\n",
       "20        fong    0.000000\n",
       "21      fonder    0.000000\n",
       "22      flipin    0.000000\n",
       "23     fondant    0.000000\n",
       "24        fond    0.000000"
      ]
     },
     "execution_count": 25,
     "metadata": {},
     "output_type": "execute_result"
    }
   ],
   "source": [
    "#Initializing the count vectorizer \n",
    "Count_vect=CountVectorizer()\n",
    "\n",
    "#vectorizing the X_train set\n",
    "count,x_tr=vec_train(Count_vect,X_tr[\"CleanedText\"])\n",
    "\n",
    "print(\"The shape of the X_train is: \",x_tr.shape)\n",
    "\n",
    "#Vectgorizing the X_crossvalidation set\n",
    "x_cv=vec_cv(count,X_cv[\"CleanedText\"])\n",
    "print(\"The shape of the X_cv is: \",x_cv.shape)\n",
    "\n",
    "\n",
    "#Vectorizing the X_test set\n",
    "x_test=vec_test(count,X_test[\"CleanedText\"])\n",
    "print(\"The shape of the X_test is: \",x_test.shape)\n",
    "\n",
    "\n",
    "#Printing the total length of the features\n",
    "print(\"\\nTop 25 feaures acording to the Bow score are as follows\")\n",
    "features = Count_vect.get_feature_names()\n",
    "len(features)\n",
    "\n",
    "\n",
    "top_Bow = top_tfidf_feats(\"bow\",x_tr[1,:].toarray()[0],features,25)\n",
    "top_Bow\n",
    "\n",
    "\n"
   ]
  },
  {
   "cell_type": "code",
   "execution_count": 26,
   "metadata": {},
   "outputs": [
    {
     "data": {
      "image/png": "[encoded data removed]",
      "text/plain": [
       "<Figure size 576x396 with 1 Axes>"
      ]
     },
     "metadata": {},
     "output_type": "display_data"
    }
   ],
   "source": [
    "display_token(Count_vect,X_tr[\"CleanedText\"])"
   ]
  },
  {
   "cell_type": "markdown",
   "metadata": {},
   "source": [
    "<h2>Training the model over the BOW vectorized data</h2>"
   ]
  },
  {
   "cell_type": "code",
   "execution_count": 19,
   "metadata": {},
   "outputs": [
    {
     "name": "stdout",
     "output_type": "stream",
     "text": [
      "The model score on train set is=  0.9806802721088436\n",
      "\n",
      "The accuracy of SVM over cross_val set is =  87% \n",
      "Wall time: 3min 21s\n"
     ]
    }
   ],
   "source": [
    "%%time\n",
    "pred,acc=train(x_tr,y_tr,x_cv,y_cv)\n"
   ]
  },
  {
   "cell_type": "code",
   "execution_count": 20,
   "metadata": {},
   "outputs": [
    {
     "name": "stdout",
     "output_type": "stream",
     "text": [
      "[[ 470  661]\n",
      " [ 146 5023]]\n"
     ]
    },
    {
     "data": {
      "image/png": "[encoded data removed]",
      "text/plain": [
       "<Figure size 648x648 with 2 Axes>"
      ]
     },
     "metadata": {},
     "output_type": "display_data"
    },
    {
     "name": "stdout",
     "output_type": "stream",
     "text": [
      "\n",
      "+-------------------------------------------------------------+\n",
      "| The performance metrics of the above model are as follows:  |\n",
      "+----------------------------------+--------------------------+\n",
      "|             Metrics              |          Scores          |\n",
      "+----------------------------------+--------------------------+\n",
      "|     Classification_accuracy      |    87.19047619047619     |\n",
      "|       Classification_error       |    12.80952380952381     |\n",
      "|          True positive           |           5023           |\n",
      "|          False positive          |           661            |\n",
      "|          True negative           |           470            |\n",
      "|          False negative          |           146            |\n",
      "|        True positive rate        |     97.1754691429677     |\n",
      "|       False negative rate        |    2.824530857032308     |\n",
      "|        True negative rate        |    41.55614500442087     |\n",
      "|       False positive rate        |    58.44385499557914     |\n",
      "|         Precision value          |    88.37086558761436     |\n",
      "|           Recall value           |     97.1754691429677     |\n",
      "|          f1_score value          |     92.5642679443472     |\n",
      "+----------------------------------+--------------------------+\n"
     ]
    }
   ],
   "source": [
    "Confusion_metric(y_cv,pred,acc)"
   ]
  },
  {
   "cell_type": "markdown",
   "metadata": {},
   "source": [
    "<h3>Observation</h3>\n",
    "<ul>\n",
    "    <li>The train accuracy of the model over Bag-of-words vectorized data is 87.19% by using the default parameters.</li>\n",
    "    <li>The performance metrics of the above model is not good as the True-positives rate are very high as compared to all other metrics so the model is not stable.</li>\n",
    "    <li>The False positive rate is around 58.44% which is very high as compared to the False negative rate which is not good for a model.</li>\n",
    "    <li>So the model has a bias problem which is affecting the model a lot and can be solved by tuning the hyperparameter.</li>\n",
    "   </ul>"
   ]
  },
  {
   "cell_type": "markdown",
   "metadata": {},
   "source": [
    "<h3>Tuning the hyperparameters by performing the Gridsearch and Randomsearch technique.</h3>"
   ]
  },
  {
   "cell_type": "code",
   "execution_count": 21,
   "metadata": {},
   "outputs": [
    {
     "name": "stdout",
     "output_type": "stream",
     "text": [
      "The best model parameters for Gridsearch technique is  {'C': 10, 'gamma': 1e-05}\n",
      "The model score over the cv set is  0.8846031746031746\n",
      "Wall time: 41min 4s\n"
     ]
    }
   ],
   "source": [
    "%%time\n",
    "\n",
    "#CODE FOR FINDING THE BEST HYPERPARAMETERS THROUGH GRIDSEARCH\n",
    "\n",
    "Best_param=Grid_s(x_tr,y_tr,x_cv,y_cv)\n",
    "\n",
    "\n"
   ]
  },
  {
   "cell_type": "markdown",
   "metadata": {},
   "source": [
    "<h3>Implementing the Randomsearch technique</h3> "
   ]
  },
  {
   "cell_type": "code",
   "execution_count": 22,
   "metadata": {},
   "outputs": [
    {
     "name": "stdout",
     "output_type": "stream",
     "text": [
      "The best model parameters for Randomsearch technique is  {'C': 0.6591632021221285, 'gamma': 1.7712275027341886}\n",
      "The model score over the cv set is  0.8204761904761905\n",
      "Wall time: 14min 24s\n"
     ]
    }
   ],
   "source": [
    "\n",
    "%%time\n",
    "#CODE FOR FINDING THE BEST HYPERPARAMETERS USING RANDOMSEARCH\n",
    "Random_param=Random_s(x_tr,y_tr,x_cv,y_cv)\n",
    "\n",
    "\n"
   ]
  },
  {
   "cell_type": "markdown",
   "metadata": {},
   "source": [
    "<h3>Testing the model over the test set using the optimal hyperparameters</h3>"
   ]
  },
  {
   "cell_type": "code",
   "execution_count": 23,
   "metadata": {},
   "outputs": [
    {
     "name": "stdout",
     "output_type": "stream",
     "text": [
      "The model score on train set is=  0.9821768707482993\n",
      "\n",
      "The accuracy of svm over Test set is =  86% \n"
     ]
    }
   ],
   "source": [
    "Y_pred,new_acc=tuned_test(x_tr,y_tr,x_test,y_test,c=10,gam=1e-05)"
   ]
  },
  {
   "cell_type": "markdown",
   "metadata": {},
   "source": [
    "<h3>Confusion matrix of the above model</h3>"
   ]
  },
  {
   "cell_type": "code",
   "execution_count": 24,
   "metadata": {},
   "outputs": [
    {
     "name": "stdout",
     "output_type": "stream",
     "text": [
      "[[ 903  726]\n",
      " [ 480 6891]]\n"
     ]
    },
    {
     "data": {
      "image/png": "[encoded data removed]",
      "text/plain": [
       "<Figure size 648x648 with 2 Axes>"
      ]
     },
     "metadata": {},
     "output_type": "display_data"
    },
    {
     "name": "stdout",
     "output_type": "stream",
     "text": [
      "\n",
      "+-------------------------------------------------------------+\n",
      "| The performance metrics of the above model are as follows:  |\n",
      "+---------------------------------+---------------------------+\n",
      "|             Metrics             |           Scores          |\n",
      "+---------------------------------+---------------------------+\n",
      "|     Classification_accuracy     |            86.6           |\n",
      "|       Classification_error      |            13.4           |\n",
      "|          True positive          |            6891           |\n",
      "|          False positive         |            726            |\n",
      "|          True negative          |            903            |\n",
      "|          False negative         |            480            |\n",
      "|        True positive rate       |     93.48799348799349     |\n",
      "|       False negative rate       |     6.512006512006511     |\n",
      "|        True negative rate       |     55.432780847145494    |\n",
      "|       False positive rate       |     44.56721915285451     |\n",
      "|         Precision value         |     90.46868846002363     |\n",
      "|           Recall value          |     93.48799348799349     |\n",
      "|          f1_score value         |     91.95356285028022     |\n",
      "+---------------------------------+---------------------------+\n"
     ]
    }
   ],
   "source": [
    "Confusion_metric(y_test,Y_pred,new_acc)"
   ]
  },
  {
   "cell_type": "markdown",
   "metadata": {},
   "source": [
    "<h3>Observations</h3>\n",
    "<ul>\n",
    "    <li>After tuning the hyperparameters the test accuracy of the model is 86.6% which is quite good for a model.</li>\n",
    "    <li>Here also the True positive rates are dominating and affecting the other parametrs a lot.</li>\n",
    "    <li>The False positive rate is very high and alarming which is not good for a model.</li>\n",
    "    <li>There is still bias problems in the model so the accuracy cannot be trusted blindly.</li>\n",
    "    "
   ]
  },
  {
   "cell_type": "code",
   "execution_count": 32,
   "metadata": {},
   "outputs": [
    {
     "name": "stdout",
     "output_type": "stream",
     "text": [
      "The shape of the X_train is:  (73500, 29744)\n",
      "The shape of the X_cv is:  (31500, 29744)\n",
      "The shape of the X_test is:  (45000, 29744)\n"
     ]
    }
   ],
   "source": [
    "Count_vect=CountVectorizer()\n",
    "\n",
    "#vectorizing the X_train set\n",
    "count,li_tr=vec_train(Count_vect,li_xtr[\"CleanedText\"])\n",
    "\n",
    "print(\"The shape of the X_train is: \",li_tr.shape)\n",
    "\n",
    "#Vectgorizing the X_crossvalidation set\n",
    "li_cv=vec_cv(count,li_xcv[\"CleanedText\"])\n",
    "print(\"The shape of the X_cv is: \",li_cv.shape)\n",
    "\n",
    "\n",
    "#Vectorizing the X_test set\n",
    "li_test=vec_test(count,li_xtest[\"CleanedText\"])\n",
    "print(\"The shape of the X_test is: \",li_test.shape)\n",
    "\n"
   ]
  },
  {
   "cell_type": "markdown",
   "metadata": {},
   "source": [
    "<h2>Implementing Linear SVM by using the SGD algorithm</h2>"
   ]
  },
  {
   "cell_type": "code",
   "execution_count": 60,
   "metadata": {},
   "outputs": [],
   "source": [
    "#FUNCTION FOR PERFORMING CROSS-VALIDATION\n",
    "\n",
    "from sklearn import linear_model\n",
    "from sklearn.linear_model import SGDClassifier\n",
    "def Cv_results(X_cv, y_cv):\n",
    "    cv_erro_array1 = []\n",
    "    \n",
    "    alpha = [10 ** x for x in range(-2, 5)]\n",
    "    for a in alpha:\n",
    "        print(\"--------------------------------------------------------------------------------------------------------\")\n",
    "        print(\"for alpha =\", a)\n",
    "        clf = SGDClassifier(alpha=a, penalty='l1', loss='hinge', random_state=42)\n",
    "        Scores = cross_val_score(clf, X_cv, y_cv, cv=10,scoring='accuracy')\n",
    "        cv_erro_array1.append(Scores.mean())\n",
    "    \n",
    "        mse1=[1- x for x in cv_erro_array1]\n",
    "        # determining best alpha\n",
    "        #Best_alpha = alpha[mse.index(min(mse))]\n",
    "        print(\"\\nthe misclassification error for each alpha value is : \", np.round(mse1,3))\n",
    "        #print(\"\\nthe 10-fold CV_accuracy for each alpha is :\",Scores)\n",
    "        \n",
    "    fig, ax = plt.subplots()\n",
    "    ax.plot(alpha,mse1,c='g')\n",
    "    for i, txt in enumerate(np.round(mse1,3)):\n",
    "        ax.annotate((alpha[i],str(txt)), (alpha[i],mse1[i]))\n",
    "    plt.grid()\n",
    "    plt.title(\"Cross Validation Error for each alpha\")\n",
    "    plt.xlabel(\"Alpha i's\")\n",
    "    plt.ylabel(\"Error measure\")\n",
    "    plt.show()\n",
    "\n",
    "    Best_alpha = np.round(alpha[mse1.index(min(mse1))])\n",
    "    "
   ]
  },
  {
   "cell_type": "markdown",
   "metadata": {},
   "source": [
    "<h3>Tuning the hyperaprametrs by doing the 10k-fold Crossvalidation technique</h3>"
   ]
  },
  {
   "cell_type": "code",
   "execution_count": 61,
   "metadata": {},
   "outputs": [
    {
     "name": "stdout",
     "output_type": "stream",
     "text": [
      "--------------------------------------------------------------------------------------------------------\n",
      "for alpha = 0.01\n",
      "\n",
      "the misclassification error for each alpha value is :  [0.153]\n",
      "--------------------------------------------------------------------------------------------------------\n",
      "for alpha = 0.1\n",
      "\n",
      "the misclassification error for each alpha value is :  [0.153 0.145]\n",
      "--------------------------------------------------------------------------------------------------------\n",
      "for alpha = 1\n",
      "\n",
      "the misclassification error for each alpha value is :  [0.153 0.145 0.139]\n",
      "--------------------------------------------------------------------------------------------------------\n",
      "for alpha = 10\n",
      "\n",
      "the misclassification error for each alpha value is :  [0.153 0.145 0.139 0.139]\n",
      "--------------------------------------------------------------------------------------------------------\n",
      "for alpha = 100\n",
      "\n",
      "the misclassification error for each alpha value is :  [0.153 0.145 0.139 0.139 0.139]\n",
      "--------------------------------------------------------------------------------------------------------\n",
      "for alpha = 1000\n",
      "\n",
      "the misclassification error for each alpha value is :  [0.153 0.145 0.139 0.139 0.139 0.139]\n",
      "--------------------------------------------------------------------------------------------------------\n",
      "for alpha = 10000\n",
      "\n",
      "the misclassification error for each alpha value is :  [0.153 0.145 0.139 0.139 0.139 0.139 0.139]\n"
     ]
    },
    {
     "data": {
      "image/png": "[encoded data removed]",
      "text/plain": [
       "<Figure size 576x396 with 1 Axes>"
      ]
     },
     "metadata": {},
     "output_type": "display_data"
    }
   ],
   "source": [
    "Cv_results(li_tr,li_ytr)"
   ]
  },
  {
   "cell_type": "markdown",
   "metadata": {},
   "source": [
    "<h3>Utility function for training the Linear SVM</h3>"
   ]
  },
  {
   "cell_type": "code",
   "execution_count": 29,
   "metadata": {},
   "outputs": [],
   "source": [
    "def linearsvm (x_test,y_test,a):\n",
    "    \n",
    "    clf = linear_model.SGDClassifier(loss=\"hinge\",alpha=a,max_iter=1000)\n",
    "    clf.fit(x_test,y_test)\n",
    "\n",
    "    sgd_y=clf.predict(x_test)\n",
    "\n",
    "    sgd_acc = accuracy_score(y_test, sgd_y, normalize=True) * float(100)\n",
    "\n",
    "    print('\\nThe accuracy of svm over Test set is =  %d%% ' % ( sgd_acc))\n",
    "    return sgd_y,sgd_acc"
   ]
  },
  {
   "cell_type": "markdown",
   "metadata": {},
   "source": [
    "<h3>Testing the above model over the test set.</h3>"
   ]
  },
  {
   "cell_type": "code",
   "execution_count": 62,
   "metadata": {},
   "outputs": [
    {
     "name": "stdout",
     "output_type": "stream",
     "text": [
      "\n",
      "The accuracy of svm over Test set is =  92% \n"
     ]
    }
   ],
   "source": [
    "sgd_y,sgd_acc=linearsvm(li_test,li_ytest,1)"
   ]
  },
  {
   "cell_type": "code",
   "execution_count": 63,
   "metadata": {},
   "outputs": [
    {
     "name": "stdout",
     "output_type": "stream",
     "text": [
      "[[ 4829  3020]\n",
      " [  209 36942]]\n"
     ]
    },
    {
     "data": {
      "image/png": "[encoded data removed]",
      "text/plain": [
       "<Figure size 648x648 with 2 Axes>"
      ]
     },
     "metadata": {},
     "output_type": "display_data"
    },
    {
     "name": "stdout",
     "output_type": "stream",
     "text": [
      "\n",
      "+-------------------------------------------------------------+\n",
      "| The performance metrics of the above model are as follows:  |\n",
      "+---------------------------------+---------------------------+\n",
      "|             Metrics             |           Scores          |\n",
      "+---------------------------------+---------------------------+\n",
      "|     Classification_accuracy     |     92.82444444444444     |\n",
      "|       Classification_error      |     7.1755555555555555    |\n",
      "|          True positive          |           36942           |\n",
      "|          False positive         |            3020           |\n",
      "|          True negative          |            4829           |\n",
      "|          False negative         |            209            |\n",
      "|        True positive rate       |      99.4374310247369     |\n",
      "|       False negative rate       |     0.5625689752631154    |\n",
      "|        True negative rate       |     61.52376098866098     |\n",
      "|       False positive rate       |     38.476239011339025    |\n",
      "|         Precision value         |     92.44282067964566     |\n",
      "|           Recall value          |      99.4374310247369     |\n",
      "|          f1_score value         |      95.8126385953082     |\n",
      "+---------------------------------+---------------------------+\n"
     ]
    }
   ],
   "source": [
    "Confusion_metric(li_ytest,sgd_y,sgd_acc)"
   ]
  },
  {
   "cell_type": "markdown",
   "metadata": {},
   "source": [
    "<h3>Observation</h3>\n",
    "<ul>\n",
    "    <li>The test accuracy of the linear model is 92.82% which is excellent for a classification model.</li>\n",
    "    <li>The Diagonal elements of the confusion matrix are very high as compared to the non-diagonal ones so the model is doing a good job of classifying the positive and negative reviews.</li>\n",
    "    <li>The False positive rate is significant around 38.47% which is quite alarming \n",
    "    <li>So linear SVM works well over the Bag-of-word vectorized text data.</li> "
   ]
  },
  {
   "cell_type": "markdown",
   "metadata": {},
   "source": [
    "<h2>Implementing the Tf-idf vectorization.</h2>"
   ]
  },
  {
   "cell_type": "code",
   "execution_count": 29,
   "metadata": {},
   "outputs": [
    {
     "name": "stdout",
     "output_type": "stream",
     "text": [
      "The shape of the X_train is:  (14700, 19728)\n",
      "The shape of the X_cv is:  (6300, 19728)\n",
      "The shape of the X_test is:  (9000, 19728)\n",
      "\n",
      "Top 25 feaures acording to the TF-IDF score are as follows\n"
     ]
    },
    {
     "data": {
      "text/html": [
       "<div>\n",
       "<style scoped>\n",
       "    .dataframe tbody tr th:only-of-type {\n",
       "        vertical-align: middle;\n",
       "    }\n",
       "\n",
       "    .dataframe tbody tr th {\n",
       "        vertical-align: top;\n",
       "    }\n",
       "\n",
       "    .dataframe thead th {\n",
       "        text-align: right;\n",
       "    }\n",
       "</style>\n",
       "<table border=\"1\" class=\"dataframe\">\n",
       "  <thead>\n",
       "    <tr style=\"text-align: right;\">\n",
       "      <th></th>\n",
       "      <th>feature</th>\n",
       "      <th>TFIDF</th>\n",
       "    </tr>\n",
       "  </thead>\n",
       "  <tbody>\n",
       "    <tr>\n",
       "      <th>0</th>\n",
       "      <td>know well</td>\n",
       "      <td>65.648498</td>\n",
       "    </tr>\n",
       "    <tr>\n",
       "      <th>1</th>\n",
       "      <td>fact like</td>\n",
       "      <td>61.357330</td>\n",
       "    </tr>\n",
       "    <tr>\n",
       "      <th>2</th>\n",
       "      <td>well known</td>\n",
       "      <td>59.406576</td>\n",
       "    </tr>\n",
       "    <tr>\n",
       "      <th>3</th>\n",
       "      <td>hey</td>\n",
       "      <td>51.134875</td>\n",
       "    </tr>\n",
       "    <tr>\n",
       "      <th>4</th>\n",
       "      <td>like see</td>\n",
       "      <td>46.112671</td>\n",
       "    </tr>\n",
       "    <tr>\n",
       "      <th>5</th>\n",
       "      <td>tri see</td>\n",
       "      <td>43.288227</td>\n",
       "    </tr>\n",
       "    <tr>\n",
       "      <th>6</th>\n",
       "      <td>danc</td>\n",
       "      <td>29.928701</td>\n",
       "    </tr>\n",
       "    <tr>\n",
       "      <th>7</th>\n",
       "      <td>film</td>\n",
       "      <td>27.479313</td>\n",
       "    </tr>\n",
       "    <tr>\n",
       "      <th>8</th>\n",
       "      <td>shown</td>\n",
       "      <td>23.619785</td>\n",
       "    </tr>\n",
       "    <tr>\n",
       "      <th>9</th>\n",
       "      <td>movi</td>\n",
       "      <td>20.884362</td>\n",
       "    </tr>\n",
       "    <tr>\n",
       "      <th>10</th>\n",
       "      <td>also tri</td>\n",
       "      <td>20.596561</td>\n",
       "    </tr>\n",
       "    <tr>\n",
       "      <th>11</th>\n",
       "      <td>funni</td>\n",
       "      <td>19.979427</td>\n",
       "    </tr>\n",
       "    <tr>\n",
       "      <th>12</th>\n",
       "      <td>big fan</td>\n",
       "      <td>17.236972</td>\n",
       "    </tr>\n",
       "    <tr>\n",
       "      <th>13</th>\n",
       "      <td>older</td>\n",
       "      <td>14.577870</td>\n",
       "    </tr>\n",
       "    <tr>\n",
       "      <th>14</th>\n",
       "      <td>apart</td>\n",
       "      <td>13.965427</td>\n",
       "    </tr>\n",
       "    <tr>\n",
       "      <th>15</th>\n",
       "      <td>known</td>\n",
       "      <td>13.251867</td>\n",
       "    </tr>\n",
       "    <tr>\n",
       "      <th>16</th>\n",
       "      <td>short</td>\n",
       "      <td>12.532525</td>\n",
       "    </tr>\n",
       "    <tr>\n",
       "      <th>17</th>\n",
       "      <td>like much</td>\n",
       "      <td>11.106913</td>\n",
       "    </tr>\n",
       "    <tr>\n",
       "      <th>18</th>\n",
       "      <td>see</td>\n",
       "      <td>10.286818</td>\n",
       "    </tr>\n",
       "    <tr>\n",
       "      <th>19</th>\n",
       "      <td>watch</td>\n",
       "      <td>8.661256</td>\n",
       "    </tr>\n",
       "    <tr>\n",
       "      <th>20</th>\n",
       "      <td>night</td>\n",
       "      <td>8.111786</td>\n",
       "    </tr>\n",
       "    <tr>\n",
       "      <th>21</th>\n",
       "      <td>wrong</td>\n",
       "      <td>7.562403</td>\n",
       "    </tr>\n",
       "    <tr>\n",
       "      <th>22</th>\n",
       "      <td>mayb</td>\n",
       "      <td>7.240360</td>\n",
       "    </tr>\n",
       "    <tr>\n",
       "      <th>23</th>\n",
       "      <td>fan</td>\n",
       "      <td>7.238508</td>\n",
       "    </tr>\n",
       "    <tr>\n",
       "      <th>24</th>\n",
       "      <td>decid</td>\n",
       "      <td>7.219122</td>\n",
       "    </tr>\n",
       "  </tbody>\n",
       "</table>\n",
       "</div>"
      ],
      "text/plain": [
       "       feature      TFIDF\n",
       "0    know well  65.648498\n",
       "1    fact like  61.357330\n",
       "2   well known  59.406576\n",
       "3          hey  51.134875\n",
       "4     like see  46.112671\n",
       "5      tri see  43.288227\n",
       "6         danc  29.928701\n",
       "7         film  27.479313\n",
       "8        shown  23.619785\n",
       "9         movi  20.884362\n",
       "10    also tri  20.596561\n",
       "11       funni  19.979427\n",
       "12     big fan  17.236972\n",
       "13       older  14.577870\n",
       "14       apart  13.965427\n",
       "15       known  13.251867\n",
       "16       short  12.532525\n",
       "17   like much  11.106913\n",
       "18         see  10.286818\n",
       "19       watch   8.661256\n",
       "20       night   8.111786\n",
       "21       wrong   7.562403\n",
       "22        mayb   7.240360\n",
       "23         fan   7.238508\n",
       "24       decid   7.219122"
      ]
     },
     "execution_count": 29,
     "metadata": {},
     "output_type": "execute_result"
    }
   ],
   "source": [
    "#Initializing the count vectorizer \n",
    "TFIDF_vect=TfidfVectorizer(ngram_range=(1,2),min_df=5)\n",
    "\n",
    "#vectorizing the X_train set\n",
    "TF,tfx_tr=vec_train(TFIDF_vect,X_tr[\"CleanedText\"])\n",
    "\n",
    "print(\"The shape of the X_train is: \",tfx_tr.shape)\n",
    "\n",
    "#Vectgorizing the X_crossvalidation set\n",
    "tfx_cv=vec_cv(TF,X_cv[\"CleanedText\"])\n",
    "print(\"The shape of the X_cv is: \",tfx_cv.shape)\n",
    "\n",
    "#Vectorizing the X_test set\n",
    "tfx_test=vec_test(TF,X_test[\"CleanedText\"])\n",
    "print(\"The shape of the X_test is: \",tfx_test.shape)\n",
    "\n",
    "\n",
    "#Printing the total length of the features\n",
    "print(\"\\nTop 25 feaures acording to the TF-IDF score are as follows\")\n",
    "TF_features = TFIDF_vect.get_feature_names()\n",
    "len(TF_features)\n",
    "\n",
    "\n",
    "top_TFIDF = top_tfidf_feats(\"TFIDF\",tfx_tr[1,:].toarray()[0],TF_features,25)\n",
    "top_TFIDF\n",
    "\n"
   ]
  },
  {
   "cell_type": "markdown",
   "metadata": {},
   "source": [
    "<h2>Training the model by using the default parameters.</h2>"
   ]
  },
  {
   "cell_type": "code",
   "execution_count": 30,
   "metadata": {},
   "outputs": [
    {
     "name": "stdout",
     "output_type": "stream",
     "text": [
      "The model score on train set is=  0.9998639455782313\n",
      "\n",
      "The accuracy of SVM over cross_val set is =  86% \n"
     ]
    }
   ],
   "source": [
    "Pred,Acc=train(tfx_tr,y_tr,tfx_cv,y_cv)"
   ]
  },
  {
   "cell_type": "code",
   "execution_count": 31,
   "metadata": {},
   "outputs": [
    {
     "name": "stdout",
     "output_type": "stream",
     "text": [
      "[[ 297  834]\n",
      " [  38 5131]]\n"
     ]
    },
    {
     "data": {
      "image/png": "[encoded data removed]",
      "text/plain": [
       "<Figure size 648x648 with 2 Axes>"
      ]
     },
     "metadata": {},
     "output_type": "display_data"
    },
    {
     "name": "stdout",
     "output_type": "stream",
     "text": [
      "\n",
      "+-------------------------------------------------------------+\n",
      "| The performance metrics of the above model are as follows:  |\n",
      "+---------------------------------+---------------------------+\n",
      "|             Metrics             |           Scores          |\n",
      "+---------------------------------+---------------------------+\n",
      "|     Classification_accuracy     |     86.15873015873015     |\n",
      "|       Classification_error      |     13.84126984126984     |\n",
      "|          True positive          |            5131           |\n",
      "|          False positive         |            834            |\n",
      "|          True negative          |            297            |\n",
      "|          False negative         |             38            |\n",
      "|        True positive rate       |     99.26484813310118     |\n",
      "|       False negative rate       |     0.7351518668988198    |\n",
      "|        True negative rate       |     26.25994694960212     |\n",
      "|       False positive rate       |     73.74005305039788     |\n",
      "|         Precision value         |      86.0184409052808     |\n",
      "|           Recall value          |     99.26484813310118     |\n",
      "|          f1_score value         |     92.16813364469193     |\n",
      "+---------------------------------+---------------------------+\n"
     ]
    }
   ],
   "source": [
    "Confusion_metric(y_cv,Pred,Acc)"
   ]
  },
  {
   "cell_type": "markdown",
   "metadata": {},
   "source": [
    "<h3>Observations</h3>\n",
    "<ul>\n",
    "    <li>The performance metrics of the model is not that good which can be seen by the Confusion matrix scores.</li>\n",
    "    <li>So the model's performance can be improved by tuning the hyperparameters.</li>\n"
   ]
  },
  {
   "cell_type": "markdown",
   "metadata": {},
   "source": [
    "<h3>Tuning the Hyperaparameters by using the GridSearchCV and RandomsearchCV techniques</h3>"
   ]
  },
  {
   "cell_type": "code",
   "execution_count": 32,
   "metadata": {},
   "outputs": [
    {
     "name": "stdout",
     "output_type": "stream",
     "text": [
      "The best model parameters for Gridsearch technique is  {'C': 1, 'gamma': 1e-05}\n",
      "The model score over the cv set is  0.8917460317460317\n",
      "Wall time: 50min 31s\n"
     ]
    }
   ],
   "source": [
    "%%time\n",
    "\n",
    "#CODE FOR FINDING THE BEST HYPERPARAMETERS THROUGH GRIDSEARCH\n",
    "\n",
    "Best_para=Grid_s(tfx_tr,y_tr,tfx_cv,y_cv)\n",
    "\n",
    "\n"
   ]
  },
  {
   "cell_type": "markdown",
   "metadata": {},
   "source": [
    "<h3>Randomsearch techniques</h3>"
   ]
  },
  {
   "cell_type": "code",
   "execution_count": 33,
   "metadata": {},
   "outputs": [
    {
     "name": "stdout",
     "output_type": "stream",
     "text": [
      "The best model parameters for Randomsearch technique is  {'C': 1.2897118382010795, 'gamma': 1.9764638888738673}\n",
      "The model score over the cv set is  0.8204761904761905\n",
      "Wall time: 16min 6s\n"
     ]
    }
   ],
   "source": [
    "\n",
    "%%time\n",
    "#CODE FOR FINDING THE BEST HYPERPARAMETERS USING RANDOMSEARCH\n",
    "Random_para=Random_s(tfx_tr,y_tr,tfx_cv,y_cv)\n",
    "\n",
    "\n"
   ]
  },
  {
   "cell_type": "markdown",
   "metadata": {},
   "source": [
    "<h3>Testing the model by using the optimal hyperaprameters.</h3>"
   ]
  },
  {
   "cell_type": "code",
   "execution_count": 35,
   "metadata": {},
   "outputs": [
    {
     "name": "stdout",
     "output_type": "stream",
     "text": [
      "The model score on train set is=  0.9825850340136054\n",
      "\n",
      "The accuracy of svm over Test set is =  88% \n"
     ]
    }
   ],
   "source": [
    "Y_Pred,new_accU=tuned_test(tfx_tr,y_tr,tfx_test,y_test,c=1,gam= 1e-05)"
   ]
  },
  {
   "cell_type": "markdown",
   "metadata": {},
   "source": [
    "<h3>Confusion matrix of the above model.</h3>"
   ]
  },
  {
   "cell_type": "code",
   "execution_count": 35,
   "metadata": {},
   "outputs": [
    {
     "name": "stdout",
     "output_type": "stream",
     "text": [
      "[[ 636  403]\n",
      " [ 297 4664]]\n"
     ]
    },
    {
     "data": {
      "image/png": "[encoded data removed]",
      "text/plain": [
       "<Figure size 648x648 with 2 Axes>"
      ]
     },
     "metadata": {
      "needs_background": "light"
     },
     "output_type": "display_data"
    },
    {
     "name": "stdout",
     "output_type": "stream",
     "text": [
      "\n",
      "+-------------------------------------------------------------+\n",
      "| The performance metrics of the above model are as follows:  |\n",
      "+---------------------------------+---------------------------+\n",
      "|             Metrics             |           Scores          |\n",
      "+---------------------------------+---------------------------+\n",
      "|     Classification_accuracy     |     88.33333333333333     |\n",
      "|       Classification_error      |     11.666666666666666    |\n",
      "|          True positive          |            4664           |\n",
      "|          False positive         |            403            |\n",
      "|          True negative          |            636            |\n",
      "|          False negative         |            297            |\n",
      "|        True positive rate       |     94.01330376940133     |\n",
      "|       False negative rate       |     5.986696230598669     |\n",
      "|        True negative rate       |     61.21270452358036     |\n",
      "|       False positive rate       |     38.78729547641964     |\n",
      "|         Precision value         |     92.04657588316559     |\n",
      "|           Recall value          |     94.01330376940133     |\n",
      "|          f1_score value         |     93.01954527323495     |\n",
      "+---------------------------------+---------------------------+\n"
     ]
    }
   ],
   "source": [
    "Confusion_metric(y_test,Y_Pred,new_accU)"
   ]
  },
  {
   "cell_type": "markdown",
   "metadata": {},
   "source": [
    "<h3>Observations</h3>\n",
    "<ul>\n",
    "    <li>The test accuracy of the model is 88.33% by using the optimal hyperparameters which is good for a model.</li>\n",
    "    <li>The True-postive-rate and the True-Negative-rate are very good as compared to the metrics.</li>\n",
    "    <li>The false rates are quite low and the model is sensible in classifying the reviews properly.</li>"
   ]
  },
  {
   "cell_type": "code",
   "execution_count": 40,
   "metadata": {},
   "outputs": [
    {
     "name": "stdout",
     "output_type": "stream",
     "text": [
      "The shape of the X_train is:  (73500, 102734)\n",
      "The shape of the X_cv is:  (31500, 102734)\n",
      "The shape of the X_test is:  (45000, 102734)\n"
     ]
    }
   ],
   "source": [
    "#Initializing the count vectorizer \n",
    "TFIDF_vect=TfidfVectorizer(ngram_range=(1,2),min_df=5)\n",
    "\n",
    "#vectorizing the X_train set\n",
    "lin,lin_tr=vec_train(TFIDF_vect,li_xtr[\"CleanedText\"])\n",
    "\n",
    "print(\"The shape of the X_train is: \",lin_tr.shape)\n",
    "\n",
    "#Vectgorizing the X_crossvalidation set\n",
    "lin_cv=vec_cv(lin,li_xcv[\"CleanedText\"])\n",
    "print(\"The shape of the X_cv is: \",lin_cv.shape)\n",
    "\n",
    "#Vectorizing the X_test set\n",
    "lin_test=vec_test(lin,li_xtest[\"CleanedText\"])\n",
    "print(\"The shape of the X_test is: \",lin_test.shape)\n",
    "\n"
   ]
  },
  {
   "cell_type": "markdown",
   "metadata": {},
   "source": [
    "<h2> Implementing the Linear SVM model and performing 10k-Crossvalidation over it.</h2>"
   ]
  },
  {
   "cell_type": "code",
   "execution_count": 64,
   "metadata": {},
   "outputs": [
    {
     "name": "stdout",
     "output_type": "stream",
     "text": [
      "--------------------------------------------------------------------------------------------------------\n",
      "for alpha = 0.01\n",
      "\n",
      "the misclassification error for each alpha value is :  [0.173]\n",
      "--------------------------------------------------------------------------------------------------------\n",
      "for alpha = 0.1\n",
      "\n",
      "the misclassification error for each alpha value is :  [0.173 0.157]\n",
      "--------------------------------------------------------------------------------------------------------\n",
      "for alpha = 1\n",
      "\n",
      "the misclassification error for each alpha value is :  [0.173 0.157 0.14 ]\n",
      "--------------------------------------------------------------------------------------------------------\n",
      "for alpha = 10\n",
      "\n",
      "the misclassification error for each alpha value is :  [0.173 0.157 0.14  0.139]\n",
      "--------------------------------------------------------------------------------------------------------\n",
      "for alpha = 100\n",
      "\n",
      "the misclassification error for each alpha value is :  [0.173 0.157 0.14  0.139 0.139]\n",
      "--------------------------------------------------------------------------------------------------------\n",
      "for alpha = 1000\n",
      "\n",
      "the misclassification error for each alpha value is :  [0.173 0.157 0.14  0.139 0.139 0.139]\n",
      "--------------------------------------------------------------------------------------------------------\n",
      "for alpha = 10000\n",
      "\n",
      "the misclassification error for each alpha value is :  [0.173 0.157 0.14  0.139 0.139 0.139 0.139]\n"
     ]
    },
    {
     "data": {
      "image/png": "[encoded data removed]",
      "text/plain": [
       "<Figure size 576x396 with 1 Axes>"
      ]
     },
     "metadata": {},
     "output_type": "display_data"
    }
   ],
   "source": [
    "Cv_results(lin_tr,li_ytr)"
   ]
  },
  {
   "cell_type": "markdown",
   "metadata": {},
   "source": [
    "<h3>Testing the linear model over the test set</h3> "
   ]
  },
  {
   "cell_type": "code",
   "execution_count": 58,
   "metadata": {},
   "outputs": [
    {
     "name": "stdout",
     "output_type": "stream",
     "text": [
      "\n",
      "The accuracy of svm over Test set is =  89% \n"
     ]
    }
   ],
   "source": [
    "TF_sgd_y,TF_sgd_acc=linearsvm(lin_test,li_ytest,10)"
   ]
  },
  {
   "cell_type": "code",
   "execution_count": 59,
   "metadata": {},
   "outputs": [
    {
     "name": "stdout",
     "output_type": "stream",
     "text": [
      "[[ 3222  4627]\n",
      " [    9 37142]]\n"
     ]
    },
    {
     "data": {
      "image/png": "[encoded data removed]",
      "text/plain": [
       "<Figure size 648x648 with 2 Axes>"
      ]
     },
     "metadata": {},
     "output_type": "display_data"
    },
    {
     "name": "stdout",
     "output_type": "stream",
     "text": [
      "\n",
      "+-------------------------------------------------------------+\n",
      "| The performance metrics of the above model are as follows:  |\n",
      "+--------------------------------+----------------------------+\n",
      "|            Metrics             |           Scores           |\n",
      "+--------------------------------+----------------------------+\n",
      "|    Classification_accuracy     |     89.69777777777777      |\n",
      "|      Classification_error      |     10.302222222222222     |\n",
      "|         True positive          |           37142            |\n",
      "|         False positive         |            4627            |\n",
      "|         True negative          |            3222            |\n",
      "|         False negative         |             9              |\n",
      "|       True positive rate       |     99.97577454173509      |\n",
      "|      False negative rate       |    0.024225458264918846    |\n",
      "|       True negative rate       |     41.049815263090835     |\n",
      "|      False positive rate       |     58.950184736909165     |\n",
      "|        Precision value         |      88.9224065694654      |\n",
      "|          Recall value          |     99.97577454173509      |\n",
      "|         f1_score value         |     94.12569690826153      |\n",
      "+--------------------------------+----------------------------+\n"
     ]
    }
   ],
   "source": [
    "Confusion_metric(li_ytest,TF_sgd_y,TF_sgd_acc)"
   ]
  },
  {
   "cell_type": "markdown",
   "metadata": {},
   "source": [
    "<h2>Implementing the Average-word2vec-Vectorization techniques.</h2>"
   ]
  },
  {
   "cell_type": "code",
   "execution_count": 100,
   "metadata": {},
   "outputs": [],
   "source": [
    "#code for finding the average word2vec\n",
    "\n",
    "#Utility function for implementing the Average-word2vec-vectorization techniques\n",
    "\n",
    "import gensim\n",
    "from gensim.models import word2vec\n",
    "from gensim.models import KeyedVectors\n",
    "\n",
    "def Average_word2Vec (X_tr,X_test):\n",
    "    \n",
    "# Train our own Word2Vec model using text corpus\n",
    "    Train_sentence_list=[]\n",
    "    for sentence in X_tr:\n",
    "        Train_sentence_list.append(sentence.split())\n",
    "    \n",
    "    Test_sentence_list=[]\n",
    "    for sentence in X_test:\n",
    "        Test_sentence_list.append(sentence.split())\n",
    "   \n",
    "    print(\"length of train list set is as follows: \",len(Train_sentence_list))\n",
    "    print(\"length of test list set is as follows : \",len(Test_sentence_list))\n",
    "    print(\"*\"*100)\n",
    "\n",
    "# Generate model and train our model on train data\n",
    "    w2v_model=w2v_model_train =gensim.models.Word2Vec(Train_sentence_list,min_count=5,size=50, workers=6)\n",
    "\n",
    "    # List of word in vocabulary \n",
    "    w2v_words = list(w2v_model_train.wv.vocab)\n",
    "    print(\"length of the W2v vocabulary is : \",len(w2v_words))\n",
    "\n",
    "#Finding the average word2vec over the train set\n",
    "    train_list = []\n",
    "    for sentence in Train_sentence_list:\n",
    "        word_2_vec = np.zeros(50)\n",
    "        cnt_words = 0\n",
    "        for word in sentence:\n",
    "            if word in w2v_words:\n",
    "                vec = w2v_model.wv[word]\n",
    "                word_2_vec += vec\n",
    "                cnt_words += 1\n",
    "        if cnt_words != 0 :\n",
    "            word_2_vec /= cnt_words\n",
    "        train_list.append(word_2_vec)\n",
    "    \n",
    " #Finding the average word2vec over the test set    \n",
    "    test_list = []\n",
    "    for sentence in Test_sentence_list:\n",
    "        word_2_vec = np.zeros(50)\n",
    "        cnt_words = 0\n",
    "        for word in sentence:\n",
    "            if word in w2v_words:\n",
    "                vec = w2v_model.wv[word]\n",
    "                word_2_vec += vec\n",
    "                cnt_words += 1\n",
    "        if cnt_words != 0 :\n",
    "            word_2_vec /= cnt_words\n",
    "        test_list.append(word_2_vec)\n",
    "    \n",
    "    \n",
    "    print(\"The size of the trained average word2vec is :\",len(train_list))\n",
    "    print(\"The dimensions of average word2vec is :\",len(train_list[0]))\n",
    "    print()\n",
    "    print(\"The size of the test average word2vec is :\",len(test_list))\n",
    "    print(\"The dimensions of the test average word2vec is :\",len(test_list[0]))\n",
    "    \n",
    "    return Train_sentence_list,Test_sentence_list,w2v_model,w2v_words,train_list,test_list\n",
    "\n",
    "\n"
   ]
  },
  {
   "cell_type": "markdown",
   "metadata": {},
   "source": [
    "<h3>Preparing the data over the Average-word2vectorized data</h3>"
   ]
  },
  {
   "cell_type": "code",
   "execution_count": 101,
   "metadata": {},
   "outputs": [
    {
     "name": "stdout",
     "output_type": "stream",
     "text": [
      "length of train list set is as follows:  14700\n",
      "length of test list set is as follows :  9000\n",
      "****************************************************************************************************\n",
      "length of the W2v vocabulary is :  5446\n",
      "The size of the trained average word2vec is : 14700\n",
      "The dimensions of average word2vec is : 50\n",
      "\n",
      "The size of the test average word2vec is : 9000\n",
      "The dimensions of the test average word2vec is : 50\n"
     ]
    }
   ],
   "source": [
    "Train=X_tr[\"CleanedText\"]\n",
    "Test=X_test[\"CleanedText\"]\n",
    "\n",
    "tr_list,tes_list,model,words,trw2v,testw2v=Average_word2Vec(Train,Test)"
   ]
  },
  {
   "cell_type": "markdown",
   "metadata": {},
   "source": [
    "<h3>Training the model over the vectorized data by using default parameters</h3>"
   ]
  },
  {
   "cell_type": "code",
   "execution_count": 21,
   "metadata": {},
   "outputs": [
    {
     "name": "stdout",
     "output_type": "stream",
     "text": [
      "The model score on train set is=  0.8202721088435374\n",
      "\n",
      "The accuracy of SVM over cross_val set is =  80% \n",
      "Wall time: 17 s\n"
     ]
    }
   ],
   "source": [
    "%%time\n",
    "w2v_pred,w2v_acc=train(trw2v,y_tr,testw2v,y_test)"
   ]
  },
  {
   "cell_type": "code",
   "execution_count": 23,
   "metadata": {},
   "outputs": [
    {
     "name": "stdout",
     "output_type": "stream",
     "text": [
      "[[1303  223]\n",
      " [1562 5912]]\n"
     ]
    },
    {
     "data": {
      "image/png": "[encoded data removed]",
      "text/plain": [
       "<Figure size 648x648 with 2 Axes>"
      ]
     },
     "metadata": {},
     "output_type": "display_data"
    },
    {
     "name": "stdout",
     "output_type": "stream",
     "text": [
      "\n",
      "+-------------------------------------------------------------+\n",
      "| The performance metrics of the above model are as follows:  |\n",
      "+---------------------------------+---------------------------+\n",
      "|             Metrics             |           Scores          |\n",
      "+---------------------------------+---------------------------+\n",
      "|     Classification_accuracy     |     80.16666666666666     |\n",
      "|       Classification_error      |     19.833333333333332    |\n",
      "|          True positive          |            5912           |\n",
      "|          False positive         |            223            |\n",
      "|          True negative          |            1303           |\n",
      "|          False negative         |            1562           |\n",
      "|        True positive rate       |      79.1008830612791     |\n",
      "|       False negative rate       |     20.899116938720898    |\n",
      "|        True negative rate       |     85.38663171690695     |\n",
      "|       False positive rate       |     14.613368283093052    |\n",
      "|         Precision value         |     96.36511817440912     |\n",
      "|           Recall value          |      79.1008830612791     |\n",
      "|          f1_score value         |     86.88367991770151     |\n",
      "+---------------------------------+---------------------------+\n"
     ]
    }
   ],
   "source": [
    "Confusion_metric(y_test,w2v_pred,w2v_acc)"
   ]
  },
  {
   "cell_type": "markdown",
   "metadata": {},
   "source": [
    "<h3>Tuning the Hyper-parameters for finding the right alpha and gamma</h3>"
   ]
  },
  {
   "cell_type": "code",
   "execution_count": 24,
   "metadata": {},
   "outputs": [
    {
     "name": "stdout",
     "output_type": "stream",
     "text": [
      "The best model parameters for Gridsearch technique is  {'C': 1, 'gamma': 1}\n",
      "The model score over the cv set is  0.8436666666666667\n",
      "Wall time: 10min 27s\n"
     ]
    }
   ],
   "source": [
    "%%time\n",
    "\n",
    "#CODE FOR FINDING THE BEST HYPERPARAMETERS THROUGH GRIDSEARCH\n",
    "\n",
    "w2v_para=Grid_s(trw2v,y_tr,testw2v,y_test)\n"
   ]
  },
  {
   "cell_type": "code",
   "execution_count": 25,
   "metadata": {},
   "outputs": [
    {
     "name": "stdout",
     "output_type": "stream",
     "text": [
      "The best model parameters for Randomsearch technique is  {'C': 1.1698528631164136, 'gamma': 0.6067514452686538}\n",
      "The model score over the cv set is  0.8591111111111112\n",
      "Wall time: 2min 22s\n"
     ]
    }
   ],
   "source": [
    "\n",
    "%%time\n",
    "#CODE FOR FINDING THE BEST HYPERPARAMETERS USING RANDOMSEARCH\n",
    "Randw2v_para=Random_s(trw2v,y_tr,testw2v,y_test)\n",
    "\n",
    "\n"
   ]
  },
  {
   "cell_type": "markdown",
   "metadata": {},
   "source": [
    "<h3>Testing the model over the test set using the optimal hyperaparameters</h3>"
   ]
  },
  {
   "cell_type": "code",
   "execution_count": 26,
   "metadata": {},
   "outputs": [
    {
     "name": "stdout",
     "output_type": "stream",
     "text": [
      "The model score on train set is=  0.9912244897959184\n",
      "\n",
      "The accuracy of svm over Test set is =  85% \n"
     ]
    }
   ],
   "source": [
    "W2V_Pred,W2V_accu=tuned_test(trw2v,y_tr,testw2v,y_test,c=1.1698528631164136,gam= 0.6067514452686538)"
   ]
  },
  {
   "cell_type": "code",
   "execution_count": 27,
   "metadata": {},
   "outputs": [
    {
     "name": "stdout",
     "output_type": "stream",
     "text": [
      "[[ 608  918]\n",
      " [ 350 7124]]\n"
     ]
    },
    {
     "data": {
      "image/png": "[encoded data removed]",
      "text/plain": [
       "<Figure size 648x648 with 2 Axes>"
      ]
     },
     "metadata": {},
     "output_type": "display_data"
    },
    {
     "name": "stdout",
     "output_type": "stream",
     "text": [
      "\n",
      "+-------------------------------------------------------------+\n",
      "| The performance metrics of the above model are as follows:  |\n",
      "+----------------------------------+--------------------------+\n",
      "|             Metrics              |          Scores          |\n",
      "+----------------------------------+--------------------------+\n",
      "|     Classification_accuracy      |    85.91111111111111     |\n",
      "|       Classification_error       |    14.08888888888889     |\n",
      "|          True positive           |           7124           |\n",
      "|          False positive          |           918            |\n",
      "|          True negative           |           608            |\n",
      "|          False negative          |           350            |\n",
      "|        True positive rate        |    95.31709927749532     |\n",
      "|       False negative rate        |    4.682900722504683     |\n",
      "|        True negative rate        |    39.84272608125819     |\n",
      "|       False positive rate        |    60.15727391874181     |\n",
      "|         Precision value          |    88.58492912210892     |\n",
      "|           Recall value           |    95.31709927749532     |\n",
      "|          f1_score value          |    91.82779066769784     |\n",
      "+----------------------------------+--------------------------+\n"
     ]
    }
   ],
   "source": [
    "Confusion_metric(y_test,W2V_Pred,W2V_accu)"
   ]
  },
  {
   "cell_type": "markdown",
   "metadata": {},
   "source": [
    "<h3>Observations</h3>\n",
    "<ul>\n",
    "    <li>The test accuracy of the Kernel SVM model is 85.91% but it is miss-leading because after studying the confusion-matrix the model is not sensible.</li>\n",
    "    <li>There is a serious bias problem as the majority points which are the positive reviews are dominating which leads to poor classiffication of the negative reviews.</li>\n",
    "    <li>So here the Kernel SVM model fails to classify the reviews properly.</li>\n",
    "    <li>Let's try the Linear SVM model for better accuracies.</li>"
   ]
  },
  {
   "cell_type": "markdown",
   "metadata": {},
   "source": [
    "<h2>Implementing the Average word-2-vec over the 150k datapoints</h2>"
   ]
  },
  {
   "cell_type": "code",
   "execution_count": 102,
   "metadata": {},
   "outputs": [
    {
     "name": "stdout",
     "output_type": "stream",
     "text": [
      "length of train list set is as follows:  73500\n",
      "length of test list set is as follows :  45000\n",
      "****************************************************************************************************\n",
      "length of the W2v vocabulary is :  11148\n",
      "The size of the trained average word2vec is : 73500\n",
      "The dimensions of average word2vec is : 50\n",
      "\n",
      "The size of the test average word2vec is : 45000\n",
      "The dimensions of the test average word2vec is : 50\n"
     ]
    }
   ],
   "source": [
    "Train_sgd=li_xtr[\"CleanedText\"]\n",
    "Test_sgd=li_xtest[\"CleanedText\"]\n",
    "\n",
    "Tr_list,Tes_list,Model,Words,Trw2v,Testw2v=Average_word2Vec(Train_sgd,Test_sgd)"
   ]
  },
  {
   "cell_type": "markdown",
   "metadata": {},
   "source": [
    "<h3> Implementing the Linear SVM model and performing 10k-Crossvalidation over it.</h3>"
   ]
  },
  {
   "cell_type": "code",
   "execution_count": 103,
   "metadata": {},
   "outputs": [
    {
     "name": "stdout",
     "output_type": "stream",
     "text": [
      "--------------------------------------------------------------------------------------------------------\n",
      "for alpha = 1e-05\n",
      "\n",
      "the misclassification error for each alpha value is :  [0.174]\n",
      "--------------------------------------------------------------------------------------------------------\n",
      "for alpha = 0.0001\n",
      "\n",
      "the misclassification error for each alpha value is :  [0.174 0.12 ]\n",
      "--------------------------------------------------------------------------------------------------------\n",
      "for alpha = 0.001\n",
      "\n",
      "the misclassification error for each alpha value is :  [0.174 0.12  0.11 ]\n",
      "--------------------------------------------------------------------------------------------------------\n",
      "for alpha = 0.01\n",
      "\n",
      "the misclassification error for each alpha value is :  [0.174 0.12  0.11  0.143]\n",
      "--------------------------------------------------------------------------------------------------------\n",
      "for alpha = 0.1\n",
      "\n",
      "the misclassification error for each alpha value is :  [0.174 0.12  0.11  0.143 0.143]\n",
      "--------------------------------------------------------------------------------------------------------\n",
      "for alpha = 1\n",
      "\n",
      "the misclassification error for each alpha value is :  [0.174 0.12  0.11  0.143 0.143 0.143]\n",
      "--------------------------------------------------------------------------------------------------------\n",
      "for alpha = 10\n",
      "\n",
      "the misclassification error for each alpha value is :  [0.174 0.12  0.11  0.143 0.143 0.143 0.143]\n"
     ]
    },
    {
     "data": {
      "image/png": "[encoded data removed]",
      "text/plain": [
       "<Figure size 576x396 with 1 Axes>"
      ]
     },
     "metadata": {},
     "output_type": "display_data"
    }
   ],
   "source": [
    "Cv_results(Trw2v,li_ytr)"
   ]
  },
  {
   "cell_type": "markdown",
   "metadata": {},
   "source": [
    "<h3>Testing the linear model over the test set</h3> "
   ]
  },
  {
   "cell_type": "code",
   "execution_count": 104,
   "metadata": {},
   "outputs": [
    {
     "name": "stdout",
     "output_type": "stream",
     "text": [
      "\n",
      "The accuracy of svm over Test set is =  88% \n"
     ]
    }
   ],
   "source": [
    "w2v_sgd_y,w2v_sgd_acc=linearsvm(Testw2v,li_ytest,0.001)"
   ]
  },
  {
   "cell_type": "code",
   "execution_count": 34,
   "metadata": {},
   "outputs": [
    {
     "name": "stdout",
     "output_type": "stream",
     "text": [
      "[[ 707  819]\n",
      " [ 256 7218]]\n"
     ]
    },
    {
     "data": {
      "image/png": "[encoded data removed]",
      "text/plain": [
       "<Figure size 648x648 with 2 Axes>"
      ]
     },
     "metadata": {},
     "output_type": "display_data"
    },
    {
     "name": "stdout",
     "output_type": "stream",
     "text": [
      "\n",
      "+-------------------------------------------------------------+\n",
      "| The performance metrics of the above model are as follows:  |\n",
      "+---------------------------------+---------------------------+\n",
      "|             Metrics             |           Scores          |\n",
      "+---------------------------------+---------------------------+\n",
      "|     Classification_accuracy     |     88.05555555555556     |\n",
      "|       Classification_error      |     11.944444444444445    |\n",
      "|          True positive          |            7218           |\n",
      "|          False positive         |            819            |\n",
      "|          True negative          |            707            |\n",
      "|          False negative         |            256            |\n",
      "|        True positive rate       |     96.57479261439657     |\n",
      "|       False negative rate       |     3.425207385603425     |\n",
      "|        True negative rate       |     46.330275229357795    |\n",
      "|       False positive rate       |     53.669724770642205    |\n",
      "|         Precision value         |     89.80963045912654     |\n",
      "|           Recall value          |     96.57479261439657     |\n",
      "|          f1_score value         |     93.06943459480367     |\n",
      "+---------------------------------+---------------------------+\n"
     ]
    }
   ],
   "source": [
    "Confusion_metric(y_test,w2v_sgd_y,w2v_sgd_acc)"
   ]
  },
  {
   "cell_type": "markdown",
   "metadata": {},
   "source": [
    "<h3>Observations</h3>\n",
    "<ul>\n",
    "    <li>The test accuracy of the linear SVM model is 88.05% but it is miss-leading because after studying the confusion-matrix the model is not sensible.</li>\n",
    "    <li>There is a serious bias problem as the majority points which are the positive reviews are dominating which leads to poor classiffication of the negative reviews.</li>\n",
    "    <li>So here the Linear SVM model also fails to classify the reviews properly.</li>"
   ]
  },
  {
   "cell_type": "markdown",
   "metadata": {},
   "source": [
    "<h2>Implementing the Tf-idf weighted-word2vectorization technique</h2>"
   ]
  },
  {
   "cell_type": "code",
   "execution_count": 109,
   "metadata": {},
   "outputs": [],
   "source": [
    "\n",
    "\n",
    "def Tf_idf_vector( X_tr,train_list,test_list,model,words):\n",
    "    \n",
    "    Tfidf_vector=TfidfVectorizer()\n",
    "    Tf_train=Tfidf_vector.fit_transform( X_tr)\n",
    "    dictionary = dict(zip(Tfidf_vector.get_feature_names(), list(Tfidf_vector.idf_)))\n",
    "   \n",
    "    Train_sentence_list=train_list\n",
    "    Test_sentence_list=test_list\n",
    "    w2v_words=words\n",
    "    w2v_model= model\n",
    "    \n",
    "    train_list_vector=[]\n",
    "    row=0\n",
    "    for sentence in  Train_sentence_list:\n",
    "        word_2_vec=np.zeros(50)\n",
    "        weight_tfidf_sum=0\n",
    "        for word in sentence:\n",
    "            if word in w2v_words:\n",
    "                vec=w2v_model.wv[word]\n",
    "            #tfidf_value=Tf_train[row,Dimension.index(word)]\n",
    "                tf_idf = dictionary[word]*sentence.count(word)\n",
    "                word_2_vec +=(vec *tf_idf)\n",
    "                weight_tfidf_sum +=tf_idf\n",
    "        if weight_tfidf_sum !=0:\n",
    "            word_2_vec /=weight_tfidf_sum\n",
    "        train_list_vector.append(word_2_vec)\n",
    "        row +=1\n",
    "    print(len(train_list_vector))\n",
    "    print(len(train_list_vector[0]))\n",
    "\n",
    "    \n",
    "    TEST_LIST_VECTOR=[]\n",
    "    Row=0\n",
    "    for sentence in  Test_sentence_list:\n",
    "        word_2_vec=np.zeros(50)\n",
    "        weight_tf_sum=0\n",
    "        for word in sentence:\n",
    "            if word in w2v_words:\n",
    "                vec=w2v_model.wv[word]\n",
    "            #tfidf_value=Tf_test[Row,Dimension.index(word)]\n",
    "                tf_idf = dictionary[word]*sentence.count(word)\n",
    "                word_2_vec += (vec* tf_idf)\n",
    "                weight_tf_sum += tf_idf\n",
    "        if weight_tf_sum !=0:\n",
    "            word_2_vec /=weight_tf_sum\n",
    "        TEST_LIST_VECTOR.append(word_2_vec)\n",
    "        row += 1\n",
    "    print(len(TEST_LIST_VECTOR))\n",
    "    print(len(TEST_LIST_VECTOR[0]))\n",
    "\n",
    "    return train_list_vector,TEST_LIST_VECTOR\n",
    "\n",
    "\n",
    "\n"
   ]
  },
  {
   "cell_type": "markdown",
   "metadata": {},
   "source": [
    "<h3>Preparing the data for the further use.</h3>"
   ]
  },
  {
   "cell_type": "code",
   "execution_count": 110,
   "metadata": {},
   "outputs": [
    {
     "name": "stdout",
     "output_type": "stream",
     "text": [
      "14700\n",
      "50\n",
      "9000\n",
      "50\n"
     ]
    }
   ],
   "source": [
    "train_list=X_tr[\"CleanedText\"]\n",
    "test_list=X_test[\"CleanedText\"]\n",
    "\n",
    "tfidf_tr,tfidf_test=Tf_idf_vector(X_tr,train_list,test_list,model,words)"
   ]
  },
  {
   "cell_type": "markdown",
   "metadata": {},
   "source": [
    "<h3>Training the Kernel-svm model over the TF-idf vectorized data.</h3>"
   ]
  },
  {
   "cell_type": "code",
   "execution_count": 73,
   "metadata": {},
   "outputs": [
    {
     "name": "stdout",
     "output_type": "stream",
     "text": [
      "The model score on train set is=  0.8059863945578232\n",
      "\n",
      "The accuracy of SVM over cross_val set is =  78% \n"
     ]
    }
   ],
   "source": [
    "TF_pred,TF_acc=train(train_list_vector,y_tr,TEST_LIST_VECTOR,y_test)"
   ]
  },
  {
   "cell_type": "code",
   "execution_count": 75,
   "metadata": {},
   "outputs": [
    {
     "name": "stdout",
     "output_type": "stream",
     "text": [
      "[[1244  282]\n",
      " [1653 5821]]\n"
     ]
    },
    {
     "data": {
      "image/png": "[encoded data removed]",
      "text/plain": [
       "<Figure size 648x648 with 2 Axes>"
      ]
     },
     "metadata": {},
     "output_type": "display_data"
    },
    {
     "name": "stdout",
     "output_type": "stream",
     "text": [
      "\n",
      "+-------------------------------------------------------------+\n",
      "| The performance metrics of the above model are as follows:  |\n",
      "+---------------------------------+---------------------------+\n",
      "|             Metrics             |           Scores          |\n",
      "+---------------------------------+---------------------------+\n",
      "|     Classification_accuracy     |            78.5           |\n",
      "|       Classification_error      |            21.5           |\n",
      "|          True positive          |            5821           |\n",
      "|          False positive         |            282            |\n",
      "|          True negative          |            1244           |\n",
      "|          False negative         |            1653           |\n",
      "|        True positive rate       |     77.88332887342789     |\n",
      "|       False negative rate       |     22.116671126572115    |\n",
      "|        True negative rate       |     81.52031454783749     |\n",
      "|       False positive rate       |     18.479685452162517    |\n",
      "|         Precision value         |     95.37932164509257     |\n",
      "|           Recall value          |     77.88332887342789     |\n",
      "|          f1_score value         |     85.74795610223173     |\n",
      "+---------------------------------+---------------------------+\n"
     ]
    }
   ],
   "source": [
    "Confusion_metric(y_test,TF_pred,TF_acc)"
   ]
  },
  {
   "cell_type": "markdown",
   "metadata": {},
   "source": [
    "<h3>Tuning the Hyper-parameters for finding the right alpha and gamma</h3>"
   ]
  },
  {
   "cell_type": "code",
   "execution_count": 76,
   "metadata": {},
   "outputs": [
    {
     "name": "stdout",
     "output_type": "stream",
     "text": [
      "The best model parameters for Gridsearch technique is  {'C': 1, 'gamma': 1}\n",
      "The model score over the cv set is  0.8334444444444444\n",
      "Wall time: 11min 59s\n"
     ]
    }
   ],
   "source": [
    "%%time\n",
    "\n",
    "#CODE FOR FINDING THE BEST HYPERPARAMETERS THROUGH GRIDSEARCH\n",
    "\n",
    "TF_para=Grid_s(train_list_vector,y_tr,TEST_LIST_VECTOR,y_test)\n"
   ]
  },
  {
   "cell_type": "code",
   "execution_count": 77,
   "metadata": {},
   "outputs": [
    {
     "name": "stdout",
     "output_type": "stream",
     "text": [
      "The best model parameters for Randomsearch technique is  {'C': 0.8304998310063612, 'gamma': 0.41488323755969314}\n",
      "The model score over the cv set is  0.8467777777777777\n",
      "Wall time: 2min 25s\n"
     ]
    }
   ],
   "source": [
    "\n",
    "%%time\n",
    "#CODE FOR FINDING THE BEST HYPERPARAMETERS USING RANDOMSEARCH\n",
    "Rand_TF_para=Random_s(train_list_vector,y_tr,TEST_LIST_VECTOR,y_test)\n",
    "\n",
    "\n"
   ]
  },
  {
   "cell_type": "markdown",
   "metadata": {},
   "source": [
    "<h3>Testing the model over the test set using the optimal alpha and gamma.</h3>"
   ]
  },
  {
   "cell_type": "code",
   "execution_count": 79,
   "metadata": {},
   "outputs": [
    {
     "name": "stdout",
     "output_type": "stream",
     "text": [
      "The model score on train set is=  0.9774149659863945\n",
      "\n",
      "The accuracy of svm over Test set is =  84% \n"
     ]
    }
   ],
   "source": [
    "tf_Pred,tf_accu=tuned_test(train_list_vector,y_tr,TEST_LIST_VECTOR,y_test,c=0.8304998310063612,gam= 0.41488323755969314)"
   ]
  },
  {
   "cell_type": "code",
   "execution_count": 80,
   "metadata": {},
   "outputs": [
    {
     "name": "stdout",
     "output_type": "stream",
     "text": [
      "[[ 677  849]\n",
      " [ 530 6944]]\n"
     ]
    },
    {
     "data": {
      "image/png": "[encoded data removed]",
      "text/plain": [
       "<Figure size 648x648 with 2 Axes>"
      ]
     },
     "metadata": {},
     "output_type": "display_data"
    },
    {
     "name": "stdout",
     "output_type": "stream",
     "text": [
      "\n",
      "+-------------------------------------------------------------+\n",
      "| The performance metrics of the above model are as follows:  |\n",
      "+---------------------------------+---------------------------+\n",
      "|             Metrics             |           Scores          |\n",
      "+---------------------------------+---------------------------+\n",
      "|     Classification_accuracy     |     84.67777777777778     |\n",
      "|       Classification_error      |     15.322222222222223    |\n",
      "|          True positive          |            6944           |\n",
      "|          False positive         |            849            |\n",
      "|          True negative          |            677            |\n",
      "|          False negative         |            530            |\n",
      "|        True positive rate       |     92.90875033449291     |\n",
      "|       False negative rate       |     7.091249665507091     |\n",
      "|        True negative rate       |     44.36435124508519     |\n",
      "|       False positive rate       |     55.63564875491481     |\n",
      "|         Precision value         |     89.10560759656101     |\n",
      "|           Recall value          |     92.90875033449291     |\n",
      "|          f1_score value         |     90.96744612563043     |\n",
      "+---------------------------------+---------------------------+\n"
     ]
    }
   ],
   "source": [
    "Confusion_metric(y_test,tf_Pred,tf_accu)"
   ]
  },
  {
   "cell_type": "markdown",
   "metadata": {},
   "source": [
    "<h3>Observations</h3>\n",
    "<ul>\n",
    "    <li>The test accuracy of the Kernel SVM model is 84.67% but it is miss-leading because after studying the confusion-matrix the model is not sensible.</li>\n",
    "    <li>There is a serious bias problem as the majority points which are the positive reviews are dominating which leads to poor classiffication of the negative reviews.</li>\n",
    "    <li>So here the Kernel SVM model fails to classify the reviews properly.</li>\n",
    "    <li>Let's try the Linear SVM model for better accuracies.</li>"
   ]
  },
  {
   "cell_type": "markdown",
   "metadata": {},
   "source": [
    "<h2>Implementing the TF-idf weighted word-2-vec over the 150k datapoints</h2>"
   ]
  },
  {
   "cell_type": "code",
   "execution_count": 112,
   "metadata": {},
   "outputs": [
    {
     "name": "stdout",
     "output_type": "stream",
     "text": [
      "73500\n",
      "50\n",
      "45000\n",
      "50\n"
     ]
    }
   ],
   "source": [
    "SGD_list=li_xtr[\"CleanedText\"]\n",
    "test_list=li_xtest[\"CleanedText\"]\n",
    "\n",
    "Tfidf_tr,Tfidf_test=Tf_idf_vector(SGD_list,Tr_list,Tes_list,Model,Words)"
   ]
  },
  {
   "cell_type": "markdown",
   "metadata": {},
   "source": [
    "<h3> Implementing the Linear SVM model and performing 10k-Crossvalidation over it.</h3>"
   ]
  },
  {
   "cell_type": "code",
   "execution_count": 114,
   "metadata": {},
   "outputs": [
    {
     "name": "stdout",
     "output_type": "stream",
     "text": [
      "--------------------------------------------------------------------------------------------------------\n",
      "for alpha = 1e-05\n",
      "\n",
      "the misclassification error for each alpha value is :  [0.201]\n",
      "--------------------------------------------------------------------------------------------------------\n",
      "for alpha = 0.0001\n",
      "\n",
      "the misclassification error for each alpha value is :  [0.201 0.134]\n",
      "--------------------------------------------------------------------------------------------------------\n",
      "for alpha = 0.001\n",
      "\n",
      "the misclassification error for each alpha value is :  [0.201 0.134 0.13 ]\n",
      "--------------------------------------------------------------------------------------------------------\n",
      "for alpha = 0.01\n",
      "\n",
      "the misclassification error for each alpha value is :  [0.201 0.134 0.13  0.143]\n",
      "--------------------------------------------------------------------------------------------------------\n",
      "for alpha = 0.1\n",
      "\n",
      "the misclassification error for each alpha value is :  [0.201 0.134 0.13  0.143 0.143]\n",
      "--------------------------------------------------------------------------------------------------------\n",
      "for alpha = 1\n",
      "\n",
      "the misclassification error for each alpha value is :  [0.201 0.134 0.13  0.143 0.143 0.143]\n",
      "--------------------------------------------------------------------------------------------------------\n",
      "for alpha = 10\n",
      "\n",
      "the misclassification error for each alpha value is :  [0.201 0.134 0.13  0.143 0.143 0.143 0.143]\n"
     ]
    },
    {
     "data": {
      "image/png": "[encoded data removed]",
      "text/plain": [
       "<Figure size 576x396 with 1 Axes>"
      ]
     },
     "metadata": {},
     "output_type": "display_data"
    }
   ],
   "source": [
    "Cv_results(Tfidf_tr,li_ytr)"
   ]
  },
  {
   "cell_type": "markdown",
   "metadata": {},
   "source": [
    "<h3>Testing the linear-SVM model over the test set by using the optimal alpha value.</h3> "
   ]
  },
  {
   "cell_type": "code",
   "execution_count": 115,
   "metadata": {},
   "outputs": [
    {
     "name": "stdout",
     "output_type": "stream",
     "text": [
      "\n",
      "The accuracy of svm over Test set is =  85% \n"
     ]
    }
   ],
   "source": [
    "tfw2v_sgd_y,tfw2v_sgd_acc=linearsvm(Tfidf_test,li_ytest,0.001)"
   ]
  },
  {
   "cell_type": "code",
   "execution_count": 83,
   "metadata": {},
   "outputs": [
    {
     "name": "stdout",
     "output_type": "stream",
     "text": [
      "[[ 398 1128]\n",
      " [ 137 7337]]\n"
     ]
    },
    {
     "data": {
      "image/png": "[encoded data removed]",
      "text/plain": [
       "<Figure size 648x648 with 2 Axes>"
      ]
     },
     "metadata": {},
     "output_type": "display_data"
    },
    {
     "name": "stdout",
     "output_type": "stream",
     "text": [
      "\n",
      "+-------------------------------------------------------------+\n",
      "| The performance metrics of the above model are as follows:  |\n",
      "+---------------------------------+---------------------------+\n",
      "|             Metrics             |           Scores          |\n",
      "+---------------------------------+---------------------------+\n",
      "|     Classification_accuracy     |     85.94444444444444     |\n",
      "|       Classification_error      |     14.055555555555554    |\n",
      "|          True positive          |            7337           |\n",
      "|          False positive         |            1128           |\n",
      "|          True negative          |            398            |\n",
      "|          False negative         |            137            |\n",
      "|        True positive rate       |     98.16697886004818     |\n",
      "|       False negative rate       |     1.833021139951833     |\n",
      "|        True negative rate       |     26.08125819134993     |\n",
      "|       False positive rate       |     73.91874180865007     |\n",
      "|         Precision value         |     86.67454223272297     |\n",
      "|           Recall value          |     98.16697886004818     |\n",
      "|          f1_score value         |     92.06349206349208     |\n",
      "+---------------------------------+---------------------------+\n"
     ]
    }
   ],
   "source": [
    "Confusion_metric(y_test,tfw2v_sgd_y,tfw2v_sgd_acc)"
   ]
  },
  {
   "cell_type": "markdown",
   "metadata": {},
   "source": [
    "<h3>Observations</h3>\n",
    "<ul>\n",
    "    <li>The test accuracy of the linear SVM model is 85.94% but it is miss-leading because after studying the confusion-matrix the model is not sensible.</li>\n",
    "    <li>There is a serious bias problem as the majority points which are the positive reviews are dominating which leads to poor classiffication of the negative reviews.</li>\n",
    "    <li>So here the Linear SVM model also fails to classify the reviews properly.</li>"
   ]
  },
  {
   "cell_type": "markdown",
   "metadata": {},
   "source": [
    "<h2>Conclusions</h2>"
   ]
  },
  {
   "cell_type": "code",
   "execution_count": 66,
   "metadata": {},
   "outputs": [
    {
     "name": "stdout",
     "output_type": "stream",
     "text": [
      "\n",
      "+---------------------------------------------------------------+\n",
      "|    The comparisons of all the vectorizers are as follows:     |\n",
      "+---------------------------+-------------+---------+-----------+\n",
      "|         Vectorizer        |  Algorithm  |  Scores |   Status  |\n",
      "+---------------------------+-------------+---------+-----------+\n",
      "|        Bag-Of-Words       |  Kernel-SVM |  86.6%  |   Stable  |\n",
      "|        Bag-Of-Words       |  Linear-SVM |  92.87% |   Stable  |\n",
      "|           Tf-IDF          |  Kernel-SVM |  88.33% |   Stable  |\n",
      "|           Tf-IDF          |  Linear-SVM |  89.82% |  Unstable |\n",
      "|      Average-word2vec     |  Kernel-SVM |  85.91% |  Unstable |\n",
      "|      Average-word2vec     |  Linear-SVM |  88.05% |  Unstable |\n",
      "|  TF-IDF-Weighted-word2vec |  Kernel-SVM |  84.67% |  Unstable |\n",
      "|  TF-IDF-Weighted-word2vec |  Linear-SVM |  85.94% |  Unstable |\n",
      "+---------------------------+-------------+---------+-----------+\n"
     ]
    }
   ],
   "source": [
    "conclusion_table()"
   ]
  },
  {
   "cell_type": "markdown",
   "metadata": {},
   "source": [
    "<ol>\n",
    "    <li>From the above conclusion table the Linear SVM worked excellent with Bag-of-words & Tf-idf vectorizers and were also highly stable.</li>\n",
    "    <li>The Kernel-SVM was also stable with the BOW nad tf-idf but still they are facing Bias problems.</li>\n",
    "    <li>The gridearch and random search cross-validations are quite expensive interms of time and compute for larger datasets.\n",
    "    <li>SGD with Linear-SVM was quite fast and have faster and good results.</li>\n",
    "    <li>The Average and Tf-idf weighted word2vec were unstable even after tuning the hyperparameters in both Kernel and Linear SVM'S because of bias problems.</li>\n",
    "    <li>So according to my observation I can Conclude that Linear model's are better in this case than Kernel-SVM's in case of BOW and Tf-idf vectorization techniques & Support Vector Machines are a good classification algorithm.</li>"
   ]
  },
  {
   "cell_type": "code",
   "execution_count": null,
   "metadata": {},
   "outputs": [],
   "source": []
  }
 ],
 "metadata": {
  "kernelspec": {
   "display_name": "Python 3",
   "language": "python",
   "name": "python3"
  },
  "language_info": {
   "codemirror_mode": {
    "name": "ipython",
    "version": 3
   },
   "file_extension": ".py",
   "mimetype": "text/x-python",
   "name": "python",
   "nbconvert_exporter": "python",
   "pygments_lexer": "ipython3",
   "version": "3.6.5"
  }
 },
 "nbformat": 4,
 "nbformat_minor": 2
}
