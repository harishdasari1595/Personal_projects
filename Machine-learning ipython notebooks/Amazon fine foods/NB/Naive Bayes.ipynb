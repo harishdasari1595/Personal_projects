{
 "cells": [
  {
   "cell_type": "markdown",
   "metadata": {},
   "source": [
    "<h1>Naive bayes implementation over Amazon fine food reviews dataset</h1>"
   ]
  },
  {
   "cell_type": "code",
   "execution_count": 13,
   "metadata": {},
   "outputs": [],
   "source": [
    "#IMPORTING RELEVANT LIBRARIES\n",
    "\n",
    "%matplotlib inline\n",
    "\n",
    "import warnings\n",
    "warnings.filterwarnings(\"ignore\")\n",
    "\n",
    "import sqlite3\n",
    "import pandas as pd\n",
    "import numpy as np\n",
    "import nltk\n",
    "import string\n",
    "import matplotlib.pyplot as plt\n",
    "import seaborn as sns\n",
    "from sklearn.feature_extraction.text import TfidfTransformer\n",
    "from sklearn.feature_extraction.text import TfidfVectorizer\n",
    "import itertools\n",
    "\n",
    "from sklearn.feature_extraction.text import CountVectorizer\n",
    "from sklearn.metrics import confusion_matrix\n",
    "from sklearn import metrics\n",
    "\n",
    "from sklearn.cross_validation import train_test_split\n",
    "from sklearn.metrics import accuracy_score\n",
    "from sklearn.cross_validation import cross_val_score\n",
    "from collections import Counter\n",
    "\n",
    "from sklearn import cross_validation\n",
    "from sklearn.model_selection import train_test_split\n",
    "from sklearn.naive_bayes import MultinomialNB\n",
    "from sklearn.model_selection import KFold\n",
    "from sklearn.naive_bayes import BernoulliNB\n",
    "from imblearn.over_sampling import SMOTE \n",
    "from prettytable import PrettyTable\n",
    "from sklearn.model_selection import cross_validate\n",
    "from random import *\n",
    "\n",
    "\n",
    "\n",
    "\n",
    "\n"
   ]
  },
  {
   "cell_type": "code",
   "execution_count": 2,
   "metadata": {},
   "outputs": [
    {
     "data": {
      "text/plain": [
       "(364171, 12)"
      ]
     },
     "execution_count": 2,
     "metadata": {},
     "output_type": "execute_result"
    }
   ],
   "source": [
    "#Connecting to the SQL table\n",
    "con = sqlite3.connect('final.sqlite')\n",
    "\n",
    "#Reading data from the database\n",
    "\n",
    "Data = pd.read_sql_query(\"\"\"\n",
    "SELECT *\n",
    "FROM Reviews \"\"\",con)\n",
    "Data.shape"
   ]
  },
  {
   "cell_type": "code",
   "execution_count": 3,
   "metadata": {},
   "outputs": [],
   "source": [
    "# Drop index column\n",
    "Data.drop(columns=['index'],inplace=True)\n"
   ]
  },
  {
   "cell_type": "code",
   "execution_count": 4,
   "metadata": {},
   "outputs": [
    {
     "data": {
      "text/html": [
       "<div>\n",
       "<style scoped>\n",
       "    .dataframe tbody tr th:only-of-type {\n",
       "        vertical-align: middle;\n",
       "    }\n",
       "\n",
       "    .dataframe tbody tr th {\n",
       "        vertical-align: top;\n",
       "    }\n",
       "\n",
       "    .dataframe thead th {\n",
       "        text-align: right;\n",
       "    }\n",
       "</style>\n",
       "<table border=\"1\" class=\"dataframe\">\n",
       "  <thead>\n",
       "    <tr style=\"text-align: right;\">\n",
       "      <th></th>\n",
       "      <th>Id</th>\n",
       "      <th>ProductId</th>\n",
       "      <th>UserId</th>\n",
       "      <th>ProfileName</th>\n",
       "      <th>HelpfulnessNumerator</th>\n",
       "      <th>HelpfulnessDenominator</th>\n",
       "      <th>Score</th>\n",
       "      <th>Time</th>\n",
       "      <th>Summary</th>\n",
       "      <th>Text</th>\n",
       "      <th>CleanedText</th>\n",
       "    </tr>\n",
       "  </thead>\n",
       "  <tbody>\n",
       "    <tr>\n",
       "      <th>0</th>\n",
       "      <td>150524</td>\n",
       "      <td>0006641040</td>\n",
       "      <td>ACITT7DI6IDDL</td>\n",
       "      <td>shari zychinski</td>\n",
       "      <td>0</td>\n",
       "      <td>0</td>\n",
       "      <td>positive</td>\n",
       "      <td>1970-01-01 00:00:00.939340800</td>\n",
       "      <td>EVERY book is educational</td>\n",
       "      <td>this witty little book makes my son laugh at l...</td>\n",
       "      <td>witti littl book make son laugh loud recit car...</td>\n",
       "    </tr>\n",
       "    <tr>\n",
       "      <th>1</th>\n",
       "      <td>150506</td>\n",
       "      <td>0006641040</td>\n",
       "      <td>A2IW4PEEKO2R0U</td>\n",
       "      <td>Tracy</td>\n",
       "      <td>1</td>\n",
       "      <td>1</td>\n",
       "      <td>positive</td>\n",
       "      <td>1970-01-01 00:00:01.194739200</td>\n",
       "      <td>Love the book, miss the hard cover version</td>\n",
       "      <td>I grew up reading these Sendak books, and watc...</td>\n",
       "      <td>grew read sendak book watch realli rosi movi i...</td>\n",
       "    </tr>\n",
       "    <tr>\n",
       "      <th>2</th>\n",
       "      <td>150507</td>\n",
       "      <td>0006641040</td>\n",
       "      <td>A1S4A3IQ2MU7V4</td>\n",
       "      <td>sally sue \"sally sue\"</td>\n",
       "      <td>1</td>\n",
       "      <td>1</td>\n",
       "      <td>positive</td>\n",
       "      <td>1970-01-01 00:00:01.191456000</td>\n",
       "      <td>chicken soup with rice months</td>\n",
       "      <td>This is a fun way for children to learn their ...</td>\n",
       "      <td>fun way children learn month year learn poem t...</td>\n",
       "    </tr>\n",
       "    <tr>\n",
       "      <th>3</th>\n",
       "      <td>150508</td>\n",
       "      <td>0006641040</td>\n",
       "      <td>AZGXZ2UUK6X</td>\n",
       "      <td>Catherine Hallberg \"(Kate)\"</td>\n",
       "      <td>1</td>\n",
       "      <td>1</td>\n",
       "      <td>positive</td>\n",
       "      <td>1970-01-01 00:00:01.076025600</td>\n",
       "      <td>a good swingy rhythm for reading aloud</td>\n",
       "      <td>This is a great little book to read aloud- it ...</td>\n",
       "      <td>great littl book read nice rhythm well good re...</td>\n",
       "    </tr>\n",
       "    <tr>\n",
       "      <th>4</th>\n",
       "      <td>150509</td>\n",
       "      <td>0006641040</td>\n",
       "      <td>A3CMRKGE0P909G</td>\n",
       "      <td>Teresa</td>\n",
       "      <td>3</td>\n",
       "      <td>4</td>\n",
       "      <td>positive</td>\n",
       "      <td>1970-01-01 00:00:01.018396800</td>\n",
       "      <td>A great way to learn the months</td>\n",
       "      <td>This is a book of poetry about the months of t...</td>\n",
       "      <td>book poetri month year goe month cute littl po...</td>\n",
       "    </tr>\n",
       "  </tbody>\n",
       "</table>\n",
       "</div>"
      ],
      "text/plain": [
       "       Id   ProductId          UserId                  ProfileName  \\\n",
       "0  150524  0006641040   ACITT7DI6IDDL              shari zychinski   \n",
       "1  150506  0006641040  A2IW4PEEKO2R0U                        Tracy   \n",
       "2  150507  0006641040  A1S4A3IQ2MU7V4        sally sue \"sally sue\"   \n",
       "3  150508  0006641040     AZGXZ2UUK6X  Catherine Hallberg \"(Kate)\"   \n",
       "4  150509  0006641040  A3CMRKGE0P909G                       Teresa   \n",
       "\n",
       "   HelpfulnessNumerator  HelpfulnessDenominator     Score  \\\n",
       "0                     0                       0  positive   \n",
       "1                     1                       1  positive   \n",
       "2                     1                       1  positive   \n",
       "3                     1                       1  positive   \n",
       "4                     3                       4  positive   \n",
       "\n",
       "                           Time                                     Summary  \\\n",
       "0 1970-01-01 00:00:00.939340800                   EVERY book is educational   \n",
       "1 1970-01-01 00:00:01.194739200  Love the book, miss the hard cover version   \n",
       "2 1970-01-01 00:00:01.191456000               chicken soup with rice months   \n",
       "3 1970-01-01 00:00:01.076025600      a good swingy rhythm for reading aloud   \n",
       "4 1970-01-01 00:00:01.018396800             A great way to learn the months   \n",
       "\n",
       "                                                Text  \\\n",
       "0  this witty little book makes my son laugh at l...   \n",
       "1  I grew up reading these Sendak books, and watc...   \n",
       "2  This is a fun way for children to learn their ...   \n",
       "3  This is a great little book to read aloud- it ...   \n",
       "4  This is a book of poetry about the months of t...   \n",
       "\n",
       "                                         CleanedText  \n",
       "0  witti littl book make son laugh loud recit car...  \n",
       "1  grew read sendak book watch realli rosi movi i...  \n",
       "2  fun way children learn month year learn poem t...  \n",
       "3  great littl book read nice rhythm well good re...  \n",
       "4  book poetri month year goe month cute littl po...  "
      ]
     },
     "execution_count": 4,
     "metadata": {},
     "output_type": "execute_result"
    }
   ],
   "source": [
    "Data[\"Time\"]=pd.to_datetime(Data.Time)\n",
    "Data.head(5)"
   ]
  },
  {
   "cell_type": "code",
   "execution_count": 5,
   "metadata": {},
   "outputs": [],
   "source": [
    "#Setting Time column as index of the dataframe \n",
    "Data.set_index(\"Time\",inplace=True)\n",
    "\n",
    "#Sampling the above data\n",
    "Sorted=Data.sort_index()"
   ]
  },
  {
   "cell_type": "code",
   "execution_count": 6,
   "metadata": {},
   "outputs": [
    {
     "data": {
      "text/html": [
       "<div>\n",
       "<style scoped>\n",
       "    .dataframe tbody tr th:only-of-type {\n",
       "        vertical-align: middle;\n",
       "    }\n",
       "\n",
       "    .dataframe tbody tr th {\n",
       "        vertical-align: top;\n",
       "    }\n",
       "\n",
       "    .dataframe thead th {\n",
       "        text-align: right;\n",
       "    }\n",
       "</style>\n",
       "<table border=\"1\" class=\"dataframe\">\n",
       "  <thead>\n",
       "    <tr style=\"text-align: right;\">\n",
       "      <th></th>\n",
       "      <th>Id</th>\n",
       "      <th>ProductId</th>\n",
       "      <th>UserId</th>\n",
       "      <th>ProfileName</th>\n",
       "      <th>HelpfulnessNumerator</th>\n",
       "      <th>HelpfulnessDenominator</th>\n",
       "      <th>Score</th>\n",
       "      <th>Summary</th>\n",
       "      <th>Text</th>\n",
       "      <th>CleanedText</th>\n",
       "    </tr>\n",
       "    <tr>\n",
       "      <th>Time</th>\n",
       "      <th></th>\n",
       "      <th></th>\n",
       "      <th></th>\n",
       "      <th></th>\n",
       "      <th></th>\n",
       "      <th></th>\n",
       "      <th></th>\n",
       "      <th></th>\n",
       "      <th></th>\n",
       "      <th></th>\n",
       "    </tr>\n",
       "  </thead>\n",
       "  <tbody>\n",
       "    <tr>\n",
       "      <th>1970-01-01 00:00:00.939340800</th>\n",
       "      <td>150524</td>\n",
       "      <td>0006641040</td>\n",
       "      <td>ACITT7DI6IDDL</td>\n",
       "      <td>shari zychinski</td>\n",
       "      <td>0</td>\n",
       "      <td>0</td>\n",
       "      <td>positive</td>\n",
       "      <td>EVERY book is educational</td>\n",
       "      <td>this witty little book makes my son laugh at l...</td>\n",
       "      <td>witti littl book make son laugh loud recit car...</td>\n",
       "    </tr>\n",
       "    <tr>\n",
       "      <th>1970-01-01 00:00:00.940809600</th>\n",
       "      <td>150501</td>\n",
       "      <td>0006641040</td>\n",
       "      <td>AJ46FKXOVC7NR</td>\n",
       "      <td>Nicholas A Mesiano</td>\n",
       "      <td>2</td>\n",
       "      <td>2</td>\n",
       "      <td>positive</td>\n",
       "      <td>This whole series is great way to spend time w...</td>\n",
       "      <td>I can remember seeing the show when it aired o...</td>\n",
       "      <td>rememb see show air televis year ago child sis...</td>\n",
       "    </tr>\n",
       "    <tr>\n",
       "      <th>1970-01-01 00:00:00.944092800</th>\n",
       "      <td>451856</td>\n",
       "      <td>B00004CXX9</td>\n",
       "      <td>AIUWLEQ1ADEG5</td>\n",
       "      <td>Elizabeth Medina</td>\n",
       "      <td>0</td>\n",
       "      <td>0</td>\n",
       "      <td>positive</td>\n",
       "      <td>Entertainingl Funny!</td>\n",
       "      <td>Beetlejuice is a well written movie ..... ever...</td>\n",
       "      <td>beetlejuic well written movi everyth excel act...</td>\n",
       "    </tr>\n",
       "    <tr>\n",
       "      <th>1970-01-01 00:00:00.944438400</th>\n",
       "      <td>374359</td>\n",
       "      <td>B00004CI84</td>\n",
       "      <td>A344SMIA5JECGM</td>\n",
       "      <td>Vincent P. Ross</td>\n",
       "      <td>1</td>\n",
       "      <td>2</td>\n",
       "      <td>positive</td>\n",
       "      <td>A modern day fairy tale</td>\n",
       "      <td>A twist of rumplestiskin captured on film, sta...</td>\n",
       "      <td>twist rumplestiskin captur film star michael k...</td>\n",
       "    </tr>\n",
       "    <tr>\n",
       "      <th>1970-01-01 00:00:00.946857600</th>\n",
       "      <td>451855</td>\n",
       "      <td>B00004CXX9</td>\n",
       "      <td>AJH6LUC1UT1ON</td>\n",
       "      <td>The Phantom of the Opera</td>\n",
       "      <td>0</td>\n",
       "      <td>0</td>\n",
       "      <td>positive</td>\n",
       "      <td>FANTASTIC!</td>\n",
       "      <td>Beetlejuice is an excellent and funny movie. K...</td>\n",
       "      <td>beetlejuic excel funni movi keaton hilari wack...</td>\n",
       "    </tr>\n",
       "  </tbody>\n",
       "</table>\n",
       "</div>"
      ],
      "text/plain": [
       "                                   Id   ProductId          UserId  \\\n",
       "Time                                                                \n",
       "1970-01-01 00:00:00.939340800  150524  0006641040   ACITT7DI6IDDL   \n",
       "1970-01-01 00:00:00.940809600  150501  0006641040   AJ46FKXOVC7NR   \n",
       "1970-01-01 00:00:00.944092800  451856  B00004CXX9   AIUWLEQ1ADEG5   \n",
       "1970-01-01 00:00:00.944438400  374359  B00004CI84  A344SMIA5JECGM   \n",
       "1970-01-01 00:00:00.946857600  451855  B00004CXX9   AJH6LUC1UT1ON   \n",
       "\n",
       "                                            ProfileName  HelpfulnessNumerator  \\\n",
       "Time                                                                            \n",
       "1970-01-01 00:00:00.939340800           shari zychinski                     0   \n",
       "1970-01-01 00:00:00.940809600        Nicholas A Mesiano                     2   \n",
       "1970-01-01 00:00:00.944092800          Elizabeth Medina                     0   \n",
       "1970-01-01 00:00:00.944438400           Vincent P. Ross                     1   \n",
       "1970-01-01 00:00:00.946857600  The Phantom of the Opera                     0   \n",
       "\n",
       "                               HelpfulnessDenominator     Score  \\\n",
       "Time                                                              \n",
       "1970-01-01 00:00:00.939340800                       0  positive   \n",
       "1970-01-01 00:00:00.940809600                       2  positive   \n",
       "1970-01-01 00:00:00.944092800                       0  positive   \n",
       "1970-01-01 00:00:00.944438400                       2  positive   \n",
       "1970-01-01 00:00:00.946857600                       0  positive   \n",
       "\n",
       "                                                                         Summary  \\\n",
       "Time                                                                               \n",
       "1970-01-01 00:00:00.939340800                          EVERY book is educational   \n",
       "1970-01-01 00:00:00.940809600  This whole series is great way to spend time w...   \n",
       "1970-01-01 00:00:00.944092800                               Entertainingl Funny!   \n",
       "1970-01-01 00:00:00.944438400                            A modern day fairy tale   \n",
       "1970-01-01 00:00:00.946857600                                         FANTASTIC!   \n",
       "\n",
       "                                                                            Text  \\\n",
       "Time                                                                               \n",
       "1970-01-01 00:00:00.939340800  this witty little book makes my son laugh at l...   \n",
       "1970-01-01 00:00:00.940809600  I can remember seeing the show when it aired o...   \n",
       "1970-01-01 00:00:00.944092800  Beetlejuice is a well written movie ..... ever...   \n",
       "1970-01-01 00:00:00.944438400  A twist of rumplestiskin captured on film, sta...   \n",
       "1970-01-01 00:00:00.946857600  Beetlejuice is an excellent and funny movie. K...   \n",
       "\n",
       "                                                                     CleanedText  \n",
       "Time                                                                              \n",
       "1970-01-01 00:00:00.939340800  witti littl book make son laugh loud recit car...  \n",
       "1970-01-01 00:00:00.940809600  rememb see show air televis year ago child sis...  \n",
       "1970-01-01 00:00:00.944092800  beetlejuic well written movi everyth excel act...  \n",
       "1970-01-01 00:00:00.944438400  twist rumplestiskin captur film star michael k...  \n",
       "1970-01-01 00:00:00.946857600  beetlejuic excel funni movi keaton hilari wack...  "
      ]
     },
     "execution_count": 6,
     "metadata": {},
     "output_type": "execute_result"
    }
   ],
   "source": [
    "Sorted.head()"
   ]
  },
  {
   "cell_type": "code",
   "execution_count": 7,
   "metadata": {},
   "outputs": [
    {
     "data": {
      "text/plain": [
       "(50000, 10)"
      ]
     },
     "execution_count": 7,
     "metadata": {},
     "output_type": "execute_result"
    }
   ],
   "source": [
    "#Sampling the above data\n",
    "\n",
    "Sampled_data=Sorted.sample(n=50000,replace='False')\n",
    "Sample_sort=Sampled_data.sort_index()\n",
    "Sample_sort.shape\n"
   ]
  },
  {
   "cell_type": "code",
   "execution_count": 8,
   "metadata": {},
   "outputs": [
    {
     "data": {
      "image/png": "[encoded data removed]",
      "text/plain": [
       "<Figure size 432x288 with 1 Axes>"
      ]
     },
     "metadata": {
      "needs_background": "light"
     },
     "output_type": "display_data"
    },
    {
     "data": {
      "text/plain": [
       "<Figure size 432x288 with 0 Axes>"
      ]
     },
     "metadata": {},
     "output_type": "display_data"
    }
   ],
   "source": [
    "Class=Sorted[\"Score\"]\n",
    "label=Sample_sort[\"Score\"]\n",
    "sns.countplot(x=\"Score\",data=Sorted,palette=\"hls\")\n",
    "plt.show()\n",
    "plt.savefig(\"count_plot\")\n"
   ]
  },
  {
   "cell_type": "code",
   "execution_count": 9,
   "metadata": {},
   "outputs": [
    {
     "data": {
      "text/plain": [
       "(364171, 9)"
      ]
     },
     "execution_count": 9,
     "metadata": {},
     "output_type": "execute_result"
    }
   ],
   "source": [
    "#Dropping the Score column which are the actual class labels of the dataset\n",
    "Sorted.drop(columns=['Score'],inplace=True)\n",
    "Sorted.shape"
   ]
  },
  {
   "cell_type": "code",
   "execution_count": 10,
   "metadata": {},
   "outputs": [
    {
     "data": {
      "text/plain": [
       "(50000, 9)"
      ]
     },
     "execution_count": 10,
     "metadata": {},
     "output_type": "execute_result"
    }
   ],
   "source": [
    "#Dropping the Score column from the sampled_set which are the actual class labels of the dataset\n",
    "Sample_sort.drop(columns=['Score'],inplace=True)\n",
    "Sample_sort.shape"
   ]
  },
  {
   "cell_type": "markdown",
   "metadata": {},
   "source": [
    "<h2>Observations</h2>\n",
    "<ul>\n",
    "    <li>Here after all the text-preprocesing and the data-cleaning only 364k datapoints remained.</li>\n",
    "    <li>I have taken a sample size of 50k and also the whole data out of the total population for the purpose of analyzing and studying the behaviour of the data by applying the Naive bayes algorithm.</li>\n",
    "    <li>First I took the \"TIME\" column and set as the index of the new sampled dataframe and then sorted accordingly in ascending order since the data has a temporal nature.</li>\n",
    "    <li>By setting the \"SCORE\" column as a class label for classifying the reviews as a positive and negative.</li>\n",
    "    <li>By observing the above bar plot it is clear that the above dataset is highly imbalanced and this may cause problems in the future analysis.</li>\n",
    "</ul>\n",
    "    \n",
    "    "
   ]
  },
  {
   "cell_type": "markdown",
   "metadata": {},
   "source": [
    "<h3>Function for Spltting the dataset into Train,CV and Test sets (70:30)</h3>"
   ]
  },
  {
   "cell_type": "code",
   "execution_count": 11,
   "metadata": {},
   "outputs": [],
   "source": [
    "def data_split(x,y):\n",
    "    #Splitting the model into 70:30 split of Training and Cross_validate split\n",
    "    X_1, X_test, y_1, y_test = train_test_split(X, Y, test_size=0.3,shuffle=False,random_state=None)\n",
    "\n",
    "# split the train data set into cross validation train and cross validation test\n",
    "    X_tr, X_cv, y_tr, y_cv = train_test_split(X_1, y_1, test_size=0.3,shuffle=False,random_state=None)\n",
    "    \n",
    "    return X_tr,y_tr,X_cv,y_cv,X_test,y_test"
   ]
  },
  {
   "cell_type": "markdown",
   "metadata": {},
   "source": [
    "<h3>Preparing and printing the Train,cv and test sets</h3>"
   ]
  },
  {
   "cell_type": "code",
   "execution_count": 12,
   "metadata": {},
   "outputs": [
    {
     "name": "stdout",
     "output_type": "stream",
     "text": [
      "The shape of x_train is: (178443, 9)\n",
      "the shape of y_train is: (178443,)\n",
      "the shape of x_cv is: (76476, 9)\n",
      "the shape of y_cv is: (76476,)\n",
      "the shape of x_test is: (109252, 9)\n",
      "the shape of y_test is: (109252,)\n"
     ]
    }
   ],
   "source": [
    "\n",
    "X=Sorted\n",
    "Y=Class\n",
    "\n",
    "X_tr,y_tr,X_cv,y_cv,X_test,y_test=data_split(X,Y)\n",
    "\n",
    "print(\"The shape of x_train is:\",X_tr.shape)\n",
    "print(\"the shape of y_train is:\",y_tr.shape)\n",
    "print(\"the shape of x_cv is:\",X_cv.shape)\n",
    "print(\"the shape of y_cv is:\",y_cv.shape)\n",
    "print(\"the shape of x_test is:\",X_test.shape)\n",
    "print(\"the shape of y_test is:\",y_test.shape)"
   ]
  },
  {
   "cell_type": "markdown",
   "metadata": {},
   "source": [
    "<h3>Utility function for training and calculating the missclassification error of the model</h3>"
   ]
  },
  {
   "cell_type": "code",
   "execution_count": 14,
   "metadata": {},
   "outputs": [],
   "source": [
    "\n",
    "#function for training the model\n",
    "def train(X_tr,Y_tr,X_cv,y_cv):\n",
    "    \n",
    "    clf = MultinomialNB()\n",
    "    clf.fit(X_tr, y_tr)\n",
    "\n",
    "    pred= clf.predict(X_cv)\n",
    "\n",
    "    acc = accuracy_score(y_cv, pred, normalize=True) * float(100)\n",
    "    \n",
    "    print('\\n The train accuracy by using default alpha over cv set is =  %f%% ' % ( acc))\n",
    "    return pred,acc\n",
    "\n",
    "def test(X_tr,y_tr,X_test,y_test):\n",
    "    Nb = MultinomialNB()\n",
    "    Nb.fit(X_tr,y_tr)\n",
    "    pred = Nb.predict(X_test)\n",
    "    acc = accuracy_score(y_test, pred, normalize=True)*float(100) \n",
    "    print('\\n**** The Test accuracy by using default alpha is %d%%' % (acc))\n",
    "\n",
    "\n",
    "def optimal_test(optimal_a,X_tr,y_tr,X_cv,y_cv,X_test,y_test):\n",
    "    # instantiate learning model a = optimal_alpha\n",
    "    B_optimal =MultinomialNB(alpha=optimal_a)\n",
    "\n",
    "# fitting the model\n",
    "    B_optimal.fit(X_tr, y_tr)\n",
    "\n",
    "# predict the response\n",
    "    pred = B_optimal.predict(X_test)\n",
    "\n",
    "    Y_pred=B_optimal.predict(X_cv)\n",
    "\n",
    "    TRAIN_acc = accuracy_score(y_cv, Y_pred, normalize=True) * float(100)\n",
    "    print(\"\\n The train accuracy of the NB classifier for the best alpha=%f%% is %f%% \"%(optimal_a,TRAIN_acc))\n",
    "    \n",
    "    print(\"*\"*100)\n",
    "\n",
    "# evaluate accuracy\n",
    "    Acc = accuracy_score(y_test, pred,normalize=True) * float(100)\n",
    "    print('\\nThe Test accuracy of the NB classifier by using the best alpha = %f%% is %f%%' % (optimal_a, Acc))\n",
    "\n",
    "    return pred, Acc\n",
    "\n",
    "def cross_validation(X_cv,y_cv):\n",
    "    a=[0.001, 0.0001, 0.12, 0.42,0.25,0.50,0.33,0.0065,0.72, 1]\n",
    "    multinom= a\n",
    "    cv_Scores=[]\n",
    "    for a in multinom:\n",
    "        clf =MultinomialNB(a)\n",
    "        scores = cross_val_score(clf, X_cv, y_cv, cv=10,scoring='accuracy')\n",
    "        cv_Scores.append(scores.mean()) \n",
    "    #printing the 10 Cross-Validation scores \n",
    "    print(cv_Scores)\n",
    "    return cv_Scores,multinom\n",
    "\n",
    "\n"
   ]
  },
  {
   "cell_type": "markdown",
   "metadata": {},
   "source": [
    "<h3>Utility function for visualizing the model scores and CV error of the model</h3>"
   ]
  },
  {
   "cell_type": "code",
   "execution_count": 15,
   "metadata": {},
   "outputs": [],
   "source": [
    "\n",
    "from sklearn.metrics import confusion_matrix\n",
    "def Confusion_metric(y_test,y_pred,acc):\n",
    "    print(metrics.confusion_matrix(y_test,y_pred))\n",
    "    confusion=metrics.confusion_matrix(y_test,y_pred)\n",
    "\n",
    "    plt.figure(figsize=(9,9))\n",
    "    sns.heatmap(confusion, annot=True, fmt=\".3f\", linewidths=.5, square = True, cmap = 'Blues_r');\n",
    "    plt.ylabel('Predicted label');\n",
    "    plt.xlabel('Actual label');\n",
    "    all_sample_title = 'Accuracy Score: {0}'.format( acc)\n",
    "    plt.title(all_sample_title, size = 15);\n",
    "    plt.show()\n",
    "\n",
    "#Storing the values of the confusion matrix\n",
    "    TN=confusion[0,0]\n",
    "    FP=confusion[0,1]\n",
    "    FN=confusion[1,0]\n",
    "    TP=confusion[1,1]\n",
    "\n",
    "# use float to perform true division, not integer division\n",
    "    Class_acc=((TP + TN) / float(TP + TN + FP + FN))*100\n",
    "\n",
    "#Code for classification error\n",
    "\n",
    "    classification_error = ((FP + FN) / float(TP + TN + FP + FN))*100\n",
    "    \n",
    "\n",
    "#Code for finding the TPR,FPR,TNR,FNR\n",
    "\n",
    "    TPR = (TP / float(FN + TP))*100\n",
    "\n",
    "    FNR = (FN / float(FN + TP))*100\n",
    "\n",
    "    TNR=(TN / float(TN + FP))*100\n",
    "\n",
    "    FPR=(FP / float(TN + FP))*100\n",
    "    \n",
    "#Code for finding the Precision,Recall & F1_score    \n",
    "   \n",
    "    precision = (TP/float(TP+FP))*100\n",
    "    \n",
    "    recall= (TP / float(FN + TP))*100\n",
    "    \n",
    "    F1_s= ((float(precision*recall)/float(precision+recall))*2)\n",
    "    \n",
    "    print()\n",
    "    \n",
    "    ptable=PrettyTable()\n",
    "    ptable.title=\"The performance metrics of the above model are as follows: \"\n",
    "    ptable.field_names=[\"Metrics\",\"Scores\"]\n",
    "    ptable.add_row([\"Classification_accuracy\",Class_acc])\n",
    "    ptable.add_row([\"Classification_error\",classification_error])\n",
    "    ptable.add_row([\"True positive\",TP])\n",
    "    ptable.add_row([\"False positive\",FP])\n",
    "    ptable.add_row([\"True negative\",TN])\n",
    "    ptable.add_row([\"False negative\",FN])\n",
    "    ptable.add_row([\"True positive rate\",TPR])\n",
    "    ptable.add_row([\"False negative rate\",FNR])\n",
    "    ptable.add_row([\"True negative rate\",TNR])\n",
    "    ptable.add_row([\"False positive rate\",FPR])\n",
    "    ptable.add_row([\"Precision value\",precision])\n",
    "    ptable.add_row([\"Recall value\",recall])\n",
    "    ptable.add_row([\"f1_score value\",F1_s])\n",
    "    \n",
    "    print(ptable)\n",
    "    \n",
    "#Function for plotting the missclassification errors\n",
    "\n",
    "def MSE_plot(CV_scores,multinom):    \n",
    "#Calculating the minimum Missclassification error of the above model\n",
    "\n",
    "    MSE = [1 - x for x in CV_scores]\n",
    "\n",
    "# determining best a\n",
    "    optimal_a =multinom[MSE.index(min(MSE))]\n",
    "    print('\\nThe optimal number of alpha value is %f%%.' % optimal_a)\n",
    "\n",
    "# plot misclassification error vs a \n",
    "    plt.plot(multinom, MSE)\n",
    "\n",
    "    for xy in zip(multinom, np.round(MSE,3)):\n",
    "        plt.annotate('(%s, %s)' % xy, xy=xy, textcoords='data')\n",
    "\n",
    "    plt.xlabel('Number of alpha')\n",
    "    plt.ylabel('Misclassification Error')\n",
    "    plt.show()\n",
    "\n",
    "    print(\"the misclassification error for  alpha value is : \", np.round(MSE,3))\n",
    "    return optimal_a\n",
    "\n",
    "    \n",
    "\n",
    "\n",
    "   "
   ]
  },
  {
   "cell_type": "markdown",
   "metadata": {},
   "source": [
    "<h3>Utility function for vectorizing the given data & finding the top features</h3>"
   ]
  },
  {
   "cell_type": "code",
   "execution_count": 16,
   "metadata": {},
   "outputs": [],
   "source": [
    "\n",
    "#Function for vectorizing the train data\n",
    "\n",
    "from sklearn.preprocessing import StandardScaler\n",
    "def vec_train(vect,X_tr):\n",
    "    import warnings\n",
    "    warnings.filterwarnings(\"ignore\")\n",
    "\n",
    "    count_vect = vect #in scikit-learn\n",
    "    BOW = count_vect.fit_transform(X_tr.values)\n",
    "\n",
    "    return count_vect,BOW\n",
    "\n",
    "\n",
    "#Function for vectorizing the CV data\n",
    "\n",
    "def vec_cv(count,X_cv):\n",
    "    cv=count.transform(X_cv.values)\n",
    "    cv.get_shape()\n",
    "\n",
    "    return cv\n",
    "\n",
    "\n",
    "#Function for vectorizing the test data\n",
    "\n",
    "def vec_test(count,X_test):\n",
    "    test=count.transform(X_test.values)\n",
    "    test.get_shape()\n",
    "\n",
    "    return test\n",
    "\n",
    "#Funtion for printing the total number of top features\n",
    "def top_tfidf_feats(name,row, features, top_n=25):\n",
    "    ''' Get top n tfidf values in row and return them with their corresponding feature names.'''\n",
    "    topn_ids = np.argsort(row)[::-1][:top_n]\n",
    "    top_feats = [(features[i], row[i]) for i in topn_ids]\n",
    "    df = pd.DataFrame(top_feats)\n",
    "    df.columns = ['feature', name]\n",
    "    return df\n",
    "\n",
    "\n"
   ]
  },
  {
   "cell_type": "markdown",
   "metadata": {},
   "source": [
    "<h3> Bag of words vectorization technique </h3>"
   ]
  },
  {
   "cell_type": "code",
   "execution_count": 17,
   "metadata": {},
   "outputs": [
    {
     "name": "stdout",
     "output_type": "stream",
     "text": [
      "The shape of the X_train is:  (178443, 49468)\n",
      "The shape of the X_cv is:  (76476, 49468)\n",
      "The shape of the X_test is:  (109252, 49468)\n",
      "\n",
      "Top 25 feaures acording to the Bow score are as follows\n"
     ]
    },
    {
     "data": {
      "text/html": [
       "<div>\n",
       "<style scoped>\n",
       "    .dataframe tbody tr th:only-of-type {\n",
       "        vertical-align: middle;\n",
       "    }\n",
       "\n",
       "    .dataframe tbody tr th {\n",
       "        vertical-align: top;\n",
       "    }\n",
       "\n",
       "    .dataframe thead th {\n",
       "        text-align: right;\n",
       "    }\n",
       "</style>\n",
       "<table border=\"1\" class=\"dataframe\">\n",
       "  <thead>\n",
       "    <tr style=\"text-align: right;\">\n",
       "      <th></th>\n",
       "      <th>feature</th>\n",
       "      <th>bow</th>\n",
       "    </tr>\n",
       "  </thead>\n",
       "  <tbody>\n",
       "    <tr>\n",
       "      <th>0</th>\n",
       "      <td>someth</td>\n",
       "      <td>1</td>\n",
       "    </tr>\n",
       "    <tr>\n",
       "      <th>1</th>\n",
       "      <td>teach</td>\n",
       "      <td>1</td>\n",
       "    </tr>\n",
       "    <tr>\n",
       "      <th>2</th>\n",
       "      <td>later</td>\n",
       "      <td>1</td>\n",
       "    </tr>\n",
       "    <tr>\n",
       "      <th>3</th>\n",
       "      <td>thirti</td>\n",
       "      <td>1</td>\n",
       "    </tr>\n",
       "    <tr>\n",
       "      <th>4</th>\n",
       "      <td>day</td>\n",
       "      <td>1</td>\n",
       "    </tr>\n",
       "    <tr>\n",
       "      <th>5</th>\n",
       "      <td>rememb</td>\n",
       "      <td>1</td>\n",
       "    </tr>\n",
       "    <tr>\n",
       "      <th>6</th>\n",
       "      <td>tradit</td>\n",
       "      <td>1</td>\n",
       "    </tr>\n",
       "    <tr>\n",
       "      <th>7</th>\n",
       "      <td>air</td>\n",
       "      <td>1</td>\n",
       "    </tr>\n",
       "    <tr>\n",
       "      <th>8</th>\n",
       "      <td>show</td>\n",
       "      <td>1</td>\n",
       "    </tr>\n",
       "    <tr>\n",
       "      <th>9</th>\n",
       "      <td>book</td>\n",
       "      <td>1</td>\n",
       "    </tr>\n",
       "    <tr>\n",
       "      <th>10</th>\n",
       "      <td>see</td>\n",
       "      <td>1</td>\n",
       "    </tr>\n",
       "    <tr>\n",
       "      <th>11</th>\n",
       "      <td>ago</td>\n",
       "      <td>1</td>\n",
       "    </tr>\n",
       "    <tr>\n",
       "      <th>12</th>\n",
       "      <td>preschool</td>\n",
       "      <td>1</td>\n",
       "    </tr>\n",
       "    <tr>\n",
       "      <th>13</th>\n",
       "      <td>whole</td>\n",
       "      <td>1</td>\n",
       "    </tr>\n",
       "    <tr>\n",
       "      <th>14</th>\n",
       "      <td>use</td>\n",
       "      <td>1</td>\n",
       "    </tr>\n",
       "    <tr>\n",
       "      <th>15</th>\n",
       "      <td>televis</td>\n",
       "      <td>1</td>\n",
       "    </tr>\n",
       "    <tr>\n",
       "      <th>16</th>\n",
       "      <td>student</td>\n",
       "      <td>1</td>\n",
       "    </tr>\n",
       "    <tr>\n",
       "      <th>17</th>\n",
       "      <td>turn</td>\n",
       "      <td>1</td>\n",
       "    </tr>\n",
       "    <tr>\n",
       "      <th>18</th>\n",
       "      <td>seri</td>\n",
       "      <td>1</td>\n",
       "    </tr>\n",
       "    <tr>\n",
       "      <th>19</th>\n",
       "      <td>school</td>\n",
       "      <td>1</td>\n",
       "    </tr>\n",
       "    <tr>\n",
       "      <th>20</th>\n",
       "      <td>song</td>\n",
       "      <td>1</td>\n",
       "    </tr>\n",
       "    <tr>\n",
       "      <th>21</th>\n",
       "      <td>purchas</td>\n",
       "      <td>1</td>\n",
       "    </tr>\n",
       "    <tr>\n",
       "      <th>22</th>\n",
       "      <td>children</td>\n",
       "      <td>1</td>\n",
       "    </tr>\n",
       "    <tr>\n",
       "      <th>23</th>\n",
       "      <td>child</td>\n",
       "      <td>1</td>\n",
       "    </tr>\n",
       "    <tr>\n",
       "      <th>24</th>\n",
       "      <td>bought</td>\n",
       "      <td>1</td>\n",
       "    </tr>\n",
       "  </tbody>\n",
       "</table>\n",
       "</div>"
      ],
      "text/plain": [
       "      feature  bow\n",
       "0      someth    1\n",
       "1       teach    1\n",
       "2       later    1\n",
       "3      thirti    1\n",
       "4         day    1\n",
       "5      rememb    1\n",
       "6      tradit    1\n",
       "7         air    1\n",
       "8        show    1\n",
       "9        book    1\n",
       "10        see    1\n",
       "11        ago    1\n",
       "12  preschool    1\n",
       "13      whole    1\n",
       "14        use    1\n",
       "15    televis    1\n",
       "16    student    1\n",
       "17       turn    1\n",
       "18       seri    1\n",
       "19     school    1\n",
       "20       song    1\n",
       "21    purchas    1\n",
       "22   children    1\n",
       "23      child    1\n",
       "24     bought    1"
      ]
     },
     "execution_count": 17,
     "metadata": {},
     "output_type": "execute_result"
    }
   ],
   "source": [
    "#Initializing the count vectorizer \n",
    "Count_vect=CountVectorizer(binary=True)\n",
    "\n",
    "#vectorizing the X_train set\n",
    "count,x_tr=vec_train(Count_vect,X_tr[\"CleanedText\"])\n",
    "\n",
    "print(\"The shape of the X_train is: \",x_tr.shape)\n",
    "\n",
    "#Vectgorizing the X_crossvalidation set\n",
    "x_cv=vec_cv(count,X_cv[\"CleanedText\"])\n",
    "print(\"The shape of the X_cv is: \",x_cv.shape)\n",
    "\n",
    "#Vectorizing the X_test set\n",
    "x_test=vec_test(count,X_test[\"CleanedText\"])\n",
    "print(\"The shape of the X_test is: \",x_test.shape)\n",
    "\n",
    "\n",
    "#Printing the total length of the features\n",
    "print(\"\\nTop 25 feaures acording to the Bow score are as follows\")\n",
    "features = Count_vect.get_feature_names()\n",
    "len(features)\n",
    "\n",
    "\n",
    "top_Bow = top_tfidf_feats(\"bow\",x_tr[1,:].toarray()[0],features,25)\n",
    "top_Bow\n",
    "\n",
    "\n"
   ]
  },
  {
   "cell_type": "markdown",
   "metadata": {},
   "source": [
    "<h3>Training the NB model using the train set and testing over the CV set with default values</h3>"
   ]
  },
  {
   "cell_type": "code",
   "execution_count": 19,
   "metadata": {},
   "outputs": [
    {
     "name": "stdout",
     "output_type": "stream",
     "text": [
      "\n",
      " The train accuracy by using default alpha over cv set is =  81.701449% \n"
     ]
    }
   ],
   "source": [
    "pred,acc=train(x_tr,y_tr,x_cv,y_cv)"
   ]
  },
  {
   "cell_type": "code",
   "execution_count": 26,
   "metadata": {},
   "outputs": [
    {
     "name": "stdout",
     "output_type": "stream",
     "text": [
      "[[ 8563  4486]\n",
      " [ 9508 53919]]\n"
     ]
    },
    {
     "data": {
      "image/png": "[encoded data removed]",
      "text/plain": [
       "<Figure size 648x648 with 2 Axes>"
      ]
     },
     "metadata": {
      "needs_background": "light"
     },
     "output_type": "display_data"
    },
    {
     "name": "stdout",
     "output_type": "stream",
     "text": [
      "\n",
      "+-------------------------------------------------------------+\n",
      "| The performance metrics of the above model are as follows:  |\n",
      "+---------------------------------+---------------------------+\n",
      "|             Metrics             |           Scores          |\n",
      "+---------------------------------+---------------------------+\n",
      "|     Classification_accuracy     |     81.70144882054501     |\n",
      "|       Classification_error      |     18.298551179454993    |\n",
      "|          True positive          |           53919           |\n",
      "|          False positive         |            4486           |\n",
      "|          True negative          |            8563           |\n",
      "|          False negative         |            9508           |\n",
      "|        True positive rate       |     85.00953852460309     |\n",
      "|       False negative rate       |     14.990461475396913    |\n",
      "|        True negative rate       |     65.62188673461567     |\n",
      "|       False positive rate       |     34.37811326538432     |\n",
      "|         Precision value         |     92.31915075764061     |\n",
      "|           Recall value          |     85.00953852460309     |\n",
      "|          f1_score value         |     88.51369098430625     |\n",
      "+---------------------------------+---------------------------+\n"
     ]
    }
   ],
   "source": [
    "#Confusion metric of the above model:\n",
    "\n",
    "Confusion_metric(y_cv,pred,acc)"
   ]
  },
  {
   "cell_type": "markdown",
   "metadata": {},
   "source": [
    "<h3>OBSERVATIONS</h3>\n",
    "<ul>\n",
    "    <li>The train accuracy usong default parameters of the model is 81.70% which is not that good for a classification model.</li>\n",
    "    <li>Here the TP is dominating metric as compared to other metric which also results in high TPR value.</li>\n",
    "    <li>Due to the low TN value the TNR value is very less (65.52%) which is not a good sign for aclassification model.</li>\n",
    "    <li>The precision,recall and the f1_score cannot be trusted due to high TPR & low TNR values.</li>"
   ]
  },
  {
   "cell_type": "markdown",
   "metadata": {},
   "source": [
    "<h3>Hyperparameter tuning the alpha value by using 10-fold Cross-validation technique</h3>"
   ]
  },
  {
   "cell_type": "code",
   "execution_count": 27,
   "metadata": {},
   "outputs": [
    {
     "name": "stdout",
     "output_type": "stream",
     "text": [
      "[0.7844576677081012, 0.7847770971595364, 0.7819526695323858, 0.7803667330368377, 0.781028009694429, 0.780030493409807, 0.7807029745481355, 0.7839196792801396, 0.7794869039976551, 0.7788928809182714]\n"
     ]
    }
   ],
   "source": [
    "Score,mutinom =cross_validation(x_tr,y_tr)"
   ]
  },
  {
   "cell_type": "code",
   "execution_count": 28,
   "metadata": {},
   "outputs": [
    {
     "name": "stdout",
     "output_type": "stream",
     "text": [
      "\n",
      "The optimal number of alpha value is 0.000100%.\n"
     ]
    },
    {
     "data": {
      "image/png": "[encoded data removed]",
      "text/plain": [
       "<Figure size 432x288 with 1 Axes>"
      ]
     },
     "metadata": {
      "needs_background": "light"
     },
     "output_type": "display_data"
    },
    {
     "name": "stdout",
     "output_type": "stream",
     "text": [
      "the misclassification error for  alpha value is :  [0.216 0.215 0.218 0.22  0.219 0.22  0.219 0.216 0.221 0.221]\n"
     ]
    }
   ],
   "source": [
    "optimal_a=MSE_plot(Score,mutinom) #CODE FOR PLOTTING THE ERROR PLOT"
   ]
  },
  {
   "cell_type": "markdown",
   "metadata": {},
   "source": [
    "<h3> Testing the model by using the optimal alpha over the test set</h3>"
   ]
  },
  {
   "cell_type": "code",
   "execution_count": 29,
   "metadata": {},
   "outputs": [
    {
     "name": "stdout",
     "output_type": "stream",
     "text": [
      "\n",
      "**** The Test accuracy by using default alpha is 81%\n",
      "****************************************************************************************************\n",
      "\n",
      " The train accuracy of the NB classifier for the best alpha=0.000100% is 81.633454% \n",
      "****************************************************************************************************\n",
      "\n",
      "The Test accuracy of the NB classifier by using the best alpha = 0.000100% is 81.199429%\n"
     ]
    }
   ],
   "source": [
    "\n",
    "#Testing the model with default value of alpha over the Test data\n",
    "test(x_tr,y_tr,x_test,y_test)\n",
    "\n",
    "print(\"*\"*100)\n",
    "\n",
    "#Testing the model with optimal alpha value over the test data\n",
    "y_pred,Test_acc,=optimal_test(optimal_a,x_tr,y_tr,x_cv,y_cv,x_test,y_test)"
   ]
  },
  {
   "cell_type": "markdown",
   "metadata": {},
   "source": [
    "<h3>Confusion metric of the above model.</h3>"
   ]
  },
  {
   "cell_type": "code",
   "execution_count": 30,
   "metadata": {},
   "outputs": [
    {
     "name": "stdout",
     "output_type": "stream",
     "text": [
      "[[12227  6854]\n",
      " [13686 76485]]\n"
     ]
    },
    {
     "data": {
      "image/png": "[encoded data removed]",
      "text/plain": [
       "<Figure size 648x648 with 2 Axes>"
      ]
     },
     "metadata": {
      "needs_background": "light"
     },
     "output_type": "display_data"
    },
    {
     "name": "stdout",
     "output_type": "stream",
     "text": [
      "\n",
      "+-------------------------------------------------------------+\n",
      "| The performance metrics of the above model are as follows:  |\n",
      "+---------------------------------+---------------------------+\n",
      "|             Metrics             |           Scores          |\n",
      "+---------------------------------+---------------------------+\n",
      "|     Classification_accuracy     |      81.1994288434079     |\n",
      "|       Classification_error      |      18.8005711565921     |\n",
      "|          True positive          |           76485           |\n",
      "|          False positive         |            6854           |\n",
      "|          True negative          |           12227           |\n",
      "|          False negative         |           13686           |\n",
      "|        True positive rate       |     84.82217120803807     |\n",
      "|       False negative rate       |     15.17782879196194     |\n",
      "|        True negative rate       |     64.07945076253864     |\n",
      "|       False positive rate       |     35.920549237461344    |\n",
      "|         Precision value         |     91.77575924837112     |\n",
      "|           Recall value          |     84.82217120803807     |\n",
      "|          f1_score value         |     88.16206558699788     |\n",
      "+---------------------------------+---------------------------+\n"
     ]
    }
   ],
   "source": [
    "Confusion_metric(y_test,y_pred,Test_acc)"
   ]
  },
  {
   "cell_type": "markdown",
   "metadata": {},
   "source": [
    "<h2>OBSERVATION</h2>\n",
    "<ul>\n",
    "    <li>After training the model over optimal alpha value the model score decreased by 0.51% which is not good.</li>\n",
    "    <li>This model scores are also similar to the previous model except there is slight decrease is seen on all the parameters.</li>\n",
    "    <li>Since the model is trained over imbalanced dataset so the it is suffering from the high bias problem.</li>\n",
    "    <li>So the performance can be increased if data balancing is performed over the dataset which can be done by using the oversampling technique.</li>\n"
   ]
  },
  {
   "cell_type": "markdown",
   "metadata": {},
   "source": [
    "<h3> Oversampling the data by using the SMOTE technique</h3>"
   ]
  },
  {
   "cell_type": "code",
   "execution_count": 31,
   "metadata": {},
   "outputs": [],
   "source": [
    "#FUNCTION FOR IMPLEMENTING THE SYNTHETIC MINORITY OVERSAMPLING TECHNIQUE\n",
    "from imblearn.over_sampling import SMOTE \n",
    "\n",
    "def Bal_train (X_tr, y_tr,X_cv,y_cv,X_test,y_test):\n",
    "  \n",
    "    sm = SMOTE()\n",
    "    X_Train_res, y_Train_res = sm.fit_sample(X_tr, y_tr)\n",
    "    X_Cval_res,y_Cval_res=sm.fit_sample(X_cv,y_cv)\n",
    "    X_Test_res,y_Test_res=sm.fit_sample(X_test,y_test)\n",
    "    \n",
    "    \n",
    "    clf = MultinomialNB()\n",
    "    clf.fit(X_Train_res, y_Train_res )\n",
    "\n",
    "    pred= clf.predict(X_Cval_res)\n",
    "\n",
    "    acc = accuracy_score(y_Cval_res, pred, normalize=True) * float(100)\n",
    "    \n",
    "    print('\\n The TRAIN accuracy by using default alpha over CV set is =  %f%% ' % ( acc))\n",
    "    \n",
    "    return X_Train_res, y_Train_res,X_Cval_res,y_Cval_res,X_Test_res,y_Test_res,pred, acc\n",
    "\n"
   ]
  },
  {
   "cell_type": "markdown",
   "metadata": {},
   "source": [
    "<h3> Training the SMOTE model</h3>"
   ]
  },
  {
   "cell_type": "code",
   "execution_count": 34,
   "metadata": {},
   "outputs": [
    {
     "name": "stdout",
     "output_type": "stream",
     "text": [
      "\n",
      " The TRAIN accuracy by using default alpha over CV set is =  76.550996% \n"
     ]
    }
   ],
   "source": [
    "bal_xtr,bal_ytr,bal_xcv,bal_ycv,bal_xtes,bal_ytes,b_pre,b_acc=Bal_train(x_tr,y_tr,x_cv,y_cv,x_test,y_test)"
   ]
  },
  {
   "cell_type": "code",
   "execution_count": 35,
   "metadata": {},
   "outputs": [
    {
     "name": "stdout",
     "output_type": "stream",
     "text": [
      "[[45707 17720]\n",
      " [12026 51401]]\n"
     ]
    },
    {
     "data": {
      "image/png": "[encoded data removed]",
      "text/plain": [
       "<Figure size 648x648 with 2 Axes>"
      ]
     },
     "metadata": {
      "needs_background": "light"
     },
     "output_type": "display_data"
    },
    {
     "name": "stdout",
     "output_type": "stream",
     "text": [
      "\n",
      "+-------------------------------------------------------------+\n",
      "| The performance metrics of the above model are as follows:  |\n",
      "+---------------------------------+---------------------------+\n",
      "|             Metrics             |           Scores          |\n",
      "+---------------------------------+---------------------------+\n",
      "|     Classification_accuracy     |     76.55099563277469     |\n",
      "|       Classification_error      |     23.449004367225314    |\n",
      "|          True positive          |           51401           |\n",
      "|          False positive         |           17720           |\n",
      "|          True negative          |           45707           |\n",
      "|          False negative         |           12026           |\n",
      "|        True positive rate       |     81.03962035095465     |\n",
      "|       False negative rate       |     18.960379649045358    |\n",
      "|        True negative rate       |     72.06237091459474     |\n",
      "|       False positive rate       |     27.93762908540527     |\n",
      "|         Precision value         |     74.36379682006915     |\n",
      "|           Recall value          |     81.03962035095465     |\n",
      "|          f1_score value         |      77.5583184959411     |\n",
      "+---------------------------------+---------------------------+\n"
     ]
    }
   ],
   "source": [
    "Confusion_metric(bal_ycv,b_pre,b_acc)"
   ]
  },
  {
   "cell_type": "markdown",
   "metadata": {},
   "source": [
    "<h3>HYPERAMETER TUNING THE ALPHA FOR FINDING THE OPTIMAL ALPHA VALUE </h3>"
   ]
  },
  {
   "cell_type": "code",
   "execution_count": 36,
   "metadata": {},
   "outputs": [
    {
     "name": "stdout",
     "output_type": "stream",
     "text": [
      "[0.83896452215018, 0.8389808128280135, 0.8388504880422468, 0.8387885845704425, 0.8388374561793419, 0.8387820682143887, 0.8388179073234815, 0.8389319412191141, 0.8387592616051028, 0.8387462288929954]\n"
     ]
    }
   ],
   "source": [
    "BScore,Mutinom =cross_validation(bal_xtr,bal_ytr)"
   ]
  },
  {
   "cell_type": "code",
   "execution_count": 37,
   "metadata": {},
   "outputs": [
    {
     "name": "stdout",
     "output_type": "stream",
     "text": [
      "\n",
      "The optimal number of alpha value is 0.000100%.\n"
     ]
    },
    {
     "data": {
      "image/png": "[encoded data removed]",
      "text/plain": [
       "<Figure size 432x288 with 1 Axes>"
      ]
     },
     "metadata": {
      "needs_background": "light"
     },
     "output_type": "display_data"
    },
    {
     "name": "stdout",
     "output_type": "stream",
     "text": [
      "the misclassification error for  alpha value is :  [0.161 0.161 0.161 0.161 0.161 0.161 0.161 0.161 0.161 0.161]\n"
     ]
    }
   ],
   "source": [
    "Boptimal_a=MSE_plot(BScore,Mutinom) #CODE FOR PLOTTING THE ERROR PLOT"
   ]
  },
  {
   "cell_type": "markdown",
   "metadata": {},
   "source": [
    "<h3> Testing the model by using the optimal alpha over the test set</h3>"
   ]
  },
  {
   "cell_type": "code",
   "execution_count": 38,
   "metadata": {},
   "outputs": [
    {
     "name": "stdout",
     "output_type": "stream",
     "text": [
      "\n",
      "**** The Test accuracy by using default alpha is 76%\n",
      "****************************************************************************************************\n",
      "\n",
      " The train accuracy of the NB classifier for the best alpha=0.000100% is 76.275876% \n",
      "****************************************************************************************************\n",
      "\n",
      "The Test accuracy of the NB classifier by using the best alpha = 0.000100% is 75.777689%\n"
     ]
    }
   ],
   "source": [
    "#Testing the model with default value of alpha over the Test data\n",
    "test(bal_xtr,bal_ytr,bal_xtes,bal_ytes)\n",
    "\n",
    "print(\"*\"*100)\n",
    "\n",
    "#Testing the model with optimal alpha value over the test data\n",
    "Y_pred,BalTest_acc,=optimal_test(Boptimal_a,bal_xtr,bal_ytr,bal_xcv,bal_ycv,bal_xtes,bal_ytes)"
   ]
  },
  {
   "cell_type": "code",
   "execution_count": 39,
   "metadata": {},
   "outputs": [
    {
     "name": "stdout",
     "output_type": "stream",
     "text": [
      "[[63453 26718]\n",
      " [16965 73206]]\n"
     ]
    },
    {
     "data": {
      "image/png": "[encoded data removed]",
      "text/plain": [
       "<Figure size 648x648 with 2 Axes>"
      ]
     },
     "metadata": {
      "needs_background": "light"
     },
     "output_type": "display_data"
    },
    {
     "name": "stdout",
     "output_type": "stream",
     "text": [
      "\n",
      "+-------------------------------------------------------------+\n",
      "| The performance metrics of the above model are as follows:  |\n",
      "+---------------------------------+---------------------------+\n",
      "|             Metrics             |           Scores          |\n",
      "+---------------------------------+---------------------------+\n",
      "|     Classification_accuracy     |      75.7776890574575     |\n",
      "|       Classification_error      |     24.222310942542503    |\n",
      "|          True positive          |           73206           |\n",
      "|          False positive         |           26718           |\n",
      "|          True negative          |           63453           |\n",
      "|          False negative         |           16965           |\n",
      "|        True positive rate       |     81.18574708054696     |\n",
      "|       False negative rate       |     18.81425291945304     |\n",
      "|        True negative rate       |     70.36963103436803     |\n",
      "|       False positive rate       |     29.630368965631966    |\n",
      "|         Precision value         |     73.26167887594572     |\n",
      "|           Recall value          |     81.18574708054696     |\n",
      "|          f1_score value         |     77.02043714984613     |\n",
      "+---------------------------------+---------------------------+\n"
     ]
    }
   ],
   "source": [
    "Confusion_metric(bal_ytes,Y_pred,BalTest_acc)"
   ]
  },
  {
   "cell_type": "markdown",
   "metadata": {},
   "source": [
    "<h2>OBSERVATION</h2>\n",
    "<ul>\n",
    "    <li>After oversampling the data the accuracy of the model reduced (from 81% to 75%) as compared to the previous model but the model is very stable and sensible because of high TP and TN values.</li>\n",
    "    <li>There is a considerable increase in the TNR value (64%-70.36%)& considerable decrease in the FPR value(34% to 29.63%) which is a good sign for the improvement of the model.</li>\n",
    "    <li>So the model is sensible and stable as compared to the previous model which is achieved by balanciing the data.</li>\n",
    "    <li>The metric as accuracy is very misleading and can't be trusted in a imbalanced data.</li>"
   ]
  },
  {
   "cell_type": "markdown",
   "metadata": {},
   "source": [
    "<h3>Implemnting the Tf-idf vectorizeration technique</h3>"
   ]
  },
  {
   "cell_type": "code",
   "execution_count": 67,
   "metadata": {},
   "outputs": [
    {
     "name": "stdout",
     "output_type": "stream",
     "text": [
      "The shape of the X_train is:  (178443, 1816552)\n",
      "The shape of the X_cv is:  (76476, 1816552)\n",
      "The shape of the X_test is:  (109252, 1816552)\n",
      "\n",
      "Top 25 feaures acording to the Bow score are as follows\n"
     ]
    },
    {
     "data": {
      "text/html": [
       "<div>\n",
       "<style scoped>\n",
       "    .dataframe tbody tr th:only-of-type {\n",
       "        vertical-align: middle;\n",
       "    }\n",
       "\n",
       "    .dataframe tbody tr th {\n",
       "        vertical-align: top;\n",
       "    }\n",
       "\n",
       "    .dataframe thead th {\n",
       "        text-align: right;\n",
       "    }\n",
       "</style>\n",
       "<table border=\"1\" class=\"dataframe\">\n",
       "  <thead>\n",
       "    <tr style=\"text-align: right;\">\n",
       "      <th></th>\n",
       "      <th>feature</th>\n",
       "      <th>tfidf</th>\n",
       "    </tr>\n",
       "  </thead>\n",
       "  <tbody>\n",
       "    <tr>\n",
       "      <th>0</th>\n",
       "      <td>preschool turn</td>\n",
       "      <td>422.426325</td>\n",
       "    </tr>\n",
       "    <tr>\n",
       "      <th>1</th>\n",
       "      <td>teach preschool</td>\n",
       "      <td>422.426325</td>\n",
       "    </tr>\n",
       "    <tr>\n",
       "      <th>2</th>\n",
       "      <td>whole school</td>\n",
       "      <td>422.426325</td>\n",
       "    </tr>\n",
       "    <tr>\n",
       "      <th>3</th>\n",
       "      <td>school purchas</td>\n",
       "      <td>422.426325</td>\n",
       "    </tr>\n",
       "    <tr>\n",
       "      <th>4</th>\n",
       "      <td>sister later</td>\n",
       "      <td>422.426325</td>\n",
       "    </tr>\n",
       "    <tr>\n",
       "      <th>5</th>\n",
       "      <td>song student</td>\n",
       "      <td>422.426325</td>\n",
       "    </tr>\n",
       "    <tr>\n",
       "      <th>6</th>\n",
       "      <td>air televis</td>\n",
       "      <td>422.426325</td>\n",
       "    </tr>\n",
       "    <tr>\n",
       "      <th>7</th>\n",
       "      <td>child sister</td>\n",
       "      <td>422.426325</td>\n",
       "    </tr>\n",
       "    <tr>\n",
       "      <th>8</th>\n",
       "      <td>book song</td>\n",
       "      <td>422.426325</td>\n",
       "    </tr>\n",
       "    <tr>\n",
       "      <th>9</th>\n",
       "      <td>use seri</td>\n",
       "      <td>372.605606</td>\n",
       "    </tr>\n",
       "    <tr>\n",
       "      <th>10</th>\n",
       "      <td>seri book</td>\n",
       "      <td>366.076962</td>\n",
       "    </tr>\n",
       "    <tr>\n",
       "      <th>11</th>\n",
       "      <td>book children</td>\n",
       "      <td>358.410533</td>\n",
       "    </tr>\n",
       "    <tr>\n",
       "      <th>12</th>\n",
       "      <td>televis year</td>\n",
       "      <td>326.201503</td>\n",
       "    </tr>\n",
       "    <tr>\n",
       "      <th>13</th>\n",
       "      <td>day thirti</td>\n",
       "      <td>321.245669</td>\n",
       "    </tr>\n",
       "    <tr>\n",
       "      <th>14</th>\n",
       "      <td>thirti someth</td>\n",
       "      <td>310.170360</td>\n",
       "    </tr>\n",
       "    <tr>\n",
       "      <th>15</th>\n",
       "      <td>children tradit</td>\n",
       "      <td>308.586244</td>\n",
       "    </tr>\n",
       "    <tr>\n",
       "      <th>16</th>\n",
       "      <td>show air</td>\n",
       "      <td>297.616678</td>\n",
       "    </tr>\n",
       "    <tr>\n",
       "      <th>17</th>\n",
       "      <td>student teach</td>\n",
       "      <td>282.566459</td>\n",
       "    </tr>\n",
       "    <tr>\n",
       "      <th>18</th>\n",
       "      <td>ago child</td>\n",
       "      <td>246.284028</td>\n",
       "    </tr>\n",
       "    <tr>\n",
       "      <th>19</th>\n",
       "      <td>along book</td>\n",
       "      <td>203.244144</td>\n",
       "    </tr>\n",
       "    <tr>\n",
       "      <th>20</th>\n",
       "      <td>see show</td>\n",
       "      <td>196.984144</td>\n",
       "    </tr>\n",
       "    <tr>\n",
       "      <th>21</th>\n",
       "      <td>later bought</td>\n",
       "      <td>161.464536</td>\n",
       "    </tr>\n",
       "    <tr>\n",
       "      <th>22</th>\n",
       "      <td>tradit live</td>\n",
       "      <td>145.680425</td>\n",
       "    </tr>\n",
       "    <tr>\n",
       "      <th>23</th>\n",
       "      <td>turn whole</td>\n",
       "      <td>137.896025</td>\n",
       "    </tr>\n",
       "    <tr>\n",
       "      <th>24</th>\n",
       "      <td>rememb see</td>\n",
       "      <td>112.189152</td>\n",
       "    </tr>\n",
       "  </tbody>\n",
       "</table>\n",
       "</div>"
      ],
      "text/plain": [
       "            feature       tfidf\n",
       "0    preschool turn  422.426325\n",
       "1   teach preschool  422.426325\n",
       "2      whole school  422.426325\n",
       "3    school purchas  422.426325\n",
       "4      sister later  422.426325\n",
       "5      song student  422.426325\n",
       "6       air televis  422.426325\n",
       "7      child sister  422.426325\n",
       "8         book song  422.426325\n",
       "9          use seri  372.605606\n",
       "10        seri book  366.076962\n",
       "11    book children  358.410533\n",
       "12     televis year  326.201503\n",
       "13       day thirti  321.245669\n",
       "14    thirti someth  310.170360\n",
       "15  children tradit  308.586244\n",
       "16         show air  297.616678\n",
       "17    student teach  282.566459\n",
       "18        ago child  246.284028\n",
       "19       along book  203.244144\n",
       "20         see show  196.984144\n",
       "21     later bought  161.464536\n",
       "22      tradit live  145.680425\n",
       "23       turn whole  137.896025\n",
       "24       rememb see  112.189152"
      ]
     },
     "execution_count": 67,
     "metadata": {},
     "output_type": "execute_result"
    }
   ],
   "source": [
    "#Initializing the count vectorizer \n",
    "TF_vect=TfidfVectorizer(ngram_range=(1,2),binary=True)\n",
    "\n",
    "#vectorizing the X_train set\n",
    "TF_count,X_tr=vec_train(TF_vect,X_tr[\"CleanedText\"])\n",
    "\n",
    "print(\"The shape of the X_train is: \",X_tr.shape)\n",
    "\n",
    "#Vectgorizing the X_crossvalidation set\n",
    "X_cv=vec_cv(TF_count,X_cv[\"CleanedText\"])\n",
    "print(\"The shape of the X_cv is: \",X_cv.shape)\n",
    "\n",
    "#Vectorizing the X_test set\n",
    "X_test=vec_test(TF_count,X_test[\"CleanedText\"])\n",
    "print(\"The shape of the X_test is: \",X_test.shape)\n",
    "\n",
    "\n",
    "#Printing the total length of the features\n",
    "print(\"\\nTop 25 feaures acording to the Bow score are as follows\")\n",
    "Features = TF_vect.get_feature_names()\n",
    "len(Features)\n",
    "\n",
    "\n",
    "top_tfidf = top_tfidf_feats(\"tfidf\",X_tr[1,:].toarray()[0],Features,25)\n",
    "top_tfidf\n",
    "\n",
    "\n"
   ]
  },
  {
   "cell_type": "markdown",
   "metadata": {},
   "source": [
    "<h3>Training the Tf-idf vectorized model over the CV set.</h3> "
   ]
  },
  {
   "cell_type": "code",
   "execution_count": 41,
   "metadata": {},
   "outputs": [
    {
     "name": "stdout",
     "output_type": "stream",
     "text": [
      "\n",
      " The train accuracy by using default alpha over cv set is =  85.608557% \n"
     ]
    }
   ],
   "source": [
    "Predi,Acc=train(X_tr,y_tr,X_cv,y_cv)"
   ]
  },
  {
   "cell_type": "markdown",
   "metadata": {},
   "source": [
    "<h3>Confusion metric of the above model.</h3>"
   ]
  },
  {
   "cell_type": "code",
   "execution_count": 42,
   "metadata": {},
   "outputs": [
    {
     "name": "stdout",
     "output_type": "stream",
     "text": [
      "[[ 4064  8985]\n",
      " [ 2021 61406]]\n"
     ]
    },
    {
     "data": {
      "image/png": "[encoded data removed]",
      "text/plain": [
       "<Figure size 648x648 with 2 Axes>"
      ]
     },
     "metadata": {
      "needs_background": "light"
     },
     "output_type": "display_data"
    },
    {
     "name": "stdout",
     "output_type": "stream",
     "text": [
      "\n",
      "+-------------------------------------------------------------+\n",
      "| The performance metrics of the above model are as follows:  |\n",
      "+---------------------------------+---------------------------+\n",
      "|             Metrics             |           Scores          |\n",
      "+---------------------------------+---------------------------+\n",
      "|     Classification_accuracy     |     85.60855693289398     |\n",
      "|       Classification_error      |     14.39144306710602     |\n",
      "|          True positive          |           61406           |\n",
      "|          False positive         |            8985           |\n",
      "|          True negative          |            4064           |\n",
      "|          False negative         |            2021           |\n",
      "|        True positive rate       |     96.81365979787788     |\n",
      "|       False negative rate       |     3.1863402021221248    |\n",
      "|        True negative rate       |      31.1441489769331     |\n",
      "|       False positive rate       |      68.8558510230669     |\n",
      "|         Precision value         |     87.23558409455754     |\n",
      "|           Recall value          |     96.81365979787788     |\n",
      "|          f1_score value         |     91.77539643396254     |\n",
      "+---------------------------------+---------------------------+\n"
     ]
    }
   ],
   "source": [
    "Confusion_metric(y_cv,Predi,Acc)"
   ]
  },
  {
   "cell_type": "markdown",
   "metadata": {},
   "source": [
    "<h2>OBSERVATION</h2>\n",
    "<ul>\n",
    "    <li>The accuracy of the model by using the default alpha value is 85.60% which is good but the other metrics are very less and very alarming.</li>\n",
    "    <li>In this model the TP value is very dominating which results in high TPR rate as compared to the other metrics which is not good as the model will become biased towards positive reviews.</li>\n",
    "    <li>The TNR is very less and this model will fail to clasiffy the negative reviews properly.</li>\n",
    "    <li>Let's see if the metrics become better after doing hyper-parameter tuning the alpha value.</li>"
   ]
  },
  {
   "cell_type": "markdown",
   "metadata": {},
   "source": [
    "<h3>HYPERAMETER TUNING THE ALPHA FOR FINDING THE OPTIMAL ALPHA VALUE </h3>"
   ]
  },
  {
   "cell_type": "code",
   "execution_count": 43,
   "metadata": {},
   "outputs": [
    {
     "name": "stdout",
     "output_type": "stream",
     "text": [
      "[0.8456538275213425, 0.850350012363933, 0.7999472979891289, 0.7642888248070557, 0.781392345001281, 0.7573846559978202, 0.7729134422929673, 0.8363399278287986, 0.742136071851881, 0.7267473805074696]\n"
     ]
    }
   ],
   "source": [
    "CV_Score,Mutinomi =cross_validation(X_tr,y_tr)"
   ]
  },
  {
   "cell_type": "code",
   "execution_count": 44,
   "metadata": {},
   "outputs": [
    {
     "name": "stdout",
     "output_type": "stream",
     "text": [
      "\n",
      "The optimal number of alpha value is 0.000100%.\n"
     ]
    },
    {
     "data": {
      "image/png": "[encoded data removed]",
      "text/plain": [
       "<Figure size 432x288 with 1 Axes>"
      ]
     },
     "metadata": {
      "needs_background": "light"
     },
     "output_type": "display_data"
    },
    {
     "name": "stdout",
     "output_type": "stream",
     "text": [
      "the misclassification error for  alpha value is :  [0.154 0.15  0.2   0.236 0.219 0.243 0.227 0.164 0.258 0.273]\n"
     ]
    }
   ],
   "source": [
    "Optimal_a=MSE_plot(CV_Score,Mutinomi) #CODE FOR PLOTTING THE ERROR PLOT"
   ]
  },
  {
   "cell_type": "markdown",
   "metadata": {},
   "source": [
    "<h3> Testing the model by using the optimal alpha over the test set</h3>"
   ]
  },
  {
   "cell_type": "code",
   "execution_count": 45,
   "metadata": {},
   "outputs": [
    {
     "name": "stdout",
     "output_type": "stream",
     "text": [
      "\n",
      "**** The Test accuracy by using default alpha is 84%\n",
      "****************************************************************************************************\n",
      "\n",
      " The train accuracy of the NB classifier for the best alpha=0.000100% is 84.246038% \n",
      "****************************************************************************************************\n",
      "\n",
      "The Test accuracy of the NB classifier by using the best alpha = 0.000100% is 83.790686%\n"
     ]
    }
   ],
   "source": [
    "#Testing the model with default value of alpha over the Test data\n",
    "test(X_tr,y_tr,X_test,y_test)\n",
    "\n",
    "print(\"*\"*100)\n",
    "\n",
    "#Testing the model with optimal alpha value over the test data\n",
    "Y_prediction,Test_accuracy=optimal_test(Optimal_a,X_tr,y_tr,X_cv,y_cv,X_test,y_test)"
   ]
  },
  {
   "cell_type": "markdown",
   "metadata": {},
   "source": [
    "<h3>Confusion metric of the above model.</h3>"
   ]
  },
  {
   "cell_type": "code",
   "execution_count": 46,
   "metadata": {},
   "outputs": [
    {
     "name": "stdout",
     "output_type": "stream",
     "text": [
      "[[ 3501 15580]\n",
      " [ 2129 88042]]\n"
     ]
    },
    {
     "data": {
      "image/png": "[encoded data removed]",
      "text/plain": [
       "<Figure size 648x648 with 2 Axes>"
      ]
     },
     "metadata": {
      "needs_background": "light"
     },
     "output_type": "display_data"
    },
    {
     "name": "stdout",
     "output_type": "stream",
     "text": [
      "\n",
      "+-------------------------------------------------------------+\n",
      "| The performance metrics of the above model are as follows:  |\n",
      "+---------------------------------+---------------------------+\n",
      "|             Metrics             |           Scores          |\n",
      "+---------------------------------+---------------------------+\n",
      "|     Classification_accuracy     |     83.79068575403655     |\n",
      "|       Classification_error      |     16.209314245963462    |\n",
      "|          True positive          |           88042           |\n",
      "|          False positive         |           15580           |\n",
      "|          True negative          |            3501           |\n",
      "|          False negative         |            2129           |\n",
      "|        True positive rate       |     97.63893047653902     |\n",
      "|       False negative rate       |      2.36106952346098     |\n",
      "|        True negative rate       |     18.348094963576333    |\n",
      "|       False positive rate       |     81.65190503642367     |\n",
      "|         Precision value         |     84.96458281060006     |\n",
      "|           Recall value          |     97.63893047653902     |\n",
      "|          f1_score value         |      90.8618990366009     |\n",
      "+---------------------------------+---------------------------+\n"
     ]
    }
   ],
   "source": [
    "Confusion_metric(y_test,Y_prediction,Test_accuracy)"
   ]
  },
  {
   "cell_type": "markdown",
   "metadata": {},
   "source": [
    "<h2>Observations</h2>\n",
    "<ul>\n",
    "    <li>The accuracy of the model has become low after tuning the alpha which is not good for a classification model.\n",
    "    <li>The main reason is because of the high FPR and low TNR which affects the model a lot.\n",
    "    <li>This model is also suffering from the heavy bias problem and may be solved by oversampling the datapoints.</li>\n",
    "    <li>The high Precision,recall and f1_score value cannot be trusted because of high tpr as compared to other metrics.</li>\n"
   ]
  },
  {
   "cell_type": "markdown",
   "metadata": {},
   "source": [
    "<h3> Oversampling the data by using the SMOTE technique</h3>"
   ]
  },
  {
   "cell_type": "code",
   "execution_count": 47,
   "metadata": {},
   "outputs": [
    {
     "name": "stdout",
     "output_type": "stream",
     "text": [
      "\n",
      " The TRAIN accuracy by using default alpha over CV set is =  62.409542% \n"
     ]
    }
   ],
   "source": [
    "Bal_xtr,Bal_ytr,Bal_xcv,Bal_ycv,Bal_xtes,Bal_ytes,B_pre,B_acc=Bal_train(X_tr,y_tr,X_cv,y_cv,X_test,y_test)"
   ]
  },
  {
   "cell_type": "markdown",
   "metadata": {},
   "source": [
    "<h3>Confusion metric of the above model.</h3>"
   ]
  },
  {
   "cell_type": "code",
   "execution_count": 48,
   "metadata": {},
   "outputs": [
    {
     "name": "stdout",
     "output_type": "stream",
     "text": [
      "[[17149 46278]\n",
      " [ 1407 62020]]\n"
     ]
    },
    {
     "data": {
      "image/png": "[encoded data removed]",
      "text/plain": [
       "<Figure size 648x648 with 2 Axes>"
      ]
     },
     "metadata": {
      "needs_background": "light"
     },
     "output_type": "display_data"
    },
    {
     "name": "stdout",
     "output_type": "stream",
     "text": [
      "\n",
      "+-------------------------------------------------------------+\n",
      "| The performance metrics of the above model are as follows:  |\n",
      "+---------------------------------+---------------------------+\n",
      "|             Metrics             |           Scores          |\n",
      "+---------------------------------+---------------------------+\n",
      "|     Classification_accuracy     |     62.409541677834355    |\n",
      "|       Classification_error      |     37.59045832216564     |\n",
      "|          True positive          |           62020           |\n",
      "|          False positive         |           46278           |\n",
      "|          True negative          |           17149           |\n",
      "|          False negative         |            1407           |\n",
      "|        True positive rate       |     97.78170179891845     |\n",
      "|       False negative rate       |     2.2182982010815584    |\n",
      "|        True negative rate       |     27.03738155675028     |\n",
      "|       False positive rate       |     72.96261844324971     |\n",
      "|         Precision value         |     57.26790891798556     |\n",
      "|           Recall value          |     97.78170179891845     |\n",
      "|          f1_score value         |     72.23176590478964     |\n",
      "+---------------------------------+---------------------------+\n"
     ]
    }
   ],
   "source": [
    "Confusion_metric(Bal_ycv,B_pre,B_acc)"
   ]
  },
  {
   "cell_type": "markdown",
   "metadata": {},
   "source": [
    "<h3>HYPERAMETER TUNING THE ALPHA FOR FINDING THE OPTIMAL ALPHA VALUE </h3>"
   ]
  },
  {
   "cell_type": "code",
   "execution_count": 49,
   "metadata": {},
   "outputs": [
    {
     "name": "stdout",
     "output_type": "stream",
     "text": [
      "[0.9823736553630698, 0.9827581127274145, 0.9804546256578697, 0.9791383491218069, 0.9797704214348719, 0.978907023152515, 0.9794218046657244, 0.9818979690139731, 0.9783401129138823, 0.977802524154485]\n"
     ]
    }
   ],
   "source": [
    "BScoreS,Mutinomial =cross_validation(Bal_xtr,Bal_ytr)"
   ]
  },
  {
   "cell_type": "code",
   "execution_count": 50,
   "metadata": {},
   "outputs": [
    {
     "name": "stdout",
     "output_type": "stream",
     "text": [
      "\n",
      "The optimal number of alpha value is 0.000100%.\n"
     ]
    },
    {
     "data": {
      "image/png": "[encoded data removed]",
      "text/plain": [
       "<Figure size 432x288 with 1 Axes>"
      ]
     },
     "metadata": {
      "needs_background": "light"
     },
     "output_type": "display_data"
    },
    {
     "name": "stdout",
     "output_type": "stream",
     "text": [
      "the misclassification error for  alpha value is :  [0.018 0.017 0.02  0.021 0.02  0.021 0.021 0.018 0.022 0.022]\n"
     ]
    }
   ],
   "source": [
    "Bal_optimal_a=MSE_plot(BScoreS,Mutinomial) #CODE FOR PLOTTING THE ERROR PLOT"
   ]
  },
  {
   "cell_type": "markdown",
   "metadata": {},
   "source": [
    "<h3> Testing the model by using the optimal alpha over the test set</h3>"
   ]
  },
  {
   "cell_type": "code",
   "execution_count": 51,
   "metadata": {},
   "outputs": [
    {
     "name": "stdout",
     "output_type": "stream",
     "text": [
      "\n",
      "**** The Test accuracy by using default alpha is 61%\n",
      "****************************************************************************************************\n",
      "\n",
      " The train accuracy of the NB classifier for the best alpha=0.000100% is 57.949296% \n",
      "****************************************************************************************************\n",
      "\n",
      "The Test accuracy of the NB classifier by using the best alpha = 0.000100% is 57.969857%\n"
     ]
    }
   ],
   "source": [
    "#Testing the model with default value of alpha over the Test data\n",
    "test(Bal_xtr,Bal_ytr,Bal_xtes,Bal_ytes)\n",
    "\n",
    "print(\"*\"*100)\n",
    "\n",
    "#Testing the model with optimal alpha value over the test data\n",
    "Y_PRED,BalTest_Acc=optimal_test(Bal_optimal_a,Bal_xtr,Bal_ytr,Bal_xcv,Bal_ycv,Bal_xtes,Bal_ytes)"
   ]
  },
  {
   "cell_type": "markdown",
   "metadata": {},
   "source": [
    "<h3>Confusion metric of the above model.</h3>"
   ]
  },
  {
   "cell_type": "code",
   "execution_count": 52,
   "metadata": {},
   "outputs": [
    {
     "name": "stdout",
     "output_type": "stream",
     "text": [
      "[[16221 73950]\n",
      " [ 1848 88323]]\n"
     ]
    },
    {
     "data": {
      "image/png": "[encoded data removed]",
      "text/plain": [
       "<Figure size 648x648 with 2 Axes>"
      ]
     },
     "metadata": {
      "needs_background": "light"
     },
     "output_type": "display_data"
    },
    {
     "name": "stdout",
     "output_type": "stream",
     "text": [
      "\n",
      "+-------------------------------------------------------------+\n",
      "| The performance metrics of the above model are as follows:  |\n",
      "+---------------------------------+---------------------------+\n",
      "|             Metrics             |           Scores          |\n",
      "+---------------------------------+---------------------------+\n",
      "|     Classification_accuracy     |     57.96985727118474     |\n",
      "|       Classification_error      |     42.03014272881525     |\n",
      "|          True positive          |           88323           |\n",
      "|          False positive         |           73950           |\n",
      "|          True negative          |           16221           |\n",
      "|          False negative         |            1848           |\n",
      "|        True positive rate       |     97.95056060152378     |\n",
      "|       False negative rate       |     2.0494393984762285    |\n",
      "|        True negative rate       |     17.989153940845725    |\n",
      "|       False positive rate       |     82.01084605915428     |\n",
      "|         Precision value         |     54.42864801907896     |\n",
      "|           Recall value          |     97.95056060152378     |\n",
      "|          f1_score value         |     69.97433094072348     |\n",
      "+---------------------------------+---------------------------+\n"
     ]
    }
   ],
   "source": [
    "Confusion_metric(Bal_ytes,Y_PRED,BalTest_Acc)"
   ]
  },
  {
   "cell_type": "markdown",
   "metadata": {},
   "source": [
    "<h2> Observations:</h2>\n",
    "<ul>\n",
    "    <li>Since after doing the data balancing technique the model score decreased very drastically due to poor performance metrics.\n",
    "    <li>I think the model is overfitting which leads to decrease in accuracy and other factor may be the high dimensions of the tf-idf vectorized data.\n",
    "    <li>In this model SMOTE didn't improved the model in terms of stability and accuracy.</li>\n",
    "    "
   ]
  },
  {
   "cell_type": "code",
   "execution_count": null,
   "metadata": {},
   "outputs": [],
   "source": []
  }
 ],
 "metadata": {
  "kernelspec": {
   "display_name": "Python 3",
   "language": "python",
   "name": "python3"
  },
  "language_info": {
   "codemirror_mode": {
    "name": "ipython",
    "version": 3
   },
   "file_extension": ".py",
   "mimetype": "text/x-python",
   "name": "python",
   "nbconvert_exporter": "python",
   "pygments_lexer": "ipython3",
   "version": "3.6.5"
  }
 },
 "nbformat": 4,
 "nbformat_minor": 2
}
