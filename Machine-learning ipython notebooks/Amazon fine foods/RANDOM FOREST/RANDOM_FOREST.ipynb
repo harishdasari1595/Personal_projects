{
 "cells": [
  {
   "cell_type": "markdown",
   "metadata": {},
   "source": [
    "## Implementing Random-Forest algorithm on Amazon Fine food reviews Dataset "
   ]
  },
  {
   "cell_type": "code",
   "execution_count": 2,
   "metadata": {},
   "outputs": [],
   "source": [
    "#IMPORTING ALL RELEVANT LIBRARIES \n",
    "\n",
    "import sqlite3\n",
    "import pandas as pd\n",
    "import numpy as np\n",
    "\n",
    "from sklearn import cross_validation, metrics   #Additional scklearn functions\n",
    "from sklearn.model_selection import GridSearchCV   #Perforing grid search\n",
    "\n",
    "%matplotlib inline\n",
    "\n",
    "import matplotlib.pyplot as plt\n",
    "import matplotlib\n",
    "matplotlib.use('Agg')\n",
    "from matplotlib.pylab import rcParams\n",
    "rcParams['figure.figsize'] = 12, 7\n",
    "\n",
    "from sklearn.ensemble import RandomForestClassifier\n",
    "import seaborn as sns\n",
    "from sklearn.feature_extraction.text import TfidfTransformer\n",
    "from sklearn.feature_extraction.text import TfidfVectorizer\n",
    "import itertools\n",
    "from sklearn.feature_extraction.text import CountVectorizer\n",
    "from sklearn.metrics import confusion_matrix\n",
    "from sklearn.metrics import precision_score\n",
    "from sklearn.metrics import recall_score\n",
    "from sklearn.metrics import f1_score\n",
    "from sklearn.model_selection import TimeSeriesSplit\n",
    "from sklearn.preprocessing import LabelEncoder\n",
    "from sklearn import metrics\n",
    "from sklearn.cross_validation import train_test_split\n",
    "from sklearn.metrics import accuracy_score\n",
    "from sklearn.cross_validation import cross_val_score\n",
    "from collections import Counter\n",
    "from sklearn import cross_validation\n",
    "from sklearn.model_selection import train_test_split\n",
    "from sklearn import preprocessing\n",
    "import warnings\n",
    "warnings.filterwarnings(action='ignore')\n",
    "\n",
    "from prettytable import PrettyTable\n"
   ]
  },
  {
   "cell_type": "markdown",
   "metadata": {},
   "source": [
    "### Connecting to the pre-processed SQL-ITE Database"
   ]
  },
  {
   "cell_type": "code",
   "execution_count": 3,
   "metadata": {},
   "outputs": [],
   "source": [
    "#Connecting to the SQL table\n",
    "con = sqlite3.connect('final.sqlite')\n",
    "\n",
    "#Reading data from the database\n",
    "\n",
    "Data = pd.read_sql_query(\"\"\"\n",
    "SELECT *\n",
    "FROM Reviews \"\"\",con)\n",
    "Data.shape\n",
    "\n",
    "# Drop index column\n",
    "Data.drop(columns=['index'],inplace=True)\n"
   ]
  },
  {
   "cell_type": "markdown",
   "metadata": {},
   "source": [
    "### Setting the database in proper format for further use"
   ]
  },
  {
   "cell_type": "code",
   "execution_count": 4,
   "metadata": {},
   "outputs": [
    {
     "data": {
      "text/html": [
       "<div>\n",
       "<style scoped>\n",
       "    .dataframe tbody tr th:only-of-type {\n",
       "        vertical-align: middle;\n",
       "    }\n",
       "\n",
       "    .dataframe tbody tr th {\n",
       "        vertical-align: top;\n",
       "    }\n",
       "\n",
       "    .dataframe thead th {\n",
       "        text-align: right;\n",
       "    }\n",
       "</style>\n",
       "<table border=\"1\" class=\"dataframe\">\n",
       "  <thead>\n",
       "    <tr style=\"text-align: right;\">\n",
       "      <th></th>\n",
       "      <th>Id</th>\n",
       "      <th>ProductId</th>\n",
       "      <th>UserId</th>\n",
       "      <th>ProfileName</th>\n",
       "      <th>HelpfulnessNumerator</th>\n",
       "      <th>HelpfulnessDenominator</th>\n",
       "      <th>Score</th>\n",
       "      <th>Summary</th>\n",
       "      <th>Text</th>\n",
       "      <th>CleanedText</th>\n",
       "    </tr>\n",
       "    <tr>\n",
       "      <th>Time</th>\n",
       "      <th></th>\n",
       "      <th></th>\n",
       "      <th></th>\n",
       "      <th></th>\n",
       "      <th></th>\n",
       "      <th></th>\n",
       "      <th></th>\n",
       "      <th></th>\n",
       "      <th></th>\n",
       "      <th></th>\n",
       "    </tr>\n",
       "  </thead>\n",
       "  <tbody>\n",
       "    <tr>\n",
       "      <th>1970-01-01 00:00:00.944092800</th>\n",
       "      <td>451856</td>\n",
       "      <td>B00004CXX9</td>\n",
       "      <td>AIUWLEQ1ADEG5</td>\n",
       "      <td>Elizabeth Medina</td>\n",
       "      <td>0</td>\n",
       "      <td>0</td>\n",
       "      <td>positive</td>\n",
       "      <td>Entertainingl Funny!</td>\n",
       "      <td>Beetlejuice is a well written movie ..... ever...</td>\n",
       "      <td>beetlejuic well written movi everyth excel act...</td>\n",
       "    </tr>\n",
       "    <tr>\n",
       "      <th>1970-01-01 00:00:00.944438400</th>\n",
       "      <td>374359</td>\n",
       "      <td>B00004CI84</td>\n",
       "      <td>A344SMIA5JECGM</td>\n",
       "      <td>Vincent P. Ross</td>\n",
       "      <td>1</td>\n",
       "      <td>2</td>\n",
       "      <td>positive</td>\n",
       "      <td>A modern day fairy tale</td>\n",
       "      <td>A twist of rumplestiskin captured on film, sta...</td>\n",
       "      <td>twist rumplestiskin captur film star michael k...</td>\n",
       "    </tr>\n",
       "    <tr>\n",
       "      <th>1970-01-01 00:00:00.947376000</th>\n",
       "      <td>374422</td>\n",
       "      <td>B00004CI84</td>\n",
       "      <td>A1048CYU0OV4O8</td>\n",
       "      <td>Judy L. Eans</td>\n",
       "      <td>2</td>\n",
       "      <td>2</td>\n",
       "      <td>positive</td>\n",
       "      <td>GREAT</td>\n",
       "      <td>THIS IS ONE MOVIE THAT SHOULD BE IN YOUR MOVIE...</td>\n",
       "      <td>one movi movi collect fill comedi action whate...</td>\n",
       "    </tr>\n",
       "    <tr>\n",
       "      <th>1970-01-01 00:00:00.948240000</th>\n",
       "      <td>374343</td>\n",
       "      <td>B00004CI84</td>\n",
       "      <td>A1B2IZU1JLZA6</td>\n",
       "      <td>Wes</td>\n",
       "      <td>19</td>\n",
       "      <td>23</td>\n",
       "      <td>negative</td>\n",
       "      <td>WARNING: CLAMSHELL EDITION IS EDITED TV VERSION</td>\n",
       "      <td>I, myself always enjoyed this movie, it's very...</td>\n",
       "      <td>alway enjoy movi funni entertain didnt hesit p...</td>\n",
       "    </tr>\n",
       "    <tr>\n",
       "      <th>1970-01-01 00:00:00.961718400</th>\n",
       "      <td>1245</td>\n",
       "      <td>B00002Z754</td>\n",
       "      <td>A29Z5PI9BW2PU3</td>\n",
       "      <td>Robbie</td>\n",
       "      <td>7</td>\n",
       "      <td>7</td>\n",
       "      <td>positive</td>\n",
       "      <td>Great Product</td>\n",
       "      <td>This was a really good idea and the final prod...</td>\n",
       "      <td>realli good idea final product outstand use de...</td>\n",
       "    </tr>\n",
       "  </tbody>\n",
       "</table>\n",
       "</div>"
      ],
      "text/plain": [
       "                                   Id   ProductId          UserId  \\\n",
       "Time                                                                \n",
       "1970-01-01 00:00:00.944092800  451856  B00004CXX9   AIUWLEQ1ADEG5   \n",
       "1970-01-01 00:00:00.944438400  374359  B00004CI84  A344SMIA5JECGM   \n",
       "1970-01-01 00:00:00.947376000  374422  B00004CI84  A1048CYU0OV4O8   \n",
       "1970-01-01 00:00:00.948240000  374343  B00004CI84   A1B2IZU1JLZA6   \n",
       "1970-01-01 00:00:00.961718400    1245  B00002Z754  A29Z5PI9BW2PU3   \n",
       "\n",
       "                                    ProfileName  HelpfulnessNumerator  \\\n",
       "Time                                                                    \n",
       "1970-01-01 00:00:00.944092800  Elizabeth Medina                     0   \n",
       "1970-01-01 00:00:00.944438400   Vincent P. Ross                     1   \n",
       "1970-01-01 00:00:00.947376000      Judy L. Eans                     2   \n",
       "1970-01-01 00:00:00.948240000               Wes                    19   \n",
       "1970-01-01 00:00:00.961718400            Robbie                     7   \n",
       "\n",
       "                               HelpfulnessDenominator     Score  \\\n",
       "Time                                                              \n",
       "1970-01-01 00:00:00.944092800                       0  positive   \n",
       "1970-01-01 00:00:00.944438400                       2  positive   \n",
       "1970-01-01 00:00:00.947376000                       2  positive   \n",
       "1970-01-01 00:00:00.948240000                      23  negative   \n",
       "1970-01-01 00:00:00.961718400                       7  positive   \n",
       "\n",
       "                                                                       Summary  \\\n",
       "Time                                                                             \n",
       "1970-01-01 00:00:00.944092800                             Entertainingl Funny!   \n",
       "1970-01-01 00:00:00.944438400                          A modern day fairy tale   \n",
       "1970-01-01 00:00:00.947376000                                            GREAT   \n",
       "1970-01-01 00:00:00.948240000  WARNING: CLAMSHELL EDITION IS EDITED TV VERSION   \n",
       "1970-01-01 00:00:00.961718400                                    Great Product   \n",
       "\n",
       "                                                                            Text  \\\n",
       "Time                                                                               \n",
       "1970-01-01 00:00:00.944092800  Beetlejuice is a well written movie ..... ever...   \n",
       "1970-01-01 00:00:00.944438400  A twist of rumplestiskin captured on film, sta...   \n",
       "1970-01-01 00:00:00.947376000  THIS IS ONE MOVIE THAT SHOULD BE IN YOUR MOVIE...   \n",
       "1970-01-01 00:00:00.948240000  I, myself always enjoyed this movie, it's very...   \n",
       "1970-01-01 00:00:00.961718400  This was a really good idea and the final prod...   \n",
       "\n",
       "                                                                     CleanedText  \n",
       "Time                                                                              \n",
       "1970-01-01 00:00:00.944092800  beetlejuic well written movi everyth excel act...  \n",
       "1970-01-01 00:00:00.944438400  twist rumplestiskin captur film star michael k...  \n",
       "1970-01-01 00:00:00.947376000  one movi movi collect fill comedi action whate...  \n",
       "1970-01-01 00:00:00.948240000  alway enjoy movi funni entertain didnt hesit p...  \n",
       "1970-01-01 00:00:00.961718400  realli good idea final product outstand use de...  "
      ]
     },
     "execution_count": 4,
     "metadata": {},
     "output_type": "execute_result"
    }
   ],
   "source": [
    "Data[\"Time\"]=pd.to_datetime(Data.Time)\n",
    "Data.head(5)\n",
    "\n",
    "#Setting Time column as index of the dataframe \n",
    "Data.set_index(\"Time\",inplace=True)\n",
    "\n",
    "#Sampling the above data\n",
    "\n",
    "Sampled_data=Data.sample(n=100000,replace='False')\n",
    "Sorted=Sampled_data.sort_index()\n",
    "\n",
    "Sorted.head()"
   ]
  },
  {
   "cell_type": "markdown",
   "metadata": {},
   "source": [
    "### Plotting the frequency distribution of the class label"
   ]
  },
  {
   "cell_type": "code",
   "execution_count": 5,
   "metadata": {},
   "outputs": [
    {
     "data": {
      "text/plain": [
       "positive    84213\n",
       "negative    15787\n",
       "Name: Score, dtype: int64"
      ]
     },
     "execution_count": 5,
     "metadata": {},
     "output_type": "execute_result"
    }
   ],
   "source": [
    "Sorted[\"Score\"].value_counts()"
   ]
  },
  {
   "cell_type": "code",
   "execution_count": 6,
   "metadata": {},
   "outputs": [
    {
     "data": {
      "image/png": "[encoded data removed]",
      "text/plain": [
       "<Figure size 864x504 with 1 Axes>"
      ]
     },
     "metadata": {
      "needs_background": "light"
     },
     "output_type": "display_data"
    },
    {
     "data": {
      "text/plain": [
       "<Figure size 864x504 with 0 Axes>"
      ]
     },
     "metadata": {},
     "output_type": "display_data"
    }
   ],
   "source": [
    "polarity=Sorted[\"Score\"]\n",
    "sns.countplot(x=\"Score\",data=Sampled_data,palette=\"hls\")\n",
    "plt.show()\n",
    "plt.savefig(\"count_plot\")\n"
   ]
  },
  {
   "cell_type": "markdown",
   "metadata": {},
   "source": [
    "<h2>Observations</h2>\n",
    "<ul>\n",
    "    <li>Here after all the text-preprocesing and the data-cleaning only 364k datapoints remained.</li>\n",
    "    <li>I have taken a sample size of 100k and also the whole data out of the total population for the purpose of analyzing and studying the behaviour of the data by applying the Random forest algorithm over it.</li>\n",
    "    <li>First I took the \"TIME\" column and set as the index of the new sampled dataframe and then sorted accordingly in ascending order since the data has a temporal nature.</li>\n",
    "    <li>By setting the \"SCORE\" column as a class label for classifying the reviews as a positive and negative.</li>\n",
    "    <li>By observing the above bar plot it is clear that the above dataset is highly imbalanced and this may cause problems in the future analysis.</li>\n",
    "</ul>\n",
    "    \n",
    "    "
   ]
  },
  {
   "cell_type": "markdown",
   "metadata": {},
   "source": [
    "### Splitting the datapoints into 70:30 split "
   ]
  },
  {
   "cell_type": "code",
   "execution_count": 7,
   "metadata": {},
   "outputs": [],
   "source": [
    "def data_split(x,y):\n",
    "    #Splitting the model into 70:30 split of Training and Cross_validate split\n",
    "    X_1, X_test, y_1, y_test = train_test_split(X, Y, test_size=0.3,shuffle=False,random_state=None)\n",
    "\n",
    "# split the train data set into cross validation train and cross validation test\n",
    "    X_tr, X_cv, y_tr, y_cv = train_test_split(X_1, y_1, test_size=0.3,shuffle=False,random_state=None)\n",
    "    \n",
    "    return X_tr,y_tr,X_cv,y_cv,X_test,y_test"
   ]
  },
  {
   "cell_type": "markdown",
   "metadata": {},
   "source": [
    "### Preparing the data-points for further use "
   ]
  },
  {
   "cell_type": "code",
   "execution_count": 8,
   "metadata": {},
   "outputs": [
    {
     "name": "stdout",
     "output_type": "stream",
     "text": [
      "The shape of x_train is: (49000, 10)\n",
      "the shape of y_train is: (49000,)\n",
      "the shape of x_cv is: (21000, 10)\n",
      "the shape of y_cv is: (21000,)\n",
      "the shape of x_test is: (30000, 10)\n",
      "the shape of y_test is: (30000,)\n"
     ]
    }
   ],
   "source": [
    "\n",
    "X=Sampled_data\n",
    "Y=polarity\n",
    "\n",
    "X_tr,y_tr,X_cv,y_cv,X_test,y_test=data_split(X,Y)\n",
    "\n",
    "print(\"The shape of x_train is:\",X_tr.shape)\n",
    "print(\"the shape of y_train is:\",y_tr.shape)\n",
    "print(\"the shape of x_cv is:\",X_cv.shape)\n",
    "print(\"the shape of y_cv is:\",y_cv.shape)\n",
    "print(\"the shape of x_test is:\",X_test.shape)\n",
    "print(\"the shape of y_test is:\",y_test.shape)"
   ]
  },
  {
   "cell_type": "markdown",
   "metadata": {},
   "source": [
    "###  Utitlity function for training and cross-validation of the data"
   ]
  },
  {
   "cell_type": "code",
   "execution_count": 19,
   "metadata": {},
   "outputs": [],
   "source": [
    "\n",
    "#FUNCTION FOR TRAINING THE DATA\n",
    "def train(X_tr,y_tr,X_cv,y_cv):\n",
    "\n",
    "    clf = RandomForestClassifier(oob_score=True,n_jobs=-1,class_weight=\"balanced\")\n",
    "\n",
    "    model=clf.fit(X_tr,y_tr)\n",
    "\n",
    "    print(\"The model score on train set is= \", model.score(X_tr,y_tr))\n",
    "\n",
    "    pred=model.predict(X_cv)\n",
    "\n",
    "    acc = accuracy_score(y_cv, pred, normalize=True) * float(100)\n",
    "\n",
    "    print('\\nThe accuracy of Random-forest over cross-validation set is =  %d%% ' % ( acc))\n",
    "    \n",
    "    return pred,acc\n",
    "    \n",
    "    \n",
    "#FUNCTION FOR PERFORMING HYPER-PARAMETER OPTIMIZATION \n",
    "def Gridsearch_tuning(param,x_tr,y_tr):\n",
    "    \n",
    "    model = RandomForestClassifier(oob_score=True,n_jobs=-1,class_weight=\"balanced\")\n",
    "   \n",
    "    param_grid=param\n",
    "   \n",
    "    kfold = TimeSeriesSplit(n_splits=5)\n",
    "    grid_search = GridSearchCV(model, param_grid, scoring='accuracy', n_jobs=-1, cv=kfold)\n",
    "    grid_result = grid_search.fit(x_tr, y_tr)\n",
    "    # summarize results\n",
    "    print(\"Best: %f using %s\" % (grid_result.best_score_, grid_result.best_params_))\n",
    "    means = grid_result.cv_results_['mean_test_score']\n",
    "    stds = grid_result.cv_results_['std_test_score']\n",
    "    params = grid_result.cv_results_['params']\n",
    "    for mean, stdev, param in zip(means, stds, params):\n",
    "        print(\"%f (%f) with: %r\" % (mean, stdev, param))\n",
    "\n",
    "        \n",
    "    # plotting results\n",
    "    scores = np.array(means).reshape(len(n_estimators), len(max_depth))\n",
    "    for i, value in enumerate(n_estimators):\n",
    "        plt.plot(max_depth, scores[i], label=\"n_estimators: \" + str(value))\n",
    "    plt.legend()\n",
    "    plt.xlabel(\"Max_depth\")\n",
    "    plt.ylabel('accuracy')\n",
    "    plt.savefig('n_estimators_vs_depth.png')\n",
    "\n",
    "    \n",
    "\n",
    "#FUNCTION FOR TESTING THE MODEL BY USING THE OPTIMAL HYPER-PARAMETERS  \n",
    "    \n",
    "def tuned_test( X_tr,y_tr,X_test,y_test,n_est,depth):\n",
    "\n",
    "    New_clf=RandomForestClassifier(n_estimators=n_est,max_depth=depth,oob_score=True,n_jobs=-1,class_weight=\"balanced\")\n",
    "\n",
    "\n",
    "    new_model=New_clf.fit(X_tr,y_tr)\n",
    "\n",
    "    print(\"The model score on train set is= \", new_model.score(X_tr,y_tr))\n",
    "\n",
    "    Y_pred=new_model.predict(X_test)\n",
    "\n",
    "    new_acc = accuracy_score(y_test, Y_pred, normalize=True) * float(100)\n",
    "\n",
    "    print('\\nThe accuracy of the random forest using best parameters over Test set is =  %d%% ' % ( new_acc))\n",
    "\n",
    "    return Y_pred,new_acc\n",
    "\n",
    "\n"
   ]
  },
  {
   "cell_type": "markdown",
   "metadata": {},
   "source": [
    "### Function for Vectorizing the data (BOW & TF-IDF)"
   ]
  },
  {
   "cell_type": "code",
   "execution_count": 10,
   "metadata": {},
   "outputs": [],
   "source": [
    "\n",
    "#Function for vectorizing the train data\n",
    "from sklearn.preprocessing import StandardScaler\n",
    "scaler=StandardScaler(with_mean=False)\n",
    "from sklearn.feature_extraction.text import TfidfVectorizer\n",
    "\n",
    "def vec_train(vect,X_tr):\n",
    "    import warnings\n",
    "    warnings.filterwarnings(\"ignore\")\n",
    "\n",
    "    count_vect = vect #in scikit-learn\n",
    "    BOW = count_vect.fit_transform(X_tr.values)\n",
    "\n",
    "#Standardizing the vectorized data\n",
    "    standardized_data = scaler.fit_transform(BOW)\n",
    "    standardized_data.shape\n",
    "    return count_vect,standardized_data\n",
    "\n",
    "\n",
    "#Function for vectorizing the CV data\n",
    "\n",
    "def vec_cv(count,X_cv):\n",
    "    cv=count.transform(X_cv.values)\n",
    "    cv.get_shape()\n",
    "\n",
    "    std_cv=scaler.transform(cv)\n",
    "    std_cv.shape\n",
    "    return std_cv\n",
    "\n",
    "\n",
    "#Function for vectorizing the test data\n",
    "\n",
    "def vec_test(count,X_test):\n",
    "    test=count.transform(X_test.values)\n",
    "    test.get_shape()\n",
    "\n",
    "    std_data=scaler.transform(test)\n",
    "    std_data.shape\n",
    "    return std_data\n",
    "\n",
    "#Funtion for printing the total number of top features\n",
    "def top_tfidf_feats(name,row, features, top_n=25):\n",
    "    ''' Get top n tfidf values in row and return them with their corresponding feature names.'''\n",
    "    topn_ids = np.argsort(row)[::-1][:top_n]\n",
    "    top_feats = [(features[i], row[i]) for i in topn_ids]\n",
    "    df = pd.DataFrame(top_feats)\n",
    "    df.columns = ['feature', name]\n",
    "    return df\n"
   ]
  },
  {
   "cell_type": "markdown",
   "metadata": {},
   "source": [
    "### Utility function for plotting the confusion matrix "
   ]
  },
  {
   "cell_type": "code",
   "execution_count": 11,
   "metadata": {},
   "outputs": [],
   "source": [
    "\n",
    "\n",
    "from sklearn.metrics import confusion_matrix\n",
    "def Confusion_metric(y_test,y_pred,acc):\n",
    "    print(metrics.confusion_matrix(y_test,y_pred))\n",
    "    confusion=metrics.confusion_matrix(y_test,y_pred)\n",
    "\n",
    "    plt.figure(figsize=(9,9))\n",
    "    sns.heatmap(confusion, annot=True, fmt=\".3f\", linewidths=.5, square = True, cmap = 'Blues_r');\n",
    "    plt.ylabel('Predicted label');\n",
    "    plt.xlabel('Actual label');\n",
    "    all_sample_title = 'Accuracy Score: {0}'.format( acc)\n",
    "    plt.title(all_sample_title, size = 15);\n",
    "    plt.show()\n",
    "\n",
    "#Storing the values of the confusion matrix\n",
    "    TN=confusion[0,0]\n",
    "    FP=confusion[0,1]\n",
    "    FN=confusion[1,0]\n",
    "    TP=confusion[1,1]\n",
    "\n",
    "# use float to perform true division, not integer division\n",
    "    Class_acc=((TP + TN) / float(TP + TN + FP + FN))*100\n",
    "\n",
    "#Code for classification error\n",
    "\n",
    "    classification_error = ((FP + FN) / float(TP + TN + FP + FN))*100\n",
    "    \n",
    "\n",
    "#Code for finding the TPR,FPR,TNR,FNR\n",
    "\n",
    "    TPR = (TP / float(FN + TP))*100\n",
    "\n",
    "    FNR = (FN / float(FN + TP))*100\n",
    "\n",
    "    TNR=(TN / float(TN + FP))*100\n",
    "\n",
    "    FPR=(FP / float(TN + FP))*100\n",
    "    \n",
    "#Code for finding the Precision,Recall & F1_score    \n",
    "   \n",
    "    precision = (TP/float(TP+FP))*100\n",
    "    \n",
    "    recall= (TP / float(FN + TP))*100\n",
    "    \n",
    "    F1_s= ((float(precision*recall)/float(precision+recall))*2)\n",
    "    \n",
    "    print()\n",
    "    \n",
    "    ptable=PrettyTable()\n",
    "    ptable.title=\"The performance metrics of the above model are as follows: \"\n",
    "    ptable.field_names=[\"Metrics\",\"Scores\"]\n",
    "    ptable.add_row([\"Classification_accuracy\",Class_acc])\n",
    "    ptable.add_row([\"Classification_error\",classification_error])\n",
    "    ptable.add_row([\"True positive\",TP])\n",
    "    ptable.add_row([\"False positive\",FP])\n",
    "    ptable.add_row([\"True negative\",TN])\n",
    "    ptable.add_row([\"False negative\",FN])\n",
    "    ptable.add_row([\"True positive rate\",TPR])\n",
    "    ptable.add_row([\"False negative rate\",FNR])\n",
    "    ptable.add_row([\"True negative rate\",TNR])\n",
    "    ptable.add_row([\"False positive rate\",FPR])\n",
    "    ptable.add_row([\"Precision value\",precision])\n",
    "    ptable.add_row([\"Recall value\",recall])\n",
    "    ptable.add_row([\"f1_score value\",F1_s])\n",
    "    \n",
    "    print(ptable)\n",
    "    "
   ]
  },
  {
   "cell_type": "markdown",
   "metadata": {},
   "source": [
    "### Implementing the Bag-of words vectorizer"
   ]
  },
  {
   "cell_type": "code",
   "execution_count": 17,
   "metadata": {},
   "outputs": [
    {
     "name": "stdout",
     "output_type": "stream",
     "text": [
      "The shape of the X_train is:  (49000, 26189)\n",
      "The shape of the X_cv is:  (21000, 26189)\n",
      "The shape of the X_test is:  (30000, 26189)\n",
      "\n",
      "Top 25 feaures acording to the Bow score are as follows\n"
     ]
    },
    {
     "data": {
      "text/html": [
       "<div>\n",
       "<style scoped>\n",
       "    .dataframe tbody tr th:only-of-type {\n",
       "        vertical-align: middle;\n",
       "    }\n",
       "\n",
       "    .dataframe tbody tr th {\n",
       "        vertical-align: top;\n",
       "    }\n",
       "\n",
       "    .dataframe thead th {\n",
       "        text-align: right;\n",
       "    }\n",
       "</style>\n",
       "<table border=\"1\" class=\"dataframe\">\n",
       "  <thead>\n",
       "    <tr style=\"text-align: right;\">\n",
       "      <th></th>\n",
       "      <th>feature</th>\n",
       "      <th>bow</th>\n",
       "    </tr>\n",
       "  </thead>\n",
       "  <tbody>\n",
       "    <tr>\n",
       "      <th>0</th>\n",
       "      <td>bedsid</td>\n",
       "      <td>127.805843</td>\n",
       "    </tr>\n",
       "    <tr>\n",
       "      <th>1</th>\n",
       "      <td>candybar</td>\n",
       "      <td>66.747397</td>\n",
       "    </tr>\n",
       "    <tr>\n",
       "      <th>2</th>\n",
       "      <td>lous</td>\n",
       "      <td>63.906399</td>\n",
       "    </tr>\n",
       "    <tr>\n",
       "      <th>3</th>\n",
       "      <td>slip</td>\n",
       "      <td>27.905491</td>\n",
       "    </tr>\n",
       "    <tr>\n",
       "      <th>4</th>\n",
       "      <td>macadamia</td>\n",
       "      <td>23.743278</td>\n",
       "    </tr>\n",
       "    <tr>\n",
       "      <th>5</th>\n",
       "      <td>factori</td>\n",
       "      <td>23.093906</td>\n",
       "    </tr>\n",
       "    <tr>\n",
       "      <th>6</th>\n",
       "      <td>hunger</td>\n",
       "      <td>18.661611</td>\n",
       "    </tr>\n",
       "    <tr>\n",
       "      <th>7</th>\n",
       "      <td>betti</td>\n",
       "      <td>18.522939</td>\n",
       "    </tr>\n",
       "    <tr>\n",
       "      <th>8</th>\n",
       "      <td>suspect</td>\n",
       "      <td>16.169085</td>\n",
       "    </tr>\n",
       "    <tr>\n",
       "      <th>9</th>\n",
       "      <td>purs</td>\n",
       "      <td>15.921680</td>\n",
       "    </tr>\n",
       "    <tr>\n",
       "      <th>10</th>\n",
       "      <td>ball</td>\n",
       "      <td>15.760679</td>\n",
       "    </tr>\n",
       "    <tr>\n",
       "      <th>11</th>\n",
       "      <td>celiac</td>\n",
       "      <td>13.159869</td>\n",
       "    </tr>\n",
       "    <tr>\n",
       "      <th>12</th>\n",
       "      <td>may</td>\n",
       "      <td>13.118438</td>\n",
       "    </tr>\n",
       "    <tr>\n",
       "      <th>13</th>\n",
       "      <td>diseas</td>\n",
       "      <td>12.843164</td>\n",
       "    </tr>\n",
       "    <tr>\n",
       "      <th>14</th>\n",
       "      <td>bill</td>\n",
       "      <td>12.833278</td>\n",
       "    </tr>\n",
       "    <tr>\n",
       "      <th>15</th>\n",
       "      <td>care</td>\n",
       "      <td>10.850053</td>\n",
       "    </tr>\n",
       "    <tr>\n",
       "      <th>16</th>\n",
       "      <td>safe</td>\n",
       "      <td>10.540663</td>\n",
       "    </tr>\n",
       "    <tr>\n",
       "      <th>17</th>\n",
       "      <td>contact</td>\n",
       "      <td>10.237192</td>\n",
       "    </tr>\n",
       "    <tr>\n",
       "      <th>18</th>\n",
       "      <td>list</td>\n",
       "      <td>10.173495</td>\n",
       "    </tr>\n",
       "    <tr>\n",
       "      <th>19</th>\n",
       "      <td>children</td>\n",
       "      <td>9.316489</td>\n",
       "    </tr>\n",
       "    <tr>\n",
       "      <th>20</th>\n",
       "      <td>matter</td>\n",
       "      <td>9.199170</td>\n",
       "    </tr>\n",
       "    <tr>\n",
       "      <th>21</th>\n",
       "      <td>healthier</td>\n",
       "      <td>8.440036</td>\n",
       "    </tr>\n",
       "    <tr>\n",
       "      <th>22</th>\n",
       "      <td>arent</td>\n",
       "      <td>8.286557</td>\n",
       "    </tr>\n",
       "    <tr>\n",
       "      <th>23</th>\n",
       "      <td>fit</td>\n",
       "      <td>8.282103</td>\n",
       "    </tr>\n",
       "    <tr>\n",
       "      <th>24</th>\n",
       "      <td>crave</td>\n",
       "      <td>8.206776</td>\n",
       "    </tr>\n",
       "  </tbody>\n",
       "</table>\n",
       "</div>"
      ],
      "text/plain": [
       "      feature         bow\n",
       "0      bedsid  127.805843\n",
       "1    candybar   66.747397\n",
       "2        lous   63.906399\n",
       "3        slip   27.905491\n",
       "4   macadamia   23.743278\n",
       "5     factori   23.093906\n",
       "6      hunger   18.661611\n",
       "7       betti   18.522939\n",
       "8     suspect   16.169085\n",
       "9        purs   15.921680\n",
       "10       ball   15.760679\n",
       "11     celiac   13.159869\n",
       "12        may   13.118438\n",
       "13     diseas   12.843164\n",
       "14       bill   12.833278\n",
       "15       care   10.850053\n",
       "16       safe   10.540663\n",
       "17    contact   10.237192\n",
       "18       list   10.173495\n",
       "19   children    9.316489\n",
       "20     matter    9.199170\n",
       "21  healthier    8.440036\n",
       "22      arent    8.286557\n",
       "23        fit    8.282103\n",
       "24      crave    8.206776"
      ]
     },
     "execution_count": 17,
     "metadata": {},
     "output_type": "execute_result"
    }
   ],
   "source": [
    "#Initializing the count vectorizer \n",
    "Count_vect=CountVectorizer()\n",
    "\n",
    "#vectorizing the X_train set\n",
    "count,x_tr=vec_train(Count_vect,X_tr[\"CleanedText\"])\n",
    "\n",
    "print(\"The shape of the X_train is: \",x_tr.shape)\n",
    "\n",
    "#Vectgorizing the X_crossvalidation set\n",
    "x_cv=vec_cv(count,X_cv[\"CleanedText\"])\n",
    "print(\"The shape of the X_cv is: \",x_cv.shape)\n",
    "\n",
    "\n",
    "#Vectorizing the X_test set\n",
    "x_test=vec_test(count,X_test[\"CleanedText\"])\n",
    "print(\"The shape of the X_test is: \",x_test.shape)\n",
    "\n",
    "\n",
    "#Printing the total length of the features\n",
    "print(\"\\nTop 25 feaures acording to the bow score are as follows\",)\n",
    "features = Count_vect.get_feature_names()\n",
    "len(features)\n",
    "\n",
    "\n",
    "top_Bow = top_tfidf_feats(\"bow\",x_tr[1,:].toarray()[0],features,25)\n",
    "top_Bow\n",
    "\n",
    "\n"
   ]
  },
  {
   "cell_type": "markdown",
   "metadata": {},
   "source": [
    "### Training the model over the cross-validation set with default parameters "
   ]
  },
  {
   "cell_type": "code",
   "execution_count": 18,
   "metadata": {},
   "outputs": [
    {
     "name": "stdout",
     "output_type": "stream",
     "text": [
      "The model score on train set is=  0.9768775510204082\n",
      "\n",
      "The accuracy of Random-forest over cross-validation set is =  81% \n"
     ]
    }
   ],
   "source": [
    "pred,acc=train(x_tr,y_tr,x_cv,y_cv)"
   ]
  },
  {
   "cell_type": "markdown",
   "metadata": {},
   "source": [
    "### Confusion matrix of the above model "
   ]
  },
  {
   "cell_type": "code",
   "execution_count": 19,
   "metadata": {},
   "outputs": [
    {
     "name": "stdout",
     "output_type": "stream",
     "text": [
      "[[   69  3500]\n",
      " [  433 16998]]\n"
     ]
    },
    {
     "data": {
      "image/png": "[encoded data removed]",
      "text/plain": [
       "<Figure size 648x648 with 2 Axes>"
      ]
     },
     "metadata": {
      "needs_background": "light"
     },
     "output_type": "display_data"
    },
    {
     "name": "stdout",
     "output_type": "stream",
     "text": [
      "\n",
      "+-------------------------------------------------------------+\n",
      "| The performance metrics of the above model are as follows:  |\n",
      "+---------------------------------+---------------------------+\n",
      "|             Metrics             |           Scores          |\n",
      "+---------------------------------+---------------------------+\n",
      "|     Classification_accuracy     |     81.27142857142857     |\n",
      "|       Classification_error      |     18.728571428571428    |\n",
      "|          True positive          |           16998           |\n",
      "|          False positive         |            3500           |\n",
      "|          True negative          |             69            |\n",
      "|          False negative         |            433            |\n",
      "|        True positive rate       |     97.51591991279903     |\n",
      "|       False negative rate       |     2.484080087200964     |\n",
      "|        True negative rate       |     1.9333146539646962    |\n",
      "|       False positive rate       |     98.06668534603531     |\n",
      "|         Precision value         |     82.92516343057859     |\n",
      "|           Recall value          |     97.51591991279903     |\n",
      "|          f1_score value         |     89.63062564264811     |\n",
      "+---------------------------------+---------------------------+\n"
     ]
    }
   ],
   "source": [
    "Confusion_metric(y_cv,pred,acc)"
   ]
  },
  {
   "cell_type": "markdown",
   "metadata": {},
   "source": [
    "<ul>\n",
    "    <li>The above model is very bad as the performance metrics of the above Random-forest model with default parameters are very bad and are on lower side.</li>\n",
    "    <li>I think here the model is over-fitting and can be improved if the hyper-parameters are properly tuned.</li> "
   ]
  },
  {
   "cell_type": "markdown",
   "metadata": {},
   "source": [
    "###  Hyper parameter tuning using the Grid-search technique"
   ]
  },
  {
   "cell_type": "code",
   "execution_count": 21,
   "metadata": {},
   "outputs": [
    {
     "name": "stdout",
     "output_type": "stream",
     "text": [
      "Best: 0.847098 using {'max_depth': 70, 'n_estimators': 800}\n",
      "0.744967 (0.045983) with: {'max_depth': 10, 'n_estimators': 100}\n",
      "0.800171 (0.033037) with: {'max_depth': 10, 'n_estimators': 400}\n",
      "0.802694 (0.023948) with: {'max_depth': 10, 'n_estimators': 600}\n",
      "0.806907 (0.024205) with: {'max_depth': 10, 'n_estimators': 800}\n",
      "0.809233 (0.020279) with: {'max_depth': 10, 'n_estimators': 1000}\n",
      "0.829855 (0.025988) with: {'max_depth': 36, 'n_estimators': 100}\n",
      "0.842885 (0.021772) with: {'max_depth': 36, 'n_estimators': 400}\n",
      "0.842469 (0.022473) with: {'max_depth': 36, 'n_estimators': 600}\n",
      "0.844012 (0.021530) with: {'max_depth': 36, 'n_estimators': 800}\n",
      "0.844722 (0.021176) with: {'max_depth': 36, 'n_estimators': 1000}\n",
      "0.830076 (0.028759) with: {'max_depth': 40, 'n_estimators': 100}\n",
      "0.843767 (0.020967) with: {'max_depth': 40, 'n_estimators': 400}\n",
      "0.843889 (0.022501) with: {'max_depth': 40, 'n_estimators': 600}\n",
      "0.844698 (0.021360) with: {'max_depth': 40, 'n_estimators': 800}\n",
      "0.845702 (0.020977) with: {'max_depth': 40, 'n_estimators': 1000}\n",
      "0.844085 (0.022310) with: {'max_depth': 70, 'n_estimators': 100}\n",
      "0.846412 (0.020900) with: {'max_depth': 70, 'n_estimators': 400}\n",
      "0.846804 (0.020587) with: {'max_depth': 70, 'n_estimators': 600}\n",
      "0.847098 (0.020489) with: {'max_depth': 70, 'n_estimators': 800}\n",
      "0.846804 (0.020701) with: {'max_depth': 70, 'n_estimators': 1000}\n",
      "0.846461 (0.020946) with: {'max_depth': 100, 'n_estimators': 100}\n",
      "0.846926 (0.020483) with: {'max_depth': 100, 'n_estimators': 400}\n",
      "0.846755 (0.020666) with: {'max_depth': 100, 'n_estimators': 600}\n",
      "0.846828 (0.020581) with: {'max_depth': 100, 'n_estimators': 800}\n",
      "0.846828 (0.020609) with: {'max_depth': 100, 'n_estimators': 1000}\n",
      "--- 2977.966238260269 seconds ---\n"
     ]
    },
    {
     "data": {
      "image/png": "[encoded data removed]",
      "text/plain": [
       "<Figure size 864x504 with 1 Axes>"
      ]
     },
     "metadata": {
      "needs_background": "light"
     },
     "output_type": "display_data"
    }
   ],
   "source": [
    "import time\n",
    "start_time = time.time()\n",
    "\n",
    "#Tuning the parameters to be given\n",
    "n_estimators = [100,400,600,800,1000]\n",
    "max_depth=[10,36,40,70,100]\n",
    "\n",
    "#Creating dictionary of parameters to be considered\n",
    "param= dict( n_estimators=n_estimators,max_depth=max_depth)\n",
    "\n",
    "#Hyperarameter tuning the parameters using Gridsearch cross_validation technique\n",
    "Gridsearch_tuning(param,x_tr,y_tr)\n",
    "\n",
    "\n",
    "print(\"--- %s seconds ---\" % (time.time() - start_time))\n"
   ]
  },
  {
   "cell_type": "markdown",
   "metadata": {},
   "source": [
    "###  Testing the model with optimal hyperparameters"
   ]
  },
  {
   "cell_type": "code",
   "execution_count": 23,
   "metadata": {},
   "outputs": [
    {
     "name": "stdout",
     "output_type": "stream",
     "text": [
      "The model score on train set is=  0.9646122448979592\n",
      "\n",
      "The accuracy of the random forest using best parameters over Test set is =  80% \n"
     ]
    }
   ],
   "source": [
    "Y_pred,new_acc=tuned_test( x_tr,y_tr,x_test,y_test,800,70)"
   ]
  },
  {
   "cell_type": "markdown",
   "metadata": {},
   "source": [
    "### Confusion matrix of the above model "
   ]
  },
  {
   "cell_type": "code",
   "execution_count": 24,
   "metadata": {},
   "outputs": [
    {
     "name": "stdout",
     "output_type": "stream",
     "text": [
      "[[  128  5202]\n",
      " [  614 24056]]\n"
     ]
    },
    {
     "data": {
      "image/png": "[encoded data removed]",
      "text/plain": [
       "<Figure size 648x648 with 2 Axes>"
      ]
     },
     "metadata": {
      "needs_background": "light"
     },
     "output_type": "display_data"
    },
    {
     "name": "stdout",
     "output_type": "stream",
     "text": [
      "\n",
      "+-------------------------------------------------------------+\n",
      "| The performance metrics of the above model are as follows:  |\n",
      "+---------------------------------+---------------------------+\n",
      "|             Metrics             |           Scores          |\n",
      "+---------------------------------+---------------------------+\n",
      "|     Classification_accuracy     |     80.61333333333334     |\n",
      "|       Classification_error      |     19.386666666666667    |\n",
      "|          True positive          |           24056           |\n",
      "|          False positive         |            5202           |\n",
      "|          True negative          |            128            |\n",
      "|          False negative         |            614            |\n",
      "|        True positive rate       |     97.51114714227806     |\n",
      "|       False negative rate       |     2.4888528577219295    |\n",
      "|        True negative rate       |     2.401500938086304     |\n",
      "|       False positive rate       |     97.59849906191369     |\n",
      "|         Precision value         |     82.22024745368788     |\n",
      "|           Recall value          |     97.51114714227806     |\n",
      "|          f1_score value         |     89.21524996291352     |\n",
      "+---------------------------------+---------------------------+\n"
     ]
    }
   ],
   "source": [
    "Confusion_metric(y_test,Y_pred,new_acc)"
   ]
  },
  {
   "cell_type": "markdown",
   "metadata": {},
   "source": [
    "<h3> OBSERVATIONS</h3>\n",
    "<ul>\n",
    "    <li>The optimal depth and the number of base learners after doing Gridsearch is 70 and 800 since Random-forest is a low bias and high variance model this parameters are optimal as the variance should be high.</li>\n",
    "    <li>The test accuracy with optimal parameters is 80.61% which is quite misleading as the performance metrics of the model are model and the model is not at all sensible.</li>\n",
    "    <li>Since the decision trees did not work well with the high dimensional text data so here random forest also fails because the underlying base-learners are Decison-trees.\n",
    "    <li>So Random-forest classiffier does not work well with the text data and on Bag-of-words vectorization technique.</li>"
   ]
  },
  {
   "cell_type": "markdown",
   "metadata": {},
   "source": [
    "## Implementing the TF-IDF  Vectorization technique"
   ]
  },
  {
   "cell_type": "code",
   "execution_count": 14,
   "metadata": {},
   "outputs": [
    {
     "name": "stdout",
     "output_type": "stream",
     "text": [
      "The shape of the X_train is:  (49000, 67776)\n",
      "The shape of the X_cv is:  (21000, 67776)\n",
      "The shape of the X_test is:  (30000, 67776)\n",
      "\n",
      "Top 25 feaures acording to the TF-IDF score are as follows\n"
     ]
    },
    {
     "data": {
      "text/html": [
       "<div>\n",
       "<style scoped>\n",
       "    .dataframe tbody tr th:only-of-type {\n",
       "        vertical-align: middle;\n",
       "    }\n",
       "\n",
       "    .dataframe tbody tr th {\n",
       "        vertical-align: top;\n",
       "    }\n",
       "\n",
       "    .dataframe thead th {\n",
       "        text-align: right;\n",
       "    }\n",
       "</style>\n",
       "<table border=\"1\" class=\"dataframe\">\n",
       "  <thead>\n",
       "    <tr style=\"text-align: right;\">\n",
       "      <th></th>\n",
       "      <th>feature</th>\n",
       "      <th>TFIDF</th>\n",
       "    </tr>\n",
       "  </thead>\n",
       "  <tbody>\n",
       "    <tr>\n",
       "      <th>0</th>\n",
       "      <td>yes get</td>\n",
       "      <td>158.297420</td>\n",
       "    </tr>\n",
       "    <tr>\n",
       "      <th>1</th>\n",
       "      <td>good that</td>\n",
       "      <td>81.158914</td>\n",
       "    </tr>\n",
       "    <tr>\n",
       "      <th>2</th>\n",
       "      <td>that tast</td>\n",
       "      <td>77.994181</td>\n",
       "    </tr>\n",
       "    <tr>\n",
       "      <th>3</th>\n",
       "      <td>yes tast</td>\n",
       "      <td>76.102594</td>\n",
       "    </tr>\n",
       "    <tr>\n",
       "      <th>4</th>\n",
       "      <td>like corn</td>\n",
       "      <td>74.573815</td>\n",
       "    </tr>\n",
       "    <tr>\n",
       "      <th>5</th>\n",
       "      <td>job done</td>\n",
       "      <td>62.665035</td>\n",
       "    </tr>\n",
       "    <tr>\n",
       "      <th>6</th>\n",
       "      <td>get job</td>\n",
       "      <td>62.509691</td>\n",
       "    </tr>\n",
       "    <tr>\n",
       "      <th>7</th>\n",
       "      <td>depth</td>\n",
       "      <td>36.050039</td>\n",
       "    </tr>\n",
       "    <tr>\n",
       "      <th>8</th>\n",
       "      <td>yes</td>\n",
       "      <td>24.693449</td>\n",
       "    </tr>\n",
       "    <tr>\n",
       "      <th>9</th>\n",
       "      <td>corn syrup</td>\n",
       "      <td>16.574830</td>\n",
       "    </tr>\n",
       "    <tr>\n",
       "      <th>10</th>\n",
       "      <td>job</td>\n",
       "      <td>14.624721</td>\n",
       "    </tr>\n",
       "    <tr>\n",
       "      <th>11</th>\n",
       "      <td>bland</td>\n",
       "      <td>14.403032</td>\n",
       "    </tr>\n",
       "    <tr>\n",
       "      <th>12</th>\n",
       "      <td>done</td>\n",
       "      <td>13.352048</td>\n",
       "    </tr>\n",
       "    <tr>\n",
       "      <th>13</th>\n",
       "      <td>pure</td>\n",
       "      <td>12.207895</td>\n",
       "    </tr>\n",
       "    <tr>\n",
       "      <th>14</th>\n",
       "      <td>tast like</td>\n",
       "      <td>11.119123</td>\n",
       "    </tr>\n",
       "    <tr>\n",
       "      <th>15</th>\n",
       "      <td>much better</td>\n",
       "      <td>9.167332</td>\n",
       "    </tr>\n",
       "    <tr>\n",
       "      <th>16</th>\n",
       "      <td>that</td>\n",
       "      <td>7.990306</td>\n",
       "    </tr>\n",
       "    <tr>\n",
       "      <th>17</th>\n",
       "      <td>corn</td>\n",
       "      <td>7.771651</td>\n",
       "    </tr>\n",
       "    <tr>\n",
       "      <th>18</th>\n",
       "      <td>tast good</td>\n",
       "      <td>7.136023</td>\n",
       "    </tr>\n",
       "    <tr>\n",
       "      <th>19</th>\n",
       "      <td>syrup</td>\n",
       "      <td>6.694717</td>\n",
       "    </tr>\n",
       "    <tr>\n",
       "      <th>20</th>\n",
       "      <td>tast</td>\n",
       "      <td>5.573677</td>\n",
       "    </tr>\n",
       "    <tr>\n",
       "      <th>21</th>\n",
       "      <td>stuff</td>\n",
       "      <td>4.697845</td>\n",
       "    </tr>\n",
       "    <tr>\n",
       "      <th>22</th>\n",
       "      <td>sweet</td>\n",
       "      <td>3.939692</td>\n",
       "    </tr>\n",
       "    <tr>\n",
       "      <th>23</th>\n",
       "      <td>better</td>\n",
       "      <td>3.868825</td>\n",
       "    </tr>\n",
       "    <tr>\n",
       "      <th>24</th>\n",
       "      <td>like</td>\n",
       "      <td>3.790671</td>\n",
       "    </tr>\n",
       "  </tbody>\n",
       "</table>\n",
       "</div>"
      ],
      "text/plain": [
       "        feature       TFIDF\n",
       "0       yes get  158.297420\n",
       "1     good that   81.158914\n",
       "2     that tast   77.994181\n",
       "3      yes tast   76.102594\n",
       "4     like corn   74.573815\n",
       "5      job done   62.665035\n",
       "6       get job   62.509691\n",
       "7         depth   36.050039\n",
       "8           yes   24.693449\n",
       "9    corn syrup   16.574830\n",
       "10          job   14.624721\n",
       "11        bland   14.403032\n",
       "12         done   13.352048\n",
       "13         pure   12.207895\n",
       "14    tast like   11.119123\n",
       "15  much better    9.167332\n",
       "16         that    7.990306\n",
       "17         corn    7.771651\n",
       "18    tast good    7.136023\n",
       "19        syrup    6.694717\n",
       "20         tast    5.573677\n",
       "21        stuff    4.697845\n",
       "22        sweet    3.939692\n",
       "23       better    3.868825\n",
       "24         like    3.790671"
      ]
     },
     "execution_count": 14,
     "metadata": {},
     "output_type": "execute_result"
    }
   ],
   "source": [
    "#Initializing the count vectorizer \n",
    "TFIDF_vect=TfidfVectorizer(ngram_range=(1,2),min_df=5)\n",
    "\n",
    "#vectorizing the X_train set\n",
    "TF,tfx_tr=vec_train(TFIDF_vect,X_tr[\"CleanedText\"])\n",
    "\n",
    "print(\"The shape of the X_train is: \",tfx_tr.shape)\n",
    "\n",
    "#Vectgorizing the X_crossvalidation set\n",
    "tfx_cv=vec_cv(TF,X_cv[\"CleanedText\"])\n",
    "print(\"The shape of the X_cv is: \",tfx_cv.shape)\n",
    "\n",
    "\n",
    "#Vectorizing the X_test set\n",
    "tfx_test=vec_test(TF,X_test[\"CleanedText\"])\n",
    "print(\"The shape of the X_test is: \",tfx_test.shape)\n",
    "\n",
    "\n",
    "#Printing the total length of the features\n",
    "print(\"\\nTop 25 feaures acording to the TF-IDF score are as follows\")\n",
    "TF_features = TFIDF_vect.get_feature_names()\n",
    "len(TF_features)\n",
    "\n",
    "\n",
    "top_TFIDF = top_tfidf_feats(\"TFIDF\",tfx_tr[1,:].toarray()[0],TF_features,25)\n",
    "top_TFIDF\n",
    "\n"
   ]
  },
  {
   "cell_type": "markdown",
   "metadata": {},
   "source": [
    "### Training the Random forest model over the TF-IDF Vectorized data"
   ]
  },
  {
   "cell_type": "code",
   "execution_count": 15,
   "metadata": {},
   "outputs": [
    {
     "name": "stdout",
     "output_type": "stream",
     "text": [
      "The model score on train set is=  0.9749387755102041\n",
      "\n",
      "The accuracy of Random-forest over cross-validation set is =  81% \n"
     ]
    }
   ],
   "source": [
    "tf_pred,tf_acc=train(tfx_tr,y_tr,tfx_cv,y_cv)"
   ]
  },
  {
   "cell_type": "markdown",
   "metadata": {},
   "source": [
    "### Confusion matrix of the above model "
   ]
  },
  {
   "cell_type": "code",
   "execution_count": 16,
   "metadata": {},
   "outputs": [
    {
     "name": "stdout",
     "output_type": "stream",
     "text": [
      "[[   79  3500]\n",
      " [  389 17032]]\n"
     ]
    },
    {
     "data": {
      "image/png": "[encoded data removed]",
      "text/plain": [
       "<Figure size 648x648 with 2 Axes>"
      ]
     },
     "metadata": {
      "needs_background": "light"
     },
     "output_type": "display_data"
    },
    {
     "name": "stdout",
     "output_type": "stream",
     "text": [
      "\n",
      "+-------------------------------------------------------------+\n",
      "| The performance metrics of the above model are as follows:  |\n",
      "+----------------------------------+--------------------------+\n",
      "|             Metrics              |          Scores          |\n",
      "+----------------------------------+--------------------------+\n",
      "|     Classification_accuracy      |    81.48095238095237     |\n",
      "|       Classification_error       |    18.51904761904762     |\n",
      "|          True positive           |          17032           |\n",
      "|          False positive          |           3500           |\n",
      "|          True negative           |            79            |\n",
      "|          False negative          |           389            |\n",
      "|        True positive rate        |    97.76706274037082     |\n",
      "|       False negative rate        |    2.232937259629183     |\n",
      "|        True negative rate        |    2.207320480581168     |\n",
      "|       False positive rate        |    97.79267951941884     |\n",
      "|         Precision value          |     82.9534385349698     |\n",
      "|           Recall value           |    97.76706274037082     |\n",
      "|          f1_score value          |    89.75311569572894     |\n",
      "+----------------------------------+--------------------------+\n"
     ]
    }
   ],
   "source": [
    "Confusion_metric(y_cv,tf_pred,tf_acc)"
   ]
  },
  {
   "cell_type": "markdown",
   "metadata": {},
   "source": [
    "<ul>\n",
    "    <li>The above model is very bad as the performance metrics of the above Random-forest model with default parameters are very bad and are on lower side.</li>\n",
    "    <li>I think here the model is over-fitting and can be improved if the hyper-parameters are properly tuned.</li> "
   ]
  },
  {
   "cell_type": "markdown",
   "metadata": {},
   "source": [
    "###  Hyper parameter tuning using the Grid-search technique"
   ]
  },
  {
   "cell_type": "code",
   "execution_count": 34,
   "metadata": {},
   "outputs": [
    {
     "name": "stdout",
     "output_type": "stream",
     "text": [
      "Best: 0.846216 using {'max_depth': 70, 'n_estimators': 800}\n",
      "0.731154 (0.072967) with: {'max_depth': 10, 'n_estimators': 100}\n",
      "0.797845 (0.046033) with: {'max_depth': 10, 'n_estimators': 400}\n",
      "0.801053 (0.045028) with: {'max_depth': 10, 'n_estimators': 600}\n",
      "0.808940 (0.042125) with: {'max_depth': 10, 'n_estimators': 800}\n",
      "0.812123 (0.040839) with: {'max_depth': 10, 'n_estimators': 1000}\n",
      "0.834240 (0.026775) with: {'max_depth': 36, 'n_estimators': 100}\n",
      "0.843253 (0.020414) with: {'max_depth': 36, 'n_estimators': 400}\n",
      "0.844208 (0.019704) with: {'max_depth': 36, 'n_estimators': 600}\n",
      "0.844624 (0.018825) with: {'max_depth': 36, 'n_estimators': 800}\n",
      "0.844257 (0.019578) with: {'max_depth': 36, 'n_estimators': 1000}\n",
      "0.836909 (0.025604) with: {'max_depth': 40, 'n_estimators': 100}\n",
      "0.844624 (0.019088) with: {'max_depth': 40, 'n_estimators': 400}\n",
      "0.844893 (0.018771) with: {'max_depth': 40, 'n_estimators': 600}\n",
      "0.845163 (0.018507) with: {'max_depth': 40, 'n_estimators': 800}\n",
      "0.845677 (0.018262) with: {'max_depth': 40, 'n_estimators': 1000}\n",
      "0.845310 (0.018305) with: {'max_depth': 70, 'n_estimators': 100}\n",
      "0.846020 (0.017628) with: {'max_depth': 70, 'n_estimators': 400}\n",
      "0.845898 (0.017653) with: {'max_depth': 70, 'n_estimators': 600}\n",
      "0.846216 (0.017601) with: {'max_depth': 70, 'n_estimators': 800}\n",
      "0.846192 (0.017455) with: {'max_depth': 70, 'n_estimators': 1000}\n",
      "0.846069 (0.017712) with: {'max_depth': 100, 'n_estimators': 100}\n",
      "0.845947 (0.017557) with: {'max_depth': 100, 'n_estimators': 400}\n",
      "0.845849 (0.017641) with: {'max_depth': 100, 'n_estimators': 600}\n",
      "0.845873 (0.017674) with: {'max_depth': 100, 'n_estimators': 800}\n",
      "0.845751 (0.017749) with: {'max_depth': 100, 'n_estimators': 1000}\n",
      "--- 4084.4005765914917 seconds ---\n"
     ]
    },
    {
     "data": {
      "image/png": "[encoded data removed]",
      "text/plain": [
       "<Figure size 864x504 with 1 Axes>"
      ]
     },
     "metadata": {
      "needs_background": "light"
     },
     "output_type": "display_data"
    }
   ],
   "source": [
    "### import time\n",
    "start_time = time.time()\n",
    "\n",
    "#Tuning the parameters to be given\n",
    "n_estimators = [100,400,600,800,1000]\n",
    "max_depth=[10,36,40,70,100]\n",
    "\n",
    "#Creating dictionary of parameters to be considered\n",
    "Param= dict( n_estimators=n_estimators,max_depth=max_depth)\n",
    "\n",
    "#Hyperarameter tuning the parameters using Gridsearch cross_validation technique\n",
    "Gridsearch_tuning(Param,tfx_tr,y_tr)\n",
    "\n",
    "\n",
    "print(\"--- %s seconds ---\" % (time.time() - start_time))\n"
   ]
  },
  {
   "cell_type": "markdown",
   "metadata": {},
   "source": [
    "###  Testing the Random-forest  model with optiamal hyper-parameters"
   ]
  },
  {
   "cell_type": "code",
   "execution_count": 18,
   "metadata": {},
   "outputs": [
    {
     "name": "stdout",
     "output_type": "stream",
     "text": [
      "The model score on train set is=  0.9762448979591837\n",
      "\n",
      "The accuracy of the random forest using best parameters over Test set is =  81% \n"
     ]
    }
   ],
   "source": [
    "Y_Pred,New_acc=tuned_test( tfx_tr,y_tr,tfx_test,y_test,800,70)     "
   ]
  },
  {
   "cell_type": "markdown",
   "metadata": {},
   "source": [
    "### Confusion matrix of the above model"
   ]
  },
  {
   "cell_type": "code",
   "execution_count": 20,
   "metadata": {},
   "outputs": [
    {
     "name": "stdout",
     "output_type": "stream",
     "text": [
      "[[   90  5180]\n",
      " [  452 24278]]\n"
     ]
    },
    {
     "data": {
      "image/png": "[encoded data removed]",
      "text/plain": [
       "<Figure size 648x648 with 2 Axes>"
      ]
     },
     "metadata": {
      "needs_background": "light"
     },
     "output_type": "display_data"
    },
    {
     "name": "stdout",
     "output_type": "stream",
     "text": [
      "\n",
      "+-------------------------------------------------------------+\n",
      "| The performance metrics of the above model are as follows:  |\n",
      "+---------------------------------+---------------------------+\n",
      "|             Metrics             |           Scores          |\n",
      "+---------------------------------+---------------------------+\n",
      "|     Classification_accuracy     |     81.22666666666667     |\n",
      "|       Classification_error      |     18.773333333333333    |\n",
      "|          True positive          |           24278           |\n",
      "|          False positive         |            5180           |\n",
      "|          True negative          |             90            |\n",
      "|          False negative         |            452            |\n",
      "|        True positive rate       |      98.1722604124545     |\n",
      "|       False negative rate       |     1.8277395875454912    |\n",
      "|        True negative rate       |     1.7077798861480076    |\n",
      "|       False positive rate       |      98.292220113852      |\n",
      "|         Precision value         |     82.41564260981737     |\n",
      "|           Recall value          |      98.1722604124545     |\n",
      "|          f1_score value         |     89.60655495681702     |\n",
      "+---------------------------------+---------------------------+\n"
     ]
    }
   ],
   "source": [
    "Confusion_metric(y_test,Y_Pred,New_acc)"
   ]
  },
  {
   "cell_type": "markdown",
   "metadata": {},
   "source": [
    "<h3> OBSERVATIONS</h3>\n",
    "<ul>\n",
    "    <li>The optimal depth and the number of base learners after doing Gridsearch is 70 and 800 since Random-forest is a low bias and high variance model this parameters are optimal as the variance should be high.</li>\n",
    "    <li>The test accuracy with optimal parameters is 80.61% which is quite misleading as the performance metrics of the model are model and the model is not at all sensible.</li>\n",
    "    <li>Since the decision trees did not work well with the high dimensional text data so here random forest also fails because the underlying base-learners are Decison-trees.\n",
    "    <li>So Random-forest classiffier does not work well with the text data and on the TF-IDF vectorization technique because its dImensions are even higher than the  previous Bag-of-Words Vectorization technique.</li>"
   ]
  },
  {
   "cell_type": "markdown",
   "metadata": {},
   "source": [
    "### Implementing the Average Word 2 vec Vectorization technique"
   ]
  },
  {
   "cell_type": "code",
   "execution_count": 21,
   "metadata": {},
   "outputs": [],
   "source": [
    "#code for finding the average word2vec\n",
    "\n",
    "#Utility function for implementing the Average-word2vec-vectorization techniques\n",
    "\n",
    "import gensim\n",
    "from gensim.models import word2vec\n",
    "from gensim.models import KeyedVectors\n",
    "\n",
    "def Average_word2Vec (X_tr,X_test):\n",
    "    \n",
    "# Train our own Word2Vec model using text corpus\n",
    "    Train_sentence_list=[]\n",
    "    for sentence in X_tr:\n",
    "        Train_sentence_list.append(sentence.split())\n",
    "    \n",
    "    Test_sentence_list=[]\n",
    "    for sentence in X_test:\n",
    "        Test_sentence_list.append(sentence.split())\n",
    "   \n",
    "    print(\"length of train list set is as follows: \",len(Train_sentence_list))\n",
    "    print(\"length of test list set is as follows : \",len(Test_sentence_list))\n",
    "    print(\"*\"*100)\n",
    "\n",
    "# Generate model and train our model on train data\n",
    "    w2v_model=w2v_model_train =gensim.models.Word2Vec(Train_sentence_list,min_count=5,size=50, workers=6)\n",
    "\n",
    "    # List of word in vocabulary \n",
    "    w2v_words = list(w2v_model_train.wv.vocab)\n",
    "    print(\"length of the W2v vocabulary is : \",len(w2v_words))\n",
    "\n",
    "#Finding the average word2vec over the train set\n",
    "    train_list = []\n",
    "    for sentence in Train_sentence_list:\n",
    "        word_2_vec = np.zeros(50)\n",
    "        cnt_words = 0\n",
    "        for word in sentence:\n",
    "            if word in w2v_words:\n",
    "                vec = w2v_model.wv[word]\n",
    "                word_2_vec += vec\n",
    "                cnt_words += 1\n",
    "        if cnt_words != 0 :\n",
    "            word_2_vec /= cnt_words\n",
    "        train_list.append(word_2_vec)\n",
    "    \n",
    " #Finding the average word2vec over the test set    \n",
    "    test_list = []\n",
    "    for sentence in Test_sentence_list:\n",
    "        word_2_vec = np.zeros(50)\n",
    "        cnt_words = 0\n",
    "        for word in sentence:\n",
    "            if word in w2v_words:\n",
    "                vec = w2v_model.wv[word]\n",
    "                word_2_vec += vec\n",
    "                cnt_words += 1\n",
    "        if cnt_words != 0 :\n",
    "            word_2_vec /= cnt_words\n",
    "        test_list.append(word_2_vec)\n",
    "    \n",
    "    \n",
    "    print(\"The size of the trained average word2vec is :\",len(train_list))\n",
    "    print(\"The dimensions of average word2vec is :\",len(train_list[0]))\n",
    "    print()\n",
    "    print(\"The size of the test average word2vec is :\",len(test_list))\n",
    "    print(\"The dimensions of the test average word2vec is :\",len(test_list[0]))\n",
    "    \n",
    "    return Train_sentence_list,Test_sentence_list,w2v_model,w2v_words,train_list,test_list\n",
    "\n"
   ]
  },
  {
   "cell_type": "markdown",
   "metadata": {},
   "source": [
    "### Preparing the datapoints by applying average word2vec technique"
   ]
  },
  {
   "cell_type": "code",
   "execution_count": 22,
   "metadata": {},
   "outputs": [
    {
     "name": "stdout",
     "output_type": "stream",
     "text": [
      "length of train list set is as follows:  49000\n",
      "length of test list set is as follows :  30000\n",
      "****************************************************************************************************\n",
      "length of the W2v vocabulary is :  9340\n",
      "The size of the trained average word2vec is : 49000\n",
      "The dimensions of average word2vec is : 50\n",
      "\n",
      "The size of the test average word2vec is : 30000\n",
      "The dimensions of the test average word2vec is : 50\n"
     ]
    }
   ],
   "source": [
    "Train=X_tr[\"CleanedText\"]\n",
    "Test=X_test[\"CleanedText\"]\n",
    "\n",
    "tr_list,tes_list,model,words,trw2v,testw2v=Average_word2Vec(Train,Test)"
   ]
  },
  {
   "cell_type": "markdown",
   "metadata": {},
   "source": [
    "### Training the random forest model over the average word-to-vectorized technique "
   ]
  },
  {
   "cell_type": "code",
   "execution_count": 23,
   "metadata": {},
   "outputs": [
    {
     "name": "stdout",
     "output_type": "stream",
     "text": [
      "The model score on train set is=  0.9764897959183674\n",
      "\n",
      "The accuracy of Random-forest over cross-validation set is =  80% \n"
     ]
    }
   ],
   "source": [
    "avg_pred,avg_acc=train(trw2v,y_tr,testw2v,y_test)"
   ]
  },
  {
   "cell_type": "markdown",
   "metadata": {},
   "source": [
    "### Confusion matix of the above model is as follows "
   ]
  },
  {
   "cell_type": "code",
   "execution_count": 24,
   "metadata": {},
   "outputs": [
    {
     "name": "stdout",
     "output_type": "stream",
     "text": [
      "[[  130  5140]\n",
      " [  567 24163]]\n"
     ]
    },
    {
     "data": {
      "image/png": "[encoded data removed]",
      "text/plain": [
       "<Figure size 648x648 with 2 Axes>"
      ]
     },
     "metadata": {
      "needs_background": "light"
     },
     "output_type": "display_data"
    },
    {
     "name": "stdout",
     "output_type": "stream",
     "text": [
      "\n",
      "+-------------------------------------------------------------+\n",
      "| The performance metrics of the above model are as follows:  |\n",
      "+---------------------------------+---------------------------+\n",
      "|             Metrics             |           Scores          |\n",
      "+---------------------------------+---------------------------+\n",
      "|     Classification_accuracy     |     80.97666666666666     |\n",
      "|       Classification_error      |     19.023333333333333    |\n",
      "|          True positive          |           24163           |\n",
      "|          False positive         |            5140           |\n",
      "|          True negative          |            130            |\n",
      "|          False negative         |            567            |\n",
      "|        True positive rate       |     97.70723817226042     |\n",
      "|       False negative rate       |     2.2927618277395876    |\n",
      "|        True negative rate       |     2.4667931688804554    |\n",
      "|       False positive rate       |     97.53320683111954     |\n",
      "|         Precision value         |     82.45913387707743     |\n",
      "|           Recall value          |     97.70723817226042     |\n",
      "|          f1_score value         |     89.43793607610165     |\n",
      "+---------------------------------+---------------------------+\n"
     ]
    }
   ],
   "source": [
    "Confusion_metric(y_test,avg_pred,avg_acc)"
   ]
  },
  {
   "cell_type": "markdown",
   "metadata": {},
   "source": []
  },
  {
   "cell_type": "markdown",
   "metadata": {},
   "source": [
    "### Hyper-parameter tuning the above model with Grid-search technique"
   ]
  },
  {
   "cell_type": "code",
   "execution_count": 25,
   "metadata": {},
   "outputs": [
    {
     "name": "stdout",
     "output_type": "stream",
     "text": [
      "Best: 0.845653 using {'max_depth': 36, 'n_estimators': 400}\n",
      "0.795738 (0.042554) with: {'max_depth': 10, 'n_estimators': 100}\n",
      "0.811266 (0.039752) with: {'max_depth': 10, 'n_estimators': 400}\n",
      "0.816091 (0.035739) with: {'max_depth': 10, 'n_estimators': 600}\n",
      "0.817610 (0.034130) with: {'max_depth': 10, 'n_estimators': 800}\n",
      "0.815699 (0.036623) with: {'max_depth': 10, 'n_estimators': 1000}\n",
      "0.845628 (0.017777) with: {'max_depth': 36, 'n_estimators': 100}\n",
      "0.845653 (0.017793) with: {'max_depth': 36, 'n_estimators': 400}\n",
      "0.845628 (0.017820) with: {'max_depth': 36, 'n_estimators': 600}\n",
      "0.845628 (0.017820) with: {'max_depth': 36, 'n_estimators': 800}\n",
      "0.845628 (0.017820) with: {'max_depth': 36, 'n_estimators': 1000}\n",
      "0.845653 (0.017793) with: {'max_depth': 40, 'n_estimators': 100}\n",
      "0.845628 (0.017820) with: {'max_depth': 40, 'n_estimators': 400}\n",
      "0.845628 (0.017820) with: {'max_depth': 40, 'n_estimators': 600}\n",
      "0.845628 (0.017820) with: {'max_depth': 40, 'n_estimators': 800}\n",
      "0.845628 (0.017820) with: {'max_depth': 40, 'n_estimators': 1000}\n",
      "0.845628 (0.017820) with: {'max_depth': 70, 'n_estimators': 100}\n",
      "0.845628 (0.017820) with: {'max_depth': 70, 'n_estimators': 400}\n",
      "0.845628 (0.017820) with: {'max_depth': 70, 'n_estimators': 600}\n",
      "0.845628 (0.017820) with: {'max_depth': 70, 'n_estimators': 800}\n",
      "0.845628 (0.017820) with: {'max_depth': 70, 'n_estimators': 1000}\n",
      "0.845604 (0.017827) with: {'max_depth': 100, 'n_estimators': 100}\n",
      "0.845628 (0.017820) with: {'max_depth': 100, 'n_estimators': 400}\n",
      "0.845628 (0.017820) with: {'max_depth': 100, 'n_estimators': 600}\n",
      "0.845628 (0.017820) with: {'max_depth': 100, 'n_estimators': 800}\n",
      "0.845628 (0.017820) with: {'max_depth': 100, 'n_estimators': 1000}\n",
      "--- 2406.704621553421 seconds ---\n"
     ]
    },
    {
     "data": {
      "image/png": "[encoded data removed]",
      "text/plain": [
       "<Figure size 864x504 with 1 Axes>"
      ]
     },
     "metadata": {
      "needs_background": "light"
     },
     "output_type": "display_data"
    }
   ],
   "source": [
    "import time\n",
    "start_time = time.time()\n",
    "\n",
    "#Tuning the parameters to be given\n",
    "n_estimators = [100,400,600,800,1000]\n",
    "max_depth=[10,36,40,70,100]\n",
    "\n",
    "#Creating dictionary of parameters to be considered\n",
    "Avg_Param= dict( n_estimators=n_estimators,max_depth=max_depth)\n",
    "\n",
    "#Hyperarameter tuning the parameters using Gridsearch cross_validation technique\n",
    "Gridsearch_tuning(Avg_Param,trw2v,y_tr)\n",
    "\n",
    "\n",
    "print(\"--- %s seconds ---\" % (time.time() - start_time))\n"
   ]
  },
  {
   "cell_type": "markdown",
   "metadata": {},
   "source": [
    "### Testing the above model with optimal hyper-parameters"
   ]
  },
  {
   "cell_type": "code",
   "execution_count": 26,
   "metadata": {},
   "outputs": [
    {
     "name": "stdout",
     "output_type": "stream",
     "text": [
      "The model score on train set is=  0.9836938775510204\n",
      "\n",
      "The accuracy of the random forest using best parameters over Test set is =  81% \n"
     ]
    }
   ],
   "source": [
    "avg_Y_Pred,avg_acc=tuned_test( trw2v,y_tr,testw2v,y_test,400,36)     "
   ]
  },
  {
   "cell_type": "code",
   "execution_count": 27,
   "metadata": {},
   "outputs": [
    {
     "name": "stdout",
     "output_type": "stream",
     "text": [
      "[[   96  5174]\n",
      " [  456 24274]]\n"
     ]
    },
    {
     "data": {
      "image/png": "[encoded data removed]",
      "text/plain": [
       "<Figure size 648x648 with 2 Axes>"
      ]
     },
     "metadata": {
      "needs_background": "light"
     },
     "output_type": "display_data"
    },
    {
     "name": "stdout",
     "output_type": "stream",
     "text": [
      "\n",
      "+-------------------------------------------------------------+\n",
      "| The performance metrics of the above model are as follows:  |\n",
      "+---------------------------------+---------------------------+\n",
      "|             Metrics             |           Scores          |\n",
      "+---------------------------------+---------------------------+\n",
      "|     Classification_accuracy     |     81.23333333333333     |\n",
      "|       Classification_error      |     18.76666666666667     |\n",
      "|          True positive          |           24274           |\n",
      "|          False positive         |            5174           |\n",
      "|          True negative          |             96            |\n",
      "|          False negative         |            456            |\n",
      "|        True positive rate       |     98.15608572583906     |\n",
      "|       False negative rate       |     1.843914274160938     |\n",
      "|        True negative rate       |     1.8216318785578747    |\n",
      "|       False positive rate       |     98.17836812144213     |\n",
      "|         Precision value         |      82.4300461831024     |\n",
      "|           Recall value          |     98.15608572583906     |\n",
      "|          f1_score value         |      89.6083281036583     |\n",
      "+---------------------------------+---------------------------+\n"
     ]
    }
   ],
   "source": [
    "Confusion_metric(y_test,avg_Y_Pred,avg_acc)"
   ]
  },
  {
   "cell_type": "markdown",
   "metadata": {},
   "source": [
    "<h3> OBSERVATIONS</h3>\n",
    "<ul>\n",
    "    <li>The optimal depth and the number of base learners after doing Gridsearch is 36 and 400 since Random-forest is a low bias and high variance model this parameters are optimal as the variance should be high.</li>\n",
    "    <li>The test accuracy with optimal parameters is 80.23% which is quite misleading as the performance metrics of the model are model and the model is not at all sensible.</li>\n",
    "    <li>Since the decision trees did not work well with the high dimensional text data so here random forest also fails because the underlying base-learners are Decison-trees.\n",
    "    <li>So Random-forest classiffier does not work well with the text data and on the Average word-to vectorization technique.</li>"
   ]
  },
  {
   "cell_type": "markdown",
   "metadata": {},
   "source": [
    "### Implementing the Tf-IDF Weighted Word2Vec Vectorization technique "
   ]
  },
  {
   "cell_type": "code",
   "execution_count": 28,
   "metadata": {},
   "outputs": [],
   "source": [
    "\n",
    "def Tf_idf_vector( X_tr,train_list,test_list,model,words):\n",
    "    \n",
    "    Tfidf_vector=TfidfVectorizer()\n",
    "    Tf_train=Tfidf_vector.fit_transform( X_tr)\n",
    "    dictionary = dict(zip(Tfidf_vector.get_feature_names(), list(Tfidf_vector.idf_)))\n",
    "   \n",
    "    Train_sentence_list=train_list\n",
    "    Test_sentence_list=test_list\n",
    "    w2v_words=words\n",
    "    w2v_model= model\n",
    "    \n",
    "    train_list_vector=[]\n",
    "    row=0\n",
    "    for sentence in  Train_sentence_list:\n",
    "        word_2_vec=np.zeros(50)\n",
    "        weight_tfidf_sum=0\n",
    "        for word in sentence:\n",
    "            if word in w2v_words:\n",
    "                vec=w2v_model.wv[word]\n",
    "            #tfidf_value=Tf_train[row,Dimension.index(word)]\n",
    "                tf_idf = dictionary[word]*sentence.count(word)\n",
    "                word_2_vec +=(vec *tf_idf)\n",
    "                weight_tfidf_sum +=tf_idf\n",
    "        if weight_tfidf_sum !=0:\n",
    "            word_2_vec /=weight_tfidf_sum\n",
    "        train_list_vector.append(word_2_vec)\n",
    "        row +=1\n",
    "    print(len(train_list_vector))\n",
    "    print(len(train_list_vector[0]))\n",
    "\n",
    "    \n",
    "    TEST_LIST_VECTOR=[]\n",
    "    Row=0\n",
    "    for sentence in  Test_sentence_list:\n",
    "        word_2_vec=np.zeros(50)\n",
    "        weight_tf_sum=0\n",
    "        for word in sentence:\n",
    "            if word in w2v_words:\n",
    "                vec=w2v_model.wv[word]\n",
    "            #tfidf_value=Tf_test[Row,Dimension.index(word)]\n",
    "                tf_idf = dictionary[word]*sentence.count(word)\n",
    "                word_2_vec += (vec* tf_idf)\n",
    "                weight_tf_sum += tf_idf\n",
    "        if weight_tf_sum !=0:\n",
    "            word_2_vec /=weight_tf_sum\n",
    "        TEST_LIST_VECTOR.append(word_2_vec)\n",
    "        row += 1\n",
    "    print(len(TEST_LIST_VECTOR))\n",
    "    print(len(TEST_LIST_VECTOR[0]))\n",
    "\n",
    "    return train_list_vector,TEST_LIST_VECTOR\n",
    "\n",
    "\n"
   ]
  },
  {
   "cell_type": "markdown",
   "metadata": {},
   "source": [
    "### Preparing the datapoints for the Tf-Idf weighted vectorization technique "
   ]
  },
  {
   "cell_type": "code",
   "execution_count": 29,
   "metadata": {},
   "outputs": [
    {
     "name": "stdout",
     "output_type": "stream",
     "text": [
      "49000\n",
      "50\n",
      "30000\n",
      "50\n"
     ]
    }
   ],
   "source": [
    "Xtrain=X_tr[\"CleanedText\"]\n",
    "\n",
    "tfidf_tr,tfidf_test=Tf_idf_vector(Xtrain,tr_list,tes_list,model,words)"
   ]
  },
  {
   "cell_type": "markdown",
   "metadata": {},
   "source": [
    "### Training the model over the default parameters"
   ]
  },
  {
   "cell_type": "code",
   "execution_count": 30,
   "metadata": {},
   "outputs": [
    {
     "name": "stdout",
     "output_type": "stream",
     "text": [
      "The model score on train set is=  0.9757755102040816\n",
      "\n",
      "The accuracy of Random-forest over cross-validation set is =  80% \n"
     ]
    }
   ],
   "source": [
    "tfw2v_pred,tfw2v_acc=train(tfidf_tr,y_tr,tfidf_test,y_test)"
   ]
  },
  {
   "cell_type": "markdown",
   "metadata": {},
   "source": [
    "### Confusion matrix of the above model "
   ]
  },
  {
   "cell_type": "code",
   "execution_count": null,
   "metadata": {},
   "outputs": [],
   "source": [
    "Confusion_metric(y_test,avg_Y_Pred,avg_acc)"
   ]
  },
  {
   "cell_type": "code",
   "execution_count": 31,
   "metadata": {},
   "outputs": [
    {
     "name": "stdout",
     "output_type": "stream",
     "text": [
      "Best: 0.845628 using {'max_depth': 36, 'n_estimators': 100}\n",
      "0.804213 (0.041811) with: {'max_depth': 10, 'n_estimators': 100}\n",
      "0.818540 (0.034875) with: {'max_depth': 10, 'n_estimators': 400}\n",
      "0.819324 (0.033787) with: {'max_depth': 10, 'n_estimators': 600}\n",
      "0.820402 (0.034054) with: {'max_depth': 10, 'n_estimators': 800}\n",
      "0.820598 (0.033677) with: {'max_depth': 10, 'n_estimators': 1000}\n",
      "0.845628 (0.017806) with: {'max_depth': 36, 'n_estimators': 100}\n",
      "0.845604 (0.017827) with: {'max_depth': 36, 'n_estimators': 400}\n",
      "0.845579 (0.017834) with: {'max_depth': 36, 'n_estimators': 600}\n",
      "0.845604 (0.017827) with: {'max_depth': 36, 'n_estimators': 800}\n",
      "0.845604 (0.017827) with: {'max_depth': 36, 'n_estimators': 1000}\n",
      "0.845604 (0.017827) with: {'max_depth': 40, 'n_estimators': 100}\n",
      "0.845604 (0.017827) with: {'max_depth': 40, 'n_estimators': 400}\n",
      "0.845604 (0.017827) with: {'max_depth': 40, 'n_estimators': 600}\n",
      "0.845604 (0.017827) with: {'max_depth': 40, 'n_estimators': 800}\n",
      "0.845604 (0.017827) with: {'max_depth': 40, 'n_estimators': 1000}\n",
      "0.845628 (0.017806) with: {'max_depth': 70, 'n_estimators': 100}\n",
      "0.845604 (0.017827) with: {'max_depth': 70, 'n_estimators': 400}\n",
      "0.845604 (0.017827) with: {'max_depth': 70, 'n_estimators': 600}\n",
      "0.845604 (0.017827) with: {'max_depth': 70, 'n_estimators': 800}\n",
      "0.845604 (0.017827) with: {'max_depth': 70, 'n_estimators': 1000}\n",
      "0.845604 (0.017827) with: {'max_depth': 100, 'n_estimators': 100}\n",
      "0.845579 (0.017834) with: {'max_depth': 100, 'n_estimators': 400}\n",
      "0.845604 (0.017827) with: {'max_depth': 100, 'n_estimators': 600}\n",
      "0.845604 (0.017827) with: {'max_depth': 100, 'n_estimators': 800}\n",
      "0.845604 (0.017827) with: {'max_depth': 100, 'n_estimators': 1000}\n",
      "--- 2283.6017961502075 seconds ---\n"
     ]
    },
    {
     "data": {
      "image/png": "[encoded data removed]",
      "text/plain": [
       "<Figure size 864x504 with 1 Axes>"
      ]
     },
     "metadata": {
      "needs_background": "light"
     },
     "output_type": "display_data"
    }
   ],
   "source": [
    "import time\n",
    "start_time = time.time()\n",
    "\n",
    "#Tuning the parameters to be given\n",
    "n_estimators = [100,400,600,800,1000]\n",
    "max_depth=[10,36,40,70,100]\n",
    "\n",
    "#Creating dictionary of parameters to be considered\n",
    "tfw2v_Param= dict( n_estimators=n_estimators,max_depth=max_depth)\n",
    "\n",
    "#Hyperarameter tuning the parameters using Gridsearch cross_validation technique\n",
    "Gridsearch_tuning(tfw2v_Param,tfidf_tr,y_tr)\n",
    "\n",
    "\n",
    "print(\"--- %s seconds ---\" % (time.time() - start_time))\n"
   ]
  },
  {
   "cell_type": "markdown",
   "metadata": {},
   "source": [
    "### Testing the data with optimal hyperparameters"
   ]
  },
  {
   "cell_type": "code",
   "execution_count": 32,
   "metadata": {},
   "outputs": [
    {
     "name": "stdout",
     "output_type": "stream",
     "text": [
      "The model score on train set is=  0.9837959183673469\n",
      "\n",
      "The accuracy of the random forest using best parameters over Test set is =  81% \n"
     ]
    }
   ],
   "source": [
    "tfw2v_Y_Pred,tfw2v_Acc=tuned_test( tfidf_tr,y_tr,tfidf_test,y_test,100,36)     "
   ]
  },
  {
   "cell_type": "markdown",
   "metadata": {},
   "source": [
    "### Confusion matrix of the above model"
   ]
  },
  {
   "cell_type": "code",
   "execution_count": 33,
   "metadata": {},
   "outputs": [
    {
     "name": "stdout",
     "output_type": "stream",
     "text": [
      "[[   96  5174]\n",
      " [  456 24274]]\n"
     ]
    },
    {
     "data": {
      "image/png": "[encoded data removed]",
      "text/plain": [
       "<Figure size 648x648 with 2 Axes>"
      ]
     },
     "metadata": {
      "needs_background": "light"
     },
     "output_type": "display_data"
    },
    {
     "name": "stdout",
     "output_type": "stream",
     "text": [
      "\n",
      "+-------------------------------------------------------------+\n",
      "| The performance metrics of the above model are as follows:  |\n",
      "+---------------------------------+---------------------------+\n",
      "|             Metrics             |           Scores          |\n",
      "+---------------------------------+---------------------------+\n",
      "|     Classification_accuracy     |     81.23333333333333     |\n",
      "|       Classification_error      |     18.76666666666667     |\n",
      "|          True positive          |           24274           |\n",
      "|          False positive         |            5174           |\n",
      "|          True negative          |             96            |\n",
      "|          False negative         |            456            |\n",
      "|        True positive rate       |     98.15608572583906     |\n",
      "|       False negative rate       |     1.843914274160938     |\n",
      "|        True negative rate       |     1.8216318785578747    |\n",
      "|       False positive rate       |     98.17836812144213     |\n",
      "|         Precision value         |      82.4300461831024     |\n",
      "|           Recall value          |     98.15608572583906     |\n",
      "|          f1_score value         |      89.6083281036583     |\n",
      "+---------------------------------+---------------------------+\n"
     ]
    }
   ],
   "source": [
    "Confusion_metric(y_test,tfw2v_Y_Pred,tfw2v_Acc)"
   ]
  },
  {
   "cell_type": "markdown",
   "metadata": {},
   "source": [
    "<h3> OBSERVATIONS</h3>\n",
    "<ul>\n",
    "    <li>The optimal depth and the number of base learners after doing Gridsearch is 36 and 100 since Random-forest is a low bias and high variance model this parameters are optimal as the variance should be high.</li>\n",
    "    <li>The test accuracy with optimal parameters is 81.23% which is quite misleading as the performance metrics of the model are model and the model is not at all sensible.</li>\n",
    "    <li>Since the decision trees did not work well with the high dimensional text data so here random forest also fails because the underlying base-learners are Decison-trees.\n",
    "    <li>So Random-forest classiffier does not work well with the text data and on the Tf-idf weighted word2vector vectorization.</li>"
   ]
  },
  {
   "cell_type": "code",
   "execution_count": null,
   "metadata": {},
   "outputs": [],
   "source": []
  },
  {
   "cell_type": "markdown",
   "metadata": {},
   "source": [
    "<h2>Conclusion</h2>\n",
    "<ul>\n",
    "    <li>By studying the performance of Random forest classiffier on all the vectorization technique it is clear that random forest does not work well for high dimensional text data.</li>\n",
    "    <li>For optimal performance of the number of base learners must be high and same as the depth of the tree since random forest is a bagging algorithm of low bias and high variance model.</li>\n",
    "        \n"
   ]
  },
  {
   "cell_type": "code",
   "execution_count": null,
   "metadata": {},
   "outputs": [],
   "source": []
  },
  {
   "cell_type": "code",
   "execution_count": null,
   "metadata": {},
   "outputs": [],
   "source": []
  }
 ],
 "metadata": {
  "kernelspec": {
   "display_name": "Python 3",
   "language": "python",
   "name": "python3"
  },
  "language_info": {
   "codemirror_mode": {
    "name": "ipython",
    "version": 3
   },
   "file_extension": ".py",
   "mimetype": "text/x-python",
   "name": "python",
   "nbconvert_exporter": "python",
   "pygments_lexer": "ipython3",
   "version": "3.6.5"
  }
 },
 "nbformat": 4,
 "nbformat_minor": 2
}
