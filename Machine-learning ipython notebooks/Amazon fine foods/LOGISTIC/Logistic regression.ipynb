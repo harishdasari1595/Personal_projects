{
 "cells": [
  {
   "cell_type": "markdown",
   "metadata": {},
   "source": [
    "<h1>Applying Logistic regression on Amazon fine food reviews dataset </h1>\n",
    "<ol>\n",
    "    <li>Dataset:Amazon fine food reviews dataset.</li>\n",
    "    <li>Vectorizers used here are:-Bag of words,Tf-idf,Average Word 2 Vec and Tfidf weighted Word 2 vec.</li>\n",
    "    <li>Regularizers used here are:-\"L1 and L2\" regularizations.</li>\n",
    "    <li>Feature Importance Techniques:Recursive Feature Elimination (RFE) and Cross-validation (RFECV).</li>\n",
    "    <li>Metrics used here are:-Confusion metrics, Accuracy as a score metric is used here.</li> \n",
    "        "
   ]
  },
  {
   "cell_type": "code",
   "execution_count": 24,
   "metadata": {},
   "outputs": [],
   "source": [
    "#Importing important libraries\n",
    "\n",
    "%matplotlib inline\n",
    "\n",
    "import sqlite3\n",
    "import pandas as pd\n",
    "import numpy as np\n",
    "import nltk\n",
    "import string\n",
    "import matplotlib.pyplot as plt\n",
    "import seaborn as sns\n",
    "from sklearn.feature_extraction.text import TfidfTransformer\n",
    "from sklearn.feature_extraction.text import TfidfVectorizer\n",
    "import itertools\n",
    "from sklearn.feature_extraction.text import CountVectorizer\n",
    "from sklearn.metrics import confusion_matrix\n",
    "from sklearn.metrics import precision_score\n",
    "from sklearn.metrics import recall_score\n",
    "from sklearn.metrics import f1_score\n",
    "\n",
    "from datetime import datetime\n",
    "from scipy.stats import norm\n",
    "from sklearn import metrics\n",
    "from nltk.stem.porter import PorterStemmer\n",
    "from sklearn.cross_validation import train_test_split\n",
    "from sklearn.metrics import accuracy_score\n",
    "from sklearn.cross_validation import cross_val_score\n",
    "from collections import Counter\n",
    "from sklearn import cross_validation\n",
    "from sklearn.model_selection import train_test_split\n",
    "import warnings\n",
    "warnings.filterwarnings(action='ignore')\n",
    "from sklearn.model_selection import train_test_split\n",
    "from sklearn.grid_search import GridSearchCV\n",
    "from sklearn.linear_model import LogisticRegression\n",
    "from sklearn.model_selection import RandomizedSearchCV\n",
    "from prettytable import PrettyTable\n",
    "\n",
    "\n",
    "\n"
   ]
  },
  {
   "cell_type": "markdown",
   "metadata": {},
   "source": [
    "<h3> Connecting to the preproccessed SQLite table</h3>"
   ]
  },
  {
   "cell_type": "code",
   "execution_count": 2,
   "metadata": {},
   "outputs": [
    {
     "data": {
      "text/plain": [
       "(364171, 12)"
      ]
     },
     "execution_count": 2,
     "metadata": {},
     "output_type": "execute_result"
    }
   ],
   "source": [
    "#Connecting to the SQL table\n",
    "con = sqlite3.connect('final.sqlite')\n",
    "\n",
    "#Reading data from the database\n",
    "\n",
    "Data = pd.read_sql_query(\"\"\"\n",
    "SELECT *\n",
    "FROM Reviews \"\"\",con)\n",
    "Data.shape"
   ]
  },
  {
   "cell_type": "code",
   "execution_count": 3,
   "metadata": {},
   "outputs": [],
   "source": [
    "# Drop index column\n",
    "Data.drop(columns=['index'],inplace=True)\n"
   ]
  },
  {
   "cell_type": "code",
   "execution_count": 4,
   "metadata": {},
   "outputs": [
    {
     "data": {
      "text/html": [
       "<div>\n",
       "<style scoped>\n",
       "    .dataframe tbody tr th:only-of-type {\n",
       "        vertical-align: middle;\n",
       "    }\n",
       "\n",
       "    .dataframe tbody tr th {\n",
       "        vertical-align: top;\n",
       "    }\n",
       "\n",
       "    .dataframe thead th {\n",
       "        text-align: right;\n",
       "    }\n",
       "</style>\n",
       "<table border=\"1\" class=\"dataframe\">\n",
       "  <thead>\n",
       "    <tr style=\"text-align: right;\">\n",
       "      <th></th>\n",
       "      <th>Id</th>\n",
       "      <th>ProductId</th>\n",
       "      <th>UserId</th>\n",
       "      <th>ProfileName</th>\n",
       "      <th>HelpfulnessNumerator</th>\n",
       "      <th>HelpfulnessDenominator</th>\n",
       "      <th>Score</th>\n",
       "      <th>Time</th>\n",
       "      <th>Summary</th>\n",
       "      <th>Text</th>\n",
       "      <th>CleanedText</th>\n",
       "    </tr>\n",
       "  </thead>\n",
       "  <tbody>\n",
       "    <tr>\n",
       "      <th>0</th>\n",
       "      <td>150524</td>\n",
       "      <td>0006641040</td>\n",
       "      <td>ACITT7DI6IDDL</td>\n",
       "      <td>shari zychinski</td>\n",
       "      <td>0</td>\n",
       "      <td>0</td>\n",
       "      <td>positive</td>\n",
       "      <td>1970-01-01 00:00:00.939340800</td>\n",
       "      <td>EVERY book is educational</td>\n",
       "      <td>this witty little book makes my son laugh at l...</td>\n",
       "      <td>witti littl book make son laugh loud recit car...</td>\n",
       "    </tr>\n",
       "    <tr>\n",
       "      <th>1</th>\n",
       "      <td>150506</td>\n",
       "      <td>0006641040</td>\n",
       "      <td>A2IW4PEEKO2R0U</td>\n",
       "      <td>Tracy</td>\n",
       "      <td>1</td>\n",
       "      <td>1</td>\n",
       "      <td>positive</td>\n",
       "      <td>1970-01-01 00:00:01.194739200</td>\n",
       "      <td>Love the book, miss the hard cover version</td>\n",
       "      <td>I grew up reading these Sendak books, and watc...</td>\n",
       "      <td>grew read sendak book watch realli rosi movi i...</td>\n",
       "    </tr>\n",
       "    <tr>\n",
       "      <th>2</th>\n",
       "      <td>150507</td>\n",
       "      <td>0006641040</td>\n",
       "      <td>A1S4A3IQ2MU7V4</td>\n",
       "      <td>sally sue \"sally sue\"</td>\n",
       "      <td>1</td>\n",
       "      <td>1</td>\n",
       "      <td>positive</td>\n",
       "      <td>1970-01-01 00:00:01.191456000</td>\n",
       "      <td>chicken soup with rice months</td>\n",
       "      <td>This is a fun way for children to learn their ...</td>\n",
       "      <td>fun way children learn month year learn poem t...</td>\n",
       "    </tr>\n",
       "    <tr>\n",
       "      <th>3</th>\n",
       "      <td>150508</td>\n",
       "      <td>0006641040</td>\n",
       "      <td>AZGXZ2UUK6X</td>\n",
       "      <td>Catherine Hallberg \"(Kate)\"</td>\n",
       "      <td>1</td>\n",
       "      <td>1</td>\n",
       "      <td>positive</td>\n",
       "      <td>1970-01-01 00:00:01.076025600</td>\n",
       "      <td>a good swingy rhythm for reading aloud</td>\n",
       "      <td>This is a great little book to read aloud- it ...</td>\n",
       "      <td>great littl book read nice rhythm well good re...</td>\n",
       "    </tr>\n",
       "    <tr>\n",
       "      <th>4</th>\n",
       "      <td>150509</td>\n",
       "      <td>0006641040</td>\n",
       "      <td>A3CMRKGE0P909G</td>\n",
       "      <td>Teresa</td>\n",
       "      <td>3</td>\n",
       "      <td>4</td>\n",
       "      <td>positive</td>\n",
       "      <td>1970-01-01 00:00:01.018396800</td>\n",
       "      <td>A great way to learn the months</td>\n",
       "      <td>This is a book of poetry about the months of t...</td>\n",
       "      <td>book poetri month year goe month cute littl po...</td>\n",
       "    </tr>\n",
       "  </tbody>\n",
       "</table>\n",
       "</div>"
      ],
      "text/plain": [
       "       Id   ProductId          UserId                  ProfileName  \\\n",
       "0  150524  0006641040   ACITT7DI6IDDL              shari zychinski   \n",
       "1  150506  0006641040  A2IW4PEEKO2R0U                        Tracy   \n",
       "2  150507  0006641040  A1S4A3IQ2MU7V4        sally sue \"sally sue\"   \n",
       "3  150508  0006641040     AZGXZ2UUK6X  Catherine Hallberg \"(Kate)\"   \n",
       "4  150509  0006641040  A3CMRKGE0P909G                       Teresa   \n",
       "\n",
       "   HelpfulnessNumerator  HelpfulnessDenominator     Score  \\\n",
       "0                     0                       0  positive   \n",
       "1                     1                       1  positive   \n",
       "2                     1                       1  positive   \n",
       "3                     1                       1  positive   \n",
       "4                     3                       4  positive   \n",
       "\n",
       "                           Time                                     Summary  \\\n",
       "0 1970-01-01 00:00:00.939340800                   EVERY book is educational   \n",
       "1 1970-01-01 00:00:01.194739200  Love the book, miss the hard cover version   \n",
       "2 1970-01-01 00:00:01.191456000               chicken soup with rice months   \n",
       "3 1970-01-01 00:00:01.076025600      a good swingy rhythm for reading aloud   \n",
       "4 1970-01-01 00:00:01.018396800             A great way to learn the months   \n",
       "\n",
       "                                                Text  \\\n",
       "0  this witty little book makes my son laugh at l...   \n",
       "1  I grew up reading these Sendak books, and watc...   \n",
       "2  This is a fun way for children to learn their ...   \n",
       "3  This is a great little book to read aloud- it ...   \n",
       "4  This is a book of poetry about the months of t...   \n",
       "\n",
       "                                         CleanedText  \n",
       "0  witti littl book make son laugh loud recit car...  \n",
       "1  grew read sendak book watch realli rosi movi i...  \n",
       "2  fun way children learn month year learn poem t...  \n",
       "3  great littl book read nice rhythm well good re...  \n",
       "4  book poetri month year goe month cute littl po...  "
      ]
     },
     "execution_count": 4,
     "metadata": {},
     "output_type": "execute_result"
    }
   ],
   "source": [
    "#Converting the Time column into standard Date-time standard\n",
    "\n",
    "Data[\"Time\"]=pd.to_datetime(Data.Time)\n",
    "Data.head(5)"
   ]
  },
  {
   "cell_type": "code",
   "execution_count": 5,
   "metadata": {},
   "outputs": [],
   "source": [
    "#Setting Time column as index of the dataframe \n",
    "Data.set_index(\"Time\",inplace=True)\n",
    "\n",
    "#Sampling the above data\n",
    "Sorted=Data.sort_index()"
   ]
  },
  {
   "cell_type": "code",
   "execution_count": 6,
   "metadata": {},
   "outputs": [
    {
     "data": {
      "text/html": [
       "<div>\n",
       "<style scoped>\n",
       "    .dataframe tbody tr th:only-of-type {\n",
       "        vertical-align: middle;\n",
       "    }\n",
       "\n",
       "    .dataframe tbody tr th {\n",
       "        vertical-align: top;\n",
       "    }\n",
       "\n",
       "    .dataframe thead th {\n",
       "        text-align: right;\n",
       "    }\n",
       "</style>\n",
       "<table border=\"1\" class=\"dataframe\">\n",
       "  <thead>\n",
       "    <tr style=\"text-align: right;\">\n",
       "      <th></th>\n",
       "      <th>Id</th>\n",
       "      <th>ProductId</th>\n",
       "      <th>UserId</th>\n",
       "      <th>ProfileName</th>\n",
       "      <th>HelpfulnessNumerator</th>\n",
       "      <th>HelpfulnessDenominator</th>\n",
       "      <th>Score</th>\n",
       "      <th>Summary</th>\n",
       "      <th>Text</th>\n",
       "      <th>CleanedText</th>\n",
       "    </tr>\n",
       "    <tr>\n",
       "      <th>Time</th>\n",
       "      <th></th>\n",
       "      <th></th>\n",
       "      <th></th>\n",
       "      <th></th>\n",
       "      <th></th>\n",
       "      <th></th>\n",
       "      <th></th>\n",
       "      <th></th>\n",
       "      <th></th>\n",
       "      <th></th>\n",
       "    </tr>\n",
       "  </thead>\n",
       "  <tbody>\n",
       "    <tr>\n",
       "      <th>1970-01-01 00:00:00.939340800</th>\n",
       "      <td>150524</td>\n",
       "      <td>0006641040</td>\n",
       "      <td>ACITT7DI6IDDL</td>\n",
       "      <td>shari zychinski</td>\n",
       "      <td>0</td>\n",
       "      <td>0</td>\n",
       "      <td>positive</td>\n",
       "      <td>EVERY book is educational</td>\n",
       "      <td>this witty little book makes my son laugh at l...</td>\n",
       "      <td>witti littl book make son laugh loud recit car...</td>\n",
       "    </tr>\n",
       "    <tr>\n",
       "      <th>1970-01-01 00:00:00.940809600</th>\n",
       "      <td>150501</td>\n",
       "      <td>0006641040</td>\n",
       "      <td>AJ46FKXOVC7NR</td>\n",
       "      <td>Nicholas A Mesiano</td>\n",
       "      <td>2</td>\n",
       "      <td>2</td>\n",
       "      <td>positive</td>\n",
       "      <td>This whole series is great way to spend time w...</td>\n",
       "      <td>I can remember seeing the show when it aired o...</td>\n",
       "      <td>rememb see show air televis year ago child sis...</td>\n",
       "    </tr>\n",
       "    <tr>\n",
       "      <th>1970-01-01 00:00:00.944092800</th>\n",
       "      <td>451856</td>\n",
       "      <td>B00004CXX9</td>\n",
       "      <td>AIUWLEQ1ADEG5</td>\n",
       "      <td>Elizabeth Medina</td>\n",
       "      <td>0</td>\n",
       "      <td>0</td>\n",
       "      <td>positive</td>\n",
       "      <td>Entertainingl Funny!</td>\n",
       "      <td>Beetlejuice is a well written movie ..... ever...</td>\n",
       "      <td>beetlejuic well written movi everyth excel act...</td>\n",
       "    </tr>\n",
       "    <tr>\n",
       "      <th>1970-01-01 00:00:00.944438400</th>\n",
       "      <td>374359</td>\n",
       "      <td>B00004CI84</td>\n",
       "      <td>A344SMIA5JECGM</td>\n",
       "      <td>Vincent P. Ross</td>\n",
       "      <td>1</td>\n",
       "      <td>2</td>\n",
       "      <td>positive</td>\n",
       "      <td>A modern day fairy tale</td>\n",
       "      <td>A twist of rumplestiskin captured on film, sta...</td>\n",
       "      <td>twist rumplestiskin captur film star michael k...</td>\n",
       "    </tr>\n",
       "    <tr>\n",
       "      <th>1970-01-01 00:00:00.946857600</th>\n",
       "      <td>451855</td>\n",
       "      <td>B00004CXX9</td>\n",
       "      <td>AJH6LUC1UT1ON</td>\n",
       "      <td>The Phantom of the Opera</td>\n",
       "      <td>0</td>\n",
       "      <td>0</td>\n",
       "      <td>positive</td>\n",
       "      <td>FANTASTIC!</td>\n",
       "      <td>Beetlejuice is an excellent and funny movie. K...</td>\n",
       "      <td>beetlejuic excel funni movi keaton hilari wack...</td>\n",
       "    </tr>\n",
       "  </tbody>\n",
       "</table>\n",
       "</div>"
      ],
      "text/plain": [
       "                                   Id   ProductId          UserId  \\\n",
       "Time                                                                \n",
       "1970-01-01 00:00:00.939340800  150524  0006641040   ACITT7DI6IDDL   \n",
       "1970-01-01 00:00:00.940809600  150501  0006641040   AJ46FKXOVC7NR   \n",
       "1970-01-01 00:00:00.944092800  451856  B00004CXX9   AIUWLEQ1ADEG5   \n",
       "1970-01-01 00:00:00.944438400  374359  B00004CI84  A344SMIA5JECGM   \n",
       "1970-01-01 00:00:00.946857600  451855  B00004CXX9   AJH6LUC1UT1ON   \n",
       "\n",
       "                                            ProfileName  HelpfulnessNumerator  \\\n",
       "Time                                                                            \n",
       "1970-01-01 00:00:00.939340800           shari zychinski                     0   \n",
       "1970-01-01 00:00:00.940809600        Nicholas A Mesiano                     2   \n",
       "1970-01-01 00:00:00.944092800          Elizabeth Medina                     0   \n",
       "1970-01-01 00:00:00.944438400           Vincent P. Ross                     1   \n",
       "1970-01-01 00:00:00.946857600  The Phantom of the Opera                     0   \n",
       "\n",
       "                               HelpfulnessDenominator     Score  \\\n",
       "Time                                                              \n",
       "1970-01-01 00:00:00.939340800                       0  positive   \n",
       "1970-01-01 00:00:00.940809600                       2  positive   \n",
       "1970-01-01 00:00:00.944092800                       0  positive   \n",
       "1970-01-01 00:00:00.944438400                       2  positive   \n",
       "1970-01-01 00:00:00.946857600                       0  positive   \n",
       "\n",
       "                                                                         Summary  \\\n",
       "Time                                                                               \n",
       "1970-01-01 00:00:00.939340800                          EVERY book is educational   \n",
       "1970-01-01 00:00:00.940809600  This whole series is great way to spend time w...   \n",
       "1970-01-01 00:00:00.944092800                               Entertainingl Funny!   \n",
       "1970-01-01 00:00:00.944438400                            A modern day fairy tale   \n",
       "1970-01-01 00:00:00.946857600                                         FANTASTIC!   \n",
       "\n",
       "                                                                            Text  \\\n",
       "Time                                                                               \n",
       "1970-01-01 00:00:00.939340800  this witty little book makes my son laugh at l...   \n",
       "1970-01-01 00:00:00.940809600  I can remember seeing the show when it aired o...   \n",
       "1970-01-01 00:00:00.944092800  Beetlejuice is a well written movie ..... ever...   \n",
       "1970-01-01 00:00:00.944438400  A twist of rumplestiskin captured on film, sta...   \n",
       "1970-01-01 00:00:00.946857600  Beetlejuice is an excellent and funny movie. K...   \n",
       "\n",
       "                                                                     CleanedText  \n",
       "Time                                                                              \n",
       "1970-01-01 00:00:00.939340800  witti littl book make son laugh loud recit car...  \n",
       "1970-01-01 00:00:00.940809600  rememb see show air televis year ago child sis...  \n",
       "1970-01-01 00:00:00.944092800  beetlejuic well written movi everyth excel act...  \n",
       "1970-01-01 00:00:00.944438400  twist rumplestiskin captur film star michael k...  \n",
       "1970-01-01 00:00:00.946857600  beetlejuic excel funni movi keaton hilari wack...  "
      ]
     },
     "execution_count": 6,
     "metadata": {},
     "output_type": "execute_result"
    }
   ],
   "source": [
    "Sorted.head()"
   ]
  },
  {
   "cell_type": "code",
   "execution_count": 7,
   "metadata": {},
   "outputs": [
    {
     "data": {
      "text/plain": [
       "(50000, 10)"
      ]
     },
     "execution_count": 7,
     "metadata": {},
     "output_type": "execute_result"
    }
   ],
   "source": [
    "#Sampling the above data\n",
    "\n",
    "Sampled_data=Sorted.sample(n=50000,replace='False')\n",
    "Sample_sort=Sampled_data.sort_index()\n",
    "Sample_sort.shape\n"
   ]
  },
  {
   "cell_type": "code",
   "execution_count": 8,
   "metadata": {},
   "outputs": [
    {
     "data": {
      "text/plain": [
       "(8000, 10)"
      ]
     },
     "execution_count": 8,
     "metadata": {},
     "output_type": "execute_result"
    }
   ],
   "source": [
    "#Sampling the above data for implementing the TF-idf technique\n",
    "\n",
    "Samp_data=Sorted.sample(n=8000,replace='False')\n",
    "TF_sort=Samp_data.sort_index()\n",
    "TF_sort.shape\n"
   ]
  },
  {
   "cell_type": "code",
   "execution_count": 9,
   "metadata": {},
   "outputs": [
    {
     "data": {
      "image/png": "[encoded data removed]",
      "text/plain": [
       "<Figure size 432x288 with 1 Axes>"
      ]
     },
     "metadata": {
      "needs_background": "light"
     },
     "output_type": "display_data"
    },
    {
     "data": {
      "text/plain": [
       "<Figure size 432x288 with 0 Axes>"
      ]
     },
     "metadata": {},
     "output_type": "display_data"
    }
   ],
   "source": [
    "#Setting up the class label variables\n",
    "\n",
    "Class=TF_sort[\"Score\"]\n",
    "label=Sample_sort[\"Score\"]\n",
    "sns.countplot(x=\"Score\",data=Sorted,palette=\"hls\")\n",
    "plt.show()\n",
    "plt.savefig(\"count_plot\")\n"
   ]
  },
  {
   "cell_type": "code",
   "execution_count": null,
   "metadata": {},
   "outputs": [],
   "source": []
  },
  {
   "cell_type": "code",
   "execution_count": 10,
   "metadata": {},
   "outputs": [
    {
     "data": {
      "text/plain": [
       "(8000, 9)"
      ]
     },
     "execution_count": 10,
     "metadata": {},
     "output_type": "execute_result"
    }
   ],
   "source": [
    "#Dropping the Score column which are the actual class labels of the dataset\n",
    "TF_sort.drop(columns=['Score'],inplace=True)\n",
    "TF_sort.shape"
   ]
  },
  {
   "cell_type": "code",
   "execution_count": 11,
   "metadata": {},
   "outputs": [
    {
     "data": {
      "text/plain": [
       "(50000, 9)"
      ]
     },
     "execution_count": 11,
     "metadata": {},
     "output_type": "execute_result"
    }
   ],
   "source": [
    "#Dropping the Score column from the sampled_set which are the actual class labels of the dataset\n",
    "Sample_sort.drop(columns=['Score'],inplace=True)\n",
    "Sample_sort.shape"
   ]
  },
  {
   "cell_type": "markdown",
   "metadata": {},
   "source": [
    "<h2>Observations</h2>\n",
    "<ul>\n",
    "    <li>Here after all the text-preprocesing and the data-cleaning only 364k datapoints remained.</li>\n",
    "    <li>I have taken a sample size of 20k and 8k data out of the total population for the purpose of analyzing and studying the behaviour of the data by applying the Logistic regression algorithm.</li>\n",
    "    <li>First I took the \"TIME\" column and set as the index of the new sampled dataframe and then sorted accordingly in ascending order since the data has a temporal nature.</li>\n",
    "    <li>By setting the \"SCORE\" column as a class label for classifying the reviews as a positive and negative.</li>\n",
    "    <li>By observing the above bar plot it is clear that the above dataset is highly imbalanced and this may cause problems in the future analysis.</li>\n",
    "</ul>\n",
    "    "
   ]
  },
  {
   "cell_type": "markdown",
   "metadata": {},
   "source": [
    "<h3> Function for splitting up the datasets</h3>"
   ]
  },
  {
   "cell_type": "code",
   "execution_count": 12,
   "metadata": {},
   "outputs": [],
   "source": [
    "def data_split(x,y):\n",
    "    #Splitting the model into 70:30 split of Training and Cross_validate split\n",
    "    X_1, X_test, y_1, y_test = train_test_split(x, y, test_size=0.3,shuffle=False,random_state=None)\n",
    "\n",
    "# split the train data set into cross validation train and cross validation test\n",
    "    X_tr, X_cv, y_tr, y_cv = train_test_split(X_1, y_1, test_size=0.3,shuffle=False,random_state=None)\n",
    "    \n",
    "    return X_tr,y_tr,X_cv,y_cv,X_test,y_test"
   ]
  },
  {
   "cell_type": "markdown",
   "metadata": {},
   "source": [
    "<h3>Preparing and printing the Train,cv and test sets</h3>"
   ]
  },
  {
   "cell_type": "code",
   "execution_count": 13,
   "metadata": {},
   "outputs": [
    {
     "name": "stdout",
     "output_type": "stream",
     "text": [
      "The shape of x_train is: (24500, 9)\n",
      "the shape of y_train is: (24500,)\n",
      "the shape of x_cv is: (10500, 9)\n",
      "the shape of y_cv is: (10500,)\n",
      "the shape of x_test is: (15000, 9)\n",
      "the shape of y_test is: (15000,)\n"
     ]
    }
   ],
   "source": [
    "\n",
    "X=Sample_sort\n",
    "Y=label\n",
    "\n",
    "X_tr,y_tr,X_cv,y_cv,X_test,y_test=data_split(X,Y)\n",
    "\n",
    "print(\"The shape of x_train is:\",X_tr.shape)\n",
    "print(\"the shape of y_train is:\",y_tr.shape)\n",
    "print(\"the shape of x_cv is:\",X_cv.shape)\n",
    "print(\"the shape of y_cv is:\",y_cv.shape)\n",
    "print(\"the shape of x_test is:\",X_test.shape)\n",
    "print(\"the shape of y_test is:\",y_test.shape)"
   ]
  },
  {
   "cell_type": "markdown",
   "metadata": {},
   "source": [
    "<h3> Preparing the Train,CV and Test set for implementing the Tf-idf Vectorizer</h3>"
   ]
  },
  {
   "cell_type": "code",
   "execution_count": 14,
   "metadata": {},
   "outputs": [
    {
     "name": "stdout",
     "output_type": "stream",
     "text": [
      "The shape of x_train is: (3920, 9)\n",
      "the shape of y_train is: (3920,)\n",
      "the shape of x_cv is: (1680, 9)\n",
      "the shape of y_cv is: (1680,)\n",
      "the shape of x_test is: (2400, 9)\n",
      "the shape of y_test is: (2400,)\n"
     ]
    }
   ],
   "source": [
    "TF_X=TF_sort\n",
    "TF_Y=Class\n",
    "\n",
    "TFX_tr,TFy_tr,TFX_cv,TFy_cv,TFX_test,TFy_test=data_split(TF_X,TF_Y)\n",
    "\n",
    "print(\"The shape of x_train is:\",TFX_tr.shape)\n",
    "print(\"the shape of y_train is:\",TFy_tr.shape)\n",
    "print(\"the shape of x_cv is:\",TFX_cv.shape)\n",
    "print(\"the shape of y_cv is:\",TFy_cv.shape)\n",
    "print(\"the shape of x_test is:\",TFX_test.shape)\n",
    "print(\"the shape of y_test is:\",TFy_test.shape)"
   ]
  },
  {
   "cell_type": "markdown",
   "metadata": {},
   "source": [
    "<h2> Utility function for Training & Testing the models</h2>"
   ]
  },
  {
   "cell_type": "code",
   "execution_count": 15,
   "metadata": {},
   "outputs": [],
   "source": [
    "\n",
    "def train(X_tr, y_tr,X_cv,y_cv,p=\"l2\",C=float(1)):\n",
    "    \n",
    "    clf = LogisticRegression(penalty=p,class_weight=\"balanced\",C=C,n_jobs=-1)\n",
    "    model = clf.fit(X_tr, y_tr)\n",
    "\n",
    "    print(\"The model score on train set is= \", model.score(X_tr,y_tr))\n",
    "\n",
    "    pred=model.predict(X_cv)\n",
    "\n",
    "    acc = accuracy_score(y_cv, pred, normalize=True) * float(100)\n",
    "\n",
    "    print('\\nThe accuracy of Logistic Regression over cross-validation set is =  %d%% ' % ( acc))\n",
    "\n",
    "\n",
    "    w = model.coef_\n",
    "\n",
    "    print(\"The total number of non zero weights = \",np.count_nonzero(w))\n",
    "    \n",
    "    return pred,acc\n",
    "    \n",
    "#Hyperparameter tuning using GridSearchCV\n",
    "\n",
    "def gridsearch(X_tr, y_tr,X_te, y_te,p=\"l2\"):\n",
    "    \n",
    "    tuned_parameters = [{'C': [10 ** x for x in range(-6, 4)]}]\n",
    "\n",
    "    model = GridSearchCV(LogisticRegression(penalty=p,class_weight=\"balanced\",n_jobs=-1),tuned_parameters,  scoring = 'accuracy', cv=10)\n",
    "    model.fit(X_tr, y_tr)\n",
    "    \n",
    "    print(model.best_estimator_)\n",
    "    print(model.score(X_te, y_te))\n",
    "    return model.best_estimator_\n",
    "\n",
    "#Hyperparameter tuning by using the Random search\n",
    "def randomsearch(X_tr, y_tr,X_te, y_te,p=\"l2\"):\n",
    "    \n",
    "    from scipy.stats import uniform\n",
    "    from sklearn.model_selection import RandomizedSearchCV\n",
    "\n",
    "# Create regularization hyperparameter distribution using uniform distribution\n",
    "    C = uniform(loc=0, scale=3)\n",
    "\n",
    "# Create hyperparameter options\n",
    "    hyperparameters = dict(C=C)\n",
    "\n",
    "    model1 =  RandomizedSearchCV(LogisticRegression(penalty=p,class_weight=\"balanced\",n_jobs=-1),hyperparameters, scoring = 'accuracy', cv=10)\n",
    "    model1.fit(X_tr, y_tr)\n",
    "\n",
    "    print(model1.best_estimator_)\n",
    "    print(model1.score(X_te, y_te))\n",
    "    return model1.best_estimator_\n",
    "\n",
    "#Function for testing the models\n",
    "def tuned_test(Best_param,X_tr,y_tr,X_test,y_test):\n",
    "\n",
    "    New_clf=Best_param\n",
    "\n",
    "    new_model=New_clf.fit(X_tr,y_tr)\n",
    "\n",
    "    print(\"The model score on train set is= \", new_model.score(X_tr,y_tr))\n",
    "\n",
    "    Y_pred=new_model.predict(X_test)\n",
    "\n",
    "    new_acc = accuracy_score(y_test, Y_pred, normalize=True) * float(100)\n",
    "\n",
    "    print('\\nThe accuracy of Logistic Regression over Test set is =  %d%% ' % ( new_acc))\n",
    "\n",
    "\n",
    "    W = new_model.coef_\n",
    "\n",
    "    print(\"The total number of non zero weights = \",np.count_nonzero(W))\n",
    "    return Y_pred,new_acc\n",
    "\n",
    "\n",
    "\n",
    "  \n",
    "    \n"
   ]
  },
  {
   "cell_type": "markdown",
   "metadata": {},
   "source": [
    "<h2> Utility function for plotting the confusion matrix and the CV error plots</h2>"
   ]
  },
  {
   "cell_type": "code",
   "execution_count": 16,
   "metadata": {},
   "outputs": [],
   "source": [
    "\n",
    "from sklearn.metrics import confusion_matrix\n",
    "def Confusion_metric(y_test,y_pred,acc):\n",
    "    print(metrics.confusion_matrix(y_test,y_pred))\n",
    "    confusion=metrics.confusion_matrix(y_test,y_pred)\n",
    "\n",
    "    plt.figure(figsize=(9,9))\n",
    "    sns.heatmap(confusion, annot=True, fmt=\".3f\", linewidths=.5, square = True, cmap = 'Blues_r');\n",
    "    plt.ylabel('Predicted label');\n",
    "    plt.xlabel('Actual label');\n",
    "    all_sample_title = 'Accuracy Score: {0}'.format( acc)\n",
    "    plt.title(all_sample_title, size = 15);\n",
    "    plt.show()\n",
    "\n",
    "#Storing the values of the confusion matrix\n",
    "    TN=confusion[0,0]\n",
    "    FP=confusion[0,1]\n",
    "    FN=confusion[1,0]\n",
    "    TP=confusion[1,1]\n",
    "\n",
    "# use float to perform true division, not integer division\n",
    "    Class_acc=((TP + TN) / float(TP + TN + FP + FN))*100\n",
    "\n",
    "#Code for classification error\n",
    "\n",
    "    classification_error = ((FP + FN) / float(TP + TN + FP + FN))*100\n",
    "    \n",
    "\n",
    "#Code for finding the TPR,FPR,TNR,FNR\n",
    "\n",
    "    TPR = (TP / float(FN + TP))*100\n",
    "\n",
    "    FNR = (FN / float(FN + TP))*100\n",
    "\n",
    "    TNR=(TN / float(TN + FP))*100\n",
    "\n",
    "    FPR=(FP / float(TN + FP))*100\n",
    "    \n",
    "#Code for finding the Precision,Recall & F1_score    \n",
    "   \n",
    "    precision = (TP/float(TP+FP))*100\n",
    "    \n",
    "    recall= (TP / float(FN + TP))*100\n",
    "    \n",
    "    F1_s= ((float(precision*recall)/float(precision+recall))*2)\n",
    "    \n",
    "    print()\n",
    "    \n",
    "    ptable=PrettyTable()\n",
    "    ptable.title=\"The performance metrics of the above model are as follows: \"\n",
    "    ptable.field_names=[\"Metrics\",\"Scores\"]\n",
    "    ptable.add_row([\"Classification_accuracy\",Class_acc])\n",
    "    ptable.add_row([\"Classification_error\",classification_error])\n",
    "    ptable.add_row([\"True positive\",TP])\n",
    "    ptable.add_row([\"False positive\",FP])\n",
    "    ptable.add_row([\"True negative\",TN])\n",
    "    ptable.add_row([\"False negative\",FN])\n",
    "    ptable.add_row([\"True positive rate\",TPR])\n",
    "    ptable.add_row([\"False negative rate\",FNR])\n",
    "    ptable.add_row([\"True negative rate\",TNR])\n",
    "    ptable.add_row([\"False positive rate\",FPR])\n",
    "    ptable.add_row([\"Precision value\",precision])\n",
    "    ptable.add_row([\"Recall value\",recall])\n",
    "    ptable.add_row([\"f1_score value\",F1_s])\n",
    "    \n",
    "    print(ptable)\n",
    "    \n",
    "#Function for printing the Cross-validation errors    \n",
    "    \n",
    "def cv_results(X_tr, y_tr):\n",
    "    alpha = [10 ** x for x in range(-6, 4)]\n",
    "    cv_erro_array = []\n",
    "    for a in alpha:\n",
    "        print(\"--------------------------------------------------------------------------------------------------------\")\n",
    "        print(\"for alpha =\", a)\n",
    "        clf = LogisticRegression(C=a,class_weight='balanced')\n",
    "        scores = cross_val_score(clf, X_tr, y_tr, cv=10,scoring='accuracy')\n",
    "        cv_erro_array.append(scores.mean())\n",
    "    \n",
    "        mse=[1- x for x in cv_erro_array]\n",
    "        # determining best alpha\n",
    "        Best_alpha = alpha[mse.index(min(mse))]\n",
    "        print(\"\\nthe misclassification error for each alpha value is : \", np.round(mse,3))\n",
    "        \n",
    "    \n",
    "    fig, ax = plt.subplots()\n",
    "    ax.plot(alpha,mse,c='g')\n",
    "    for i, txt in enumerate(np.round(mse,3)):\n",
    "        ax.annotate((alpha[i],str(txt)), (alpha[i],mse[i]))\n",
    "    plt.grid()\n",
    "    plt.title(\"Cross Validation Error for each alpha\")\n",
    "    plt.xlabel(\"Alpha i's\")\n",
    "    plt.ylabel(\"Error measure\")\n",
    "    plt.show()\n",
    "\n",
    "    Best_alpha = alpha[mse.index(min(mse))]\n",
    "    print('\\nThe optimal number of alpha value is %f%%.' % Best_alpha)\n"
   ]
  },
  {
   "cell_type": "markdown",
   "metadata": {},
   "source": [
    "<h3>Utility function for vectorizing the data</h3>"
   ]
  },
  {
   "cell_type": "code",
   "execution_count": 17,
   "metadata": {},
   "outputs": [],
   "source": [
    "\n",
    "#Code for standardizing the data\n",
    "from sklearn.preprocessing import StandardScaler\n",
    "scaler=StandardScaler(with_mean=False)\n",
    "\n",
    "#Function for vectorizing the train data\n",
    "def vec_train(vect,X_tr):\n",
    "    import warnings\n",
    "    warnings.filterwarnings(\"ignore\")\n",
    "\n",
    "    count_vect = vect #in scikit-learn\n",
    "    BOW = count_vect.fit_transform(X_tr.values)\n",
    "\n",
    "#Standardizing the vectorized data\n",
    "    standardized_data = scaler.fit_transform(BOW)\n",
    "    standardized_data.shape\n",
    "    return count_vect,standardized_data\n",
    "\n",
    "\n",
    "#Function for vectorizing the CV data\n",
    "\n",
    "def vec_cv(count,X_cv):\n",
    "    cv=count.transform(X_cv.values)\n",
    "    cv.get_shape()\n",
    "\n",
    "    std_cv=scaler.transform(cv)\n",
    "    std_cv.shape\n",
    "    return std_cv\n",
    "\n",
    "\n",
    "#Function for vectorizing the test data\n",
    "\n",
    "def vec_test(count,X_test):\n",
    "    test=count.transform(X_test.values)\n",
    "    test.get_shape()\n",
    "\n",
    "    std_data=scaler.transform(test)\n",
    "    std_data.shape\n",
    "    return std_data\n",
    "\n",
    "#Funtion for printing the total number of top features\n",
    "def top_tfidf_feats(name,row, features, top_n=25):\n",
    "    ''' Get top n tfidf values in row and return them with their corresponding feature names.'''\n",
    "    topn_ids = np.argsort(row)[::-1][:top_n]\n",
    "    top_feats = [(features[i], row[i]) for i in topn_ids]\n",
    "    df = pd.DataFrame(top_feats)\n",
    "    df.columns = ['feature', name]\n",
    "    return df\n",
    "\n",
    "#Function for displaying top frequent 50 tokens distributions \n",
    "from yellowbrick.text import FreqDistVisualizer\n",
    "from sklearn.feature_extraction.text import CountVectorizer\n",
    "def display_token(Vect,data):\n",
    "\n",
    "    vectorizer = Vect\n",
    "    docs       = vectorizer.fit_transform(data)\n",
    "    features   = vectorizer.get_feature_names()\n",
    "    \n",
    "    visualizer = FreqDistVisualizer(features=features)\n",
    "    visualizer.fit(docs)\n",
    "    visualizer.poof()\n",
    "\n",
    "\n",
    "\n"
   ]
  },
  {
   "cell_type": "markdown",
   "metadata": {},
   "source": [
    "<h3>Vectorizing the inputs by using the Bag of words vectorization technique</h3>"
   ]
  },
  {
   "cell_type": "code",
   "execution_count": 18,
   "metadata": {},
   "outputs": [
    {
     "name": "stdout",
     "output_type": "stream",
     "text": [
      "The shape of the X_train is:  (24500, 19273)\n",
      "The shape of the X_cv is:  (10500, 19273)\n",
      "The shape of the X_test is:  (15000, 19273)\n",
      "\n",
      "Top 25 feaures acording to the Bow score are as follows\n"
     ]
    },
    {
     "data": {
      "text/html": [
       "<div>\n",
       "<style scoped>\n",
       "    .dataframe tbody tr th:only-of-type {\n",
       "        vertical-align: middle;\n",
       "    }\n",
       "\n",
       "    .dataframe tbody tr th {\n",
       "        vertical-align: top;\n",
       "    }\n",
       "\n",
       "    .dataframe thead th {\n",
       "        text-align: right;\n",
       "    }\n",
       "</style>\n",
       "<table border=\"1\" class=\"dataframe\">\n",
       "  <thead>\n",
       "    <tr style=\"text-align: right;\">\n",
       "      <th></th>\n",
       "      <th>feature</th>\n",
       "      <th>bow</th>\n",
       "    </tr>\n",
       "  </thead>\n",
       "  <tbody>\n",
       "    <tr>\n",
       "      <th>0</th>\n",
       "      <td>maitland</td>\n",
       "      <td>110.684236</td>\n",
       "    </tr>\n",
       "    <tr>\n",
       "      <th>1</th>\n",
       "      <td>coaster</td>\n",
       "      <td>110.684236</td>\n",
       "    </tr>\n",
       "    <tr>\n",
       "      <th>2</th>\n",
       "      <td>danni</td>\n",
       "      <td>90.375145</td>\n",
       "    </tr>\n",
       "    <tr>\n",
       "      <th>3</th>\n",
       "      <td>demis</td>\n",
       "      <td>90.375145</td>\n",
       "    </tr>\n",
       "    <tr>\n",
       "      <th>4</th>\n",
       "      <td>elfman</td>\n",
       "      <td>90.375145</td>\n",
       "    </tr>\n",
       "    <tr>\n",
       "      <th>5</th>\n",
       "      <td>roller</td>\n",
       "      <td>78.268769</td>\n",
       "    </tr>\n",
       "    <tr>\n",
       "      <th>6</th>\n",
       "      <td>afterlif</td>\n",
       "      <td>78.268769</td>\n",
       "    </tr>\n",
       "    <tr>\n",
       "      <th>7</th>\n",
       "      <td>hilari</td>\n",
       "      <td>70.007144</td>\n",
       "    </tr>\n",
       "    <tr>\n",
       "      <th>8</th>\n",
       "      <td>adam</td>\n",
       "      <td>59.169251</td>\n",
       "    </tr>\n",
       "    <tr>\n",
       "      <th>9</th>\n",
       "      <td>journey</td>\n",
       "      <td>55.348896</td>\n",
       "    </tr>\n",
       "    <tr>\n",
       "      <th>10</th>\n",
       "      <td>burton</td>\n",
       "      <td>52.184505</td>\n",
       "    </tr>\n",
       "    <tr>\n",
       "      <th>11</th>\n",
       "      <td>beetlejuic</td>\n",
       "      <td>45.195875</td>\n",
       "    </tr>\n",
       "    <tr>\n",
       "      <th>12</th>\n",
       "      <td>tim</td>\n",
       "      <td>40.426896</td>\n",
       "    </tr>\n",
       "    <tr>\n",
       "      <th>13</th>\n",
       "      <td>til</td>\n",
       "      <td>35.923174</td>\n",
       "    </tr>\n",
       "    <tr>\n",
       "      <th>14</th>\n",
       "      <td>barbara</td>\n",
       "      <td>34.171150</td>\n",
       "    </tr>\n",
       "    <tr>\n",
       "      <th>15</th>\n",
       "      <td>score</td>\n",
       "      <td>28.594893</td>\n",
       "    </tr>\n",
       "    <tr>\n",
       "      <th>16</th>\n",
       "      <td>transport</td>\n",
       "      <td>27.265832</td>\n",
       "    </tr>\n",
       "    <tr>\n",
       "      <th>17</th>\n",
       "      <td>mysteri</td>\n",
       "      <td>26.862420</td>\n",
       "    </tr>\n",
       "    <tr>\n",
       "      <th>18</th>\n",
       "      <td>laugh</td>\n",
       "      <td>24.465540</td>\n",
       "    </tr>\n",
       "    <tr>\n",
       "      <th>19</th>\n",
       "      <td>cri</td>\n",
       "      <td>24.173023</td>\n",
       "    </tr>\n",
       "    <tr>\n",
       "      <th>20</th>\n",
       "      <td>pair</td>\n",
       "      <td>20.756370</td>\n",
       "    </tr>\n",
       "    <tr>\n",
       "      <th>21</th>\n",
       "      <td>vacat</td>\n",
       "      <td>20.402369</td>\n",
       "    </tr>\n",
       "    <tr>\n",
       "      <th>22</th>\n",
       "      <td>kill</td>\n",
       "      <td>17.865749</td>\n",
       "    </tr>\n",
       "    <tr>\n",
       "      <th>23</th>\n",
       "      <td>meet</td>\n",
       "      <td>16.715642</td>\n",
       "    </tr>\n",
       "    <tr>\n",
       "      <th>24</th>\n",
       "      <td>magic</td>\n",
       "      <td>16.006632</td>\n",
       "    </tr>\n",
       "  </tbody>\n",
       "</table>\n",
       "</div>"
      ],
      "text/plain": [
       "       feature         bow\n",
       "0     maitland  110.684236\n",
       "1      coaster  110.684236\n",
       "2        danni   90.375145\n",
       "3        demis   90.375145\n",
       "4       elfman   90.375145\n",
       "5       roller   78.268769\n",
       "6     afterlif   78.268769\n",
       "7       hilari   70.007144\n",
       "8         adam   59.169251\n",
       "9      journey   55.348896\n",
       "10      burton   52.184505\n",
       "11  beetlejuic   45.195875\n",
       "12         tim   40.426896\n",
       "13         til   35.923174\n",
       "14     barbara   34.171150\n",
       "15       score   28.594893\n",
       "16   transport   27.265832\n",
       "17     mysteri   26.862420\n",
       "18       laugh   24.465540\n",
       "19         cri   24.173023\n",
       "20        pair   20.756370\n",
       "21       vacat   20.402369\n",
       "22        kill   17.865749\n",
       "23        meet   16.715642\n",
       "24       magic   16.006632"
      ]
     },
     "execution_count": 18,
     "metadata": {},
     "output_type": "execute_result"
    }
   ],
   "source": [
    "#Initializing the count vectorizer \n",
    "Count_vect=CountVectorizer(binary=True)\n",
    "\n",
    "#vectorizing the X_train set\n",
    "count,x_tr=vec_train(Count_vect,X_tr[\"CleanedText\"])\n",
    "\n",
    "print(\"The shape of the X_train is: \",x_tr.shape)\n",
    "\n",
    "#Vectgorizing the X_crossvalidation set\n",
    "x_cv=vec_cv(count,X_cv[\"CleanedText\"])\n",
    "print(\"The shape of the X_cv is: \",x_cv.shape)\n",
    "\n",
    "#Vectorizing the X_test set\n",
    "x_test=vec_test(count,X_test[\"CleanedText\"])\n",
    "print(\"The shape of the X_test is: \",x_test.shape)\n",
    "\n",
    "\n",
    "#Printing the total length of the features\n",
    "print(\"\\nTop 25 feaures acording to the Bow score are as follows\")\n",
    "features = Count_vect.get_feature_names()\n",
    "len(features)\n",
    "\n",
    "\n",
    "top_Bow = top_tfidf_feats(\"bow\",x_tr[1,:].toarray()[0],features,25)\n",
    "top_Bow\n",
    "\n"
   ]
  },
  {
   "cell_type": "code",
   "execution_count": 21,
   "metadata": {},
   "outputs": [
    {
     "data": {
      "image/png": "[encoded data removed]",
      "text/plain": [
       "<Figure size 576x396 with 1 Axes>"
      ]
     },
     "metadata": {},
     "output_type": "display_data"
    }
   ],
   "source": [
    "display_token(Count_vect,X_tr[\"CleanedText\"])"
   ]
  },
  {
   "cell_type": "markdown",
   "metadata": {},
   "source": [
    "<h3> Training the model over Cross_validation set by using the default parameters.</h3>"
   ]
  },
  {
   "cell_type": "code",
   "execution_count": 39,
   "metadata": {},
   "outputs": [
    {
     "name": "stdout",
     "output_type": "stream",
     "text": [
      "The model score on train set is=  1.0\n",
      "\n",
      "The accuracy of Logistic Regression over cross-validation set is =  84% \n",
      "The total number of non zero weights =  18987\n"
     ]
    }
   ],
   "source": [
    "#Calling the train function and storing the prediction value and accuracy\n",
    "\n",
    "Cpred,cacc=train(x_tr,y_tr,x_cv,y_cv)"
   ]
  },
  {
   "cell_type": "markdown",
   "metadata": {},
   "source": [
    "<h3> Confusion matrix of the above trained model</h3>"
   ]
  },
  {
   "cell_type": "code",
   "execution_count": 40,
   "metadata": {},
   "outputs": [
    {
     "name": "stdout",
     "output_type": "stream",
     "text": [
      "[[1035  699]\n",
      " [ 884 7882]]\n"
     ]
    },
    {
     "data": {
      "image/png": "[encoded data removed]",
      "text/plain": [
       "<Figure size 648x648 with 2 Axes>"
      ]
     },
     "metadata": {},
     "output_type": "display_data"
    },
    {
     "name": "stdout",
     "output_type": "stream",
     "text": [
      "\n",
      "+-------------------------------------------------------------+\n",
      "| The performance metrics of the above model are as follows:  |\n",
      "+---------------------------------+---------------------------+\n",
      "|             Metrics             |           Scores          |\n",
      "+---------------------------------+---------------------------+\n",
      "|     Classification_accuracy     |     84.92380952380952     |\n",
      "|       Classification_error      |     15.076190476190476    |\n",
      "|          True positive          |            7882           |\n",
      "|          False positive         |            699            |\n",
      "|          True negative          |            1035           |\n",
      "|          False negative         |            884            |\n",
      "|        True positive rate       |     89.91558293406344     |\n",
      "|       False negative rate       |     10.084417065936572    |\n",
      "|        True negative rate       |     59.688581314878896    |\n",
      "|       False positive rate       |     40.31141868512111     |\n",
      "|         Precision value         |     91.85409625917725     |\n",
      "|           Recall value          |     89.91558293406344     |\n",
      "|          f1_score value         |      90.8745027958725     |\n",
      "+---------------------------------+---------------------------+\n"
     ]
    }
   ],
   "source": [
    "Confusion_metric(y_cv,Cpred,cacc)"
   ]
  },
  {
   "cell_type": "markdown",
   "metadata": {},
   "source": [
    "<h3> Observation</h3>\n",
    "<ul>\n",
    "    <li>The above Logistic regression model was tested over the cross validation set and the train accuracy is about 85.03%.</li>\n",
    "    <li>The Performance metrics of this model obtained after analyzing the confusion matrix is not that satisfactory due to the following reasons and they are as follows :</li>\n",
    "    <ol>\n",
    "        <li>The value of the diagonal elements of the matrix are not that much high infact the TP is 7837 and TN is 1092 which is far more less as compared to the TP value.</li>\n",
    "        <li>The FNR value is 9.78% which is good because it is meant to be low but the TNR is 60.23% which is considerably not that high and the main reason of increase in the False positive rate (39.76).</li>\n",
    "        <li>The Precision,Recall and the F1_Score values can't be trusted because of high TP value.</li>\n",
    "        <li>So the model's performance can be improved by doing the hyperparameter tuning.</li>\n",
    "        \n",
    "        \n"
   ]
  },
  {
   "cell_type": "markdown",
   "metadata": {},
   "source": [
    "<h3>Hyperparameter Tuning by using Gridsearch and Random-search for finding the optimal value of alpha.</h3> "
   ]
  },
  {
   "cell_type": "code",
   "execution_count": 42,
   "metadata": {},
   "outputs": [
    {
     "name": "stdout",
     "output_type": "stream",
     "text": [
      "LogisticRegression(C=0.0001, class_weight='balanced', dual=False,\n",
      "          fit_intercept=True, intercept_scaling=1, max_iter=100,\n",
      "          multi_class='ovr', n_jobs=-1, penalty='l2', random_state=None,\n",
      "          solver='liblinear', tol=0.0001, verbose=0, warm_start=False)\n",
      "0.8810476190476191\n"
     ]
    }
   ],
   "source": [
    "#Gridsearch implementation\n",
    "best_param=gridsearch(x_tr,y_tr,x_cv,y_cv)"
   ]
  },
  {
   "cell_type": "code",
   "execution_count": 43,
   "metadata": {},
   "outputs": [
    {
     "name": "stdout",
     "output_type": "stream",
     "text": [
      "LogisticRegression(C=0.0843364870614276, class_weight='balanced', dual=False,\n",
      "          fit_intercept=True, intercept_scaling=1, max_iter=100,\n",
      "          multi_class='ovr', n_jobs=-1, penalty='l2', random_state=None,\n",
      "          solver='liblinear', tol=0.0001, verbose=0, warm_start=False)\n",
      "0.8582857142857143\n"
     ]
    }
   ],
   "source": [
    "#Random-search Implementation\n",
    "Best_par=randomsearch(x_tr, y_tr,x_cv, y_cv)"
   ]
  },
  {
   "cell_type": "markdown",
   "metadata": {},
   "source": [
    "<h3>Testing the model over Test set by taking the optimal value of alpha</h3>"
   ]
  },
  {
   "cell_type": "code",
   "execution_count": 44,
   "metadata": {},
   "outputs": [
    {
     "name": "stdout",
     "output_type": "stream",
     "text": [
      "The model score on train set is=  0.9617142857142857\n",
      "\n",
      "The accuracy of Logistic Regression over Test set is =  88% \n",
      "The total number of non zero weights =  18987\n"
     ]
    }
   ],
   "source": [
    "New_clf=best_param\n",
    "\n",
    "y_pre,acc=tuned_test(New_clf,x_tr,y_tr,x_test,y_test)"
   ]
  },
  {
   "cell_type": "markdown",
   "metadata": {},
   "source": [
    "<h3>Confusion matrix of the above model</h3>"
   ]
  },
  {
   "cell_type": "code",
   "execution_count": 32,
   "metadata": {},
   "outputs": [
    {
     "name": "stdout",
     "output_type": "stream",
     "text": [
      "[[ 1956   631]\n",
      " [ 1076 11337]]\n"
     ]
    },
    {
     "data": {
      "image/png": "[encoded data removed]",
      "text/plain": [
       "<Figure size 648x648 with 2 Axes>"
      ]
     },
     "metadata": {
      "needs_background": "light"
     },
     "output_type": "display_data"
    },
    {
     "name": "stdout",
     "output_type": "stream",
     "text": [
      "\n",
      "+-------------------------------------------------------------+\n",
      "| The performance metrics of the above model are as follows:  |\n",
      "+---------------------------------+---------------------------+\n",
      "|             Metrics             |           Scores          |\n",
      "+---------------------------------+---------------------------+\n",
      "|     Classification_accuracy     |           88.62           |\n",
      "|       Classification_error      |     11.379999999999999    |\n",
      "|          True positive          |           11337           |\n",
      "|          False positive         |            631            |\n",
      "|          True negative          |            1956           |\n",
      "|          False negative         |            1076           |\n",
      "|        True positive rate       |     91.33166841214856     |\n",
      "|       False negative rate       |     8.668331587851446     |\n",
      "|        True negative rate       |     75.60881329725551     |\n",
      "|       False positive rate       |     24.39118670274449     |\n",
      "|         Precision value         |     94.72760695187165     |\n",
      "|           Recall value          |     91.33166841214856     |\n",
      "|          f1_score value         |     92.99864648701858     |\n",
      "+---------------------------------+---------------------------+\n"
     ]
    }
   ],
   "source": [
    "Confusion_metric(y_test,y_pre,acc)"
   ]
  },
  {
   "cell_type": "markdown",
   "metadata": {},
   "source": [
    "<h2>Observations</h2>\n",
    "<ul>\n",
    "    <li>The test accuracy of the above model after taking the optimal alpha value is 88% which is quite good for a classification model.</li>\n",
    "    <li>But still after doing hyperparameter tuning the model is still facing a little bias problem and the TP value still dominates.</li>\n",
    "    <li>Since the above model has little bias problem but still it is a sensible and good model as the FNR & FPR have lower values as compared to other metrics which increases the TPR and TNR values.</li>\n",
    "    <li>The model also has good Precision,Recall and F1_score values which is around (91% to 94%) which is very good for a classification model.</li>\n",
    "    <li>Lets see by changing the regularization and alpha term how the model's performance changes and affects the logistic regression model</li>\n"
   ]
  },
  {
   "cell_type": "markdown",
   "metadata": {},
   "source": [
    "<h2>Applying the L1 regularization over the Existing the model</h2>"
   ]
  },
  {
   "cell_type": "code",
   "execution_count": 35,
   "metadata": {},
   "outputs": [
    {
     "name": "stdout",
     "output_type": "stream",
     "text": [
      "The model score on train set is=  0.9884081632653061\n",
      "\n",
      "The accuracy of Logistic Regression over cross-validation set is =  88% \n",
      "The total number of non zero weights =  4830\n"
     ]
    }
   ],
   "source": [
    "#Calling the train function and storing the prediction value and accuracy\n",
    "\n",
    "l1pred,l1acc=train(x_tr,y_tr,x_cv,y_cv,p=\"l1\",C=0.1)"
   ]
  },
  {
   "cell_type": "code",
   "execution_count": 36,
   "metadata": {},
   "outputs": [
    {
     "name": "stdout",
     "output_type": "stream",
     "text": [
      "[[1303  510]\n",
      " [ 701 7986]]\n"
     ]
    },
    {
     "data": {
      "image/png": "[encoded data removed]",
      "text/plain": [
       "<Figure size 648x648 with 2 Axes>"
      ]
     },
     "metadata": {
      "needs_background": "light"
     },
     "output_type": "display_data"
    },
    {
     "name": "stdout",
     "output_type": "stream",
     "text": [
      "\n",
      "+-------------------------------------------------------------+\n",
      "| The performance metrics of the above model are as follows:  |\n",
      "+---------------------------------+---------------------------+\n",
      "|             Metrics             |           Scores          |\n",
      "+---------------------------------+---------------------------+\n",
      "|     Classification_accuracy     |     88.46666666666667     |\n",
      "|       Classification_error      |     11.533333333333333    |\n",
      "|          True positive          |            7986           |\n",
      "|          False positive         |            510            |\n",
      "|          True negative          |            1303           |\n",
      "|          False negative         |            701            |\n",
      "|        True positive rate       |     91.93047081846437     |\n",
      "|       False negative rate       |     8.069529181535628     |\n",
      "|        True negative rate       |     71.86982901268615     |\n",
      "|       False positive rate       |     28.130170987313846    |\n",
      "|         Precision value         |     93.99717514124293     |\n",
      "|           Recall value          |     91.93047081846437     |\n",
      "|          f1_score value         |     92.95233661176744     |\n",
      "+---------------------------------+---------------------------+\n"
     ]
    }
   ],
   "source": [
    "Confusion_metric(y_cv,l1pred,l1acc)"
   ]
  },
  {
   "cell_type": "code",
   "execution_count": 37,
   "metadata": {},
   "outputs": [
    {
     "name": "stdout",
     "output_type": "stream",
     "text": [
      "The model score on train set is=  0.9161632653061225\n",
      "\n",
      "The accuracy of Logistic Regression over cross-validation set is =  87% \n",
      "The total number of non zero weights =  1602\n"
     ]
    }
   ],
   "source": [
    "#Calling the train function and storing the prediction value and accuracy\n",
    "\n",
    "l1_pred,l1_acc=train(x_tr,y_tr,x_cv,y_cv,p=\"l1\",C=0.01)"
   ]
  },
  {
   "cell_type": "code",
   "execution_count": 38,
   "metadata": {},
   "outputs": [
    {
     "name": "stdout",
     "output_type": "stream",
     "text": [
      "[[1446  367]\n",
      " [ 902 7785]]\n"
     ]
    },
    {
     "data": {
      "image/png": "[encoded data removed]",
      "text/plain": [
       "<Figure size 648x648 with 2 Axes>"
      ]
     },
     "metadata": {
      "needs_background": "light"
     },
     "output_type": "display_data"
    },
    {
     "name": "stdout",
     "output_type": "stream",
     "text": [
      "\n",
      "+-------------------------------------------------------------+\n",
      "| The performance metrics of the above model are as follows:  |\n",
      "+---------------------------------+---------------------------+\n",
      "|             Metrics             |           Scores          |\n",
      "+---------------------------------+---------------------------+\n",
      "|     Classification_accuracy     |     87.91428571428571     |\n",
      "|       Classification_error      |     12.085714285714285    |\n",
      "|          True positive          |            7785           |\n",
      "|          False positive         |            367            |\n",
      "|          True negative          |            1446           |\n",
      "|          False negative         |            902            |\n",
      "|        True positive rate       |     89.61666858524232     |\n",
      "|       False negative rate       |     10.383331414757684    |\n",
      "|        True negative rate       |      79.7573083287369     |\n",
      "|       False positive rate       |      20.2426916712631     |\n",
      "|         Precision value         |     95.49803729146223     |\n",
      "|           Recall value          |     89.61666858524232     |\n",
      "|          f1_score value         |     92.46392303580973     |\n",
      "+---------------------------------+---------------------------+\n"
     ]
    }
   ],
   "source": [
    "Confusion_metric(y_cv,l1_pred,l1_acc)"
   ]
  },
  {
   "cell_type": "code",
   "execution_count": 39,
   "metadata": {},
   "outputs": [
    {
     "name": "stdout",
     "output_type": "stream",
     "text": [
      "The model score on train set is=  0.6560408163265307\n",
      "\n",
      "The accuracy of Logistic Regression over cross-validation set is =  66% \n",
      "The total number of non zero weights =  42\n"
     ]
    }
   ],
   "source": [
    "#Calling the train function and storing the prediction value and accuracy\n",
    "\n",
    "l1_Pred,l1_Acc=train(x_tr,y_tr,x_cv,y_cv,p=\"l1\",C=0.001)"
   ]
  },
  {
   "cell_type": "code",
   "execution_count": 40,
   "metadata": {},
   "outputs": [
    {
     "name": "stdout",
     "output_type": "stream",
     "text": [
      "[[1540  273]\n",
      " [3220 5467]]\n"
     ]
    },
    {
     "data": {
      "image/png": "[encoded data removed]",
      "text/plain": [
       "<Figure size 648x648 with 2 Axes>"
      ]
     },
     "metadata": {
      "needs_background": "light"
     },
     "output_type": "display_data"
    },
    {
     "name": "stdout",
     "output_type": "stream",
     "text": [
      "\n",
      "+-------------------------------------------------------------+\n",
      "| The performance metrics of the above model are as follows:  |\n",
      "+---------------------------------+---------------------------+\n",
      "|             Metrics             |           Scores          |\n",
      "+---------------------------------+---------------------------+\n",
      "|     Classification_accuracy     |     66.73333333333333     |\n",
      "|       Classification_error      |     33.266666666666666    |\n",
      "|          True positive          |            5467           |\n",
      "|          False positive         |            273            |\n",
      "|          True negative          |            1540           |\n",
      "|          False negative         |            3220           |\n",
      "|        True positive rate       |     62.93311845286059     |\n",
      "|       False negative rate       |      37.0668815471394     |\n",
      "|        True negative rate       |     84.94208494208493     |\n",
      "|       False positive rate       |     15.057915057915059    |\n",
      "|         Precision value         |     95.24390243902438     |\n",
      "|           Recall value          |     62.93311845286059     |\n",
      "|          f1_score value         |     75.78845220766617     |\n",
      "+---------------------------------+---------------------------+\n"
     ]
    }
   ],
   "source": [
    "Confusion_metric(y_cv,l1_Pred,l1_Acc)"
   ]
  },
  {
   "cell_type": "markdown",
   "metadata": {},
   "source": [
    "<h3> Observations</h3>\n",
    "<ul>\n",
    "    <li>Since in the formulation of alpha in logistic regression it has a inverse relationship so here I had reduced the Lambda value by using the L1-regularisation and the results are as follows:\n",
    "        <ol>\n",
    "            <li>By increasing the values of lambda the total number of non zero weights decreases sharply as the regularization term which is L1 dominates and create sparsity.</li>\n",
    "            <li>The accuracy and the other performance metrics of the also detoriated consistently from (88.64% to 66.73%)</li>\n",
    "            <li>As the lamda value increases the False negative and the False positive rates vary which decreases the performance of the model.</li>\n",
    "            <li> So clearly by increasing the value of lambda with L1-regularization creates sparsity and reduces accuracy of the model.</li>\n",
    "            \n"
   ]
  },
  {
   "cell_type": "markdown",
   "metadata": {},
   "source": [
    "<h3>Decreasing the \"LAMBDA\" value with L1- Regularization</h3> "
   ]
  },
  {
   "cell_type": "code",
   "execution_count": 41,
   "metadata": {},
   "outputs": [
    {
     "name": "stdout",
     "output_type": "stream",
     "text": [
      "The model score on train set is=  1.0\n",
      "\n",
      "The accuracy of Logistic Regression over cross-validation set is =  86% \n",
      "The total number of non zero weights =  5446\n"
     ]
    }
   ],
   "source": [
    "#Calling the train function and storing the prediction value and accuracy\n",
    "\n",
    "L1pred,L1acc=train(x_tr,y_tr,x_cv,y_cv,p=\"l1\",C=8)"
   ]
  },
  {
   "cell_type": "code",
   "execution_count": 42,
   "metadata": {},
   "outputs": [
    {
     "name": "stdout",
     "output_type": "stream",
     "text": [
      "[[1132  681]\n",
      " [ 781 7906]]\n"
     ]
    },
    {
     "data": {
      "image/png": "[encoded data removed]",
      "text/plain": [
       "<Figure size 648x648 with 2 Axes>"
      ]
     },
     "metadata": {
      "needs_background": "light"
     },
     "output_type": "display_data"
    },
    {
     "name": "stdout",
     "output_type": "stream",
     "text": [
      "\n",
      "+-------------------------------------------------------------+\n",
      "| The performance metrics of the above model are as follows:  |\n",
      "+---------------------------------+---------------------------+\n",
      "|             Metrics             |           Scores          |\n",
      "+---------------------------------+---------------------------+\n",
      "|     Classification_accuracy     |     86.07619047619048     |\n",
      "|       Classification_error      |     13.923809523809524    |\n",
      "|          True positive          |            7906           |\n",
      "|          False positive         |            681            |\n",
      "|          True negative          |            1132           |\n",
      "|          False negative         |            781            |\n",
      "|        True positive rate       |      91.0095545067342     |\n",
      "|       False negative rate       |     8.990445493265801     |\n",
      "|        True negative rate       |     62.43794815223387     |\n",
      "|       False positive rate       |     37.56205184776613     |\n",
      "|         Precision value         |     92.06940724350763     |\n",
      "|           Recall value          |      91.0095545067342     |\n",
      "|          f1_score value         |     91.53641310640269     |\n",
      "+---------------------------------+---------------------------+\n"
     ]
    }
   ],
   "source": [
    "Confusion_metric(y_cv,L1pred,L1acc)"
   ]
  },
  {
   "cell_type": "code",
   "execution_count": 43,
   "metadata": {},
   "outputs": [
    {
     "name": "stdout",
     "output_type": "stream",
     "text": [
      "The model score on train set is=  1.0\n",
      "\n",
      "The accuracy of Logistic Regression over cross-validation set is =  85% \n",
      "The total number of non zero weights =  6276\n"
     ]
    }
   ],
   "source": [
    "L1_pred,L1_acc=train(x_tr,y_tr,x_cv,y_cv,p=\"l1\",C=58)"
   ]
  },
  {
   "cell_type": "code",
   "execution_count": 44,
   "metadata": {},
   "outputs": [
    {
     "name": "stdout",
     "output_type": "stream",
     "text": [
      "[[1092  721]\n",
      " [ 827 7860]]\n"
     ]
    },
    {
     "data": {
      "image/png": "[encoded data removed]",
      "text/plain": [
       "<Figure size 648x648 with 2 Axes>"
      ]
     },
     "metadata": {
      "needs_background": "light"
     },
     "output_type": "display_data"
    },
    {
     "name": "stdout",
     "output_type": "stream",
     "text": [
      "\n",
      "+-------------------------------------------------------------+\n",
      "| The performance metrics of the above model are as follows:  |\n",
      "+---------------------------------+---------------------------+\n",
      "|             Metrics             |           Scores          |\n",
      "+---------------------------------+---------------------------+\n",
      "|     Classification_accuracy     |     85.25714285714285     |\n",
      "|       Classification_error      |     14.742857142857144    |\n",
      "|          True positive          |            7860           |\n",
      "|          False positive         |            721            |\n",
      "|          True negative          |            1092           |\n",
      "|          False negative         |            827            |\n",
      "|        True positive rate       |     90.48002762748936     |\n",
      "|       False negative rate       |     9.519972372510647     |\n",
      "|        True negative rate       |     60.231660231660236    |\n",
      "|       False positive rate       |     39.768339768339764    |\n",
      "|         Precision value         |     91.59771588392961     |\n",
      "|           Recall value          |     90.48002762748936     |\n",
      "|          f1_score value         |     91.03544127866573     |\n",
      "+---------------------------------+---------------------------+\n"
     ]
    }
   ],
   "source": [
    "Confusion_metric(y_cv,L1_pred,L1_acc)"
   ]
  },
  {
   "cell_type": "code",
   "execution_count": 45,
   "metadata": {},
   "outputs": [
    {
     "name": "stdout",
     "output_type": "stream",
     "text": [
      "The model score on train set is=  1.0\n",
      "\n",
      "The accuracy of Logistic Regression over cross-validation set is =  84% \n",
      "The total number of non zero weights =  6863\n"
     ]
    }
   ],
   "source": [
    "L1_Pred,L1_Acc=train(x_tr,y_tr,x_cv,y_cv,p=\"l1\",C=100)"
   ]
  },
  {
   "cell_type": "code",
   "execution_count": 46,
   "metadata": {},
   "outputs": [
    {
     "name": "stdout",
     "output_type": "stream",
     "text": [
      "[[1073  740]\n",
      " [ 862 7825]]\n"
     ]
    },
    {
     "data": {
      "image/png": "[encoded data removed]",
      "text/plain": [
       "<Figure size 648x648 with 2 Axes>"
      ]
     },
     "metadata": {
      "needs_background": "light"
     },
     "output_type": "display_data"
    },
    {
     "name": "stdout",
     "output_type": "stream",
     "text": [
      "\n",
      "+-------------------------------------------------------------+\n",
      "| The performance metrics of the above model are as follows:  |\n",
      "+---------------------------------+---------------------------+\n",
      "|             Metrics             |           Scores          |\n",
      "+---------------------------------+---------------------------+\n",
      "|     Classification_accuracy     |     84.74285714285715     |\n",
      "|       Classification_error      |     15.257142857142858    |\n",
      "|          True positive          |            7825           |\n",
      "|          False positive         |            740            |\n",
      "|          True negative          |            1073           |\n",
      "|          False negative         |            862            |\n",
      "|        True positive rate       |      90.0771267411074     |\n",
      "|       False negative rate       |     9.922873258892597     |\n",
      "|        True negative rate       |     59.183673469387756    |\n",
      "|       False positive rate       |     40.816326530612244    |\n",
      "|         Precision value         |     91.36018680677175     |\n",
      "|           Recall value          |      90.0771267411074     |\n",
      "|          f1_score value         |     90.71412010201715     |\n",
      "+---------------------------------+---------------------------+\n"
     ]
    }
   ],
   "source": [
    "Confusion_metric(y_cv,L1_Pred,L1_Acc)"
   ]
  },
  {
   "cell_type": "markdown",
   "metadata": {},
   "source": [
    "<h2>Observations</h2>\n",
    "<ul>\n",
    "    <li>Here there is a decrease in the total number of non zero weights but it becomes stable after a certain point and did not decreased further.</li>\n",
    "    <li>The True negative rates are get affected most hence reducing the accuracy but it did not decrease beyond 84%.</li>\n",
    "    <li>Since here sparsity is not seen very severe, that's why the accuracy did not drop sharply.</li>\n",
    "       \n"
   ]
  },
  {
   "cell_type": "markdown",
   "metadata": {},
   "source": [
    "<h3>Plotting the cv error plot using 10K cross validation technique</h3>"
   ]
  },
  {
   "cell_type": "code",
   "execution_count": 47,
   "metadata": {},
   "outputs": [
    {
     "name": "stdout",
     "output_type": "stream",
     "text": [
      "--------------------------------------------------------------------------------------------------------\n",
      "for alpha = 1e-06\n",
      "\n",
      "the misclassification error for each alpha value is :  [0.248]\n",
      "--------------------------------------------------------------------------------------------------------\n",
      "for alpha = 1e-05\n",
      "\n",
      "the misclassification error for each alpha value is :  [0.248 0.118]\n",
      "--------------------------------------------------------------------------------------------------------\n",
      "for alpha = 0.0001\n",
      "\n",
      "the misclassification error for each alpha value is :  [0.248 0.118 0.098]\n",
      "--------------------------------------------------------------------------------------------------------\n",
      "for alpha = 0.001\n",
      "\n",
      "the misclassification error for each alpha value is :  [0.248 0.118 0.098 0.104]\n",
      "--------------------------------------------------------------------------------------------------------\n",
      "for alpha = 0.01\n",
      "\n",
      "the misclassification error for each alpha value is :  [0.248 0.118 0.098 0.104 0.116]\n",
      "--------------------------------------------------------------------------------------------------------\n",
      "for alpha = 0.1\n",
      "\n",
      "the misclassification error for each alpha value is :  [0.248 0.118 0.098 0.104 0.116 0.128]\n",
      "--------------------------------------------------------------------------------------------------------\n",
      "for alpha = 1\n",
      "\n",
      "the misclassification error for each alpha value is :  [0.248 0.118 0.098 0.104 0.116 0.128 0.136]\n",
      "--------------------------------------------------------------------------------------------------------\n",
      "for alpha = 10\n",
      "\n",
      "the misclassification error for each alpha value is :  [0.248 0.118 0.098 0.104 0.116 0.128 0.136 0.14 ]\n",
      "--------------------------------------------------------------------------------------------------------\n",
      "for alpha = 100\n",
      "\n",
      "the misclassification error for each alpha value is :  [0.248 0.118 0.098 0.104 0.116 0.128 0.136 0.14  0.154]\n",
      "--------------------------------------------------------------------------------------------------------\n",
      "for alpha = 1000\n",
      "\n",
      "the misclassification error for each alpha value is :  [0.248 0.118 0.098 0.104 0.116 0.128 0.136 0.14  0.154 0.197]\n"
     ]
    },
    {
     "data": {
      "image/png": "[encoded data removed]",
      "text/plain": [
       "<Figure size 432x288 with 1 Axes>"
      ]
     },
     "metadata": {
      "needs_background": "light"
     },
     "output_type": "display_data"
    },
    {
     "name": "stdout",
     "output_type": "stream",
     "text": [
      "\n",
      "The optimal number of alpha value is 0.000100%.\n"
     ]
    }
   ],
   "source": [
    "cv_results(x_tr,y_tr)"
   ]
  },
  {
   "cell_type": "markdown",
   "metadata": {},
   "source": [
    "<h3>Testing the model over th test set using the optimal lamda value</h3>"
   ]
  },
  {
   "cell_type": "code",
   "execution_count": 45,
   "metadata": {},
   "outputs": [
    {
     "name": "stdout",
     "output_type": "stream",
     "text": [
      "The model score on train set is=  0.9617142857142857\n",
      "\n",
      "The accuracy of Logistic Regression over Test set is =  88% \n",
      "The total number of non zero weights =  18987\n"
     ]
    }
   ],
   "source": [
    "New_clf=best_param\n",
    "\n",
    "y_pre,acc=tuned_test(New_clf,x_tr,y_tr,x_test,y_test)"
   ]
  },
  {
   "cell_type": "markdown",
   "metadata": {},
   "source": [
    "<h3>Confusion matrix of the above model</h3>"
   ]
  },
  {
   "cell_type": "code",
   "execution_count": 46,
   "metadata": {},
   "outputs": [
    {
     "name": "stdout",
     "output_type": "stream",
     "text": [
      "[[ 1972   673]\n",
      " [ 1047 11308]]\n"
     ]
    },
    {
     "data": {
      "image/png": "[encoded data removed]",
      "text/plain": [
       "<Figure size 648x648 with 2 Axes>"
      ]
     },
     "metadata": {},
     "output_type": "display_data"
    },
    {
     "name": "stdout",
     "output_type": "stream",
     "text": [
      "\n",
      "+-------------------------------------------------------------+\n",
      "| The performance metrics of the above model are as follows:  |\n",
      "+---------------------------------+---------------------------+\n",
      "|             Metrics             |           Scores          |\n",
      "+---------------------------------+---------------------------+\n",
      "|     Classification_accuracy     |     88.53333333333333     |\n",
      "|       Classification_error      |     11.466666666666667    |\n",
      "|          True positive          |           11308           |\n",
      "|          False positive         |            673            |\n",
      "|          True negative          |            1972           |\n",
      "|          False negative         |            1047           |\n",
      "|        True positive rate       |     91.52569809793606     |\n",
      "|       False negative rate       |     8.474301902063942     |\n",
      "|        True negative rate       |     74.55576559546314     |\n",
      "|       False positive rate       |     25.444234404536864    |\n",
      "|         Precision value         |     94.38277272347884     |\n",
      "|           Recall value          |     91.52569809793606     |\n",
      "|          f1_score value         |     92.93228139381985     |\n",
      "+---------------------------------+---------------------------+\n"
     ]
    }
   ],
   "source": [
    "Confusion_metric(y_test,y_pre,acc)"
   ]
  },
  {
   "cell_type": "markdown",
   "metadata": {},
   "source": [
    "<h3>Observations</h3>\n",
    "<ul>\n",
    "    <li>The optimal number of lamda found after gridsearch and 10k crossvalidation is 0.0001 with a missclassification error of 11.46% and gave a test accuracy of 88.53% which is good for a classification model.</li>\n",
    "    <li>The performance metrics of the logistic regression model over test set is good as compared with the earlier model.</li>\n",
    "    <li>The model is sensible but still it is facing a slight bias problem as the True negative rate is low as compared to the True positive rates.</li>\n",
    "    <li>Let's check the multicollinearity of features by using the pertubation test.</li>"
   ]
  },
  {
   "cell_type": "markdown",
   "metadata": {},
   "source": [
    "<h2> Implementing and checking the multicollinearity test.</h2>"
   ]
  },
  {
   "cell_type": "markdown",
   "metadata": {},
   "source": [
    "<h3>Function for genarating and adding noise to the above model</h3> "
   ]
  },
  {
   "cell_type": "code",
   "execution_count": 19,
   "metadata": {},
   "outputs": [],
   "source": [
    "import numpy as np\n",
    "def Noise(x_tr,x_test):\n",
    "    mu, sigma = 0, 0.01 \n",
    "# creating a noise with the same dimension as the dataset (2,2) \n",
    "    Train_noise = np.random.normal(mu, sigma, x_tr.shape) \n",
    "    print(Train_noise)\n",
    "\n",
    "    Train_data=x_tr + Train_noise\n",
    "    print(\"\\nThe shape of the train data after adding noise is :\",Train_data.shape)\n",
    "    \n",
    "    print(\"*\"*100)\n",
    "\n",
    "\n",
    "# creating a noise with the same dimension as the dataset (2,2) \n",
    "    Test_noise = np.random.normal(mu, sigma, x_test.shape) \n",
    "    print(Test_noise)\n",
    "\n",
    "    Test_data= x_test + Test_noise\n",
    "    print(\"\\nThe shape of the test data after adding noise is :\",Test_data.shape)\n",
    "\n",
    "    return Train_data,Test_data\n"
   ]
  },
  {
   "cell_type": "markdown",
   "metadata": {},
   "source": [
    "<h3> The shape of the noise added Train and Test set is as follows:</h3> "
   ]
  },
  {
   "cell_type": "code",
   "execution_count": 47,
   "metadata": {},
   "outputs": [
    {
     "name": "stdout",
     "output_type": "stream",
     "text": [
      "[[-0.00049436  0.00749982 -0.00832213 ... -0.0046638  -0.01298233\n",
      "  -0.01178142]\n",
      " [-0.01473462 -0.01046555  0.00221836 ...  0.00110465  0.0056567\n",
      "   0.00933101]\n",
      " [ 0.00018067 -0.01348652  0.00996227 ... -0.00863126 -0.00019525\n",
      "   0.00274925]\n",
      " ...\n",
      " [ 0.00674569 -0.00579183 -0.01269166 ...  0.00068726  0.00528758\n",
      "   0.00518848]\n",
      " [-0.00796659  0.01397421  0.00390764 ...  0.00125421 -0.00349247\n",
      "   0.01187116]\n",
      " [-0.02003545  0.01269014 -0.00035191 ... -0.00517335  0.00957207\n",
      "  -0.02423328]]\n",
      "\n",
      "The shape of the train data after adding noise is : (24500, 18987)\n",
      "****************************************************************************************************\n",
      "[[-0.00706879 -0.00857271  0.00487714 ...  0.01416849  0.01692085\n",
      "  -0.01188144]\n",
      " [-0.00354436 -0.0090666  -0.00869587 ...  0.00395706  0.00070504\n",
      "   0.00319864]\n",
      " [ 0.00285856  0.01710856 -0.00473573 ... -0.00939172 -0.010282\n",
      "   0.00178905]\n",
      " ...\n",
      " [-0.01442047  0.00400136  0.00775977 ...  0.00610265  0.0060188\n",
      "   0.00499617]\n",
      " [-0.01823305  0.00324732 -0.010177   ...  0.00108983 -0.01260293\n",
      "   0.0017822 ]\n",
      " [-0.01482802 -0.00073025 -0.01544105 ... -0.00028053  0.00448844\n",
      "   0.00591461]]\n",
      "\n",
      "The shape of the test data after adding noise is : (15000, 18987)\n"
     ]
    }
   ],
   "source": [
    "Train_nd,Test_nd=Noise(x_tr,x_test)"
   ]
  },
  {
   "cell_type": "markdown",
   "metadata": {},
   "source": [
    "<h3> Testing the above model over the noise added Test set</h3>"
   ]
  },
  {
   "cell_type": "code",
   "execution_count": 48,
   "metadata": {},
   "outputs": [
    {
     "name": "stdout",
     "output_type": "stream",
     "text": [
      "The model score on train set is=  0.9616326530612245\n",
      "\n",
      "The accuracy of Logistic Regression over Test set is =  88% \n",
      "The total number of non zero weights =  18987\n"
     ]
    }
   ],
   "source": [
    "New_clf=best_param\n",
    "\n",
    "Noise_pre,Noise_acc=tuned_test(New_clf,Train_nd,y_tr,Test_nd,y_test)"
   ]
  },
  {
   "cell_type": "markdown",
   "metadata": {},
   "source": [
    "<h3> Confusion matrix of the above model is as follows:</h3>"
   ]
  },
  {
   "cell_type": "code",
   "execution_count": 49,
   "metadata": {},
   "outputs": [
    {
     "name": "stdout",
     "output_type": "stream",
     "text": [
      "[[ 1970   675]\n",
      " [ 1047 11308]]\n"
     ]
    },
    {
     "data": {
      "image/png": "[encoded data removed]",
      "text/plain": [
       "<Figure size 648x648 with 2 Axes>"
      ]
     },
     "metadata": {},
     "output_type": "display_data"
    },
    {
     "name": "stdout",
     "output_type": "stream",
     "text": [
      "\n",
      "+-------------------------------------------------------------+\n",
      "| The performance metrics of the above model are as follows:  |\n",
      "+----------------------------------+--------------------------+\n",
      "|             Metrics              |          Scores          |\n",
      "+----------------------------------+--------------------------+\n",
      "|     Classification_accuracy      |          88.52           |\n",
      "|       Classification_error       |          11.48           |\n",
      "|          True positive           |          11308           |\n",
      "|          False positive          |           675            |\n",
      "|          True negative           |           1970           |\n",
      "|          False negative          |           1047           |\n",
      "|        True positive rate        |    91.52569809793606     |\n",
      "|       False negative rate        |    8.474301902063942     |\n",
      "|        True negative rate        |    74.48015122873346     |\n",
      "|       False positive rate        |    25.51984877126654     |\n",
      "|         Precision value          |    94.36701994492196     |\n",
      "|           Recall value           |    91.52569809793606     |\n",
      "|          f1_score value          |    92.92464458870901     |\n",
      "+----------------------------------+--------------------------+\n"
     ]
    }
   ],
   "source": [
    "Confusion_metric(y_test,Noise_pre,Noise_acc)"
   ]
  },
  {
   "cell_type": "markdown",
   "metadata": {},
   "source": [
    "<h2>Observations</h2>\n",
    "<ul>\n",
    "    <li>Since the total number of non zero weights are same before and after adding the noise to the data so the features are not collinear with each other.</li>\n",
    "    <li>The accuracy of the noise added model is slightly increased which is about 0.35% which is due to the small random noise introduced to the data.</li>\n",
    "    <li>Since the features are not collinear we can find the feature importance by using the Recursive Feature Elimination technique.</li>\n"
   ]
  },
  {
   "cell_type": "markdown",
   "metadata": {},
   "source": [
    "<h3>Function for implementing the Recursive Feature Elimination Technique for finding the most important features present in the data</h3>"
   ]
  },
  {
   "cell_type": "code",
   "execution_count": 23,
   "metadata": {},
   "outputs": [],
   "source": [
    "def feature_selection(best,tr_Noise, Train_y):\n",
    "    from sklearn.feature_selection import RFECV\n",
    "# Create the RFE object and compute a cross-validated score.\n",
    "# The \"accuracy\" scoring is proportional to the number of correct classifications\n",
    "    rfecv = RFECV(estimator=best, step=1, cv=3,scoring ='accuracy')\n",
    "    rfecv.fit(tr_Noise, Train_y)\n",
    "\n",
    "    print(\"Optimal number of features: %d\" % rfecv.n_features_)\n",
    "    print('Selected features: %s' % list(tr_Noise.columns[rfecv.support_]))\n",
    "\n",
    "    NAMES=tr_Noise.columns\n",
    "    print (\"Features sorted by their rank:\")\n",
    "    print (sorted(zip(map(lambda x: round(x, 4), viz.ranking_), NAMES)))\n",
    "\n",
    "\n",
    "\n",
    "# Plot number of features VS. cross-validation scores\n",
    "    plt.figure(figsize=(10,6))\n",
    "    plt.xlabel(\"Number of features selected\")\n",
    "    plt.ylabel(\"Cross validation score (nb of correct classifications)\")\n",
    "    plt.plot(range(1, len(rfecv.grid_scores_) + 1), rfecv.grid_scores_)\n",
    "    plt.show()\n"
   ]
  },
  {
   "cell_type": "code",
   "execution_count": null,
   "metadata": {},
   "outputs": [],
   "source": [
    "start = datetime.now()\n",
    "best=best_param\n",
    "feature_selection(best,Train_nd,y_tr) \n",
    "\n",
    "print('Time taken :', datetime.now() - start)\n"
   ]
  },
  {
   "cell_type": "markdown",
   "metadata": {},
   "source": [
    "<h2>Note</h2>\n",
    "<ul>\n",
    "    <li>The Recursive Feature elimination technique is used to find out the important features present in the dataset it is basically an Iterative feature selection approach.</li>\n",
    "    <li>The goal of recursive feature elimination (RFE) is to select features by recursively considering smaller and smaller sets of features.</li>\n",
    "    <li>First, the estimator is trained on the initial set of features and the importance of each feature is obtained either through a coef_ attribute or through a feature_importances_ attribute.</li>\n",
    "    <li>The least important features are pruned from current set of features. That procedure is recursively repeated on the pruned set until the desired number of features to select is eventually reached.</li>\n",
    "        <li>So the time complexity of this approach is very high. so I had implemented this technique in Avg W2V and Tf-idf weighted W2V where the dimensions of the data is reasonable and can be easily implemented.</li>"
   ]
  },
  {
   "cell_type": "markdown",
   "metadata": {},
   "source": [
    "<h3>Implementing the TF-IDF Vectorization technique over the given data.</h3> "
   ]
  },
  {
   "cell_type": "code",
   "execution_count": 20,
   "metadata": {},
   "outputs": [
    {
     "name": "stdout",
     "output_type": "stream",
     "text": [
      "The shape of the X_train is:  (3920, 111810)\n",
      "The shape of the X_cv is:  (1680, 111810)\n",
      "The shape of the X_test is:  (2400, 111810)\n",
      "\n",
      "Top 25 feaures acording to the TF-IDF score are as follows\n"
     ]
    },
    {
     "data": {
      "text/html": [
       "<div>\n",
       "<style scoped>\n",
       "    .dataframe tbody tr th:only-of-type {\n",
       "        vertical-align: middle;\n",
       "    }\n",
       "\n",
       "    .dataframe tbody tr th {\n",
       "        vertical-align: top;\n",
       "    }\n",
       "\n",
       "    .dataframe thead th {\n",
       "        text-align: right;\n",
       "    }\n",
       "</style>\n",
       "<table border=\"1\" class=\"dataframe\">\n",
       "  <thead>\n",
       "    <tr style=\"text-align: right;\">\n",
       "      <th></th>\n",
       "      <th>feature</th>\n",
       "      <th>TFIDF</th>\n",
       "    </tr>\n",
       "  </thead>\n",
       "  <tbody>\n",
       "    <tr>\n",
       "      <th>0</th>\n",
       "      <td>romanc</td>\n",
       "      <td>62.617891</td>\n",
       "    </tr>\n",
       "    <tr>\n",
       "      <th>1</th>\n",
       "      <td>world live</td>\n",
       "      <td>62.617891</td>\n",
       "    </tr>\n",
       "    <tr>\n",
       "      <th>2</th>\n",
       "      <td>break cover</td>\n",
       "      <td>62.617891</td>\n",
       "    </tr>\n",
       "    <tr>\n",
       "      <th>3</th>\n",
       "      <td>stori strang</td>\n",
       "      <td>62.617891</td>\n",
       "    </tr>\n",
       "    <tr>\n",
       "      <th>4</th>\n",
       "      <td>one funiest</td>\n",
       "      <td>62.617891</td>\n",
       "    </tr>\n",
       "    <tr>\n",
       "      <th>5</th>\n",
       "      <td>job see</td>\n",
       "      <td>62.617891</td>\n",
       "    </tr>\n",
       "    <tr>\n",
       "      <th>6</th>\n",
       "      <td>see movi</td>\n",
       "      <td>62.617891</td>\n",
       "    </tr>\n",
       "    <tr>\n",
       "      <th>7</th>\n",
       "      <td>deceas handbook</td>\n",
       "      <td>62.617891</td>\n",
       "    </tr>\n",
       "    <tr>\n",
       "      <th>8</th>\n",
       "      <td>haunt take</td>\n",
       "      <td>62.617891</td>\n",
       "    </tr>\n",
       "    <tr>\n",
       "      <th>9</th>\n",
       "      <td>romanc alec</td>\n",
       "      <td>62.617891</td>\n",
       "    </tr>\n",
       "    <tr>\n",
       "      <th>10</th>\n",
       "      <td>live dead</td>\n",
       "      <td>62.617891</td>\n",
       "    </tr>\n",
       "    <tr>\n",
       "      <th>11</th>\n",
       "      <td>wait hous</td>\n",
       "      <td>62.617891</td>\n",
       "    </tr>\n",
       "    <tr>\n",
       "      <th>12</th>\n",
       "      <td>recent deceas</td>\n",
       "      <td>62.617891</td>\n",
       "    </tr>\n",
       "    <tr>\n",
       "      <th>13</th>\n",
       "      <td>haunt peopl</td>\n",
       "      <td>62.617891</td>\n",
       "    </tr>\n",
       "    <tr>\n",
       "      <th>14</th>\n",
       "      <td>realiti stori</td>\n",
       "      <td>62.617891</td>\n",
       "    </tr>\n",
       "    <tr>\n",
       "      <th>15</th>\n",
       "      <td>cover stori</td>\n",
       "      <td>62.617891</td>\n",
       "    </tr>\n",
       "    <tr>\n",
       "      <th>16</th>\n",
       "      <td>strang world</td>\n",
       "      <td>62.617891</td>\n",
       "    </tr>\n",
       "    <tr>\n",
       "      <th>17</th>\n",
       "      <td>watch time</td>\n",
       "      <td>62.617891</td>\n",
       "    </tr>\n",
       "    <tr>\n",
       "      <th>18</th>\n",
       "      <td>deceas</td>\n",
       "      <td>62.617891</td>\n",
       "    </tr>\n",
       "    <tr>\n",
       "      <th>19</th>\n",
       "      <td>davi funni</td>\n",
       "      <td>62.617891</td>\n",
       "    </tr>\n",
       "    <tr>\n",
       "      <th>20</th>\n",
       "      <td>baldwin geena</td>\n",
       "      <td>62.617891</td>\n",
       "    </tr>\n",
       "    <tr>\n",
       "      <th>21</th>\n",
       "      <td>mix strang</td>\n",
       "      <td>62.617891</td>\n",
       "    </tr>\n",
       "    <tr>\n",
       "      <th>22</th>\n",
       "      <td>movi cant</td>\n",
       "      <td>62.617891</td>\n",
       "    </tr>\n",
       "    <tr>\n",
       "      <th>23</th>\n",
       "      <td>handbook wait</td>\n",
       "      <td>62.617891</td>\n",
       "    </tr>\n",
       "    <tr>\n",
       "      <th>24</th>\n",
       "      <td>movi ever</td>\n",
       "      <td>62.617891</td>\n",
       "    </tr>\n",
       "  </tbody>\n",
       "</table>\n",
       "</div>"
      ],
      "text/plain": [
       "            feature      TFIDF\n",
       "0            romanc  62.617891\n",
       "1        world live  62.617891\n",
       "2       break cover  62.617891\n",
       "3      stori strang  62.617891\n",
       "4       one funiest  62.617891\n",
       "5           job see  62.617891\n",
       "6          see movi  62.617891\n",
       "7   deceas handbook  62.617891\n",
       "8        haunt take  62.617891\n",
       "9       romanc alec  62.617891\n",
       "10        live dead  62.617891\n",
       "11        wait hous  62.617891\n",
       "12    recent deceas  62.617891\n",
       "13      haunt peopl  62.617891\n",
       "14    realiti stori  62.617891\n",
       "15      cover stori  62.617891\n",
       "16     strang world  62.617891\n",
       "17       watch time  62.617891\n",
       "18           deceas  62.617891\n",
       "19       davi funni  62.617891\n",
       "20    baldwin geena  62.617891\n",
       "21       mix strang  62.617891\n",
       "22        movi cant  62.617891\n",
       "23    handbook wait  62.617891\n",
       "24        movi ever  62.617891"
      ]
     },
     "execution_count": 20,
     "metadata": {},
     "output_type": "execute_result"
    }
   ],
   "source": [
    "#Initializing the count vectorizer \n",
    "TFIDF_vect=TfidfVectorizer(ngram_range=(1,2),binary=True)\n",
    "\n",
    "#vectorizing the X_train set\n",
    "TF,tfx_tr=vec_train(TFIDF_vect,TFX_tr[\"CleanedText\"])\n",
    "\n",
    "print(\"The shape of the X_train is: \",tfx_tr.shape)\n",
    "\n",
    "#Vectgorizing the X_crossvalidation set\n",
    "tfx_cv=vec_cv(TF,TFX_cv[\"CleanedText\"])\n",
    "print(\"The shape of the X_cv is: \",tfx_cv.shape)\n",
    "\n",
    "#Vectorizing the X_test set\n",
    "tfx_test=vec_test(TF,TFX_test[\"CleanedText\"])\n",
    "print(\"The shape of the X_test is: \",tfx_test.shape)\n",
    "\n",
    "\n",
    "#Printing the total length of the features\n",
    "print(\"\\nTop 25 feaures acording to the TF-IDF score are as follows\")\n",
    "TF_features = TFIDF_vect.get_feature_names()\n",
    "len(TF_features)\n",
    "\n",
    "\n",
    "top_TFIDF = top_tfidf_feats(\"TFIDF\",tfx_tr[1,:].toarray()[0],TF_features,25)\n",
    "top_TFIDF\n",
    "\n"
   ]
  },
  {
   "cell_type": "code",
   "execution_count": 23,
   "metadata": {},
   "outputs": [
    {
     "data": {
      "image/png": "[encoded data removed]",
      "text/plain": [
       "<Figure size 576x396 with 1 Axes>"
      ]
     },
     "metadata": {},
     "output_type": "display_data"
    }
   ],
   "source": [
    "display_token(TFIDF_vect,TFX_tr[\"CleanedText\"])"
   ]
  },
  {
   "cell_type": "markdown",
   "metadata": {},
   "source": [
    "<h2>Training the Tfidf Vectorized model over the cross-Validation set</h2>"
   ]
  },
  {
   "cell_type": "code",
   "execution_count": 51,
   "metadata": {},
   "outputs": [
    {
     "name": "stdout",
     "output_type": "stream",
     "text": [
      "The model score on train set is=  1.0\n",
      "\n",
      "The accuracy of Logistic Regression over cross-validation set is =  85% \n",
      "The total number of non zero weights =  108306\n"
     ]
    }
   ],
   "source": [
    "#Training the logistic regression model\n",
    "tfy_pre,tfacc=train(tfx_tr,TFy_tr,tfx_cv,TFy_cv)"
   ]
  },
  {
   "cell_type": "markdown",
   "metadata": {},
   "source": [
    "<h3>Plotting the Confusion matrix of the above model</h3>"
   ]
  },
  {
   "cell_type": "code",
   "execution_count": 52,
   "metadata": {},
   "outputs": [
    {
     "name": "stdout",
     "output_type": "stream",
     "text": [
      "[[  12  242]\n",
      " [   0 1426]]\n"
     ]
    },
    {
     "data": {
      "image/png": "[encoded data removed]",
      "text/plain": [
       "<Figure size 648x648 with 2 Axes>"
      ]
     },
     "metadata": {},
     "output_type": "display_data"
    },
    {
     "name": "stdout",
     "output_type": "stream",
     "text": [
      "\n",
      "+-------------------------------------------------------------+\n",
      "| The performance metrics of the above model are as follows:  |\n",
      "+---------------------------------+---------------------------+\n",
      "|             Metrics             |           Scores          |\n",
      "+---------------------------------+---------------------------+\n",
      "|     Classification_accuracy     |     85.59523809523809     |\n",
      "|       Classification_error      |     14.404761904761903    |\n",
      "|          True positive          |            1426           |\n",
      "|          False positive         |            242            |\n",
      "|          True negative          |             12            |\n",
      "|          False negative         |             0             |\n",
      "|        True positive rate       |           100.0           |\n",
      "|       False negative rate       |            0.0            |\n",
      "|        True negative rate       |     4.724409448818897     |\n",
      "|       False positive rate       |      95.2755905511811     |\n",
      "|         Precision value         |      85.4916067146283     |\n",
      "|           Recall value          |           100.0           |\n",
      "|          f1_score value         |     92.17840982546866     |\n",
      "+---------------------------------+---------------------------+\n"
     ]
    }
   ],
   "source": [
    "Confusion_metric(TFy_cv,tfy_pre,tfacc)"
   ]
  },
  {
   "cell_type": "markdown",
   "metadata": {},
   "source": [
    "<h3>Hyperparameter tuning the lamda value using the Gridsearch & randomsearch cross-validation technique.</h3>"
   ]
  },
  {
   "cell_type": "code",
   "execution_count": 21,
   "metadata": {},
   "outputs": [
    {
     "name": "stdout",
     "output_type": "stream",
     "text": [
      "LogisticRegression(C=1e-05, class_weight='balanced', dual=False,\n",
      "          fit_intercept=True, intercept_scaling=1, max_iter=100,\n",
      "          multi_class='ovr', n_jobs=-1, penalty='l2', random_state=None,\n",
      "          solver='liblinear', tol=0.0001, verbose=0, warm_start=False)\n",
      "0.8910714285714286\n"
     ]
    }
   ],
   "source": [
    "#Gridsearch implementation\n",
    "best_tfparam=gridsearch(tfx_tr,TFy_tr,tfx_cv,TFy_cv)"
   ]
  },
  {
   "cell_type": "code",
   "execution_count": 54,
   "metadata": {},
   "outputs": [
    {
     "name": "stdout",
     "output_type": "stream",
     "text": [
      "LogisticRegression(C=0.5131306580538797, class_weight='balanced', dual=False,\n",
      "          fit_intercept=True, intercept_scaling=1, max_iter=100,\n",
      "          multi_class='ovr', n_jobs=-1, penalty='l2', random_state=None,\n",
      "          solver='liblinear', tol=0.0001, verbose=0, warm_start=False)\n",
      "0.856547619047619\n"
     ]
    }
   ],
   "source": [
    "#Random-search Implementation\n",
    "Best_randpar=randomsearch(tfx_tr, TFy_tr,tfx_cv, TFy_cv)"
   ]
  },
  {
   "cell_type": "markdown",
   "metadata": {},
   "source": [
    "<h3>Plotting the optimal lamda results using 10k crossvalidation technique.</h3>"
   ]
  },
  {
   "cell_type": "code",
   "execution_count": 55,
   "metadata": {},
   "outputs": [
    {
     "name": "stdout",
     "output_type": "stream",
     "text": [
      "--------------------------------------------------------------------------------------------------------\n",
      "for alpha = 1e-06\n",
      "\n",
      "the misclassification error for each alpha value is :  [0.193]\n",
      "--------------------------------------------------------------------------------------------------------\n",
      "for alpha = 1e-05\n",
      "\n",
      "the misclassification error for each alpha value is :  [0.193 0.101]\n",
      "--------------------------------------------------------------------------------------------------------\n",
      "for alpha = 0.0001\n",
      "\n",
      "the misclassification error for each alpha value is :  [0.193 0.101 0.129]\n",
      "--------------------------------------------------------------------------------------------------------\n",
      "for alpha = 0.001\n",
      "\n",
      "the misclassification error for each alpha value is :  [0.193 0.101 0.129 0.134]\n",
      "--------------------------------------------------------------------------------------------------------\n",
      "for alpha = 0.01\n",
      "\n",
      "the misclassification error for each alpha value is :  [0.193 0.101 0.129 0.134 0.134]\n",
      "--------------------------------------------------------------------------------------------------------\n",
      "for alpha = 0.1\n",
      "\n",
      "the misclassification error for each alpha value is :  [0.193 0.101 0.129 0.134 0.134 0.135]\n",
      "--------------------------------------------------------------------------------------------------------\n",
      "for alpha = 1\n",
      "\n",
      "the misclassification error for each alpha value is :  [0.193 0.101 0.129 0.134 0.134 0.135 0.135]\n",
      "--------------------------------------------------------------------------------------------------------\n",
      "for alpha = 10\n",
      "\n",
      "the misclassification error for each alpha value is :  [0.193 0.101 0.129 0.134 0.134 0.135 0.135 0.135]\n",
      "--------------------------------------------------------------------------------------------------------\n",
      "for alpha = 100\n",
      "\n",
      "the misclassification error for each alpha value is :  [0.193 0.101 0.129 0.134 0.134 0.135 0.135 0.135 0.136]\n",
      "--------------------------------------------------------------------------------------------------------\n",
      "for alpha = 1000\n",
      "\n",
      "the misclassification error for each alpha value is :  [0.193 0.101 0.129 0.134 0.134 0.135 0.135 0.135 0.136 0.136]\n"
     ]
    },
    {
     "data": {
      "image/png": "[encoded data removed]",
      "text/plain": [
       "<Figure size 576x396 with 1 Axes>"
      ]
     },
     "metadata": {},
     "output_type": "display_data"
    },
    {
     "name": "stdout",
     "output_type": "stream",
     "text": [
      "\n",
      "The optimal number of alpha value is 0.000010%.\n"
     ]
    }
   ],
   "source": [
    "cv_results(tfx_tr, TFy_tr)"
   ]
  },
  {
   "cell_type": "markdown",
   "metadata": {},
   "source": [
    "<h3> Testing the model over test set using optimal value of lamda</h3>"
   ]
  },
  {
   "cell_type": "code",
   "execution_count": 56,
   "metadata": {},
   "outputs": [
    {
     "name": "stdout",
     "output_type": "stream",
     "text": [
      "The model score on train set is=  1.0\n",
      "\n",
      "The accuracy of Logistic Regression over Test set is =  86% \n",
      "The total number of non zero weights =  108306\n"
     ]
    }
   ],
   "source": [
    "TF_clf=best_tfparam\n",
    "\n",
    "TFy_pre,TF_acc=tuned_test(TF_clf,tfx_tr,TFy_tr,tfx_test,TFy_test)"
   ]
  },
  {
   "cell_type": "markdown",
   "metadata": {},
   "source": [
    "<h3>Confusion matrix of the above model.</h3>"
   ]
  },
  {
   "cell_type": "code",
   "execution_count": 42,
   "metadata": {},
   "outputs": [
    {
     "name": "stdout",
     "output_type": "stream",
     "text": [
      "[[ 193  248]\n",
      " [  76 1883]]\n"
     ]
    },
    {
     "data": {
      "image/png": "[encoded data removed]",
      "text/plain": [
       "<Figure size 648x648 with 2 Axes>"
      ]
     },
     "metadata": {
      "needs_background": "light"
     },
     "output_type": "display_data"
    },
    {
     "name": "stdout",
     "output_type": "stream",
     "text": [
      "\n",
      "+-------------------------------------------------------------+\n",
      "| The performance metrics of the above model are as follows:  |\n",
      "+---------------------------------+---------------------------+\n",
      "|             Metrics             |           Scores          |\n",
      "+---------------------------------+---------------------------+\n",
      "|     Classification_accuracy     |            86.5           |\n",
      "|       Classification_error      |            13.5           |\n",
      "|          True positive          |            1883           |\n",
      "|          False positive         |            248            |\n",
      "|          True negative          |            193            |\n",
      "|          False negative         |             76            |\n",
      "|        True positive rate       |     96.12046962736089     |\n",
      "|       False negative rate       |     3.8795303726391013    |\n",
      "|        True negative rate       |     43.76417233560091     |\n",
      "|       False positive rate       |     56.235827664399096    |\n",
      "|         Precision value         |     88.36227123416236     |\n",
      "|           Recall value          |     96.12046962736089     |\n",
      "|          f1_score value         |     92.07823960880195     |\n",
      "+---------------------------------+---------------------------+\n"
     ]
    }
   ],
   "source": [
    "Confusion_metric(TFy_test,TFy_pre,TF_acc)"
   ]
  },
  {
   "cell_type": "code",
   "execution_count": null,
   "metadata": {},
   "outputs": [],
   "source": []
  },
  {
   "cell_type": "markdown",
   "metadata": {},
   "source": [
    "<h3> Checking the Collinearity of features using the Pertubation test.</h3>"
   ]
  },
  {
   "cell_type": "code",
   "execution_count": 22,
   "metadata": {},
   "outputs": [
    {
     "name": "stdout",
     "output_type": "stream",
     "text": [
      "[[-0.0293998   0.00574307 -0.01102008 ... -0.00566326 -0.00394131\n",
      "   0.00733515]\n",
      " [ 0.0134632   0.00575275 -0.00194554 ... -0.01083167 -0.00697928\n",
      "   0.01552455]\n",
      " [-0.01683894 -0.00300703  0.00960419 ...  0.00361058  0.01164493\n",
      "  -0.00696104]\n",
      " ...\n",
      " [-0.0037834   0.0020388  -0.01235432 ... -0.00450846  0.01589632\n",
      "   0.01166761]\n",
      " [-0.00076997  0.00264301 -0.0117148  ... -0.01369906 -0.00485977\n",
      "  -0.00973072]\n",
      " [ 0.00940964  0.01028941 -0.00129644 ... -0.01832069 -0.00319472\n",
      "   0.00191571]]\n",
      "\n",
      "The shape of the train data after adding noise is : (3920, 111810)\n",
      "****************************************************************************************************\n",
      "[[-0.00417559 -0.00704755 -0.00141303 ...  0.01626558  0.00226082\n",
      "  -0.01262548]\n",
      " [-0.0141736   0.00596285 -0.00596431 ...  0.00877768  0.00377179\n",
      "  -0.01257661]\n",
      " [-0.0091882   0.00284102  0.00032274 ... -0.01078585  0.00518952\n",
      "  -0.00123502]\n",
      " ...\n",
      " [ 0.00426562 -0.00367072  0.00452932 ...  0.00798885  0.01859829\n",
      "   0.00881884]\n",
      " [-0.00904702 -0.00447615 -0.00053691 ... -0.00267147 -0.0101473\n",
      "  -0.0028802 ]\n",
      " [-0.00040311 -0.00444414  0.02081097 ...  0.00818527 -0.00943785\n",
      "   0.00025683]]\n",
      "\n",
      "The shape of the test data after adding noise is : (2400, 111810)\n"
     ]
    }
   ],
   "source": [
    "TrainTf_Noise,TestTF_Noise=Noise(tfx_tr,tfx_test)"
   ]
  },
  {
   "cell_type": "markdown",
   "metadata": {},
   "source": [
    "<h3> Testing the above model over the noise added Test set</h3>"
   ]
  },
  {
   "cell_type": "code",
   "execution_count": 23,
   "metadata": {},
   "outputs": [
    {
     "name": "stdout",
     "output_type": "stream",
     "text": [
      "The model score on train set is=  1.0\n",
      "\n",
      "The accuracy of Logistic Regression over Test set is =  87% \n",
      "The total number of non zero weights =  111810\n"
     ]
    }
   ],
   "source": [
    "TF_clf=best_tfparam\n",
    "Noise_tfpre,Noise_tfacc=tuned_test(TF_clf,TrainTf_Noise,TFy_tr,TestTF_Noise,TFy_test)"
   ]
  },
  {
   "cell_type": "markdown",
   "metadata": {},
   "source": [
    "<h2>Observations</h2>\n",
    "<ul>\n",
    "    <li>Since the total number of non zero weights are same before and after adding the noise to the data so the features are not collinear with each other.</li>\n",
    "    <li>The accuracy of the noise added model is slightly increased which is about 0.35% which is due to the small random noise introduced to the data.</li>\n",
    "    <li>Since the features are not collinear we can find the feature importance by using the Recursive Feature Elimination technique.</li>\n"
   ]
  },
  {
   "cell_type": "markdown",
   "metadata": {},
   "source": [
    "<h2>Implementing the Avg Word to vectorization technique</h2>"
   ]
  },
  {
   "cell_type": "code",
   "execution_count": 20,
   "metadata": {},
   "outputs": [
    {
     "name": "stdout",
     "output_type": "stream",
     "text": [
      "number of words that occured minimum 5 times is  9352\n",
      "50000\n",
      "50\n",
      "Time taken : 0:00:08.840139\n"
     ]
    }
   ],
   "source": [
    "start = datetime.now()\n",
    "import gensim\n",
    "\n",
    "# Train our own Word2Vec model using text corpus\n",
    "list_of_sentence_vec=[]\n",
    "for sentence in Sample_sort['CleanedText'].values:\n",
    "    list_of_sentence_vec.append(sentence.split())\n",
    "# Generate model.\n",
    "w2v_Model = gensim.models.Word2Vec(list_of_sentence_vec,min_count=5,size=50, workers=6)\n",
    "\n",
    "w2v_Words = list(w2v_Model.wv.vocab)\n",
    "print(\"number of words that occured minimum 5 times is \",len(w2v_Words))\n",
    "\n",
    "\n",
    "#code for finding the avg w2v\n",
    "# average Word2Vec\n",
    "# compute average word2vec for each review.\n",
    "sent_vectors = []; # the avg-w2v for each sentence/review is stored in this list\n",
    "for sent in list_of_sentence_vec: # for each review/sentence\n",
    "    sent_vec = np.zeros(50) # as word vectors are of zero length\n",
    "    cnt_words =0; # num of words with a valid vector in the sentence/review\n",
    "    for word in sent: # for each word in a review/sentence\n",
    "        try:\n",
    "            vec = w2v_Model.wv[word]\n",
    "            sent_vec += vec\n",
    "            cnt_words += 1\n",
    "        except:\n",
    "            pass\n",
    "    sent_vec /= cnt_words\n",
    "    #print(np.isnan(np.sum(sent_vec)))\n",
    "    sent_vectors.append(sent_vec)\n",
    "print(len(sent_vectors))\n",
    "print(len(sent_vectors[0]))\n",
    "\n",
    "print('Time taken :', datetime.now() - start)"
   ]
  },
  {
   "cell_type": "markdown",
   "metadata": {},
   "source": [
    "<h3>Checking for the NAN Values in the dataset</h3>"
   ]
  },
  {
   "cell_type": "code",
   "execution_count": 21,
   "metadata": {},
   "outputs": [
    {
     "data": {
      "text/plain": [
       "array([], shape=(0, 2), dtype=int64)"
      ]
     },
     "execution_count": 21,
     "metadata": {},
     "output_type": "execute_result"
    }
   ],
   "source": [
    "np.argwhere(np.isnan(sent_vectors))#checking for nan values"
   ]
  },
  {
   "cell_type": "markdown",
   "metadata": {},
   "source": [
    "<h3>Preparing the data for the further implementations</h3>"
   ]
  },
  {
   "cell_type": "code",
   "execution_count": 22,
   "metadata": {},
   "outputs": [],
   "source": [
    "X_w2v=sent_vectors\n",
    "y_w2v=label\n",
    "\n",
    "TrainX_w2v,Trainy_w2v,TrainX_w2vCV,Testy_w2vCV,TestX_w2v,Testy_data=data_split(X_w2v,y_w2v)"
   ]
  },
  {
   "cell_type": "code",
   "execution_count": 23,
   "metadata": {},
   "outputs": [
    {
     "name": "stdout",
     "output_type": "stream",
     "text": [
      "(24500, 50)\n",
      "(15000, 50)\n"
     ]
    }
   ],
   "source": [
    "Train_df=pd.DataFrame(TrainX_w2v)\n",
    "print(Train_df.shape)\n",
    "\n",
    "Test_df=pd.DataFrame(TestX_w2v)\n",
    "print(Test_df.shape)"
   ]
  },
  {
   "cell_type": "markdown",
   "metadata": {},
   "source": [
    "<h3>Training the model over the Avg word to vectorized data.</li>"
   ]
  },
  {
   "cell_type": "code",
   "execution_count": 24,
   "metadata": {},
   "outputs": [
    {
     "name": "stdout",
     "output_type": "stream",
     "text": [
      "The model score on train set is=  0.8046530612244898\n",
      "\n",
      "The accuracy of Logistic Regression over cross-validation set is =  77% \n",
      "The total number of non zero weights =  50\n"
     ]
    }
   ],
   "source": [
    "#Calling the train function and storing the prediction value and accuracy\n",
    "\n",
    "W2V_pred,W2V_acc=train(TrainX_w2v,Trainy_w2v,TrainX_w2vCV,Testy_w2vCV)"
   ]
  },
  {
   "cell_type": "code",
   "execution_count": 25,
   "metadata": {},
   "outputs": [
    {
     "name": "stdout",
     "output_type": "stream",
     "text": [
      "[[1446  288]\n",
      " [2047 6719]]\n"
     ]
    },
    {
     "data": {
      "image/png": "[encoded data removed]",
      "text/plain": [
       "<Figure size 648x648 with 2 Axes>"
      ]
     },
     "metadata": {},
     "output_type": "display_data"
    },
    {
     "name": "stdout",
     "output_type": "stream",
     "text": [
      "\n",
      "+-------------------------------------------------------------+\n",
      "| The performance metrics of the above model are as follows:  |\n",
      "+---------------------------------+---------------------------+\n",
      "|             Metrics             |           Scores          |\n",
      "+---------------------------------+---------------------------+\n",
      "|     Classification_accuracy     |     77.76190476190476     |\n",
      "|       Classification_error      |     22.238095238095237    |\n",
      "|          True positive          |            6719           |\n",
      "|          False positive         |            288            |\n",
      "|          True negative          |            1446           |\n",
      "|          False negative         |            2047           |\n",
      "|        True positive rate       |     76.64841432808579     |\n",
      "|       False negative rate       |     23.35158567191421     |\n",
      "|        True negative rate       |     83.39100346020761     |\n",
      "|       False positive rate       |     16.608996539792386    |\n",
      "|         Precision value         |     95.88982446125304     |\n",
      "|           Recall value          |     76.64841432808579     |\n",
      "|          f1_score value         |      85.1962213909846     |\n",
      "+---------------------------------+---------------------------+\n"
     ]
    }
   ],
   "source": [
    "Confusion_metric(Testy_w2vCV,W2V_pred,W2V_acc)"
   ]
  },
  {
   "cell_type": "markdown",
   "metadata": {},
   "source": [
    "<h3>Hyperparameter tuning for finding the optimal lambda using Gridsearch and Randomsearch technique</h3>"
   ]
  },
  {
   "cell_type": "code",
   "execution_count": 26,
   "metadata": {},
   "outputs": [
    {
     "name": "stdout",
     "output_type": "stream",
     "text": [
      "LogisticRegression(C=1e-06, class_weight='balanced', dual=False,\n",
      "          fit_intercept=True, intercept_scaling=1, max_iter=100,\n",
      "          multi_class='ovr', n_jobs=-1, penalty='l2', random_state=None,\n",
      "          solver='liblinear', tol=0.0001, verbose=0, warm_start=False)\n",
      "0.784\n"
     ]
    }
   ],
   "source": [
    "#Gridsearch implementation\n",
    "best_W2Vparam=gridsearch(TrainX_w2v,Trainy_w2v,TrainX_w2vCV,Testy_w2vCV)"
   ]
  },
  {
   "cell_type": "code",
   "execution_count": 27,
   "metadata": {},
   "outputs": [
    {
     "name": "stdout",
     "output_type": "stream",
     "text": [
      "LogisticRegression(C=0.05288171502573946, class_weight='balanced', dual=False,\n",
      "          fit_intercept=True, intercept_scaling=1, max_iter=100,\n",
      "          multi_class='ovr', n_jobs=-1, penalty='l2', random_state=None,\n",
      "          solver='liblinear', tol=0.0001, verbose=0, warm_start=False)\n",
      "0.7780952380952381\n"
     ]
    }
   ],
   "source": [
    "#Random-search Implementation\n",
    "Best_W2Vpar=randomsearch(TrainX_w2v,Trainy_w2v,TrainX_w2vCV,Testy_w2vCV)"
   ]
  },
  {
   "cell_type": "markdown",
   "metadata": {},
   "source": [
    "<h3>Implementing the 10K Cross-validation techniques for plotting the optimal K value</h3>"
   ]
  },
  {
   "cell_type": "code",
   "execution_count": 28,
   "metadata": {},
   "outputs": [
    {
     "name": "stdout",
     "output_type": "stream",
     "text": [
      "--------------------------------------------------------------------------------------------------------\n",
      "for alpha = 1e-06\n",
      "\n",
      "the misclassification error for each alpha value is :  [0.19]\n",
      "--------------------------------------------------------------------------------------------------------\n",
      "for alpha = 1e-05\n",
      "\n",
      "the misclassification error for each alpha value is :  [0.19  0.197]\n",
      "--------------------------------------------------------------------------------------------------------\n",
      "for alpha = 0.0001\n",
      "\n",
      "the misclassification error for each alpha value is :  [0.19  0.197 0.217]\n",
      "--------------------------------------------------------------------------------------------------------\n",
      "for alpha = 0.001\n",
      "\n",
      "the misclassification error for each alpha value is :  [0.19  0.197 0.217 0.21 ]\n",
      "--------------------------------------------------------------------------------------------------------\n",
      "for alpha = 0.01\n",
      "\n",
      "the misclassification error for each alpha value is :  [0.19  0.197 0.217 0.21  0.2  ]\n",
      "--------------------------------------------------------------------------------------------------------\n",
      "for alpha = 0.1\n",
      "\n",
      "the misclassification error for each alpha value is :  [0.19  0.197 0.217 0.21  0.2   0.197]\n",
      "--------------------------------------------------------------------------------------------------------\n",
      "for alpha = 1\n",
      "\n",
      "the misclassification error for each alpha value is :  [0.19  0.197 0.217 0.21  0.2   0.197 0.198]\n",
      "--------------------------------------------------------------------------------------------------------\n",
      "for alpha = 10\n",
      "\n",
      "the misclassification error for each alpha value is :  [0.19  0.197 0.217 0.21  0.2   0.197 0.198 0.197]\n",
      "--------------------------------------------------------------------------------------------------------\n",
      "for alpha = 100\n",
      "\n",
      "the misclassification error for each alpha value is :  [0.19  0.197 0.217 0.21  0.2   0.197 0.198 0.197 0.197]\n",
      "--------------------------------------------------------------------------------------------------------\n",
      "for alpha = 1000\n",
      "\n",
      "the misclassification error for each alpha value is :  [0.19  0.197 0.217 0.21  0.2   0.197 0.198 0.197 0.197 0.197]\n"
     ]
    },
    {
     "data": {
      "image/png": "[encoded data removed]",
      "text/plain": [
       "<Figure size 576x396 with 1 Axes>"
      ]
     },
     "metadata": {},
     "output_type": "display_data"
    },
    {
     "name": "stdout",
     "output_type": "stream",
     "text": [
      "\n",
      "The optimal number of alpha value is 0.000001%.\n"
     ]
    }
   ],
   "source": [
    "cv_results(TrainX_w2v,Trainy_w2v)"
   ]
  },
  {
   "cell_type": "markdown",
   "metadata": {},
   "source": [
    "<h2>Training the model over the cross-validation set.</h2>"
   ]
  },
  {
   "cell_type": "code",
   "execution_count": 30,
   "metadata": {},
   "outputs": [
    {
     "name": "stdout",
     "output_type": "stream",
     "text": [
      "The model score on train set is=  0.8042448979591836\n",
      "\n",
      "The accuracy of Logistic Regression over Test set is =  78% \n",
      "The total number of non zero weights =  50\n"
     ]
    }
   ],
   "source": [
    "W2V_clf=Best_W2Vpar\n",
    "\n",
    "TFy_pre,TF_acc=tuned_test(W2V_clf,TrainX_w2v,Trainy_w2v,TestX_w2v,Testy_data)"
   ]
  },
  {
   "cell_type": "markdown",
   "metadata": {},
   "source": [
    "<h2>Confusion matrix of the above model</h2>"
   ]
  },
  {
   "cell_type": "code",
   "execution_count": 31,
   "metadata": {},
   "outputs": [
    {
     "name": "stdout",
     "output_type": "stream",
     "text": [
      "[[2273  372]\n",
      " [2849 9506]]\n"
     ]
    },
    {
     "data": {
      "image/png": "[encoded data removed]",
      "text/plain": [
       "<Figure size 648x648 with 2 Axes>"
      ]
     },
     "metadata": {},
     "output_type": "display_data"
    },
    {
     "name": "stdout",
     "output_type": "stream",
     "text": [
      "\n",
      "+-------------------------------------------------------------+\n",
      "| The performance metrics of the above model are as follows:  |\n",
      "+---------------------------------+---------------------------+\n",
      "|             Metrics             |           Scores          |\n",
      "+---------------------------------+---------------------------+\n",
      "|     Classification_accuracy     |     78.52666666666667     |\n",
      "|       Classification_error      |     21.473333333333333    |\n",
      "|          True positive          |            9506           |\n",
      "|          False positive         |            372            |\n",
      "|          True negative          |            2273           |\n",
      "|          False negative         |            2849           |\n",
      "|        True positive rate       |     76.94050991501416     |\n",
      "|       False negative rate       |     23.059490084985836    |\n",
      "|        True negative rate       |     85.93572778827976     |\n",
      "|       False positive rate       |     14.064272211720228    |\n",
      "|         Precision value         |     96.23405547681718     |\n",
      "|           Recall value          |     76.94050991501416     |\n",
      "|          f1_score value         |     85.51252642468404     |\n",
      "+---------------------------------+---------------------------+\n"
     ]
    }
   ],
   "source": [
    "Confusion_metric(Testy_data,TFy_pre,TF_acc)"
   ]
  },
  {
   "cell_type": "markdown",
   "metadata": {},
   "source": [
    "<h2>Implementing the pertubation test for checking the multicollinearity of features.</h2>"
   ]
  },
  {
   "cell_type": "code",
   "execution_count": 34,
   "metadata": {},
   "outputs": [
    {
     "name": "stdout",
     "output_type": "stream",
     "text": [
      "[[-3.02199141e-03 -6.40994457e-03  1.40113940e-02 ... -1.83079661e-02\n",
      "   1.36145430e-02 -8.03450608e-03]\n",
      " [-6.80652054e-03  1.03672029e-02  9.71838403e-03 ... -1.35212441e-03\n",
      "   2.17315200e-03  2.34714024e-05]\n",
      " [ 4.34024763e-03  6.21594492e-03 -1.43264778e-02 ...  2.98205029e-03\n",
      "   3.14499459e-03  2.87263470e-03]\n",
      " ...\n",
      " [-1.75968199e-02  1.55204670e-02  3.35575260e-03 ... -4.42612518e-03\n",
      "   1.93777972e-04  4.97164143e-03]\n",
      " [ 1.30101268e-02 -1.42451312e-02 -6.56538958e-03 ...  1.21692669e-03\n",
      "  -3.02072584e-03  1.04822745e-02]\n",
      " [ 4.53560945e-04  1.59315463e-02 -7.14761609e-03 ... -8.17045105e-03\n",
      "  -3.13140673e-03  1.22633742e-02]]\n",
      "\n",
      "The shape of the train data after adding noise is : (24500, 50)\n",
      "****************************************************************************************************\n",
      "[[-1.68171043e-02  5.17149174e-03  1.70818856e-02 ... -1.47462812e-04\n",
      "   1.88291463e-02 -1.23780137e-03]\n",
      " [-5.06956228e-03 -4.79932671e-03  2.07591027e-02 ...  2.62780661e-02\n",
      "  -4.95871116e-03 -3.47703774e-04]\n",
      " [ 1.75299824e-03  6.77775224e-03  7.81561405e-03 ...  1.89639458e-03\n",
      "   6.09511736e-05 -6.37163059e-03]\n",
      " ...\n",
      " [-7.30975822e-03 -1.20704029e-02 -1.38893907e-02 ...  1.06770342e-03\n",
      "   1.71376229e-02 -2.10246406e-03]\n",
      " [ 1.51278074e-02 -7.93689043e-03  6.33493600e-03 ... -9.03321657e-03\n",
      "   8.39426765e-03  7.41618894e-03]\n",
      " [-4.69488234e-03 -8.45927735e-04 -6.36421597e-03 ...  5.06711659e-03\n",
      "   1.33999164e-02  1.61475279e-02]]\n",
      "\n",
      "The shape of the test data after adding noise is : (15000, 50)\n"
     ]
    }
   ],
   "source": [
    "Trw2v_Noise,Tesw2v_Noise=Noise(Train_df,Test_df)"
   ]
  },
  {
   "cell_type": "markdown",
   "metadata": {},
   "source": [
    "<h2>Testing the model over the noise added inputs</h2>"
   ]
  },
  {
   "cell_type": "code",
   "execution_count": 35,
   "metadata": {},
   "outputs": [
    {
     "name": "stdout",
     "output_type": "stream",
     "text": [
      "The model score on train set is=  0.804\n",
      "\n",
      "The accuracy of Logistic Regression over Test set is =  78% \n",
      "The total number of non zero weights =  50\n"
     ]
    }
   ],
   "source": [
    "W2V_clf=Best_W2Vpar\n",
    "\n",
    "w2v_Noise_pre,w2v_noise_acc=tuned_test(W2V_clf,Trw2v_Noise,Trainy_w2v,Tesw2v_Noise,Testy_data)"
   ]
  },
  {
   "cell_type": "markdown",
   "metadata": {},
   "source": [
    "<h2>Confusion matrix of the above model.</h2>"
   ]
  },
  {
   "cell_type": "code",
   "execution_count": 36,
   "metadata": {},
   "outputs": [
    {
     "name": "stdout",
     "output_type": "stream",
     "text": [
      "[[2271  374]\n",
      " [2838 9517]]\n"
     ]
    },
    {
     "data": {
      "image/png": "[encoded data removed]",
      "text/plain": [
       "<Figure size 648x648 with 2 Axes>"
      ]
     },
     "metadata": {},
     "output_type": "display_data"
    },
    {
     "name": "stdout",
     "output_type": "stream",
     "text": [
      "\n",
      "+-------------------------------------------------------------+\n",
      "| The performance metrics of the above model are as follows:  |\n",
      "+---------------------------------+---------------------------+\n",
      "|             Metrics             |           Scores          |\n",
      "+---------------------------------+---------------------------+\n",
      "|     Classification_accuracy     |     78.58666666666667     |\n",
      "|       Classification_error      |     21.413333333333334    |\n",
      "|          True positive          |            9517           |\n",
      "|          False positive         |            374            |\n",
      "|          True negative          |            2271           |\n",
      "|          False negative         |            2838           |\n",
      "|        True positive rate       |     77.02954269526508     |\n",
      "|       False negative rate       |     22.970457304734925    |\n",
      "|        True negative rate       |      85.8601134215501     |\n",
      "|       False positive rate       |     14.139886578449905    |\n",
      "|         Precision value         |      96.2187847538166     |\n",
      "|           Recall value          |     77.02954269526508     |\n",
      "|          f1_score value         |     85.56144924930327     |\n",
      "+---------------------------------+---------------------------+\n"
     ]
    }
   ],
   "source": [
    "Confusion_metric(Testy_data,w2v_Noise_pre,w2v_noise_acc)"
   ]
  },
  {
   "cell_type": "markdown",
   "metadata": {},
   "source": [
    "<h2>Observations</h2>\n",
    "<ul>\n",
    "    <li>After performing the pertubation test and testing the features over the test set the performance of the model did not changed that much.</li>\n",
    "    <li>The total number of the non negative weights are same as compared to the previous model,So the features are not collinear which is good for the model.</li>\n",
    "    <li>So I had implemented the feature importance by using the Recursive Feature elimination technique to find the most useful features which explain good amount of variance.</li>\n",
    "    \n"
   ]
  },
  {
   "cell_type": "markdown",
   "metadata": {},
   "source": [
    "<h2> Function for performing Feature Importance using Recursive Feature elimination Cross-validation technique.</h2>"
   ]
  },
  {
   "cell_type": "code",
   "execution_count": 37,
   "metadata": {},
   "outputs": [],
   "source": [
    "#Function for finding the Important features\n",
    "\n",
    "from yellowbrick.features import RFECV\n",
    "def Feature_imp(best,tr_Noise, Train_y):\n",
    "    LOG= best\n",
    "    viz = RFECV(LOG, cv=3, scoring='accuracy')\n",
    "    viz.fit(tr_Noise, Train_y)\n",
    "\n",
    "    print(\"Optimal number of features: %d\" % viz.n_features_)\n",
    "    print('Selected features: %s' % list(tr_Noise.columns[viz.support_]))\n",
    "\n",
    "    NAMES=tr_Noise.columns\n",
    "    print (\"Features sorted by their rank:\")\n",
    "    print (sorted(zip(map(lambda x: round(x, 4), viz.ranking_), NAMES)))\n",
    "\n",
    "    viz.poof()\n",
    "\n"
   ]
  },
  {
   "cell_type": "markdown",
   "metadata": {},
   "source": [
    "<h3> Code for finding the calling the RFECV function and listing the important features by rank.</h3>"
   ]
  },
  {
   "cell_type": "code",
   "execution_count": 38,
   "metadata": {},
   "outputs": [
    {
     "name": "stdout",
     "output_type": "stream",
     "text": [
      "Optimal number of features: 34\n",
      "Selected features: [0, 2, 3, 4, 6, 7, 8, 9, 12, 13, 15, 16, 17, 18, 21, 23, 24, 25, 26, 27, 28, 30, 32, 33, 34, 35, 36, 37, 38, 40, 41, 47, 48, 49]\n",
      "Features sorted by their rank:\n",
      "[(1, 0), (1, 2), (1, 3), (1, 4), (1, 6), (1, 7), (1, 8), (1, 9), (1, 12), (1, 13), (1, 15), (1, 16), (1, 17), (1, 18), (1, 21), (1, 23), (1, 24), (1, 25), (1, 26), (1, 27), (1, 28), (1, 30), (1, 32), (1, 33), (1, 34), (1, 35), (1, 36), (1, 37), (1, 38), (1, 40), (1, 41), (1, 47), (1, 48), (1, 49), (2, 44), (3, 39), (4, 10), (5, 31), (6, 20), (7, 42), (8, 45), (9, 1), (10, 11), (11, 19), (12, 43), (13, 46), (14, 29), (15, 22), (16, 5), (17, 14)]\n"
     ]
    },
    {
     "data": {
      "image/png": "[encoded data removed]",
      "text/plain": [
       "<Figure size 576x396 with 1 Axes>"
      ]
     },
     "metadata": {},
     "output_type": "display_data"
    },
    {
     "name": "stdout",
     "output_type": "stream",
     "text": [
      "Time taken : 0:09:26.362678\n"
     ]
    }
   ],
   "source": [
    "start = datetime.now()\n",
    "best=Best_W2Vpar\n",
    "Feature_imp(best,Trw2v_Noise,Trainy_w2v)\n",
    "\n",
    "print('Time taken :', datetime.now() - start)"
   ]
  },
  {
   "cell_type": "markdown",
   "metadata": {},
   "source": [
    "<h2>Observation</h2>\n",
    "<ol>\n",
    "    <li>Here after implementing the RFE technique the most important features present in the model is 34 which are displayed in the form of a list.</li>\n",
    "    <li>The Recursive feature elimination Cross validation (RFECV) is a feature selection method that fits a model and removes the weakest feature (or features) until the specified number of features is reached.</li>\n",
    "    <li>Features are ranked by the model's coef_ or feature_importances_ attributes, and by recursively eliminating a small number of features per loop, RFE attempts to eliminate dependencies and collinearity that may exist in the model.\n",
    "    <li>Mostly the features which are having higher ranks are got selected and displayed above.</li>\n",
    "    <li>To find the optimal number of features cross-validation is used with RFE to score different feature subsets and select the best scoring collection of features.</li>\n",
    "    <li>The RFECV visualizer plots the number of features in the model along with their cross-validated test score and variability and visualizes the selected number of features quite properly.</li>\n",
    "    <li>This figure shows an ideal RFECV curve, the curve jumps to an excellent accuracy when the six informative features are captured, then gradually decreases in accuracy as the non informative features are added into the model.</li>\n",
    "    <li>The shaded area represents the variability of cross-validation, one standard deviation above and below the mean accuracy score drawn by the curve.</li>\n",
    "    <li>After selecting the optimum features the accuracy of the model increased by 2% which is very good.</li>\n",
    "        \n",
    "\n",
    "\n",
    "\n",
    "\n"
   ]
  },
  {
   "cell_type": "markdown",
   "metadata": {},
   "source": [
    "<h2>Implementing TF-IDF Weighted Word to vectorization technique</h2>"
   ]
  },
  {
   "cell_type": "code",
   "execution_count": 52,
   "metadata": {},
   "outputs": [
    {
     "name": "stdout",
     "output_type": "stream",
     "text": [
      "Time taken : 0:07:25.215544\n"
     ]
    }
   ],
   "source": [
    "start = datetime.now()\n",
    "\n",
    "Tfidf_vector=TfidfVectorizer()\n",
    "Tf_model=Tfidf_vector.fit_transform(Sample_sort[\"CleanedText\"].values)\n",
    "\n",
    "Dimension=Tfidf_vector.get_feature_names() \n",
    "\n",
    "LIST_VECTOR=[]\n",
    "row=0\n",
    "for sentence in list_of_sentence_vec:\n",
    "    word_2_vec=np.zeros(50)\n",
    "    weight_tf_sum=0\n",
    "    for word in sentence:\n",
    "        try:\n",
    "            vec=w2v_Model.wv[word]\n",
    "            tfidf_value=Tf_model[row,Dimension.index(word)]\n",
    "            word_2_vec += (vec* tfidf_value)\n",
    "            weight_tf_sum += tfidf_value\n",
    "        except:\n",
    "            pass\n",
    "    if weight_tf_sum !=0:\n",
    "        word_2_vec /=weight_tf_sum\n",
    "    LIST_VECTOR.append(word_2_vec)\n",
    "    row += 1\n",
    "    \n",
    "print('Time taken :', datetime.now() - start)"
   ]
  },
  {
   "cell_type": "markdown",
   "metadata": {},
   "source": [
    "<h3>Preparing the data into train and test sets </h3>"
   ]
  },
  {
   "cell_type": "code",
   "execution_count": 53,
   "metadata": {},
   "outputs": [],
   "source": [
    "X_tfw=LIST_VECTOR\n",
    "y_tfw=label\n",
    "\n",
    "TrainX_tfw,Trainy_tfw,TrainX_tfwCV,Testy_tfwCV,TestX_tfw,Testy_tfw=data_split(X_tfw,y_tfw)"
   ]
  },
  {
   "cell_type": "markdown",
   "metadata": {},
   "source": [
    "<h3>Training the logistic regression model over the Cross-validation set.</h3>"
   ]
  },
  {
   "cell_type": "code",
   "execution_count": 54,
   "metadata": {},
   "outputs": [
    {
     "name": "stdout",
     "output_type": "stream",
     "text": [
      "The model score on train set is=  0.7897142857142857\n",
      "\n",
      "The accuracy of Logistic Regression over cross-validation set is =  77% \n",
      "The total number of non zero weights =  50\n"
     ]
    }
   ],
   "source": [
    "#Calling the train function and storing the prediction value and accuracy\n",
    "\n",
    "TFW_pred,TFW_acc=train(TrainX_tfw,Trainy_tfw,TrainX_tfwCV,Testy_tfwCV)"
   ]
  },
  {
   "cell_type": "markdown",
   "metadata": {},
   "source": [
    "<h3>Plotting the confusion matrix of the above table</h3>"
   ]
  },
  {
   "cell_type": "code",
   "execution_count": 55,
   "metadata": {},
   "outputs": [
    {
     "name": "stdout",
     "output_type": "stream",
     "text": [
      "[[1485  302]\n",
      " [2029 6684]]\n"
     ]
    },
    {
     "data": {
      "image/png": "[encoded data removed]",
      "text/plain": [
       "<Figure size 648x648 with 2 Axes>"
      ]
     },
     "metadata": {},
     "output_type": "display_data"
    },
    {
     "name": "stdout",
     "output_type": "stream",
     "text": [
      "\n",
      "+-------------------------------------------------------------+\n",
      "| The performance metrics of the above model are as follows:  |\n",
      "+---------------------------------+---------------------------+\n",
      "|             Metrics             |           Scores          |\n",
      "+---------------------------------+---------------------------+\n",
      "|     Classification_accuracy     |            77.8           |\n",
      "|       Classification_error      |            22.2           |\n",
      "|          True positive          |            6684           |\n",
      "|          False positive         |            302            |\n",
      "|          True negative          |            1485           |\n",
      "|          False negative         |            2029           |\n",
      "|        True positive rate       |     76.71295764948927     |\n",
      "|       False negative rate       |     23.28704235051073     |\n",
      "|        True negative rate       |     83.10016787912703     |\n",
      "|       False positive rate       |     16.899832120872972    |\n",
      "|         Precision value         |     95.67706842255942     |\n",
      "|           Recall value          |     76.71295764948927     |\n",
      "|          f1_score value         |     85.15192050449073     |\n",
      "+---------------------------------+---------------------------+\n"
     ]
    }
   ],
   "source": [
    "Confusion_metric(Testy_tfwCV,TFW_pred,TFW_acc)"
   ]
  },
  {
   "cell_type": "markdown",
   "metadata": {},
   "source": [
    "<h2>Observations</h2>\n",
    "<ul>\n",
    "    <li>The train accuracy of the model is 77.8% which is quite low for a classification model.</li>\n",
    "    <li>The true positive and true negative rates are good as compared to the other parameters of the model.</li>\n",
    "    <li>Let's Hyperparameter tune the above model to find the optimum lamda and improve the model's performance further.</li>\n",
    "    "
   ]
  },
  {
   "cell_type": "markdown",
   "metadata": {},
   "source": [
    "<h3>Hyperparameter tuning the lambda for optimal performance of the model</h3>"
   ]
  },
  {
   "cell_type": "code",
   "execution_count": 56,
   "metadata": {},
   "outputs": [
    {
     "name": "stdout",
     "output_type": "stream",
     "text": [
      "LogisticRegression(C=10, class_weight='balanced', dual=False,\n",
      "          fit_intercept=True, intercept_scaling=1, max_iter=100,\n",
      "          multi_class='ovr', n_jobs=-1, penalty='l2', random_state=None,\n",
      "          solver='liblinear', tol=0.0001, verbose=0, warm_start=False)\n",
      "0.7782857142857142\n"
     ]
    }
   ],
   "source": [
    "#Gridsearch implementation\n",
    "best_TFWparam=gridsearch(TrainX_tfw,Trainy_tfw,TrainX_tfwCV,Testy_tfwCV)"
   ]
  },
  {
   "cell_type": "code",
   "execution_count": 57,
   "metadata": {},
   "outputs": [
    {
     "name": "stdout",
     "output_type": "stream",
     "text": [
      "LogisticRegression(C=0.17871030173670766, class_weight='balanced', dual=False,\n",
      "          fit_intercept=True, intercept_scaling=1, max_iter=100,\n",
      "          multi_class='ovr', n_jobs=-1, penalty='l2', random_state=None,\n",
      "          solver='liblinear', tol=0.0001, verbose=0, warm_start=False)\n",
      "0.7780952380952381\n"
     ]
    }
   ],
   "source": [
    "#Random-search Implementation\n",
    "Best_TFWpar=randomsearch(TrainX_tfw,Trainy_tfw,TrainX_tfwCV,Testy_tfwCV)"
   ]
  },
  {
   "cell_type": "markdown",
   "metadata": {},
   "source": [
    "<h3>Plotting the cross-validation error plots by using the 10k-fold Cross validation technique</h3>"
   ]
  },
  {
   "cell_type": "code",
   "execution_count": 58,
   "metadata": {},
   "outputs": [
    {
     "name": "stdout",
     "output_type": "stream",
     "text": [
      "--------------------------------------------------------------------------------------------------------\n",
      "for alpha = 1e-06\n",
      "\n",
      "the misclassification error for each alpha value is :  [0.239]\n",
      "--------------------------------------------------------------------------------------------------------\n",
      "for alpha = 1e-05\n",
      "\n",
      "the misclassification error for each alpha value is :  [0.239 0.241]\n",
      "--------------------------------------------------------------------------------------------------------\n",
      "for alpha = 0.0001\n",
      "\n",
      "the misclassification error for each alpha value is :  [0.239 0.241 0.241]\n",
      "--------------------------------------------------------------------------------------------------------\n",
      "for alpha = 0.001\n",
      "\n",
      "the misclassification error for each alpha value is :  [0.239 0.241 0.241 0.229]\n",
      "--------------------------------------------------------------------------------------------------------\n",
      "for alpha = 0.01\n",
      "\n",
      "the misclassification error for each alpha value is :  [0.239 0.241 0.241 0.229 0.218]\n",
      "--------------------------------------------------------------------------------------------------------\n",
      "for alpha = 0.1\n",
      "\n",
      "the misclassification error for each alpha value is :  [0.239 0.241 0.241 0.229 0.218 0.214]\n",
      "--------------------------------------------------------------------------------------------------------\n",
      "for alpha = 1\n",
      "\n",
      "the misclassification error for each alpha value is :  [0.239 0.241 0.241 0.229 0.218 0.214 0.214]\n",
      "--------------------------------------------------------------------------------------------------------\n",
      "for alpha = 10\n",
      "\n",
      "the misclassification error for each alpha value is :  [0.239 0.241 0.241 0.229 0.218 0.214 0.214 0.213]\n",
      "--------------------------------------------------------------------------------------------------------\n",
      "for alpha = 100\n",
      "\n",
      "the misclassification error for each alpha value is :  [0.239 0.241 0.241 0.229 0.218 0.214 0.214 0.213 0.213]\n",
      "--------------------------------------------------------------------------------------------------------\n",
      "for alpha = 1000\n",
      "\n",
      "the misclassification error for each alpha value is :  [0.239 0.241 0.241 0.229 0.218 0.214 0.214 0.213 0.213 0.213]\n"
     ]
    },
    {
     "data": {
      "image/png": "[encoded data removed]",
      "text/plain": [
       "<Figure size 576x396 with 1 Axes>"
      ]
     },
     "metadata": {},
     "output_type": "display_data"
    },
    {
     "name": "stdout",
     "output_type": "stream",
     "text": [
      "\n",
      "The optimal number of alpha value is 10.000000%.\n"
     ]
    }
   ],
   "source": [
    "cv_results(TrainX_tfw,Trainy_tfw)"
   ]
  },
  {
   "cell_type": "markdown",
   "metadata": {},
   "source": [
    "<h3>Testing the model over the test set</li>"
   ]
  },
  {
   "cell_type": "code",
   "execution_count": 59,
   "metadata": {},
   "outputs": [
    {
     "name": "stdout",
     "output_type": "stream",
     "text": [
      "The model score on train set is=  0.7892653061224489\n",
      "\n",
      "The accuracy of Logistic Regression over Test set is =  77% \n",
      "The total number of non zero weights =  50\n"
     ]
    }
   ],
   "source": [
    "Tfw_clf=best_TFWparam\n",
    "\n",
    "\n",
    "TFWordy_pre,TFWord_acc=tuned_test(Tfw_clf,TrainX_tfw,Trainy_tfw,TestX_tfw,Testy_tfw)"
   ]
  },
  {
   "cell_type": "markdown",
   "metadata": {},
   "source": [
    "<h3>Confusion matrix of the above model</h3>"
   ]
  },
  {
   "cell_type": "code",
   "execution_count": 60,
   "metadata": {},
   "outputs": [
    {
     "name": "stdout",
     "output_type": "stream",
     "text": [
      "[[2073  467]\n",
      " [2888 9572]]\n"
     ]
    },
    {
     "data": {
      "image/png": "[encoded data removed]",
      "text/plain": [
       "<Figure size 648x648 with 2 Axes>"
      ]
     },
     "metadata": {},
     "output_type": "display_data"
    },
    {
     "name": "stdout",
     "output_type": "stream",
     "text": [
      "\n",
      "+-------------------------------------------------------------+\n",
      "| The performance metrics of the above model are as follows:  |\n",
      "+---------------------------------+---------------------------+\n",
      "|             Metrics             |           Scores          |\n",
      "+---------------------------------+---------------------------+\n",
      "|     Classification_accuracy     |     77.63333333333333     |\n",
      "|       Classification_error      |     22.366666666666667    |\n",
      "|          True positive          |            9572           |\n",
      "|          False positive         |            467            |\n",
      "|          True negative          |            2073           |\n",
      "|          False negative         |            2888           |\n",
      "|        True positive rate       |     76.82182985553771     |\n",
      "|       False negative rate       |     23.17817014446228     |\n",
      "|        True negative rate       |     81.61417322834646     |\n",
      "|       False positive rate       |     18.385826771653544    |\n",
      "|         Precision value         |     95.34814224524355     |\n",
      "|           Recall value          |     76.82182985553771     |\n",
      "|          f1_score value         |     85.08822614338416     |\n",
      "+---------------------------------+---------------------------+\n"
     ]
    }
   ],
   "source": [
    "Confusion_metric(Testy_tfw,TFWordy_pre,TFWord_acc)"
   ]
  },
  {
   "cell_type": "markdown",
   "metadata": {},
   "source": [
    "<h2>Observations</h2>\n",
    "<ul>\n",
    "    <li>The test accuracy of the model after using the optimal lamda value is around 77.63% which is somewhat not good for a model.</li>\n",
    "    <li>Here the False negative value is high which is indeed decreasing the accuracy and alarming for a model but still it is manageable.</li>\n",
    "    <li>The precision and the f1_score of the model is good but the recall score is low as compared to them.</li>\n",
    "    <li>Let's check the multicollinearity of features by using the pertubation test.</li>"
   ]
  },
  {
   "cell_type": "markdown",
   "metadata": {},
   "source": [
    "<h3>Implementing the pertubation test for checking the multicollinearity of the features</h3>"
   ]
  },
  {
   "cell_type": "code",
   "execution_count": 61,
   "metadata": {},
   "outputs": [
    {
     "name": "stdout",
     "output_type": "stream",
     "text": [
      "(24500, 50)\n",
      "(15000, 50)\n"
     ]
    }
   ],
   "source": [
    "Train_Df=pd.DataFrame(TrainX_tfw)\n",
    "print(Train_Df.shape)\n",
    "\n",
    "Test_Df=pd.DataFrame(TestX_tfw)\n",
    "print(Test_Df.shape)"
   ]
  },
  {
   "cell_type": "code",
   "execution_count": 62,
   "metadata": {},
   "outputs": [
    {
     "name": "stdout",
     "output_type": "stream",
     "text": [
      "[[-0.0110854   0.01238318 -0.00895173 ... -0.00316227 -0.00861479\n",
      "   0.0139621 ]\n",
      " [-0.00566234 -0.00611305 -0.0085816  ... -0.00280026  0.00415353\n",
      "  -0.00246439]\n",
      " [-0.01033268  0.00701506 -0.00575518 ... -0.01006112 -0.00094393\n",
      "  -0.0074085 ]\n",
      " ...\n",
      " [-0.00866337  0.0021541  -0.00639876 ... -0.00468766 -0.00124288\n",
      "   0.00459445]\n",
      " [ 0.01035186  0.005232    0.00468396 ...  0.02468319 -0.00724922\n",
      "   0.0073261 ]\n",
      " [-0.01189647  0.0116616  -0.00373697 ... -0.0099061   0.00913371\n",
      "  -0.00532188]]\n",
      "\n",
      "The shape of the train data after adding noise is : (24500, 50)\n",
      "****************************************************************************************************\n",
      "[[-0.00144414  0.01157601 -0.02103094 ... -0.00353485  0.014855\n",
      "   0.00313991]\n",
      " [-0.0073264  -0.0089024  -0.00346809 ...  0.00692251  0.00852939\n",
      "   0.01221543]\n",
      " [ 0.00329418 -0.0130511   0.0090682  ... -0.01372008  0.01148326\n",
      "  -0.00046779]\n",
      " ...\n",
      " [-0.01784543 -0.01125     0.00703236 ...  0.00192382 -0.02163345\n",
      "  -0.00499943]\n",
      " [ 0.01505103 -0.00621715  0.00963229 ...  0.02590472 -0.00056943\n",
      "   0.01410102]\n",
      " [-0.01132558  0.00266143  0.01533239 ...  0.00679121  0.00795586\n",
      "  -0.00483098]]\n",
      "\n",
      "The shape of the test data after adding noise is : (15000, 50)\n"
     ]
    }
   ],
   "source": [
    "TF_tr_Noise,TF_test_Noise=Noise(Train_Df,Test_Df)"
   ]
  },
  {
   "cell_type": "markdown",
   "metadata": {},
   "source": [
    "<h3>Testing the model over the noise added dataset</h3>"
   ]
  },
  {
   "cell_type": "code",
   "execution_count": 63,
   "metadata": {},
   "outputs": [
    {
     "name": "stdout",
     "output_type": "stream",
     "text": [
      "The model score on train set is=  0.7884081632653062\n",
      "\n",
      "The accuracy of Logistic Regression over Test set is =  77% \n",
      "The total number of non zero weights =  50\n"
     ]
    }
   ],
   "source": [
    "TFW2V_clf=best_TFWparam\n",
    "\n",
    "TFw2v_Noise_pre,TFw2v_noise_acc=tuned_test(TFW2V_clf,TF_tr_Noise,Trainy_tfw,TF_test_Noise,Testy_tfw)"
   ]
  },
  {
   "cell_type": "markdown",
   "metadata": {},
   "source": [
    "<h3>Confusion matrix of the above model.</h3>"
   ]
  },
  {
   "cell_type": "code",
   "execution_count": 64,
   "metadata": {},
   "outputs": [
    {
     "name": "stdout",
     "output_type": "stream",
     "text": [
      "[[2079  461]\n",
      " [2876 9584]]\n"
     ]
    },
    {
     "data": {
      "image/png": "[encoded data removed]",
      "text/plain": [
       "<Figure size 648x648 with 2 Axes>"
      ]
     },
     "metadata": {},
     "output_type": "display_data"
    },
    {
     "name": "stdout",
     "output_type": "stream",
     "text": [
      "\n",
      "+-------------------------------------------------------------+\n",
      "| The performance metrics of the above model are as follows:  |\n",
      "+---------------------------------+---------------------------+\n",
      "|             Metrics             |           Scores          |\n",
      "+---------------------------------+---------------------------+\n",
      "|     Classification_accuracy     |     77.75333333333333     |\n",
      "|       Classification_error      |     22.246666666666666    |\n",
      "|          True positive          |            9584           |\n",
      "|          False positive         |            461            |\n",
      "|          True negative          |            2079           |\n",
      "|          False negative         |            2876           |\n",
      "|        True positive rate       |     76.91813804173356     |\n",
      "|       False negative rate       |     23.081861958266455    |\n",
      "|        True negative rate       |     81.85039370078741     |\n",
      "|       False positive rate       |     18.149606299212596    |\n",
      "|         Precision value         |     95.41065206570433     |\n",
      "|           Recall value          |     76.91813804173356     |\n",
      "|          f1_score value         |     85.17218395912019     |\n",
      "+---------------------------------+---------------------------+\n"
     ]
    }
   ],
   "source": [
    "Confusion_metric(Testy_tfw,TFw2v_Noise_pre,TFw2v_noise_acc)"
   ]
  },
  {
   "cell_type": "markdown",
   "metadata": {},
   "source": [
    "<h3>Observations</h3>\n",
    "<ul>\n",
    "    <li>There is a slight decrease in the accuracy in the model which is ithink due to the small random noise in the dataset</li>\n",
    "    <li>All the performance metrics are same as compared to the previous model and the best part is that there is no change in the total number of the non negative weights presents in the model.</li>\n",
    "    <li>So I can conclude that the features are not collinear and let's do some feature importance.</li>\n"
   ]
  },
  {
   "cell_type": "markdown",
   "metadata": {},
   "source": [
    "<h3>Finding & Ranking the total number of optimal features present in the model by using the RFECV technique.</h3>"
   ]
  },
  {
   "cell_type": "code",
   "execution_count": 70,
   "metadata": {},
   "outputs": [
    {
     "name": "stdout",
     "output_type": "stream",
     "text": [
      "Optimal number of features: 45\n",
      "Selected features: [1, 2, 3, 5, 6, 7, 9, 10, 11, 12, 13, 14, 15, 17, 18, 19, 20, 21, 22, 23, 24, 25, 26, 27, 28, 29, 30, 31, 32, 33, 34, 35, 36, 37, 38, 39, 40, 41, 42, 43, 44, 45, 47, 48, 49]\n",
      "Features sorted by their rank:\n",
      "[(1, 1), (1, 2), (1, 3), (1, 5), (1, 6), (1, 7), (1, 9), (1, 10), (1, 11), (1, 12), (1, 13), (1, 14), (1, 15), (1, 17), (1, 18), (1, 19), (1, 20), (1, 21), (1, 22), (1, 23), (1, 24), (1, 25), (1, 26), (1, 27), (1, 28), (1, 29), (1, 30), (1, 31), (1, 32), (1, 33), (1, 34), (1, 35), (1, 36), (1, 37), (1, 38), (1, 39), (1, 40), (1, 41), (1, 42), (1, 43), (1, 44), (1, 45), (1, 47), (1, 48), (1, 49), (2, 4), (3, 0), (4, 46), (5, 16), (6, 8)]\n"
     ]
    },
    {
     "data": {
      "image/png": "[encoded data removed]",
      "text/plain": [
       "<Figure size 576x396 with 1 Axes>"
      ]
     },
     "metadata": {},
     "output_type": "display_data"
    },
    {
     "name": "stdout",
     "output_type": "stream",
     "text": [
      "Time taken : 0:13:12.753616\n"
     ]
    }
   ],
   "source": [
    "start = datetime.now()\n",
    "Best=best_TFWparam\n",
    "Feature_imp(Best,TF_tr_Noise,Trainy_tfw)\n",
    "\n",
    "print('Time taken :', datetime.now() - start)"
   ]
  },
  {
   "cell_type": "markdown",
   "metadata": {},
   "source": [
    "<h2>Observations</h2>\n",
    "<ul>\n",
    "    <li>After performing the RFECV technique the total number of the optimal features are 45 with an increase of 2.08% in the accuracy.</li>\n",
    "    <li>The above RFECV plot shows that there is a spike in the accuracy the most important 3 features and the variance of the feature is increasing and maximum after the inclusion of the 45th feature in the list.</li>\n",
    "    <li>So the above plot gives a very intutive and nice understanding of the nature of the features present in the model.</li> \n",
    "        "
   ]
  },
  {
   "cell_type": "markdown",
   "metadata": {},
   "source": [
    "<h2>Conclusion</h2>\n",
    "<ol>\n",
    "    <li>The Bag-of-words vectorizer technique yielded the best accuracy which is 88% after tuning the hyperaparameter as compared to the other vectorizers.</li>\n",
    "    <li>By changing the regularizers and lambda values from L2 to L1 severe effect of sparsity in the total number of non zero weights are seen and the accuracy of the model also dropped very sharply.</li> \n",
    "    <li>After performing the pertubation tests in all the vectorized models there is no sign of multicollinearity seen in the model as the total number of nonzero weights did not changed that much which is a good sign.\n",
    "    <li>I have shown the feature importance in the Average and Tf-idf weighted word to vectorized models and not shown in the BOW and TF-IDF Vectorized models because the Recursive Feature elimination (RFE) takes a lot of time for the high dimensional data because it has very high time complexity and I was unable to do it because of compute and Time constraints.</li>\n",
    "    <li>So according to my observations and analysis I can conclude that the Logistic Regression model is very stable and good model as compared with the KNN algorithm.</li>\n",
    "    <li>Logistic regression model works fairly good with the text data and in this particular scenario it is doing a good job in classiffying the Positive and Negative reviews properly.</li>\n",
    "    \n",
    "    \n"
   ]
  },
  {
   "cell_type": "code",
   "execution_count": null,
   "metadata": {},
   "outputs": [],
   "source": []
  },
  {
   "cell_type": "code",
   "execution_count": null,
   "metadata": {},
   "outputs": [],
   "source": []
  }
 ],
 "metadata": {
  "kernelspec": {
   "display_name": "Python 3",
   "language": "python",
   "name": "python3"
  },
  "language_info": {
   "codemirror_mode": {
    "name": "ipython",
    "version": 3
   },
   "file_extension": ".py",
   "mimetype": "text/x-python",
   "name": "python",
   "nbconvert_exporter": "python",
   "pygments_lexer": "ipython3",
   "version": "3.6.5"
  }
 },
 "nbformat": 4,
 "nbformat_minor": 2
}
