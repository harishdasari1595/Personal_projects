{
 "cells": [
  {
   "cell_type": "markdown",
   "metadata": {},
   "source": [
    "<h2> KNN Algorithm implementation over Amazon fine food reviews dataset</h2>"
   ]
  },
  {
   "cell_type": "code",
   "execution_count": 2,
   "metadata": {},
   "outputs": [],
   "source": [
    "%matplotlib inline\n",
    "\n",
    "import warnings\n",
    "warnings.filterwarnings(\"ignore\")\n",
    "\n",
    "from datetime import datetime\n",
    "import sqlite3\n",
    "import pandas as pd\n",
    "import numpy as np\n",
    "import nltk\n",
    "import string\n",
    "import matplotlib.pyplot as plt\n",
    "import seaborn as sns\n",
    "from sklearn.feature_extraction.text import TfidfTransformer\n",
    "from sklearn.feature_extraction.text import TfidfVectorizer\n",
    "\n",
    "from sklearn.feature_extraction.text import CountVectorizer\n",
    "from sklearn.metrics import confusion_matrix\n",
    "from sklearn import metrics\n",
    "\n",
    "from sklearn.cross_validation import train_test_split\n",
    "from sklearn.neighbors import KNeighborsClassifier\n",
    "from sklearn.metrics import accuracy_score\n",
    "from sklearn.cross_validation import cross_val_score\n",
    "from collections import Counter\n",
    "from sklearn.metrics import accuracy_score\n",
    "from sklearn import cross_validation\n",
    "from sklearn.model_selection import train_test_split\n",
    "from imblearn.over_sampling import SMOTE\n",
    "from prettytable import PrettyTable\n"
   ]
  },
  {
   "cell_type": "markdown",
   "metadata": {},
   "source": [
    "____Connecting to the Preprocessed SQLite database______"
   ]
  },
  {
   "cell_type": "code",
   "execution_count": 3,
   "metadata": {},
   "outputs": [
    {
     "data": {
      "text/plain": [
       "(364171, 12)"
      ]
     },
     "execution_count": 3,
     "metadata": {},
     "output_type": "execute_result"
    }
   ],
   "source": [
    "#Connecting to the SQL table\n",
    "con = sqlite3.connect('final.sqlite')\n",
    "\n",
    "#Reading data from the database\n",
    "\n",
    "Data = pd.read_sql_query(\"\"\"\n",
    "SELECT *\n",
    "FROM Reviews \"\"\",con)\n",
    "Data.shape"
   ]
  },
  {
   "cell_type": "code",
   "execution_count": 4,
   "metadata": {},
   "outputs": [],
   "source": [
    "# Drop index column\n",
    "Data.drop(columns=['index'],inplace=True)\n"
   ]
  },
  {
   "cell_type": "code",
   "execution_count": 5,
   "metadata": {},
   "outputs": [
    {
     "data": {
      "text/html": [
       "<div>\n",
       "<style scoped>\n",
       "    .dataframe tbody tr th:only-of-type {\n",
       "        vertical-align: middle;\n",
       "    }\n",
       "\n",
       "    .dataframe tbody tr th {\n",
       "        vertical-align: top;\n",
       "    }\n",
       "\n",
       "    .dataframe thead th {\n",
       "        text-align: right;\n",
       "    }\n",
       "</style>\n",
       "<table border=\"1\" class=\"dataframe\">\n",
       "  <thead>\n",
       "    <tr style=\"text-align: right;\">\n",
       "      <th></th>\n",
       "      <th>Id</th>\n",
       "      <th>ProductId</th>\n",
       "      <th>UserId</th>\n",
       "      <th>ProfileName</th>\n",
       "      <th>HelpfulnessNumerator</th>\n",
       "      <th>HelpfulnessDenominator</th>\n",
       "      <th>Score</th>\n",
       "      <th>Time</th>\n",
       "      <th>Summary</th>\n",
       "      <th>Text</th>\n",
       "      <th>CleanedText</th>\n",
       "    </tr>\n",
       "  </thead>\n",
       "  <tbody>\n",
       "    <tr>\n",
       "      <th>0</th>\n",
       "      <td>150524</td>\n",
       "      <td>0006641040</td>\n",
       "      <td>ACITT7DI6IDDL</td>\n",
       "      <td>shari zychinski</td>\n",
       "      <td>0</td>\n",
       "      <td>0</td>\n",
       "      <td>positive</td>\n",
       "      <td>1970-01-01 00:00:00.939340800</td>\n",
       "      <td>EVERY book is educational</td>\n",
       "      <td>this witty little book makes my son laugh at l...</td>\n",
       "      <td>witti littl book make son laugh loud recit car...</td>\n",
       "    </tr>\n",
       "    <tr>\n",
       "      <th>1</th>\n",
       "      <td>150506</td>\n",
       "      <td>0006641040</td>\n",
       "      <td>A2IW4PEEKO2R0U</td>\n",
       "      <td>Tracy</td>\n",
       "      <td>1</td>\n",
       "      <td>1</td>\n",
       "      <td>positive</td>\n",
       "      <td>1970-01-01 00:00:01.194739200</td>\n",
       "      <td>Love the book, miss the hard cover version</td>\n",
       "      <td>I grew up reading these Sendak books, and watc...</td>\n",
       "      <td>grew read sendak book watch realli rosi movi i...</td>\n",
       "    </tr>\n",
       "    <tr>\n",
       "      <th>2</th>\n",
       "      <td>150507</td>\n",
       "      <td>0006641040</td>\n",
       "      <td>A1S4A3IQ2MU7V4</td>\n",
       "      <td>sally sue \"sally sue\"</td>\n",
       "      <td>1</td>\n",
       "      <td>1</td>\n",
       "      <td>positive</td>\n",
       "      <td>1970-01-01 00:00:01.191456000</td>\n",
       "      <td>chicken soup with rice months</td>\n",
       "      <td>This is a fun way for children to learn their ...</td>\n",
       "      <td>fun way children learn month year learn poem t...</td>\n",
       "    </tr>\n",
       "    <tr>\n",
       "      <th>3</th>\n",
       "      <td>150508</td>\n",
       "      <td>0006641040</td>\n",
       "      <td>AZGXZ2UUK6X</td>\n",
       "      <td>Catherine Hallberg \"(Kate)\"</td>\n",
       "      <td>1</td>\n",
       "      <td>1</td>\n",
       "      <td>positive</td>\n",
       "      <td>1970-01-01 00:00:01.076025600</td>\n",
       "      <td>a good swingy rhythm for reading aloud</td>\n",
       "      <td>This is a great little book to read aloud- it ...</td>\n",
       "      <td>great littl book read nice rhythm well good re...</td>\n",
       "    </tr>\n",
       "    <tr>\n",
       "      <th>4</th>\n",
       "      <td>150509</td>\n",
       "      <td>0006641040</td>\n",
       "      <td>A3CMRKGE0P909G</td>\n",
       "      <td>Teresa</td>\n",
       "      <td>3</td>\n",
       "      <td>4</td>\n",
       "      <td>positive</td>\n",
       "      <td>1970-01-01 00:00:01.018396800</td>\n",
       "      <td>A great way to learn the months</td>\n",
       "      <td>This is a book of poetry about the months of t...</td>\n",
       "      <td>book poetri month year goe month cute littl po...</td>\n",
       "    </tr>\n",
       "  </tbody>\n",
       "</table>\n",
       "</div>"
      ],
      "text/plain": [
       "       Id   ProductId          UserId                  ProfileName  \\\n",
       "0  150524  0006641040   ACITT7DI6IDDL              shari zychinski   \n",
       "1  150506  0006641040  A2IW4PEEKO2R0U                        Tracy   \n",
       "2  150507  0006641040  A1S4A3IQ2MU7V4        sally sue \"sally sue\"   \n",
       "3  150508  0006641040     AZGXZ2UUK6X  Catherine Hallberg \"(Kate)\"   \n",
       "4  150509  0006641040  A3CMRKGE0P909G                       Teresa   \n",
       "\n",
       "   HelpfulnessNumerator  HelpfulnessDenominator     Score  \\\n",
       "0                     0                       0  positive   \n",
       "1                     1                       1  positive   \n",
       "2                     1                       1  positive   \n",
       "3                     1                       1  positive   \n",
       "4                     3                       4  positive   \n",
       "\n",
       "                           Time                                     Summary  \\\n",
       "0 1970-01-01 00:00:00.939340800                   EVERY book is educational   \n",
       "1 1970-01-01 00:00:01.194739200  Love the book, miss the hard cover version   \n",
       "2 1970-01-01 00:00:01.191456000               chicken soup with rice months   \n",
       "3 1970-01-01 00:00:01.076025600      a good swingy rhythm for reading aloud   \n",
       "4 1970-01-01 00:00:01.018396800             A great way to learn the months   \n",
       "\n",
       "                                                Text  \\\n",
       "0  this witty little book makes my son laugh at l...   \n",
       "1  I grew up reading these Sendak books, and watc...   \n",
       "2  This is a fun way for children to learn their ...   \n",
       "3  This is a great little book to read aloud- it ...   \n",
       "4  This is a book of poetry about the months of t...   \n",
       "\n",
       "                                         CleanedText  \n",
       "0  witti littl book make son laugh loud recit car...  \n",
       "1  grew read sendak book watch realli rosi movi i...  \n",
       "2  fun way children learn month year learn poem t...  \n",
       "3  great littl book read nice rhythm well good re...  \n",
       "4  book poetri month year goe month cute littl po...  "
      ]
     },
     "execution_count": 5,
     "metadata": {},
     "output_type": "execute_result"
    }
   ],
   "source": [
    "Data[\"Time\"]=pd.to_datetime(Data.Time)\n",
    "Data.head(5)"
   ]
  },
  {
   "cell_type": "code",
   "execution_count": 6,
   "metadata": {},
   "outputs": [],
   "source": [
    "#Setting Time column as index of the dataframe \n",
    "Data.set_index(\"Time\",inplace=True)\n",
    "\n",
    "#Sampling the above data\n",
    "Sorted=Data.sort_index()"
   ]
  },
  {
   "cell_type": "code",
   "execution_count": 7,
   "metadata": {},
   "outputs": [
    {
     "data": {
      "text/html": [
       "<div>\n",
       "<style scoped>\n",
       "    .dataframe tbody tr th:only-of-type {\n",
       "        vertical-align: middle;\n",
       "    }\n",
       "\n",
       "    .dataframe tbody tr th {\n",
       "        vertical-align: top;\n",
       "    }\n",
       "\n",
       "    .dataframe thead th {\n",
       "        text-align: right;\n",
       "    }\n",
       "</style>\n",
       "<table border=\"1\" class=\"dataframe\">\n",
       "  <thead>\n",
       "    <tr style=\"text-align: right;\">\n",
       "      <th></th>\n",
       "      <th>Id</th>\n",
       "      <th>ProductId</th>\n",
       "      <th>UserId</th>\n",
       "      <th>ProfileName</th>\n",
       "      <th>HelpfulnessNumerator</th>\n",
       "      <th>HelpfulnessDenominator</th>\n",
       "      <th>Score</th>\n",
       "      <th>Summary</th>\n",
       "      <th>Text</th>\n",
       "      <th>CleanedText</th>\n",
       "    </tr>\n",
       "    <tr>\n",
       "      <th>Time</th>\n",
       "      <th></th>\n",
       "      <th></th>\n",
       "      <th></th>\n",
       "      <th></th>\n",
       "      <th></th>\n",
       "      <th></th>\n",
       "      <th></th>\n",
       "      <th></th>\n",
       "      <th></th>\n",
       "      <th></th>\n",
       "    </tr>\n",
       "  </thead>\n",
       "  <tbody>\n",
       "    <tr>\n",
       "      <th>1970-01-01 00:00:00.939340800</th>\n",
       "      <td>150524</td>\n",
       "      <td>0006641040</td>\n",
       "      <td>ACITT7DI6IDDL</td>\n",
       "      <td>shari zychinski</td>\n",
       "      <td>0</td>\n",
       "      <td>0</td>\n",
       "      <td>positive</td>\n",
       "      <td>EVERY book is educational</td>\n",
       "      <td>this witty little book makes my son laugh at l...</td>\n",
       "      <td>witti littl book make son laugh loud recit car...</td>\n",
       "    </tr>\n",
       "    <tr>\n",
       "      <th>1970-01-01 00:00:00.940809600</th>\n",
       "      <td>150501</td>\n",
       "      <td>0006641040</td>\n",
       "      <td>AJ46FKXOVC7NR</td>\n",
       "      <td>Nicholas A Mesiano</td>\n",
       "      <td>2</td>\n",
       "      <td>2</td>\n",
       "      <td>positive</td>\n",
       "      <td>This whole series is great way to spend time w...</td>\n",
       "      <td>I can remember seeing the show when it aired o...</td>\n",
       "      <td>rememb see show air televis year ago child sis...</td>\n",
       "    </tr>\n",
       "    <tr>\n",
       "      <th>1970-01-01 00:00:00.944092800</th>\n",
       "      <td>451856</td>\n",
       "      <td>B00004CXX9</td>\n",
       "      <td>AIUWLEQ1ADEG5</td>\n",
       "      <td>Elizabeth Medina</td>\n",
       "      <td>0</td>\n",
       "      <td>0</td>\n",
       "      <td>positive</td>\n",
       "      <td>Entertainingl Funny!</td>\n",
       "      <td>Beetlejuice is a well written movie ..... ever...</td>\n",
       "      <td>beetlejuic well written movi everyth excel act...</td>\n",
       "    </tr>\n",
       "    <tr>\n",
       "      <th>1970-01-01 00:00:00.944438400</th>\n",
       "      <td>374359</td>\n",
       "      <td>B00004CI84</td>\n",
       "      <td>A344SMIA5JECGM</td>\n",
       "      <td>Vincent P. Ross</td>\n",
       "      <td>1</td>\n",
       "      <td>2</td>\n",
       "      <td>positive</td>\n",
       "      <td>A modern day fairy tale</td>\n",
       "      <td>A twist of rumplestiskin captured on film, sta...</td>\n",
       "      <td>twist rumplestiskin captur film star michael k...</td>\n",
       "    </tr>\n",
       "    <tr>\n",
       "      <th>1970-01-01 00:00:00.946857600</th>\n",
       "      <td>451855</td>\n",
       "      <td>B00004CXX9</td>\n",
       "      <td>AJH6LUC1UT1ON</td>\n",
       "      <td>The Phantom of the Opera</td>\n",
       "      <td>0</td>\n",
       "      <td>0</td>\n",
       "      <td>positive</td>\n",
       "      <td>FANTASTIC!</td>\n",
       "      <td>Beetlejuice is an excellent and funny movie. K...</td>\n",
       "      <td>beetlejuic excel funni movi keaton hilari wack...</td>\n",
       "    </tr>\n",
       "  </tbody>\n",
       "</table>\n",
       "</div>"
      ],
      "text/plain": [
       "                                   Id   ProductId          UserId  \\\n",
       "Time                                                                \n",
       "1970-01-01 00:00:00.939340800  150524  0006641040   ACITT7DI6IDDL   \n",
       "1970-01-01 00:00:00.940809600  150501  0006641040   AJ46FKXOVC7NR   \n",
       "1970-01-01 00:00:00.944092800  451856  B00004CXX9   AIUWLEQ1ADEG5   \n",
       "1970-01-01 00:00:00.944438400  374359  B00004CI84  A344SMIA5JECGM   \n",
       "1970-01-01 00:00:00.946857600  451855  B00004CXX9   AJH6LUC1UT1ON   \n",
       "\n",
       "                                            ProfileName  HelpfulnessNumerator  \\\n",
       "Time                                                                            \n",
       "1970-01-01 00:00:00.939340800           shari zychinski                     0   \n",
       "1970-01-01 00:00:00.940809600        Nicholas A Mesiano                     2   \n",
       "1970-01-01 00:00:00.944092800          Elizabeth Medina                     0   \n",
       "1970-01-01 00:00:00.944438400           Vincent P. Ross                     1   \n",
       "1970-01-01 00:00:00.946857600  The Phantom of the Opera                     0   \n",
       "\n",
       "                               HelpfulnessDenominator     Score  \\\n",
       "Time                                                              \n",
       "1970-01-01 00:00:00.939340800                       0  positive   \n",
       "1970-01-01 00:00:00.940809600                       2  positive   \n",
       "1970-01-01 00:00:00.944092800                       0  positive   \n",
       "1970-01-01 00:00:00.944438400                       2  positive   \n",
       "1970-01-01 00:00:00.946857600                       0  positive   \n",
       "\n",
       "                                                                         Summary  \\\n",
       "Time                                                                               \n",
       "1970-01-01 00:00:00.939340800                          EVERY book is educational   \n",
       "1970-01-01 00:00:00.940809600  This whole series is great way to spend time w...   \n",
       "1970-01-01 00:00:00.944092800                               Entertainingl Funny!   \n",
       "1970-01-01 00:00:00.944438400                            A modern day fairy tale   \n",
       "1970-01-01 00:00:00.946857600                                         FANTASTIC!   \n",
       "\n",
       "                                                                            Text  \\\n",
       "Time                                                                               \n",
       "1970-01-01 00:00:00.939340800  this witty little book makes my son laugh at l...   \n",
       "1970-01-01 00:00:00.940809600  I can remember seeing the show when it aired o...   \n",
       "1970-01-01 00:00:00.944092800  Beetlejuice is a well written movie ..... ever...   \n",
       "1970-01-01 00:00:00.944438400  A twist of rumplestiskin captured on film, sta...   \n",
       "1970-01-01 00:00:00.946857600  Beetlejuice is an excellent and funny movie. K...   \n",
       "\n",
       "                                                                     CleanedText  \n",
       "Time                                                                              \n",
       "1970-01-01 00:00:00.939340800  witti littl book make son laugh loud recit car...  \n",
       "1970-01-01 00:00:00.940809600  rememb see show air televis year ago child sis...  \n",
       "1970-01-01 00:00:00.944092800  beetlejuic well written movi everyth excel act...  \n",
       "1970-01-01 00:00:00.944438400  twist rumplestiskin captur film star michael k...  \n",
       "1970-01-01 00:00:00.946857600  beetlejuic excel funni movi keaton hilari wack...  "
      ]
     },
     "execution_count": 7,
     "metadata": {},
     "output_type": "execute_result"
    }
   ],
   "source": [
    "Sorted.head()"
   ]
  },
  {
   "cell_type": "code",
   "execution_count": 8,
   "metadata": {},
   "outputs": [
    {
     "data": {
      "text/plain": [
       "(20000, 10)"
      ]
     },
     "execution_count": 8,
     "metadata": {},
     "output_type": "execute_result"
    }
   ],
   "source": [
    "#Sampling the above data\n",
    "\n",
    "Sampled_data=Sorted.sample(n=20000,replace='False')\n",
    "Sample_sort=Sampled_data.sort_index()\n",
    "Sample_sort.shape\n"
   ]
  },
  {
   "cell_type": "code",
   "execution_count": 9,
   "metadata": {},
   "outputs": [
    {
     "data": {
      "text/plain": [
       "(5000, 10)"
      ]
     },
     "execution_count": 9,
     "metadata": {},
     "output_type": "execute_result"
    }
   ],
   "source": [
    "sampled_data=Sorted.sample(n=5000,replace='False')\n",
    "mini_sort=sampled_data.sort_index()\n",
    "mini_sort.shape\n"
   ]
  },
  {
   "cell_type": "code",
   "execution_count": 10,
   "metadata": {},
   "outputs": [
    {
     "data": {
      "image/png": "[encoded data removed]",
      "text/plain": [
       "<Figure size 432x288 with 1 Axes>"
      ]
     },
     "metadata": {
      "needs_background": "light"
     },
     "output_type": "display_data"
    },
    {
     "data": {
      "text/plain": [
       "<Figure size 432x288 with 0 Axes>"
      ]
     },
     "metadata": {},
     "output_type": "display_data"
    }
   ],
   "source": [
    "label=mini_sort[\"Score\"]\n",
    "Class=Sample_sort[\"Score\"]\n",
    "sns.countplot(x=\"Score\",data=Sample_sort,palette=\"hls\")\n",
    "plt.show()\n",
    "plt.savefig(\"count_plot\")\n"
   ]
  },
  {
   "cell_type": "code",
   "execution_count": 11,
   "metadata": {},
   "outputs": [
    {
     "data": {
      "text/plain": [
       "(5000, 9)"
      ]
     },
     "execution_count": 11,
     "metadata": {},
     "output_type": "execute_result"
    }
   ],
   "source": [
    "#Dropping the Score column which are the actual class labels of the dataset\n",
    "mini_sort.drop(columns=['Score'],inplace=True)\n",
    "mini_sort.shape"
   ]
  },
  {
   "cell_type": "code",
   "execution_count": 12,
   "metadata": {},
   "outputs": [
    {
     "data": {
      "text/plain": [
       "(20000, 9)"
      ]
     },
     "execution_count": 12,
     "metadata": {},
     "output_type": "execute_result"
    }
   ],
   "source": [
    "#Dropping the Score column from the sampled_set which are the actual class labels of the dataset\n",
    "Sample_sort.drop(columns=['Score'],inplace=True)\n",
    "Sample_sort.shape"
   ]
  },
  {
   "cell_type": "markdown",
   "metadata": {},
   "source": [
    "<h2>Observations</h2>\n",
    "<ul>\n",
    "    <li>Here after all the text-preprocesing and the data-cleaning only 364k datapoints remained.</li>\n",
    "    <li>I have taken a sample size of 20k out of the total population for the purpose of analyzing and studying the behaviour of the data by applying the K-nearest neighbour algorithm.</li>\n",
    "    <li>First I took the \"TIME\" column and set as the index of the new sampled dataframe and then sorted accordingly in ascending order since the data has a temporal nature.</li>\n",
    "    <li>By setting the \"SCORE\" column as a class label for classifying the reviews as a positive and negative.</li>\n",
    "    <li>By observing the above bar plot it is clear that the above dataset is highly imbalanced and this may cause problems in the future analysis.</li>\n",
    "</ul>\n",
    "   "
   ]
  },
  {
   "cell_type": "markdown",
   "metadata": {},
   "source": [
    "<h3>Splitting the data into 80:20 partitions sets</h3>"
   ]
  },
  {
   "cell_type": "code",
   "execution_count": 13,
   "metadata": {},
   "outputs": [],
   "source": [
    "def data_split(x,y):\n",
    "    #Splitting the model into 80:30 split of Training and test split\n",
    "    X_tr, X_test, y_tr, y_test = train_test_split(X, Y, test_size=0.2,shuffle=False,random_state=None)\n",
    "\n",
    "\n",
    "    return X_tr,y_tr,X_test,y_test"
   ]
  },
  {
   "cell_type": "markdown",
   "metadata": {},
   "source": [
    "<h3>Preparing the data for further use</h3>"
   ]
  },
  {
   "cell_type": "code",
   "execution_count": 14,
   "metadata": {},
   "outputs": [
    {
     "name": "stdout",
     "output_type": "stream",
     "text": [
      "The shape of x_train is: (16000, 9)\n",
      "the shape of y_train is: (16000,)\n",
      "the shape of x_test is: (4000, 9)\n",
      "the shape of y_test is: (4000,)\n"
     ]
    }
   ],
   "source": [
    "\n",
    "X=Sample_sort\n",
    "Y=Class\n",
    "\n",
    "X_tr,y_tr,X_test,y_test=data_split(X,Y)\n",
    "\n",
    "print(\"The shape of x_train is:\",X_tr.shape)\n",
    "print(\"the shape of y_train is:\",y_tr.shape)\n",
    "print(\"the shape of x_test is:\",X_test.shape)\n",
    "print(\"the shape of y_test is:\",y_test.shape)"
   ]
  },
  {
   "cell_type": "markdown",
   "metadata": {},
   "source": [
    "<h3>Preparing the data for applying the kd-tree approach</h3>"
   ]
  },
  {
   "cell_type": "code",
   "execution_count": 25,
   "metadata": {},
   "outputs": [
    {
     "name": "stdout",
     "output_type": "stream",
     "text": [
      "The shape of x_train is: (4000, 9)\n",
      "the shape of y_train is: (4000,)\n",
      "the shape of x_test is: (1000, 9)\n",
      "the shape of y_test is: (1000,)\n"
     ]
    }
   ],
   "source": [
    "X_1=mini_sort\n",
    "Y_1=label\n",
    "\n",
    "X_train,X_Test,y_train,y_Test=train_test_split(X_1, Y_1, test_size=0.2,shuffle=False,random_state=None)\n",
    "\n",
    "print(\"The shape of x_train is:\",X_train.shape)\n",
    "print(\"the shape of y_train is:\",y_train.shape)\n",
    "print(\"the shape of x_test is:\",X_Test.shape)\n",
    "print(\"the shape of y_test is:\",y_Test.shape)"
   ]
  },
  {
   "cell_type": "markdown",
   "metadata": {},
   "source": [
    "<h3>Utility functions for training the models</h3>"
   ]
  },
  {
   "cell_type": "code",
   "execution_count": 37,
   "metadata": {},
   "outputs": [],
   "source": [
    "#Function for Training the model\n",
    "\n",
    "def train (X_tr,y_tr,X_test,y_test,algo):\n",
    "\n",
    "    for i in range(1,30,2):\n",
    "    # instantiate learning model (k = 30)\n",
    "        knn = KNeighborsClassifier(n_neighbors=i,algorithm=algo,n_jobs= -1)\n",
    "\n",
    "    # fitting the model on crossvalidation train\n",
    "        knn.fit(X_tr, y_tr)\n",
    "\n",
    "    # predict the response on the crossvalidation train\n",
    "        pred = knn.predict(X_test)\n",
    "\n",
    "    # evaluate CV accuracy\n",
    "        acc = accuracy_score(y_test, pred, normalize=True) * float(100)\n",
    "        print('\\n The train accuracy for k = %d is %d%%' % (i, acc))\n",
    "    \n",
    "    \n",
    "########################################################################################\n",
    "\n",
    "#Function for performing the crossvalidation technique\n",
    "# creating odd list of K for KNN\n",
    "def crossval(X_tr,y_tr,alg=\"auto\"):\n",
    "    myList = list(range(0,50))\n",
    "    neighbors = list(filter(lambda x: x % 2 != 0, myList))\n",
    "\n",
    "# empty list that will hold cv scores\n",
    "    cv_scores = []\n",
    "\n",
    "# perform 10-fold cross validation\n",
    "    for k in neighbors:\n",
    "        knn = KNeighborsClassifier(n_neighbors=k,algorithm=alg,n_jobs= -1)\n",
    "        scores = cross_val_score(knn, X_tr, y_tr, cv=10, scoring='accuracy')\n",
    "        cv_scores.append(scores.mean())\n",
    "    return cv_scores,neighbors\n",
    "\n",
    "##################################################################################################        \n",
    "\n",
    "#Function for plotting the error plot \n",
    "\n",
    "def errorplot(cv_scores,neighbors):\n",
    "\n",
    "# changing to misclassification error\n",
    "    MSE = [1 - x for x in cv_scores]\n",
    "\n",
    "# determining best k\n",
    "    optimal_k1 = neighbors[MSE.index(min(MSE))]\n",
    "    print('\\nThe optimal number of neighbors is %d.' % optimal_k1)\n",
    "\n",
    "# plot misclassification error vs k \n",
    "    plt.plot(neighbors, MSE)\n",
    "\n",
    "    for xy in zip(neighbors, np.round(MSE,3)):\n",
    "        plt.annotate('(%s, %s)' % xy, xy=xy, textcoords='data')\n",
    "\n",
    "    plt.xlabel('Number of Neighbors K')\n",
    "    plt.ylabel('Misclassification Error')\n",
    "    plt.show()\n",
    "    print(\"the misclassification error for each k value is : \", np.round(MSE,3))\n",
    "    return optimal_k1\n",
    "\n",
    "##############################################################################################################\n",
    "\n",
    "#Function for finding the Test accuracy using the best k vaue \n",
    "    \n",
    "def Optimal_test(X_train,y_train,X_test,y_test,optimal_k,alg=\"auto\"):    \n",
    "# instantiate learning model k = optimal_k\n",
    "    knn_optimal = KNeighborsClassifier(n_neighbors=optimal_k,algorithm=alg,n_jobs= -1)\n",
    "\n",
    "# fitting the model\n",
    "    knn_optimal.fit(X_train, y_train)\n",
    "\n",
    "# predict the response\n",
    "    pred = knn_optimal.predict(X_test)\n",
    "\n",
    "# evaluate accuracy\n",
    "    acc = accuracy_score(y_test, pred) * 100\n",
    "    print('\\nThe accuracy of the knn classifier for k = %d is %f%%' % (optimal_k, acc))\n",
    "    return pred,acc\n",
    "\n"
   ]
  },
  {
   "cell_type": "markdown",
   "metadata": {},
   "source": [
    "<h3>Utility functions for plotting the confusion matrix</h3>"
   ]
  },
  {
   "cell_type": "code",
   "execution_count": 19,
   "metadata": {},
   "outputs": [],
   "source": [
    "\n",
    "from sklearn.metrics import confusion_matrix\n",
    "def Confusion_metric(y_test,y_pred,acc):\n",
    "    print(metrics.confusion_matrix(y_test,y_pred))\n",
    "    confusion=metrics.confusion_matrix(y_test,y_pred)\n",
    "\n",
    "    plt.figure(figsize=(9,9))\n",
    "    sns.heatmap(confusion, annot=True, fmt=\".3f\", linewidths=.5, square = True, cmap = 'Blues_r');\n",
    "    plt.ylabel('Predicted label');\n",
    "    plt.xlabel('Actual label');\n",
    "    all_sample_title = 'Accuracy Score: {0}'.format( acc)\n",
    "    plt.title(all_sample_title, size = 15);\n",
    "    plt.show()\n",
    "\n",
    "#Storing the values of the confusion matrix\n",
    "    TN=confusion[0,0]\n",
    "    FP=confusion[0,1]\n",
    "    FN=confusion[1,0]\n",
    "    TP=confusion[1,1]\n",
    "\n",
    "# use float to perform true division, not integer division\n",
    "    Class_acc=((TP + TN) / float(TP + TN + FP + FN))*100\n",
    "\n",
    "#Code for classification error\n",
    "\n",
    "    classification_error = ((FP + FN) / float(TP + TN + FP + FN))*100\n",
    "    \n",
    "\n",
    "#Code for finding the TPR,FPR,TNR,FNR\n",
    "\n",
    "    TPR = (TP / float(FN + TP))*100\n",
    "\n",
    "    FNR = (FN / float(FN + TP))*100\n",
    "\n",
    "    TNR=(TN / float(TN + FP))*100\n",
    "\n",
    "    FPR=(FP / float(TN + FP))*100\n",
    "    \n",
    "#Code for finding the Precision,Recall & F1_score    \n",
    "   \n",
    "    precision = (TP/float(TP+FP))*100\n",
    "    \n",
    "    recall= (TP / float(FN + TP))*100\n",
    "    \n",
    "    F1_s= ((float(precision*recall)/float(precision+recall))*2)\n",
    "    \n",
    "    print()\n",
    "    \n",
    "    ptable=PrettyTable()\n",
    "    ptable.title=\"The performance metrics of the above model are as follows: \"\n",
    "    ptable.field_names=[\"Metrics\",\"Scores\"]\n",
    "    ptable.add_row([\"Classification_accuracy\",Class_acc])\n",
    "    ptable.add_row([\"Classification_error\",classification_error])\n",
    "    ptable.add_row([\"True positive\",TP])\n",
    "    ptable.add_row([\"False positive\",FP])\n",
    "    ptable.add_row([\"True negative\",TN])\n",
    "    ptable.add_row([\"False negative\",FN])\n",
    "    ptable.add_row([\"True positive rate\",TPR])\n",
    "    ptable.add_row([\"False negative rate\",FNR])\n",
    "    ptable.add_row([\"True negative rate\",TNR])\n",
    "    ptable.add_row([\"False positive rate\",FPR])\n",
    "    ptable.add_row([\"Precision value\",precision])\n",
    "    ptable.add_row([\"Recall value\",recall])\n",
    "    ptable.add_row([\"f1_score value\",F1_s])\n",
    "    \n",
    "    print(ptable)\n",
    "    "
   ]
  },
  {
   "cell_type": "markdown",
   "metadata": {},
   "source": [
    "<h3>Utilty functions for vectorizing the data</h3>"
   ]
  },
  {
   "cell_type": "code",
   "execution_count": 20,
   "metadata": {},
   "outputs": [],
   "source": [
    "#Function for vectorizing the train data\n",
    "from sklearn.preprocessing import StandardScaler\n",
    "scaler=StandardScaler(with_mean=False)\n",
    "\n",
    "\n",
    "def vec_train(vect,X_tr):\n",
    "    import warnings\n",
    "    warnings.filterwarnings(\"ignore\")\n",
    "\n",
    "    count_vect = vect #in scikit-learn\n",
    "    BOW = count_vect.fit_transform(X_tr.values)\n",
    "\n",
    "#Standardizing the vectorized data\n",
    "    standardized_data = scaler.fit_transform(BOW)\n",
    "    standardized_data.shape\n",
    "    return count_vect,standardized_data\n",
    "\n",
    "\n",
    "#Function for vectorizing the CV data\n",
    "\n",
    "def vec_cv(count,X_cv):\n",
    "    cv=count.transform(X_cv.values)\n",
    "    cv.get_shape()\n",
    "\n",
    "    std_cv=scaler.transform(cv)\n",
    "    std_cv.shape\n",
    "    return std_cv\n",
    "\n",
    "\n",
    "#Function for vectorizing the test data\n",
    "\n",
    "def vec_test(count,X_test):\n",
    "    test=count.transform(X_test.values)\n",
    "    test.get_shape()\n",
    "\n",
    "    std_data=scaler.transform(test)\n",
    "    std_data.shape\n",
    "    return std_data\n",
    "\n",
    "#Funtion for printing the total number of top features\n",
    "def top_tfidf_feats(name,row, features, top_n=25):\n",
    "    ''' Get top n tfidf values in row and return them with their corresponding feature names.'''\n",
    "    topn_ids = np.argsort(row)[::-1][:top_n]\n",
    "    top_feats = [(features[i], row[i]) for i in topn_ids]\n",
    "    df = pd.DataFrame(top_feats)\n",
    "    df.columns = ['feature', name]\n",
    "    return df\n",
    "\n",
    "\n"
   ]
  },
  {
   "cell_type": "markdown",
   "metadata": {},
   "source": [
    "<h3>Bag of words implementation of the data</h3>"
   ]
  },
  {
   "cell_type": "code",
   "execution_count": 21,
   "metadata": {},
   "outputs": [
    {
     "name": "stdout",
     "output_type": "stream",
     "text": [
      "The shape of the X_train is:  (16000, 15959)\n",
      "The shape of the X_test is:  (4000, 15959)\n",
      "\n",
      "Top 25 feaures acording to the Bow score are as follows\n"
     ]
    },
    {
     "data": {
      "text/html": [
       "<div>\n",
       "<style scoped>\n",
       "    .dataframe tbody tr th:only-of-type {\n",
       "        vertical-align: middle;\n",
       "    }\n",
       "\n",
       "    .dataframe tbody tr th {\n",
       "        vertical-align: top;\n",
       "    }\n",
       "\n",
       "    .dataframe thead th {\n",
       "        text-align: right;\n",
       "    }\n",
       "</style>\n",
       "<table border=\"1\" class=\"dataframe\">\n",
       "  <thead>\n",
       "    <tr style=\"text-align: right;\">\n",
       "      <th></th>\n",
       "      <th>feature</th>\n",
       "      <th>bow</th>\n",
       "    </tr>\n",
       "  </thead>\n",
       "  <tbody>\n",
       "    <tr>\n",
       "      <th>0</th>\n",
       "      <td>efect</td>\n",
       "      <td>126.495059</td>\n",
       "    </tr>\n",
       "    <tr>\n",
       "      <th>1</th>\n",
       "      <td>winona</td>\n",
       "      <td>73.036522</td>\n",
       "    </tr>\n",
       "    <tr>\n",
       "      <th>2</th>\n",
       "      <td>ryder</td>\n",
       "      <td>63.253460</td>\n",
       "    </tr>\n",
       "    <tr>\n",
       "      <th>3</th>\n",
       "      <td>cartoon</td>\n",
       "      <td>56.577383</td>\n",
       "    </tr>\n",
       "    <tr>\n",
       "      <th>4</th>\n",
       "      <td>hilari</td>\n",
       "      <td>56.577383</td>\n",
       "    </tr>\n",
       "    <tr>\n",
       "      <th>5</th>\n",
       "      <td>film</td>\n",
       "      <td>33.820970</td>\n",
       "    </tr>\n",
       "    <tr>\n",
       "      <th>6</th>\n",
       "      <td>danc</td>\n",
       "      <td>33.820970</td>\n",
       "    </tr>\n",
       "    <tr>\n",
       "      <th>7</th>\n",
       "      <td>shown</td>\n",
       "      <td>19.315686</td>\n",
       "    </tr>\n",
       "    <tr>\n",
       "      <th>8</th>\n",
       "      <td>hey</td>\n",
       "      <td>18.477783</td>\n",
       "    </tr>\n",
       "    <tr>\n",
       "      <th>9</th>\n",
       "      <td>funni</td>\n",
       "      <td>17.740594</td>\n",
       "    </tr>\n",
       "    <tr>\n",
       "      <th>10</th>\n",
       "      <td>movi</td>\n",
       "      <td>16.932743</td>\n",
       "    </tr>\n",
       "    <tr>\n",
       "      <th>11</th>\n",
       "      <td>older</td>\n",
       "      <td>16.226488</td>\n",
       "    </tr>\n",
       "    <tr>\n",
       "      <th>12</th>\n",
       "      <td>apart</td>\n",
       "      <td>12.948849</td>\n",
       "    </tr>\n",
       "    <tr>\n",
       "      <th>13</th>\n",
       "      <td>known</td>\n",
       "      <td>12.384973</td>\n",
       "    </tr>\n",
       "    <tr>\n",
       "      <th>14</th>\n",
       "      <td>short</td>\n",
       "      <td>10.481069</td>\n",
       "    </tr>\n",
       "    <tr>\n",
       "      <th>15</th>\n",
       "      <td>watch</td>\n",
       "      <td>9.868942</td>\n",
       "    </tr>\n",
       "    <tr>\n",
       "      <th>16</th>\n",
       "      <td>special</td>\n",
       "      <td>8.063242</td>\n",
       "    </tr>\n",
       "    <tr>\n",
       "      <th>17</th>\n",
       "      <td>wrong</td>\n",
       "      <td>7.864681</td>\n",
       "    </tr>\n",
       "    <tr>\n",
       "      <th>18</th>\n",
       "      <td>night</td>\n",
       "      <td>7.820951</td>\n",
       "    </tr>\n",
       "    <tr>\n",
       "      <th>19</th>\n",
       "      <td>fan</td>\n",
       "      <td>7.067569</td>\n",
       "    </tr>\n",
       "    <tr>\n",
       "      <th>20</th>\n",
       "      <td>mayb</td>\n",
       "      <td>6.601307</td>\n",
       "    </tr>\n",
       "    <tr>\n",
       "      <th>21</th>\n",
       "      <td>end</td>\n",
       "      <td>6.405126</td>\n",
       "    </tr>\n",
       "    <tr>\n",
       "      <th>22</th>\n",
       "      <td>fact</td>\n",
       "      <td>6.204687</td>\n",
       "    </tr>\n",
       "    <tr>\n",
       "      <th>23</th>\n",
       "      <td>decid</td>\n",
       "      <td>6.190605</td>\n",
       "    </tr>\n",
       "    <tr>\n",
       "      <th>24</th>\n",
       "      <td>big</td>\n",
       "      <td>5.080342</td>\n",
       "    </tr>\n",
       "  </tbody>\n",
       "</table>\n",
       "</div>"
      ],
      "text/plain": [
       "    feature         bow\n",
       "0     efect  126.495059\n",
       "1    winona   73.036522\n",
       "2     ryder   63.253460\n",
       "3   cartoon   56.577383\n",
       "4    hilari   56.577383\n",
       "5      film   33.820970\n",
       "6      danc   33.820970\n",
       "7     shown   19.315686\n",
       "8       hey   18.477783\n",
       "9     funni   17.740594\n",
       "10     movi   16.932743\n",
       "11    older   16.226488\n",
       "12    apart   12.948849\n",
       "13    known   12.384973\n",
       "14    short   10.481069\n",
       "15    watch    9.868942\n",
       "16  special    8.063242\n",
       "17    wrong    7.864681\n",
       "18    night    7.820951\n",
       "19      fan    7.067569\n",
       "20     mayb    6.601307\n",
       "21      end    6.405126\n",
       "22     fact    6.204687\n",
       "23    decid    6.190605\n",
       "24      big    5.080342"
      ]
     },
     "execution_count": 21,
     "metadata": {},
     "output_type": "execute_result"
    }
   ],
   "source": [
    "#Initializing the count vectorizer \n",
    "Count_vect=CountVectorizer(binary=True)\n",
    "\n",
    "#vectorizing the X_train set\n",
    "count,x_tr=vec_train(Count_vect,X_tr[\"CleanedText\"])\n",
    "\n",
    "print(\"The shape of the X_train is: \",x_tr.shape)\n",
    "\n",
    "#Vectorizing the X_test set\n",
    "x_test=vec_test(count,X_test[\"CleanedText\"])\n",
    "print(\"The shape of the X_test is: \",x_test.shape)\n",
    "\n",
    "\n",
    "#Printing the total length of the features\n",
    "print(\"\\nTop 25 feaures acording to the Bow score are as follows\")\n",
    "features = Count_vect.get_feature_names()\n",
    "len(features)\n",
    "\n",
    "\n",
    "top_Bow = top_tfidf_feats(\"bow\",x_tr[1,:].toarray()[0],features,25)\n",
    "top_Bow\n",
    "\n",
    "\n"
   ]
  },
  {
   "cell_type": "markdown",
   "metadata": {},
   "source": [
    "<h3>Training the KNN model over BOW implemented data</h3>"
   ]
  },
  {
   "cell_type": "code",
   "execution_count": 40,
   "metadata": {},
   "outputs": [
    {
     "name": "stdout",
     "output_type": "stream",
     "text": [
      "\n",
      " The train accuracy for k = 1 is 78%\n",
      "\n",
      " The train accuracy for k = 3 is 81%\n",
      "\n",
      " The train accuracy for k = 5 is 82%\n",
      "\n",
      " The train accuracy for k = 7 is 82%\n",
      "\n",
      " The train accuracy for k = 9 is 82%\n",
      "\n",
      " The train accuracy for k = 11 is 82%\n",
      "\n",
      " The train accuracy for k = 13 is 82%\n",
      "\n",
      " The train accuracy for k = 15 is 82%\n",
      "\n",
      " The train accuracy for k = 17 is 82%\n",
      "\n",
      " The train accuracy for k = 19 is 82%\n",
      "\n",
      " The train accuracy for k = 21 is 82%\n",
      "\n",
      " The train accuracy for k = 23 is 82%\n",
      "\n",
      " The train accuracy for k = 25 is 82%\n",
      "\n",
      " The train accuracy for k = 27 is 82%\n",
      "\n",
      " The train accuracy for k = 29 is 82%\n"
     ]
    }
   ],
   "source": [
    "##Preparing the data\n",
    "\n",
    "train(x_tr,y_tr,x_test,y_test,\"brute\")\n"
   ]
  },
  {
   "cell_type": "markdown",
   "metadata": {},
   "source": [
    "____Finding the best Hyperparameter using the Cross-validation technique_____"
   ]
  },
  {
   "cell_type": "code",
   "execution_count": 49,
   "metadata": {},
   "outputs": [],
   "source": [
    "#FINDING THE 10 FOLD ACCURACY OVER THE CROSS-VALIDATION SET \n",
    "cv,neigh=crossval(x_tr,y_tr,\"brute\")"
   ]
  },
  {
   "cell_type": "code",
   "execution_count": 50,
   "metadata": {},
   "outputs": [
    {
     "name": "stdout",
     "output_type": "stream",
     "text": [
      "\n",
      "The optimal number of neighbors is 7.\n"
     ]
    },
    {
     "data": {
      "image/png": "[encoded data removed]",
      "text/plain": [
       "<Figure size 432x288 with 1 Axes>"
      ]
     },
     "metadata": {
      "needs_background": "light"
     },
     "output_type": "display_data"
    },
    {
     "name": "stdout",
     "output_type": "stream",
     "text": [
      "the misclassification error for each k value is :  [0.207 0.164 0.153 0.153 0.153 0.153 0.154 0.154 0.154 0.154 0.154 0.154\n",
      " 0.154 0.154 0.154 0.154 0.154 0.154 0.154 0.154 0.154 0.154 0.154 0.154\n",
      " 0.154]\n"
     ]
    }
   ],
   "source": [
    "#FINDING THE OPTIMAL VALUE \n",
    "Optimal_k= errorplot(cv,neigh)\n"
   ]
  },
  {
   "cell_type": "markdown",
   "metadata": {},
   "source": [
    "_____Finding the Test accuracy using the best K value_____"
   ]
  },
  {
   "cell_type": "code",
   "execution_count": 51,
   "metadata": {},
   "outputs": [
    {
     "name": "stdout",
     "output_type": "stream",
     "text": [
      "\n",
      "The accuracy of the knn classifier for k = 7 is 82.433333%\n"
     ]
    }
   ],
   "source": [
    "y_Pre,Acc=Optimal_test(x_tr,y_tr,x_test,y_test,Optimal_k,\"brute\")"
   ]
  },
  {
   "cell_type": "code",
   "execution_count": 52,
   "metadata": {},
   "outputs": [
    {
     "name": "stdout",
     "output_type": "stream",
     "text": [
      "[[  34 1033]\n",
      " [  21 4912]]\n"
     ]
    },
    {
     "data": {
      "image/png": "[encoded data removed]",
      "text/plain": [
       "<Figure size 648x648 with 2 Axes>"
      ]
     },
     "metadata": {
      "needs_background": "light"
     },
     "output_type": "display_data"
    },
    {
     "name": "stdout",
     "output_type": "stream",
     "text": [
      "\n",
      "+-------------------------------------------------------------+\n",
      "| The performance metrics of the above model are as follows:  |\n",
      "+---------------------------------+---------------------------+\n",
      "|             Metrics             |           Scores          |\n",
      "+---------------------------------+---------------------------+\n",
      "|     Classification_accuracy     |     82.43333333333334     |\n",
      "|       Classification_error      |     17.566666666666666    |\n",
      "|          True positive          |            4912           |\n",
      "|          False positive         |            1033           |\n",
      "|          True negative          |             34            |\n",
      "|          False negative         |             21            |\n",
      "|        True positive rate       |     99.57429556051085     |\n",
      "|       False negative rate       |    0.42570443948915465    |\n",
      "|        True negative rate       |     3.1865042174320526    |\n",
      "|       False positive rate       |     96.81349578256795     |\n",
      "|         Precision value         |     82.62405382674515     |\n",
      "|           Recall value          |     99.57429556051085     |\n",
      "|          f1_score value         |     90.31071888214746     |\n",
      "+---------------------------------+---------------------------+\n"
     ]
    }
   ],
   "source": [
    "Confusion_metric(y_test,y_Pre,Acc)"
   ]
  },
  {
   "cell_type": "markdown",
   "metadata": {},
   "source": [
    "<h2>Observations</h2>\n",
    "<ul>\n",
    "    <li>The train accuracy of the above model is 82% at 7 as a optimal value.</li>\n",
    "    <li>But after analyzing the confusion matrix the model is not sensible at all because the True positive value is dominating so as the TPR values as compared to the other metrics.\n",
    "    <li>The True negative and the False negative rates are very miniscule which leads to decreased TNR and increased FNR which is very bad for a classification model.</li>\n",
    "    <li>The model is not at all clssiffying the negative reviews and the model is really dumb.</li>\n",
    "    <li>The model is facing a very heavy bias problem and underfitting a lot.</li>\n",
    "    <li>So accuracy as a metric cannot be trusted in a imbalanced dataset, the model's performance may improve if we use another approach such as:-</li>\n",
    "        <ul>\n",
    "            <li>1)KD-tree approach.</li>\n",
    "            <li>2)Oversampling techniques.</li>\n",
    "        </ul>\n",
    " </ul>\n",
    "   \n",
    "       \n",
    "    "
   ]
  },
  {
   "cell_type": "markdown",
   "metadata": {},
   "source": [
    "<h3>Implementing the count vectorizer for applying kd-tree method</h3> "
   ]
  },
  {
   "cell_type": "code",
   "execution_count": 26,
   "metadata": {},
   "outputs": [
    {
     "name": "stdout",
     "output_type": "stream",
     "text": [
      "The shape of the X_train is:  (4000, 8720)\n",
      "The shape of the X_test is:  (1000, 8720)\n",
      "\n",
      "Top 25 feaures acording to the Bow score are as follows\n"
     ]
    },
    {
     "data": {
      "text/html": [
       "<div>\n",
       "<style scoped>\n",
       "    .dataframe tbody tr th:only-of-type {\n",
       "        vertical-align: middle;\n",
       "    }\n",
       "\n",
       "    .dataframe tbody tr th {\n",
       "        vertical-align: top;\n",
       "    }\n",
       "\n",
       "    .dataframe thead th {\n",
       "        text-align: right;\n",
       "    }\n",
       "</style>\n",
       "<table border=\"1\" class=\"dataframe\">\n",
       "  <thead>\n",
       "    <tr style=\"text-align: right;\">\n",
       "      <th></th>\n",
       "      <th>feature</th>\n",
       "      <th>bow</th>\n",
       "    </tr>\n",
       "  </thead>\n",
       "  <tbody>\n",
       "    <tr>\n",
       "      <th>0</th>\n",
       "      <td>melitta</td>\n",
       "      <td>31.638600</td>\n",
       "    </tr>\n",
       "    <tr>\n",
       "      <th>1</th>\n",
       "      <td>overpow</td>\n",
       "      <td>11.055335</td>\n",
       "    </tr>\n",
       "    <tr>\n",
       "      <th>2</th>\n",
       "      <td>lemon</td>\n",
       "      <td>9.481575</td>\n",
       "    </tr>\n",
       "    <tr>\n",
       "      <th>3</th>\n",
       "      <td>hint</td>\n",
       "      <td>9.183979</td>\n",
       "    </tr>\n",
       "    <tr>\n",
       "      <th>4</th>\n",
       "      <td>life</td>\n",
       "      <td>7.969709</td>\n",
       "    </tr>\n",
       "    <tr>\n",
       "      <th>5</th>\n",
       "      <td>recent</td>\n",
       "      <td>6.974274</td>\n",
       "    </tr>\n",
       "    <tr>\n",
       "      <th>6</th>\n",
       "      <td>addit</td>\n",
       "      <td>6.343647</td>\n",
       "    </tr>\n",
       "    <tr>\n",
       "      <th>7</th>\n",
       "      <td>instead</td>\n",
       "      <td>5.792413</td>\n",
       "    </tr>\n",
       "    <tr>\n",
       "      <th>8</th>\n",
       "      <td>expect</td>\n",
       "      <td>5.517877</td>\n",
       "    </tr>\n",
       "    <tr>\n",
       "      <th>9</th>\n",
       "      <td>green</td>\n",
       "      <td>5.149618</td>\n",
       "    </tr>\n",
       "    <tr>\n",
       "      <th>10</th>\n",
       "      <td>varieti</td>\n",
       "      <td>5.133963</td>\n",
       "    </tr>\n",
       "    <tr>\n",
       "      <th>11</th>\n",
       "      <td>far</td>\n",
       "      <td>4.689622</td>\n",
       "    </tr>\n",
       "    <tr>\n",
       "      <th>12</th>\n",
       "      <td>perfect</td>\n",
       "      <td>4.227291</td>\n",
       "    </tr>\n",
       "    <tr>\n",
       "      <th>13</th>\n",
       "      <td>mani</td>\n",
       "      <td>4.115854</td>\n",
       "    </tr>\n",
       "    <tr>\n",
       "      <th>14</th>\n",
       "      <td>favorit</td>\n",
       "      <td>3.868653</td>\n",
       "    </tr>\n",
       "    <tr>\n",
       "      <th>15</th>\n",
       "      <td>bought</td>\n",
       "      <td>3.712667</td>\n",
       "    </tr>\n",
       "    <tr>\n",
       "      <th>16</th>\n",
       "      <td>tea</td>\n",
       "      <td>3.289919</td>\n",
       "    </tr>\n",
       "    <tr>\n",
       "      <th>17</th>\n",
       "      <td>coffe</td>\n",
       "      <td>3.125734</td>\n",
       "    </tr>\n",
       "    <tr>\n",
       "      <th>18</th>\n",
       "      <td>flavor</td>\n",
       "      <td>2.310944</td>\n",
       "    </tr>\n",
       "    <tr>\n",
       "      <th>19</th>\n",
       "      <td>love</td>\n",
       "      <td>2.283376</td>\n",
       "    </tr>\n",
       "    <tr>\n",
       "      <th>20</th>\n",
       "      <td>tast</td>\n",
       "      <td>2.145066</td>\n",
       "    </tr>\n",
       "    <tr>\n",
       "      <th>21</th>\n",
       "      <td>fleshi</td>\n",
       "      <td>0.000000</td>\n",
       "    </tr>\n",
       "    <tr>\n",
       "      <th>22</th>\n",
       "      <td>fluke</td>\n",
       "      <td>0.000000</td>\n",
       "    </tr>\n",
       "    <tr>\n",
       "      <th>23</th>\n",
       "      <td>flyaway</td>\n",
       "      <td>0.000000</td>\n",
       "    </tr>\n",
       "    <tr>\n",
       "      <th>24</th>\n",
       "      <td>flushabl</td>\n",
       "      <td>0.000000</td>\n",
       "    </tr>\n",
       "  </tbody>\n",
       "</table>\n",
       "</div>"
      ],
      "text/plain": [
       "     feature        bow\n",
       "0    melitta  31.638600\n",
       "1    overpow  11.055335\n",
       "2      lemon   9.481575\n",
       "3       hint   9.183979\n",
       "4       life   7.969709\n",
       "5     recent   6.974274\n",
       "6      addit   6.343647\n",
       "7    instead   5.792413\n",
       "8     expect   5.517877\n",
       "9      green   5.149618\n",
       "10   varieti   5.133963\n",
       "11       far   4.689622\n",
       "12   perfect   4.227291\n",
       "13      mani   4.115854\n",
       "14   favorit   3.868653\n",
       "15    bought   3.712667\n",
       "16       tea   3.289919\n",
       "17     coffe   3.125734\n",
       "18    flavor   2.310944\n",
       "19      love   2.283376\n",
       "20      tast   2.145066\n",
       "21    fleshi   0.000000\n",
       "22     fluke   0.000000\n",
       "23   flyaway   0.000000\n",
       "24  flushabl   0.000000"
      ]
     },
     "execution_count": 26,
     "metadata": {},
     "output_type": "execute_result"
    }
   ],
   "source": [
    "#Initializing the count vectorizer \n",
    "Count_vect=CountVectorizer(binary=True)\n",
    "\n",
    "#vectorizing the X_train set\n",
    "Coun,bow_tra=vec_train(Count_vect,X_train[\"CleanedText\"])\n",
    "\n",
    "print(\"The shape of the X_train is: \",bow_tra.shape)\n",
    "\n",
    "#Vectorizing the X_test set\n",
    "bow_tes=vec_test(Coun,X_Test[\"CleanedText\"])\n",
    "print(\"The shape of the X_test is: \",bow_tes.shape)\n",
    "\n",
    "\n",
    "#Printing the total length of the features\n",
    "print(\"\\nTop 25 feaures acording to the Bow score are as follows\")\n",
    "feature = Count_vect.get_feature_names()\n",
    "len(feature)\n",
    "\n",
    "\n",
    "Top_Bow = top_tfidf_feats(\"bow\",bow_tra[1,:].toarray()[0],feature,25)\n",
    "Top_Bow\n",
    "\n",
    "\n"
   ]
  },
  {
   "cell_type": "markdown",
   "metadata": {},
   "source": [
    "<h3>KD-TREE implementation of the KNN-model</h3>"
   ]
  },
  {
   "cell_type": "code",
   "execution_count": 27,
   "metadata": {},
   "outputs": [],
   "source": [
    "#Creating the dense representation of the Train and Test sets \n",
    "\n",
    "Dense_tr=bow_tra.todense(order=\"C\")\n",
    "Dense_te=bow_tes.todense(order=\"C\")"
   ]
  },
  {
   "cell_type": "markdown",
   "metadata": {},
   "source": [
    "<h3>Training the model using the kd-tree approach</h3>"
   ]
  },
  {
   "cell_type": "code",
   "execution_count": 29,
   "metadata": {},
   "outputs": [
    {
     "name": "stdout",
     "output_type": "stream",
     "text": [
      "\n",
      " The train accuracy for k = 1 is 79%\n",
      "\n",
      " The train accuracy for k = 3 is 81%\n",
      "\n",
      " The train accuracy for k = 5 is 81%\n",
      "\n",
      " The train accuracy for k = 7 is 82%\n",
      "\n",
      " The train accuracy for k = 9 is 82%\n",
      "\n",
      " The train accuracy for k = 11 is 82%\n",
      "\n",
      " The train accuracy for k = 13 is 82%\n",
      "\n",
      " The train accuracy for k = 15 is 82%\n",
      "\n",
      " The train accuracy for k = 17 is 82%\n",
      "\n",
      " The train accuracy for k = 19 is 82%\n",
      "\n",
      " The train accuracy for k = 21 is 82%\n",
      "\n",
      " The train accuracy for k = 23 is 82%\n",
      "\n",
      " The train accuracy for k = 25 is 82%\n",
      "\n",
      " The train accuracy for k = 27 is 82%\n",
      "\n",
      " The train accuracy for k = 29 is 82%\n"
     ]
    }
   ],
   "source": [
    "train(Dense_tr,y_train,Dense_te,y_Test,\"kd_tree\")"
   ]
  },
  {
   "cell_type": "markdown",
   "metadata": {},
   "source": [
    "<h3> Hyperparameter tuning & plotting error metric the above model for finding the right K</h3>"
   ]
  },
  {
   "cell_type": "code",
   "execution_count": 30,
   "metadata": {},
   "outputs": [],
   "source": [
    "#FINDING THE 10 FOLD ACCURACY OVER THE CROSS-VALIDATION SET \n",
    "kdcv,kdneigh=crossval(Dense_tr,y_train,\"kd_tree\")"
   ]
  },
  {
   "cell_type": "code",
   "execution_count": 31,
   "metadata": {},
   "outputs": [
    {
     "name": "stdout",
     "output_type": "stream",
     "text": [
      "\n",
      "The optimal number of neighbors is 5.\n"
     ]
    },
    {
     "data": {
      "image/png": "[encoded data removed]",
      "text/plain": [
       "<Figure size 432x288 with 1 Axes>"
      ]
     },
     "metadata": {
      "needs_background": "light"
     },
     "output_type": "display_data"
    },
    {
     "name": "stdout",
     "output_type": "stream",
     "text": [
      "the misclassification error for each k value is :  [0.175 0.15  0.149 0.149 0.149 0.149 0.149 0.149 0.149 0.149 0.149 0.149\n",
      " 0.149 0.149 0.149 0.149 0.149 0.149 0.149 0.149 0.149 0.149 0.149 0.149\n",
      " 0.149]\n"
     ]
    }
   ],
   "source": [
    "#FINDING THE OPTIMAL VALUE \n",
    "Kd_Optimal_k= errorplot(kdcv,kdneigh)\n"
   ]
  },
  {
   "cell_type": "markdown",
   "metadata": {},
   "source": [
    "<h3> Testing the above model over the test set</h3>"
   ]
  },
  {
   "cell_type": "code",
   "execution_count": 33,
   "metadata": {},
   "outputs": [
    {
     "name": "stdout",
     "output_type": "stream",
     "text": [
      "\n",
      "The accuracy of the knn classifier for k = 5 is 81.900000%\n"
     ]
    }
   ],
   "source": [
    "kd_y_Pre,kd_Acc=Optimal_test(Dense_tr,y_train,Dense_te,y_Test,Kd_Optimal_k,\"kd_tree\")"
   ]
  },
  {
   "cell_type": "markdown",
   "metadata": {},
   "source": [
    "<h3>Confusion matrix of the above model</h3>"
   ]
  },
  {
   "cell_type": "code",
   "execution_count": 34,
   "metadata": {},
   "outputs": [
    {
     "name": "stdout",
     "output_type": "stream",
     "text": [
      "[[  0 179]\n",
      " [  2 819]]\n"
     ]
    },
    {
     "data": {
      "image/png": "[encoded data removed]",
      "text/plain": [
       "<Figure size 648x648 with 2 Axes>"
      ]
     },
     "metadata": {
      "needs_background": "light"
     },
     "output_type": "display_data"
    },
    {
     "name": "stdout",
     "output_type": "stream",
     "text": [
      "\n",
      "+-------------------------------------------------------------+\n",
      "| The performance metrics of the above model are as follows:  |\n",
      "+---------------------------------+---------------------------+\n",
      "|             Metrics             |           Scores          |\n",
      "+---------------------------------+---------------------------+\n",
      "|     Classification_accuracy     |     81.89999999999999     |\n",
      "|       Classification_error      |     18.099999999999998    |\n",
      "|          True positive          |            819            |\n",
      "|          False positive         |            179            |\n",
      "|          True negative          |             0             |\n",
      "|          False negative         |             2             |\n",
      "|        True positive rate       |      99.7563946406821     |\n",
      "|       False negative rate       |    0.24360535931790497    |\n",
      "|        True negative rate       |            0.0            |\n",
      "|       False positive rate       |           100.0           |\n",
      "|         Precision value         |     82.06412825651303     |\n",
      "|           Recall value          |      99.7563946406821     |\n",
      "|          f1_score value         |     90.04947773501925     |\n",
      "+---------------------------------+---------------------------+\n"
     ]
    }
   ],
   "source": [
    "Confusion_metric(y_Test,kd_y_Pre,kd_Acc)"
   ]
  },
  {
   "cell_type": "markdown",
   "metadata": {},
   "source": [
    "<h2>Observations</h2>\n",
    "<ul>\n",
    "    <li>First I took a small sample of points(5K)for the implementation of kd_tree and converted the sparse representation to dense because Kd-tree works on dense matrix.</li>\n",
    "    <li>Even after applying the Kd-tree approach and tuning the hyperparameter the model's accuracy and performance didn't changed and the model still underfitts</li>\n",
    "    <li>Lets try Oversampling the data and try to run all the model diagnostics to see model improvements in terms of stability and accuracy.</li>\n",
    "        "
   ]
  },
  {
   "cell_type": "markdown",
   "metadata": {},
   "source": [
    "<h3>function for Oversampling the data by using the Synthetic minority oversampling technique (SMOTE).</h3>"
   ]
  },
  {
   "cell_type": "code",
   "execution_count": 51,
   "metadata": {},
   "outputs": [],
   "source": [
    "#FUNCTION FOR IMPLEMENTING THE SYNTHETIC MINORITY OVERSAMPLING TECHNIQUE\n",
    "from imblearn.over_sampling import SMOTE \n",
    "\n",
    "def Bal_train (X_tr, y_tr,X_test,y_test,algo=\"auto\"):\n",
    "  \n",
    "    sm = SMOTE()\n",
    "    X_Train_res, y_Train_res = sm.fit_sample(X_tr, y_tr)\n",
    "    \n",
    "    X_Test_res,y_Test_res=sm.fit_sample(X_test,y_test)\n",
    "    \n",
    "    \n",
    "    for i in range(1,30,2):\n",
    "    # instantiate learning model (k = 30)\n",
    "        knn = KNeighborsClassifier(n_neighbors=i,algorithm=algo,n_jobs= -1)\n",
    "\n",
    "    # fitting the model on crossvalidation train\n",
    "        knn.fit(X_Train_res,y_Train_res)\n",
    "\n",
    "    # predict the response on the crossvalidation train\n",
    "        pred = knn.predict( X_Test_res)\n",
    "\n",
    "    # evaluate CV accuracy\n",
    "        acc = accuracy_score(y_Test_res, pred, normalize=True) * float(100)\n",
    "        print('\\n The train accuracy for k = %d is %d%%' % (i, acc))\n",
    "    \n",
    "    \n",
    "    return X_Train_res, y_Train_res,X_Test_res,y_Test_res\n",
    "\n"
   ]
  },
  {
   "cell_type": "markdown",
   "metadata": {},
   "source": [
    "<h3>Training the KNN model over the Oversampled data.</h3>"
   ]
  },
  {
   "cell_type": "code",
   "execution_count": 59,
   "metadata": {},
   "outputs": [
    {
     "name": "stdout",
     "output_type": "stream",
     "text": [
      "\n",
      " The train accuracy for k = 1 is 66%\n",
      "\n",
      " The train accuracy for k = 3 is 66%\n",
      "\n",
      " The train accuracy for k = 5 is 67%\n",
      "\n",
      " The train accuracy for k = 7 is 65%\n",
      "\n",
      " The train accuracy for k = 9 is 63%\n",
      "\n",
      " The train accuracy for k = 11 is 61%\n",
      "\n",
      " The train accuracy for k = 13 is 59%\n",
      "\n",
      " The train accuracy for k = 15 is 58%\n",
      "\n",
      " The train accuracy for k = 17 is 57%\n",
      "\n",
      " The train accuracy for k = 19 is 55%\n",
      "\n",
      " The train accuracy for k = 21 is 54%\n",
      "\n",
      " The train accuracy for k = 23 is 53%\n",
      "\n",
      " The train accuracy for k = 25 is 53%\n",
      "\n",
      " The train accuracy for k = 27 is 52%\n",
      "\n",
      " The train accuracy for k = 29 is 52%\n"
     ]
    }
   ],
   "source": [
    "X_btr,y_btr,X_btest,y_btest=Bal_train(x_tr,y_tr,x_test,y_test,\"brute\")"
   ]
  },
  {
   "cell_type": "markdown",
   "metadata": {},
   "source": [
    "<h3>Hyperparameter tuning the above model for finding the optimal K</h3>"
   ]
  },
  {
   "cell_type": "code",
   "execution_count": 60,
   "metadata": {},
   "outputs": [],
   "source": [
    "#FINDING THE 10 FOLD ACCURACY OVER THE CROSS-VALIDATION SET \n",
    "balcv,balneigh=crossval(X_btr,y_btr,\"brute\")"
   ]
  },
  {
   "cell_type": "code",
   "execution_count": 61,
   "metadata": {},
   "outputs": [
    {
     "name": "stdout",
     "output_type": "stream",
     "text": [
      "\n",
      "The optimal number of neighbors is 1.\n"
     ]
    },
    {
     "data": {
      "image/png": "[encoded data removed]",
      "text/plain": [
       "<Figure size 432x288 with 1 Axes>"
      ]
     },
     "metadata": {
      "needs_background": "light"
     },
     "output_type": "display_data"
    },
    {
     "name": "stdout",
     "output_type": "stream",
     "text": [
      "the misclassification error for each k value is :  [0.157 0.233 0.284 0.324 0.358 0.385 0.406 0.423 0.437 0.449 0.459 0.467\n",
      " 0.474 0.479 0.483 0.486 0.488 0.491 0.492 0.493 0.495 0.496 0.497 0.497\n",
      " 0.498]\n"
     ]
    }
   ],
   "source": [
    "#FINDING THE OPTIMAL VALUE \n",
    "Bal_Optimal_k= errorplot(balcv,balneigh)\n"
   ]
  },
  {
   "cell_type": "markdown",
   "metadata": {},
   "source": [
    "<h3>Testing the model over the test data</h3>"
   ]
  },
  {
   "cell_type": "code",
   "execution_count": 63,
   "metadata": {},
   "outputs": [
    {
     "name": "stdout",
     "output_type": "stream",
     "text": [
      "\n",
      "The accuracy of the knn classifier for k = 1 is 66.146361%\n"
     ]
    }
   ],
   "source": [
    "bal_y_Pre,bal_Acc=Optimal_test(X_btr,y_btr,X_btest,y_btest,Bal_Optimal_k,\"brute\")"
   ]
  },
  {
   "cell_type": "markdown",
   "metadata": {},
   "source": [
    "<h3>Confusion matrix of the above model</h3>"
   ]
  },
  {
   "cell_type": "code",
   "execution_count": 67,
   "metadata": {},
   "outputs": [
    {
     "name": "stdout",
     "output_type": "stream",
     "text": [
      "[[3126 1807]\n",
      " [1533 3400]]\n"
     ]
    },
    {
     "data": {
      "image/png": "[encoded data removed]",
      "text/plain": [
       "<Figure size 648x648 with 2 Axes>"
      ]
     },
     "metadata": {
      "needs_background": "light"
     },
     "output_type": "display_data"
    },
    {
     "name": "stdout",
     "output_type": "stream",
     "text": [
      "\n",
      "+-------------------------------------------------------------+\n",
      "| The performance metrics of the above model are as follows:  |\n",
      "+---------------------------------+---------------------------+\n",
      "|             Metrics             |           Scores          |\n",
      "+---------------------------------+---------------------------+\n",
      "|     Classification_accuracy     |     66.14636124062436     |\n",
      "|       Classification_error      |     33.853638759375634    |\n",
      "|          True positive          |            3400           |\n",
      "|          False positive         |            1807           |\n",
      "|          True negative          |            3126           |\n",
      "|          False negative         |            1533           |\n",
      "|        True positive rate       |     68.92357591729171     |\n",
      "|       False negative rate       |     31.076424082708293    |\n",
      "|        True negative rate       |     63.369146563957024    |\n",
      "|       False positive rate       |     36.630853436042976    |\n",
      "|         Precision value         |     65.29671595928558     |\n",
      "|           Recall value          |     68.92357591729171     |\n",
      "|          f1_score value         |     67.06114398422092     |\n",
      "+---------------------------------+---------------------------+\n"
     ]
    }
   ],
   "source": [
    "Confusion_metric(y_btest,bal_y_Pre,bal_Acc)"
   ]
  },
  {
   "cell_type": "markdown",
   "metadata": {},
   "source": [
    "<h2>Observations</h2>\n",
    "<ul>\n",
    "    <li>The Test accuracy of the model is around 66.14% which is quite low for a classification model.</li>\n",
    "    <li>The optimal K value is 1 which means the model overfitts which reduces the model performance.</li>\n",
    "    <li>The Performance metrics are quite good as compared to the previous unbalanced model inspite of the low accuracy of the classification model.</li>\n",
    "    <li>The True Positive and the True negative values are good as compared to the other 2 values</li>\n",
    "    <li>The main reason the low accuracy is because of considerable FNR and FPR values which is quite alarming.</li>\n",
    "    <li>Here the model is overfitting but still the model is stable as compared to the previous models</li>\n",
    "    \n",
    "        \n",
    "        \n"
   ]
  },
  {
   "cell_type": "markdown",
   "metadata": {},
   "source": [
    "<h2>Implementing Tf-idf vectorization technique and finding the top 25 features </h2>"
   ]
  },
  {
   "cell_type": "code",
   "execution_count": 18,
   "metadata": {},
   "outputs": [
    {
     "name": "stdout",
     "output_type": "stream",
     "text": [
      "The shape of the X_train is:  (24000, 446329)\n",
      "The shape of the X_test is:  (6000, 446329)\n",
      "\n",
      "Top 25 feaures acording to the Bow score are as follows\n"
     ]
    },
    {
     "data": {
      "text/html": [
       "<div>\n",
       "<style scoped>\n",
       "    .dataframe tbody tr th:only-of-type {\n",
       "        vertical-align: middle;\n",
       "    }\n",
       "\n",
       "    .dataframe tbody tr th {\n",
       "        vertical-align: top;\n",
       "    }\n",
       "\n",
       "    .dataframe thead th {\n",
       "        text-align: right;\n",
       "    }\n",
       "</style>\n",
       "<table border=\"1\" class=\"dataframe\">\n",
       "  <thead>\n",
       "    <tr style=\"text-align: right;\">\n",
       "      <th></th>\n",
       "      <th>feature</th>\n",
       "      <th>tfidf</th>\n",
       "    </tr>\n",
       "  </thead>\n",
       "  <tbody>\n",
       "    <tr>\n",
       "      <th>0</th>\n",
       "      <td>especi fun</td>\n",
       "      <td>154.922561</td>\n",
       "    </tr>\n",
       "    <tr>\n",
       "      <th>1</th>\n",
       "      <td>season cooki</td>\n",
       "      <td>154.922561</td>\n",
       "    </tr>\n",
       "    <tr>\n",
       "      <th>2</th>\n",
       "      <td>event birthday</td>\n",
       "      <td>154.922561</td>\n",
       "    </tr>\n",
       "    <tr>\n",
       "      <th>3</th>\n",
       "      <td>shade ice</td>\n",
       "      <td>154.922561</td>\n",
       "    </tr>\n",
       "    <tr>\n",
       "      <th>4</th>\n",
       "      <td>fun event</td>\n",
       "      <td>154.922561</td>\n",
       "    </tr>\n",
       "    <tr>\n",
       "      <th>5</th>\n",
       "      <td>tabl decor</td>\n",
       "      <td>154.922561</td>\n",
       "    </tr>\n",
       "    <tr>\n",
       "      <th>6</th>\n",
       "      <td>ice martha</td>\n",
       "      <td>154.922561</td>\n",
       "    </tr>\n",
       "    <tr>\n",
       "      <th>7</th>\n",
       "      <td>event past</td>\n",
       "      <td>154.922561</td>\n",
       "    </tr>\n",
       "    <tr>\n",
       "      <th>8</th>\n",
       "      <td>easili blend</td>\n",
       "      <td>154.922561</td>\n",
       "    </tr>\n",
       "    <tr>\n",
       "      <th>9</th>\n",
       "      <td>tea event</td>\n",
       "      <td>154.922561</td>\n",
       "    </tr>\n",
       "    <tr>\n",
       "      <th>10</th>\n",
       "      <td>cake especi</td>\n",
       "      <td>154.922561</td>\n",
       "    </tr>\n",
       "    <tr>\n",
       "      <th>11</th>\n",
       "      <td>intens easili</td>\n",
       "      <td>154.922561</td>\n",
       "    </tr>\n",
       "    <tr>\n",
       "      <th>12</th>\n",
       "      <td>color must</td>\n",
       "      <td>154.922561</td>\n",
       "    </tr>\n",
       "    <tr>\n",
       "      <th>13</th>\n",
       "      <td>wonder tabl</td>\n",
       "      <td>154.922561</td>\n",
       "    </tr>\n",
       "    <tr>\n",
       "      <th>14</th>\n",
       "      <td>time show</td>\n",
       "      <td>154.922561</td>\n",
       "    </tr>\n",
       "    <tr>\n",
       "      <th>15</th>\n",
       "      <td>simpl ice</td>\n",
       "      <td>154.922561</td>\n",
       "    </tr>\n",
       "    <tr>\n",
       "      <th>16</th>\n",
       "      <td>excit color</td>\n",
       "      <td>154.922561</td>\n",
       "    </tr>\n",
       "    <tr>\n",
       "      <th>17</th>\n",
       "      <td>wonder season</td>\n",
       "      <td>154.922561</td>\n",
       "    </tr>\n",
       "    <tr>\n",
       "      <th>18</th>\n",
       "      <td>frost cooki</td>\n",
       "      <td>154.922561</td>\n",
       "    </tr>\n",
       "    <tr>\n",
       "      <th>19</th>\n",
       "      <td>kid contest</td>\n",
       "      <td>154.922561</td>\n",
       "    </tr>\n",
       "    <tr>\n",
       "      <th>20</th>\n",
       "      <td>cooki parti</td>\n",
       "      <td>154.922561</td>\n",
       "    </tr>\n",
       "    <tr>\n",
       "      <th>21</th>\n",
       "      <td>dessert parti</td>\n",
       "      <td>154.922561</td>\n",
       "    </tr>\n",
       "    <tr>\n",
       "      <th>22</th>\n",
       "      <td>parti cake</td>\n",
       "      <td>154.922561</td>\n",
       "    </tr>\n",
       "    <tr>\n",
       "      <th>23</th>\n",
       "      <td>parti tea</td>\n",
       "      <td>154.922561</td>\n",
       "    </tr>\n",
       "    <tr>\n",
       "      <th>24</th>\n",
       "      <td>contest fun</td>\n",
       "      <td>154.922561</td>\n",
       "    </tr>\n",
       "  </tbody>\n",
       "</table>\n",
       "</div>"
      ],
      "text/plain": [
       "           feature       tfidf\n",
       "0       especi fun  154.922561\n",
       "1     season cooki  154.922561\n",
       "2   event birthday  154.922561\n",
       "3        shade ice  154.922561\n",
       "4        fun event  154.922561\n",
       "5       tabl decor  154.922561\n",
       "6       ice martha  154.922561\n",
       "7       event past  154.922561\n",
       "8     easili blend  154.922561\n",
       "9        tea event  154.922561\n",
       "10     cake especi  154.922561\n",
       "11   intens easili  154.922561\n",
       "12      color must  154.922561\n",
       "13     wonder tabl  154.922561\n",
       "14       time show  154.922561\n",
       "15       simpl ice  154.922561\n",
       "16     excit color  154.922561\n",
       "17   wonder season  154.922561\n",
       "18     frost cooki  154.922561\n",
       "19     kid contest  154.922561\n",
       "20     cooki parti  154.922561\n",
       "21   dessert parti  154.922561\n",
       "22      parti cake  154.922561\n",
       "23       parti tea  154.922561\n",
       "24     contest fun  154.922561"
      ]
     },
     "execution_count": 18,
     "metadata": {},
     "output_type": "execute_result"
    }
   ],
   "source": [
    "#Initializing the count vectorizer \n",
    "TF_vect=TfidfVectorizer(ngram_range=(1,2),binary=True)\n",
    "\n",
    "#vectorizing the X_train set\n",
    "TF_count,X_tra=vec_train(TF_vect,X_tr[\"CleanedText\"])\n",
    "\n",
    "print(\"The shape of the X_train is: \",X_tra.shape)\n",
    "\n",
    "\n",
    "#Vectorizing the X_test set\n",
    "X_tes=vec_test(TF_count,X_test[\"CleanedText\"])\n",
    "print(\"The shape of the X_test is: \",X_tes.shape)\n",
    "\n",
    "\n",
    "#Printing the total length of the features\n",
    "print(\"\\nTop 25 feaures acording to the Bow score are as follows\")\n",
    "Features = TF_vect.get_feature_names()\n",
    "len(Features)\n",
    "\n",
    "\n",
    "top_tfidf = top_tfidf_feats(\"tfidf\",X_tra[1,:].toarray()[0],Features,25)\n",
    "top_tfidf\n",
    "\n",
    "\n"
   ]
  },
  {
   "cell_type": "markdown",
   "metadata": {},
   "source": [
    "<h3> KNN (Brute force) implementation of the above data</h3>"
   ]
  },
  {
   "cell_type": "code",
   "execution_count": 83,
   "metadata": {},
   "outputs": [
    {
     "name": "stdout",
     "output_type": "stream",
     "text": [
      "\n",
      " The train accuracy for k = 1 is 17%\n",
      "\n",
      " The train accuracy for k = 3 is 82%\n",
      "\n",
      " The train accuracy for k = 5 is 82%\n",
      "\n",
      " The train accuracy for k = 7 is 82%\n",
      "\n",
      " The train accuracy for k = 9 is 82%\n",
      "\n",
      " The train accuracy for k = 11 is 82%\n",
      "\n",
      " The train accuracy for k = 13 is 82%\n",
      "\n",
      " The train accuracy for k = 15 is 82%\n",
      "\n",
      " The train accuracy for k = 17 is 82%\n",
      "\n",
      " The train accuracy for k = 19 is 82%\n",
      "\n",
      " The train accuracy for k = 21 is 82%\n",
      "\n",
      " The train accuracy for k = 23 is 82%\n",
      "\n",
      " The train accuracy for k = 25 is 82%\n",
      "\n",
      " The train accuracy for k = 27 is 82%\n",
      "\n",
      " The train accuracy for k = 29 is 82%\n"
     ]
    }
   ],
   "source": [
    "train(X_tr,y_tr,X_test,y_test,\"brute\")"
   ]
  },
  {
   "cell_type": "code",
   "execution_count": 84,
   "metadata": {},
   "outputs": [],
   "source": [
    "#FINDING THE 10 FOLD ACCURACY OVER THE CROSS-VALIDATION SET \n",
    "TFcv,TFneigh=crossval(X_tr,y_tr,\"brute\")"
   ]
  },
  {
   "cell_type": "code",
   "execution_count": 85,
   "metadata": {},
   "outputs": [
    {
     "name": "stdout",
     "output_type": "stream",
     "text": [
      "\n",
      "The optimal number of neighbors is 5.\n"
     ]
    },
    {
     "data": {
      "image/png": "[encoded data removed]",
      "text/plain": [
       "<Figure size 432x288 with 1 Axes>"
      ]
     },
     "metadata": {
      "needs_background": "light"
     },
     "output_type": "display_data"
    },
    {
     "name": "stdout",
     "output_type": "stream",
     "text": [
      "the misclassification error for each k value is :  [0.776 0.154 0.154 0.154 0.154 0.154 0.154 0.154 0.154 0.154 0.154 0.154\n",
      " 0.154 0.154 0.154 0.154 0.154 0.154 0.154 0.154 0.154 0.154 0.154 0.154\n",
      " 0.154]\n"
     ]
    }
   ],
   "source": [
    "#FINDING THE OPTIMAL VALUE \n",
    "TF_Optimal_k= errorplot(TFcv,TFneigh)\n"
   ]
  },
  {
   "cell_type": "markdown",
   "metadata": {},
   "source": [
    "<h3>Testing the model over the test data</h3>"
   ]
  },
  {
   "cell_type": "code",
   "execution_count": 86,
   "metadata": {},
   "outputs": [
    {
     "name": "stdout",
     "output_type": "stream",
     "text": [
      "\n",
      "The accuracy of the knn classifier for k = 5 is 82.216667%\n"
     ]
    }
   ],
   "source": [
    "TF_y_Pre,TF_Acc=Optimal_test(X_tr,y_tr,X_test,y_test,TF_Optimal_k,\"brute\")"
   ]
  },
  {
   "cell_type": "markdown",
   "metadata": {},
   "source": [
    "<h3>Confusion matrix of the above model</h3>"
   ]
  },
  {
   "cell_type": "code",
   "execution_count": 87,
   "metadata": {},
   "outputs": [
    {
     "name": "stdout",
     "output_type": "stream",
     "text": [
      "[[   0 1067]\n",
      " [   0 4933]]\n"
     ]
    },
    {
     "data": {
      "image/png": "[encoded data removed]",
      "text/plain": [
       "<Figure size 648x648 with 2 Axes>"
      ]
     },
     "metadata": {
      "needs_background": "light"
     },
     "output_type": "display_data"
    },
    {
     "name": "stdout",
     "output_type": "stream",
     "text": [
      "\n",
      "+-------------------------------------------------------------+\n",
      "| The performance metrics of the above model are as follows:  |\n",
      "+---------------------------------+---------------------------+\n",
      "|             Metrics             |           Scores          |\n",
      "+---------------------------------+---------------------------+\n",
      "|     Classification_accuracy     |     82.21666666666667     |\n",
      "|       Classification_error      |     17.783333333333335    |\n",
      "|          True positive          |            4933           |\n",
      "|          False positive         |            1067           |\n",
      "|          True negative          |             0             |\n",
      "|          False negative         |             0             |\n",
      "|        True positive rate       |           100.0           |\n",
      "|       False negative rate       |            0.0            |\n",
      "|        True negative rate       |            0.0            |\n",
      "|       False positive rate       |           100.0           |\n",
      "|         Precision value         |     82.21666666666667     |\n",
      "|           Recall value          |           100.0           |\n",
      "|          f1_score value         |     90.24055611451568     |\n",
      "+---------------------------------+---------------------------+\n"
     ]
    }
   ],
   "source": [
    "Confusion_metric(y_test,TF_y_Pre,TF_Acc)"
   ]
  },
  {
   "cell_type": "markdown",
   "metadata": {},
   "source": [
    "<h3>Observation</h3>\n",
    "<ul>\n",
    "    <li>The above model has a accuracy of 82.21% but still the model is completely dumb.</li>\n",
    "    <li>By studying the confusion matrix it is clear that the model has a very severe bias problem.</li>\n",
    "    <li>Only the positive class labels are dominating and we can see a FPR equal to 100% so the model is clearly neglecting or missclassiffying the negative reviews.</li>\n",
    "    <li>Lets explore other techniques in which the performance of the model may improve.</li>\n",
    "    "
   ]
  },
  {
   "cell_type": "markdown",
   "metadata": {},
   "source": [
    "<h3>Implementing the Tf-idf vectorizer for applying the kd-tree method</h3> "
   ]
  },
  {
   "cell_type": "code",
   "execution_count": 36,
   "metadata": {},
   "outputs": [
    {
     "name": "stdout",
     "output_type": "stream",
     "text": [
      "The shape of the X_train is:  (4000, 114026)\n",
      "The shape of the X_test is:  (1000, 114026)\n",
      "\n",
      "Top 25 feaures acording to the Bow score are as follows\n"
     ]
    },
    {
     "data": {
      "text/html": [
       "<div>\n",
       "<style scoped>\n",
       "    .dataframe tbody tr th:only-of-type {\n",
       "        vertical-align: middle;\n",
       "    }\n",
       "\n",
       "    .dataframe tbody tr th {\n",
       "        vertical-align: top;\n",
       "    }\n",
       "\n",
       "    .dataframe thead th {\n",
       "        text-align: right;\n",
       "    }\n",
       "</style>\n",
       "<table border=\"1\" class=\"dataframe\">\n",
       "  <thead>\n",
       "    <tr style=\"text-align: right;\">\n",
       "      <th></th>\n",
       "      <th>feature</th>\n",
       "      <th>tfidf</th>\n",
       "    </tr>\n",
       "  </thead>\n",
       "  <tbody>\n",
       "    <tr>\n",
       "      <th>0</th>\n",
       "      <td>coffe instead</td>\n",
       "      <td>63.253460</td>\n",
       "    </tr>\n",
       "    <tr>\n",
       "      <th>1</th>\n",
       "      <td>expect love</td>\n",
       "      <td>63.253460</td>\n",
       "    </tr>\n",
       "    <tr>\n",
       "      <th>2</th>\n",
       "      <td>life far</td>\n",
       "      <td>63.253460</td>\n",
       "    </tr>\n",
       "    <tr>\n",
       "      <th>3</th>\n",
       "      <td>perfect addit</td>\n",
       "      <td>63.253460</td>\n",
       "    </tr>\n",
       "    <tr>\n",
       "      <th>4</th>\n",
       "      <td>bought melitta</td>\n",
       "      <td>63.253460</td>\n",
       "    </tr>\n",
       "    <tr>\n",
       "      <th>5</th>\n",
       "      <td>melitta expect</td>\n",
       "      <td>63.253460</td>\n",
       "    </tr>\n",
       "    <tr>\n",
       "      <th>6</th>\n",
       "      <td>lemon perfect</td>\n",
       "      <td>63.253460</td>\n",
       "    </tr>\n",
       "    <tr>\n",
       "      <th>7</th>\n",
       "      <td>favorit hint</td>\n",
       "      <td>63.253460</td>\n",
       "    </tr>\n",
       "    <tr>\n",
       "      <th>8</th>\n",
       "      <td>instead love</td>\n",
       "      <td>63.253460</td>\n",
       "    </tr>\n",
       "    <tr>\n",
       "      <th>9</th>\n",
       "      <td>hint lemon</td>\n",
       "      <td>55.595564</td>\n",
       "    </tr>\n",
       "    <tr>\n",
       "      <th>10</th>\n",
       "      <td>tea life</td>\n",
       "      <td>54.688301</td>\n",
       "    </tr>\n",
       "    <tr>\n",
       "      <th>11</th>\n",
       "      <td>addit flavor</td>\n",
       "      <td>53.200657</td>\n",
       "    </tr>\n",
       "    <tr>\n",
       "      <th>12</th>\n",
       "      <td>melitta</td>\n",
       "      <td>48.741124</td>\n",
       "    </tr>\n",
       "    <tr>\n",
       "      <th>13</th>\n",
       "      <td>varieti green</td>\n",
       "      <td>46.939181</td>\n",
       "    </tr>\n",
       "    <tr>\n",
       "      <th>14</th>\n",
       "      <td>mani varieti</td>\n",
       "      <td>44.858687</td>\n",
       "    </tr>\n",
       "    <tr>\n",
       "      <th>15</th>\n",
       "      <td>flavor overpow</td>\n",
       "      <td>44.274599</td>\n",
       "    </tr>\n",
       "    <tr>\n",
       "      <th>16</th>\n",
       "      <td>tast mani</td>\n",
       "      <td>40.208815</td>\n",
       "    </tr>\n",
       "    <tr>\n",
       "      <th>17</th>\n",
       "      <td>recent bought</td>\n",
       "      <td>37.002712</td>\n",
       "    </tr>\n",
       "    <tr>\n",
       "      <th>18</th>\n",
       "      <td>far favorit</td>\n",
       "      <td>24.695543</td>\n",
       "    </tr>\n",
       "    <tr>\n",
       "      <th>19</th>\n",
       "      <td>overpow</td>\n",
       "      <td>15.021774</td>\n",
       "    </tr>\n",
       "    <tr>\n",
       "      <th>20</th>\n",
       "      <td>love coffe</td>\n",
       "      <td>13.226892</td>\n",
       "    </tr>\n",
       "    <tr>\n",
       "      <th>21</th>\n",
       "      <td>tea tast</td>\n",
       "      <td>13.089876</td>\n",
       "    </tr>\n",
       "    <tr>\n",
       "      <th>22</th>\n",
       "      <td>lemon</td>\n",
       "      <td>12.835398</td>\n",
       "    </tr>\n",
       "    <tr>\n",
       "      <th>23</th>\n",
       "      <td>hint</td>\n",
       "      <td>12.520443</td>\n",
       "    </tr>\n",
       "    <tr>\n",
       "      <th>24</th>\n",
       "      <td>love tea</td>\n",
       "      <td>12.400434</td>\n",
       "    </tr>\n",
       "  </tbody>\n",
       "</table>\n",
       "</div>"
      ],
      "text/plain": [
       "           feature      tfidf\n",
       "0    coffe instead  63.253460\n",
       "1      expect love  63.253460\n",
       "2         life far  63.253460\n",
       "3    perfect addit  63.253460\n",
       "4   bought melitta  63.253460\n",
       "5   melitta expect  63.253460\n",
       "6    lemon perfect  63.253460\n",
       "7     favorit hint  63.253460\n",
       "8     instead love  63.253460\n",
       "9       hint lemon  55.595564\n",
       "10        tea life  54.688301\n",
       "11    addit flavor  53.200657\n",
       "12         melitta  48.741124\n",
       "13   varieti green  46.939181\n",
       "14    mani varieti  44.858687\n",
       "15  flavor overpow  44.274599\n",
       "16       tast mani  40.208815\n",
       "17   recent bought  37.002712\n",
       "18     far favorit  24.695543\n",
       "19         overpow  15.021774\n",
       "20      love coffe  13.226892\n",
       "21        tea tast  13.089876\n",
       "22           lemon  12.835398\n",
       "23            hint  12.520443\n",
       "24        love tea  12.400434"
      ]
     },
     "execution_count": 36,
     "metadata": {},
     "output_type": "execute_result"
    }
   ],
   "source": [
    "#Initializing the count vectorizer \n",
    "Tf_vect=TfidfVectorizer(ngram_range=(1,2),binary=True)\n",
    "\n",
    "#vectorizing the X_train set\n",
    "TF_coun,tfidf_tra=vec_train(Tf_vect,X_train[\"CleanedText\"])\n",
    "\n",
    "print(\"The shape of the X_train is: \",tfidf_tra.shape)\n",
    "\n",
    "\n",
    "#Vectorizing the X_test set\n",
    "tfidf_tes=vec_test(TF_coun,X_Test[\"CleanedText\"])\n",
    "print(\"The shape of the X_test is: \",tfidf_tes.shape)\n",
    "\n",
    "\n",
    "#Printing the total length of the features\n",
    "print(\"\\nTop 25 feaures acording to the Bow score are as follows\")\n",
    "TF_Features = Tf_vect.get_feature_names()\n",
    "len(TF_Features)\n",
    "\n",
    "\n",
    "Top_tfidf = top_tfidf_feats(\"tfidf\",tfidf_tra[1,:].toarray()[0],TF_Features,25)\n",
    "Top_tfidf\n",
    "\n",
    "\n"
   ]
  },
  {
   "cell_type": "markdown",
   "metadata": {},
   "source": [
    "<h3>Creating dense matrix representation of the tf-idf vectorized data.</h3>"
   ]
  },
  {
   "cell_type": "code",
   "execution_count": 58,
   "metadata": {},
   "outputs": [],
   "source": [
    "Dense_tra=tfidf_tra.todense(order=\"C\")\n",
    "Dense_tes=tfidf_tes.todense(order=\"C\")"
   ]
  },
  {
   "cell_type": "markdown",
   "metadata": {},
   "source": [
    "<h3>KD-TREE implementation of the KNN-model</h3>"
   ]
  },
  {
   "cell_type": "code",
   "execution_count": 59,
   "metadata": {},
   "outputs": [
    {
     "name": "stdout",
     "output_type": "stream",
     "text": [
      "\n",
      " The train accuracy for k = 1 is 82%\n",
      "\n",
      " The train accuracy for k = 3 is 82%\n",
      "\n",
      " The train accuracy for k = 5 is 82%\n",
      "\n",
      " The train accuracy for k = 7 is 82%\n",
      "\n",
      " The train accuracy for k = 9 is 82%\n",
      "\n",
      " The train accuracy for k = 11 is 82%\n",
      "\n",
      " The train accuracy for k = 13 is 82%\n",
      "\n",
      " The train accuracy for k = 15 is 82%\n",
      "\n",
      " The train accuracy for k = 17 is 82%\n",
      "\n",
      " The train accuracy for k = 19 is 82%\n",
      "\n",
      " The train accuracy for k = 21 is 82%\n",
      "\n",
      " The train accuracy for k = 23 is 82%\n",
      "\n",
      " The train accuracy for k = 25 is 82%\n",
      "\n",
      " The train accuracy for k = 27 is 82%\n",
      "\n",
      " The train accuracy for k = 29 is 82%\n"
     ]
    }
   ],
   "source": [
    "train(Dense_tra,y_train,Dense_tes,y_Test,\"kd_tree\")"
   ]
  },
  {
   "cell_type": "code",
   "execution_count": 60,
   "metadata": {},
   "outputs": [],
   "source": [
    "TFkdcv,TFkdneigh=crossval(Dense_tra,y_train,\"kd_tree\")"
   ]
  },
  {
   "cell_type": "markdown",
   "metadata": {},
   "source": [
    "<h3>Hyperparameter tuning for finding the optimal k</h3>"
   ]
  },
  {
   "cell_type": "code",
   "execution_count": 61,
   "metadata": {},
   "outputs": [
    {
     "name": "stdout",
     "output_type": "stream",
     "text": [
      "\n",
      "The optimal number of neighbors is 1.\n"
     ]
    },
    {
     "data": {
      "image/png": "[encoded data removed]",
      "text/plain": [
       "<Figure size 432x288 with 1 Axes>"
      ]
     },
     "metadata": {
      "needs_background": "light"
     },
     "output_type": "display_data"
    },
    {
     "name": "stdout",
     "output_type": "stream",
     "text": [
      "the misclassification error for each k value is :  [0.149 0.149 0.149 0.149 0.149 0.149 0.149 0.149 0.149 0.149 0.149 0.149\n",
      " 0.149 0.149 0.149 0.149 0.149 0.149 0.149 0.149 0.149 0.149 0.149 0.149\n",
      " 0.149]\n"
     ]
    }
   ],
   "source": [
    "#FINDING THE OPTIMAL VALUE \n",
    "TFkd_Optimal_k= errorplot(TFkdcv,TFkdneigh)\n"
   ]
  },
  {
   "cell_type": "markdown",
   "metadata": {},
   "source": [
    "<h3>Testing the model over the test data</h3>"
   ]
  },
  {
   "cell_type": "code",
   "execution_count": 62,
   "metadata": {},
   "outputs": [
    {
     "name": "stdout",
     "output_type": "stream",
     "text": [
      "\n",
      "The accuracy of the knn classifier for k = 1 is 82.100000%\n"
     ]
    }
   ],
   "source": [
    "TFkd_y_Pre,TFkd_Acc=Optimal_test(Dense_tra,y_train,Dense_tes,y_Test,TFkd_Optimal_k,\"kd_tree\")"
   ]
  },
  {
   "cell_type": "markdown",
   "metadata": {},
   "source": [
    "<h3>Confusion matrix of the above model</h3>"
   ]
  },
  {
   "cell_type": "code",
   "execution_count": 63,
   "metadata": {},
   "outputs": [
    {
     "name": "stdout",
     "output_type": "stream",
     "text": [
      "[[  0 179]\n",
      " [  0 821]]\n"
     ]
    },
    {
     "data": {
      "image/png": "[encoded data removed]",
      "text/plain": [
       "<Figure size 648x648 with 2 Axes>"
      ]
     },
     "metadata": {
      "needs_background": "light"
     },
     "output_type": "display_data"
    },
    {
     "name": "stdout",
     "output_type": "stream",
     "text": [
      "\n",
      "+-------------------------------------------------------------+\n",
      "| The performance metrics of the above model are as follows:  |\n",
      "+----------------------------------+--------------------------+\n",
      "|             Metrics              |          Scores          |\n",
      "+----------------------------------+--------------------------+\n",
      "|     Classification_accuracy      |           82.1           |\n",
      "|       Classification_error       |           17.9           |\n",
      "|          True positive           |           821            |\n",
      "|          False positive          |           179            |\n",
      "|          True negative           |            0             |\n",
      "|          False negative          |            0             |\n",
      "|        True positive rate        |          100.0           |\n",
      "|       False negative rate        |           0.0            |\n",
      "|        True negative rate        |           0.0            |\n",
      "|       False positive rate        |          100.0           |\n",
      "|         Precision value          |           82.1           |\n",
      "|           Recall value           |          100.0           |\n",
      "|          f1_score value          |    90.17023613399232     |\n",
      "+----------------------------------+--------------------------+\n"
     ]
    }
   ],
   "source": [
    "Confusion_metric(y_Test,TFkd_y_Pre,TFkd_Acc)"
   ]
  },
  {
   "cell_type": "markdown",
   "metadata": {},
   "source": [
    "<h2>Observations</h2>\n",
    "<ul>\n",
    "    <li>To implement the Kd_tree approch it took me about (17-Hrs) to complete it on 5K points since the matrix was dense and this approach is very computationally expensive.</li> \n",
    "    <li>The model is still dumb and no differnce is seen in this approach so this technique do not add any value to the model.</li>\n",
    "    <li>Bias problem is still there and the model is still underfitting and lets try to solve the problem by oversampling it.</li>\n",
    "    <li>Since the kd_tree was implemented on 5k datapoints and still it gave the same performance of the 20K points(Brute) approach so if the Kd_tree(KNN) model is trained over larger datapoints the perrformance might increase.</li>\n",
    "    <li>In the Tf-idf vectorized KNN model the effect of Curse of dimensionality is seen.</li>"
   ]
  },
  {
   "cell_type": "markdown",
   "metadata": {},
   "source": [
    "<h3> Oversampling the data by using the Synthetic minority oversampling technique (SMOTE).</h3>"
   ]
  },
  {
   "cell_type": "code",
   "execution_count": 94,
   "metadata": {},
   "outputs": [
    {
     "name": "stdout",
     "output_type": "stream",
     "text": [
      "\n",
      " The train accuracy for k = 1 is 67%\n",
      "\n",
      " The train accuracy for k = 3 is 67%\n",
      "\n",
      " The train accuracy for k = 5 is 67%\n",
      "\n",
      " The train accuracy for k = 7 is 65%\n",
      "\n",
      " The train accuracy for k = 9 is 63%\n",
      "\n",
      " The train accuracy for k = 11 is 61%\n",
      "\n",
      " The train accuracy for k = 13 is 59%\n",
      "\n",
      " The train accuracy for k = 15 is 58%\n",
      "\n",
      " The train accuracy for k = 17 is 56%\n",
      "\n",
      " The train accuracy for k = 19 is 55%\n",
      "\n",
      " The train accuracy for k = 21 is 54%\n",
      "\n",
      " The train accuracy for k = 23 is 53%\n",
      "\n",
      " The train accuracy for k = 25 is 53%\n",
      "\n",
      " The train accuracy for k = 27 is 52%\n",
      "\n",
      " The train accuracy for k = 29 is 52%\n"
     ]
    }
   ],
   "source": [
    "X_Btr,y_Btr,X_Btest,y_Btest=Bal_train(Dense_tra,y_tr,x_test,y_test,\"brute\")"
   ]
  },
  {
   "cell_type": "code",
   "execution_count": 96,
   "metadata": {},
   "outputs": [
    {
     "name": "stdout",
     "output_type": "stream",
     "text": [
      "\n",
      "The optimal number of neighbors is 5.\n"
     ]
    },
    {
     "data": {
      "image/png": "[encoded data removed]",
      "text/plain": [
       "<Figure size 432x288 with 1 Axes>"
      ]
     },
     "metadata": {
      "needs_background": "light"
     },
     "output_type": "display_data"
    },
    {
     "name": "stdout",
     "output_type": "stream",
     "text": [
      "the misclassification error for each k value is :  [0.776 0.154 0.154 0.154 0.154 0.154 0.154 0.154 0.154 0.154 0.154 0.154\n",
      " 0.154 0.154 0.154 0.154 0.154 0.154 0.154 0.154 0.154 0.154 0.154 0.154\n",
      " 0.154]\n"
     ]
    }
   ],
   "source": [
    "#FINDING THE OPTIMAL VALUE \n",
    "TFB_Optimal_k= errorplot(TFBcv,TFBneigh)\n"
   ]
  },
  {
   "cell_type": "markdown",
   "metadata": {},
   "source": [
    "<h3>Testing the model over the test data</h3>"
   ]
  },
  {
   "cell_type": "code",
   "execution_count": 97,
   "metadata": {},
   "outputs": [
    {
     "name": "stdout",
     "output_type": "stream",
     "text": [
      "\n",
      "The accuracy of the knn classifier for k = 5 is 82.216667%\n"
     ]
    }
   ],
   "source": [
    "TFB_y_Pre,TFB_Acc=Optimal_test(X_tr,y_tr,X_test,y_test,TFB_Optimal_k,\"brute\")"
   ]
  },
  {
   "cell_type": "markdown",
   "metadata": {},
   "source": [
    "<h3>Confusion matrix of the above model</h3>"
   ]
  },
  {
   "cell_type": "code",
   "execution_count": 98,
   "metadata": {},
   "outputs": [
    {
     "name": "stdout",
     "output_type": "stream",
     "text": [
      "[[   0 1067]\n",
      " [   0 4933]]\n"
     ]
    },
    {
     "data": {
      "image/png": "[encoded data removed]",
      "text/plain": [
       "<Figure size 648x648 with 2 Axes>"
      ]
     },
     "metadata": {
      "needs_background": "light"
     },
     "output_type": "display_data"
    },
    {
     "name": "stdout",
     "output_type": "stream",
     "text": [
      "\n",
      "+-------------------------------------------------------------+\n",
      "| The performance metrics of the above model are as follows:  |\n",
      "+---------------------------------+---------------------------+\n",
      "|             Metrics             |           Scores          |\n",
      "+---------------------------------+---------------------------+\n",
      "|     Classification_accuracy     |     82.21666666666667     |\n",
      "|       Classification_error      |     17.783333333333335    |\n",
      "|          True positive          |            4933           |\n",
      "|          False positive         |            1067           |\n",
      "|          True negative          |             0             |\n",
      "|          False negative         |             0             |\n",
      "|        True positive rate       |           100.0           |\n",
      "|       False negative rate       |            0.0            |\n",
      "|        True negative rate       |            0.0            |\n",
      "|       False positive rate       |           100.0           |\n",
      "|         Precision value         |     82.21666666666667     |\n",
      "|           Recall value          |           100.0           |\n",
      "|          f1_score value         |     90.24055611451568     |\n",
      "+---------------------------------+---------------------------+\n"
     ]
    }
   ],
   "source": [
    "Confusion_metric(y_test,TFB_y_Pre,TFB_Acc)"
   ]
  },
  {
   "cell_type": "markdown",
   "metadata": {},
   "source": [
    "<h2>Observations</h2>\n",
    "<ul>\n",
    "    <li>Even after oversampling the datapoints there is no improvements seen in the model and still it is dumb.<li>\n",
    "    <li>Since the Tf-idf vectorizer has high dimensions and KNN-Algorithm do not work well with this type of data so may be there is a problem of \"Curse of dimensionality\".</li>\n",
    "    <li>Let's try two other vectorization techniques which are:-</li>\n",
    "        <ol>\n",
    "            <li>Avg W2V technique.</li>\n",
    "            <li>Tf-idf weighted W2V technique</li>\n",
    "        </ol>\n",
    "                \n",
    "        "
   ]
  },
  {
   "cell_type": "markdown",
   "metadata": {},
   "source": [
    "<h2>Implementing the Average word to vectorization technique.</h2>"
   ]
  },
  {
   "cell_type": "code",
   "execution_count": 19,
   "metadata": {},
   "outputs": [
    {
     "name": "stdout",
     "output_type": "stream",
     "text": [
      "number of words that occured minimum 5 times is  7526\n",
      "30000\n",
      "50\n",
      "Time taken : 0:00:08.588583\n"
     ]
    }
   ],
   "source": [
    "start = datetime.now()\n",
    "import gensim\n",
    "\n",
    "# Train our own Word2Vec model using text corpus\n",
    "list_of_sentence_vec=[]\n",
    "for sentence in Sample_sort['CleanedText'].values:\n",
    "    list_of_sentence_vec.append(sentence.split())\n",
    "# Generate model.\n",
    "w2v_Model = gensim.models.Word2Vec(list_of_sentence_vec,min_count=5,size=50, workers=6)\n",
    "\n",
    "w2v_Words = list(w2v_Model.wv.vocab)\n",
    "print(\"number of words that occured minimum 5 times is \",len(w2v_Words))\n",
    "\n",
    "\n",
    "#code for finding the avg w2v\n",
    "# average Word2Vec\n",
    "# compute average word2vec for each review.\n",
    "sent_vectors = []; # the avg-w2v for each sentence/review is stored in this list\n",
    "for sent in list_of_sentence_vec: # for each review/sentence\n",
    "    sent_vec = np.zeros(50) # as word vectors are of zero length\n",
    "    cnt_words =0; # num of words with a valid vector in the sentence/review\n",
    "    for word in sent: # for each word in a review/sentence\n",
    "        try:\n",
    "            vec = w2v_Model.wv[word]\n",
    "            sent_vec += vec\n",
    "            cnt_words += 1\n",
    "        except:\n",
    "            pass\n",
    "    sent_vec /= cnt_words\n",
    "    #print(np.isnan(np.sum(sent_vec)))\n",
    "    sent_vectors.append(sent_vec)\n",
    "print(len(sent_vectors))\n",
    "print(len(sent_vectors[0]))\n",
    "\n",
    "print('Time taken :', datetime.now() - start)"
   ]
  },
  {
   "cell_type": "markdown",
   "metadata": {},
   "source": [
    "<h3>Training the K-NN model by using Avg-Word to vector.</h3>"
   ]
  },
  {
   "cell_type": "code",
   "execution_count": 20,
   "metadata": {},
   "outputs": [],
   "source": [
    "X=sent_vectors\n",
    "Y=Class\n",
    "\n",
    "X_w2vtr, X_w2vtes, y_w2vtr, y_w2vtes = train_test_split(X, Y, test_size=0.2,shuffle=False,random_state=None)\n"
   ]
  },
  {
   "cell_type": "code",
   "execution_count": 21,
   "metadata": {},
   "outputs": [
    {
     "name": "stdout",
     "output_type": "stream",
     "text": [
      "\n",
      " The train accuracy for k = 1 is 81%\n",
      "\n",
      " The train accuracy for k = 3 is 84%\n",
      "\n",
      " The train accuracy for k = 5 is 84%\n",
      "\n",
      " The train accuracy for k = 7 is 85%\n",
      "\n",
      " The train accuracy for k = 9 is 85%\n",
      "\n",
      " The train accuracy for k = 11 is 85%\n",
      "\n",
      " The train accuracy for k = 13 is 85%\n",
      "\n",
      " The train accuracy for k = 15 is 85%\n",
      "\n",
      " The train accuracy for k = 17 is 85%\n",
      "\n",
      " The train accuracy for k = 19 is 85%\n",
      "\n",
      " The train accuracy for k = 21 is 85%\n",
      "\n",
      " The train accuracy for k = 23 is 85%\n",
      "\n",
      " The train accuracy for k = 25 is 85%\n",
      "\n",
      " The train accuracy for k = 27 is 85%\n",
      "\n",
      " The train accuracy for k = 29 is 85%\n"
     ]
    }
   ],
   "source": [
    "train(X_w2vtr,y_w2vtr,X_w2vtes,y_w2vtes,\"brute\")"
   ]
  },
  {
   "cell_type": "markdown",
   "metadata": {},
   "source": [
    "<h3>Hyperparameter tuning the above model to find the right k.</h3>"
   ]
  },
  {
   "cell_type": "code",
   "execution_count": 22,
   "metadata": {},
   "outputs": [],
   "source": [
    "w2vcv,w2vneigh=crossval(X_w2vtr,y_w2vtr,\"brute\")"
   ]
  },
  {
   "cell_type": "code",
   "execution_count": 23,
   "metadata": {},
   "outputs": [
    {
     "name": "stdout",
     "output_type": "stream",
     "text": [
      "\n",
      "The optimal number of neighbors is 19.\n"
     ]
    },
    {
     "data": {
      "image/png": "[encoded data removed]",
      "text/plain": [
       "<Figure size 432x288 with 1 Axes>"
      ]
     },
     "metadata": {
      "needs_background": "light"
     },
     "output_type": "display_data"
    },
    {
     "name": "stdout",
     "output_type": "stream",
     "text": [
      "the misclassification error for each k value is :  [0.181 0.15  0.14  0.135 0.134 0.132 0.13  0.13  0.129 0.129 0.13  0.13\n",
      " 0.13  0.13  0.13  0.131 0.131 0.132 0.133 0.132 0.132 0.132 0.133 0.133\n",
      " 0.133]\n"
     ]
    }
   ],
   "source": [
    "#FINDING THE OPTIMAL VALUE \n",
    "w2v_Optimal_k= errorplot(w2vcv,w2vneigh)\n"
   ]
  },
  {
   "cell_type": "markdown",
   "metadata": {},
   "source": [
    "<h3>Testing the model over the test set</h3>"
   ]
  },
  {
   "cell_type": "code",
   "execution_count": 24,
   "metadata": {},
   "outputs": [
    {
     "name": "stdout",
     "output_type": "stream",
     "text": [
      "\n",
      "The accuracy of the knn classifier for k = 19 is 85.400000%\n"
     ]
    }
   ],
   "source": [
    "w2v_y_Pre,w2v_Acc=Optimal_test(X_w2vtr,y_w2vtr,X_w2vtes,y_w2vtes ,w2v_Optimal_k,\"brute\")"
   ]
  },
  {
   "cell_type": "markdown",
   "metadata": {},
   "source": [
    "<h3>Plotting the confusion matrix of the above model</h3>"
   ]
  },
  {
   "cell_type": "code",
   "execution_count": 25,
   "metadata": {},
   "outputs": [
    {
     "name": "stdout",
     "output_type": "stream",
     "text": [
      "[[ 216  816]\n",
      " [  60 4908]]\n"
     ]
    },
    {
     "data": {
      "image/png": "[encoded data removed]",
      "text/plain": [
       "<Figure size 648x648 with 2 Axes>"
      ]
     },
     "metadata": {
      "needs_background": "light"
     },
     "output_type": "display_data"
    },
    {
     "name": "stdout",
     "output_type": "stream",
     "text": [
      "\n",
      "+-------------------------------------------------------------+\n",
      "| The performance metrics of the above model are as follows:  |\n",
      "+---------------------------------+---------------------------+\n",
      "|             Metrics             |           Scores          |\n",
      "+---------------------------------+---------------------------+\n",
      "|     Classification_accuracy     |     85.39999999999999     |\n",
      "|       Classification_error      |            14.6           |\n",
      "|          True positive          |            4908           |\n",
      "|          False positive         |            816            |\n",
      "|          True negative          |            216            |\n",
      "|          False negative         |             60            |\n",
      "|        True positive rate       |     98.79227053140096     |\n",
      "|       False negative rate       |     1.2077294685990339    |\n",
      "|        True negative rate       |     20.930232558139537    |\n",
      "|       False positive rate       |     79.06976744186046     |\n",
      "|         Precision value         |     85.74423480083857     |\n",
      "|           Recall value          |     98.79227053140096     |\n",
      "|          f1_score value         |     91.80695847362513     |\n",
      "+---------------------------------+---------------------------+\n"
     ]
    }
   ],
   "source": [
    "Confusion_metric(y_w2vtes,w2v_y_Pre,w2v_Acc)"
   ]
  },
  {
   "cell_type": "markdown",
   "metadata": {},
   "source": [
    "<h2>Observation</h2>\n",
    "\n",
    "<ul>\n",
    "    <li>The train accuracy of the above model is 85.39% at 19 as a optimal value.</li>\n",
    "    <li>But after analyzing the confusion matrix the model is not sensible at all because the True positive value is dominating so as the TPR values as compared to the other metrics.\n",
    "    <li>The True negative and the False negative rates are very miniscule which leads to decreased TNR and increased FNR which is very bad for a classification model.</li>\n",
    "    <li>The model is classifying the negative reviews very badly and the model is really dumb.</li>\n",
    "    <li>The model is facing a very heavy bias problem and underfitting a lot.</li>\n",
    "    <li>So accuracy as a metric cannot be trusted in a imbalanced dataset, the model's performance may improve if we use another approach such as:-</li>\n",
    "        <ul>\n",
    "            <li>1)KD-tree approach.</li>\n",
    "            <li>2)Oversampling techniques.</li>\n",
    "        </ul>\n",
    " </ul"
   ]
  },
  {
   "cell_type": "markdown",
   "metadata": {},
   "source": [
    "<h3> Oversampling the data by using the Synthetic minority oversampling technique (SMOTE).</h3>"
   ]
  },
  {
   "cell_type": "code",
   "execution_count": 27,
   "metadata": {},
   "outputs": [
    {
     "name": "stdout",
     "output_type": "stream",
     "text": [
      "\n",
      " The train accuracy for k = 1 is 72%\n",
      "\n",
      " The train accuracy for k = 3 is 73%\n",
      "\n",
      " The train accuracy for k = 5 is 74%\n",
      "\n",
      " The train accuracy for k = 7 is 74%\n",
      "\n",
      " The train accuracy for k = 9 is 74%\n",
      "\n",
      " The train accuracy for k = 11 is 74%\n",
      "\n",
      " The train accuracy for k = 13 is 75%\n",
      "\n",
      " The train accuracy for k = 15 is 75%\n",
      "\n",
      " The train accuracy for k = 17 is 75%\n",
      "\n",
      " The train accuracy for k = 19 is 75%\n",
      "\n",
      " The train accuracy for k = 21 is 75%\n",
      "\n",
      " The train accuracy for k = 23 is 75%\n",
      "\n",
      " The train accuracy for k = 25 is 75%\n",
      "\n",
      " The train accuracy for k = 27 is 75%\n",
      "\n",
      " The train accuracy for k = 29 is 75%\n"
     ]
    }
   ],
   "source": [
    "train_X,train_Y,test_X,test_Y=Bal_train (X_w2vtr,y_w2vtr,X_w2vtes,y_w2vtes,\"brute\")"
   ]
  },
  {
   "cell_type": "markdown",
   "metadata": {},
   "source": [
    "<h3>Hyperparameter tuning the above model to find the right k.</h3>"
   ]
  },
  {
   "cell_type": "code",
   "execution_count": 28,
   "metadata": {},
   "outputs": [],
   "source": [
    "W2vcv,W2vneigh=crossval(train_X,train_Y,\"brute\")"
   ]
  },
  {
   "cell_type": "code",
   "execution_count": 29,
   "metadata": {},
   "outputs": [
    {
     "name": "stdout",
     "output_type": "stream",
     "text": [
      "\n",
      "The optimal number of neighbors is 1.\n"
     ]
    },
    {
     "data": {
      "image/png": "[encoded data removed]",
      "text/plain": [
       "<Figure size 432x288 with 1 Axes>"
      ]
     },
     "metadata": {
      "needs_background": "light"
     },
     "output_type": "display_data"
    },
    {
     "name": "stdout",
     "output_type": "stream",
     "text": [
      "the misclassification error for each k value is :  [0.121 0.147 0.167 0.179 0.187 0.194 0.2   0.205 0.209 0.214 0.216 0.219\n",
      " 0.222 0.224 0.226 0.227 0.23  0.231 0.232 0.234 0.235 0.237 0.237 0.238\n",
      " 0.24 ]\n"
     ]
    }
   ],
   "source": [
    "#FINDING THE OPTIMAL VALUE \n",
    "W2v_Optimal_k= errorplot(W2vcv,W2vneigh)\n"
   ]
  },
  {
   "cell_type": "markdown",
   "metadata": {},
   "source": [
    "<h3>Testing the model over the test set</h3>"
   ]
  },
  {
   "cell_type": "code",
   "execution_count": 31,
   "metadata": {},
   "outputs": [
    {
     "name": "stdout",
     "output_type": "stream",
     "text": [
      "\n",
      "The accuracy of the knn classifier for k = 1 is 72.051127%\n"
     ]
    }
   ],
   "source": [
    "W2v_y_Pre,W2v_Acc=Optimal_test(train_X,train_Y,test_X,test_Y,W2v_Optimal_k,\"brute\")"
   ]
  },
  {
   "cell_type": "markdown",
   "metadata": {},
   "source": [
    "<h3>Confusion matrix of the above model</h3>"
   ]
  },
  {
   "cell_type": "code",
   "execution_count": 32,
   "metadata": {},
   "outputs": [
    {
     "name": "stdout",
     "output_type": "stream",
     "text": [
      "[[3305 1663]\n",
      " [1114 3854]]\n"
     ]
    },
    {
     "data": {
      "image/png": "[encoded data removed]",
      "text/plain": [
       "<Figure size 648x648 with 2 Axes>"
      ]
     },
     "metadata": {
      "needs_background": "light"
     },
     "output_type": "display_data"
    },
    {
     "name": "stdout",
     "output_type": "stream",
     "text": [
      "\n",
      "+-------------------------------------------------------------+\n",
      "| The performance metrics of the above model are as follows:  |\n",
      "+---------------------------------+---------------------------+\n",
      "|             Metrics             |           Scores          |\n",
      "+---------------------------------+---------------------------+\n",
      "|     Classification_accuracy     |     72.05112721417069     |\n",
      "|       Classification_error      |     27.94887278582931     |\n",
      "|          True positive          |            3854           |\n",
      "|          False positive         |            1663           |\n",
      "|          True negative          |            3305           |\n",
      "|          False negative         |            1114           |\n",
      "|        True positive rate       |     77.57648953301127     |\n",
      "|       False negative rate       |     22.423510466988727    |\n",
      "|        True negative rate       |     66.52576489533011     |\n",
      "|       False positive rate       |     33.47423510466989     |\n",
      "|         Precision value         |      69.8568062352728     |\n",
      "|           Recall value          |     77.57648953301127     |\n",
      "|          f1_score value         |     73.51454458750597     |\n",
      "+---------------------------------+---------------------------+\n"
     ]
    }
   ],
   "source": [
    "Confusion_metric(test_Y,W2v_y_Pre,W2v_Acc)"
   ]
  },
  {
   "cell_type": "markdown",
   "metadata": {},
   "source": [
    "<h2>Observations</h2>\n",
    "<ul>\n",
    "    <li>The Test accuracy of the model is around 72.05% which is quite low for a classification model.</li>\n",
    "    <li>The optimal K value is 1 which means the model overfitts which reduces the model performance.</li>\n",
    "    <li>The Performance metrics are quite good as compared to the previous unbalanced model inspite of the low accuracy of the classification model.</li>\n",
    "    <li>The True Positive value is good as compared to the True negative</li>\n",
    "    <li>The main reason the low accuracy is because of considerable FNR and FPR values which is quite alarming.</li>\n",
    "    <li>Here the model is overfitting but still the model is stable as compared to the previous models</li>\n",
    "  "
   ]
  },
  {
   "cell_type": "markdown",
   "metadata": {},
   "source": [
    "<h2>Implementing Tf-idf weighted word to vector technique</h2>"
   ]
  },
  {
   "cell_type": "code",
   "execution_count": 51,
   "metadata": {},
   "outputs": [
    {
     "name": "stdout",
     "output_type": "stream",
     "text": [
      "Time taken : 0:03:34.863762\n"
     ]
    }
   ],
   "source": [
    "start = datetime.now()\n",
    "\n",
    "Tfidf_vector=TfidfVectorizer()\n",
    "Tf_model=Tfidf_vector.fit_transform(Sample_sort[\"CleanedText\"].values)\n",
    "\n",
    "Dimension=Tfidf_vector.get_feature_names() \n",
    "\n",
    "LIST_VECTOR=[]\n",
    "row=0\n",
    "for sentence in list_of_sentence_vec:\n",
    "    word_2_vec=np.zeros(50)\n",
    "    weight_tf_sum=0\n",
    "    for word in sentence:\n",
    "        try:\n",
    "            vec=w2v_Model.wv[word]\n",
    "            tfidf_value=Tf_model[row,Dimension.index(word)]\n",
    "            word_2_vec += (vec* tfidf_value)\n",
    "            weight_tf_sum += tfidf_value\n",
    "        except:\n",
    "            pass\n",
    "    if weight_tf_sum !=0:\n",
    "        word_2_vec /=weight_tf_sum\n",
    "    LIST_VECTOR.append(word_2_vec)\n",
    "    row += 1\n",
    "    \n",
    "print('Time taken :', datetime.now() - start)"
   ]
  },
  {
   "cell_type": "markdown",
   "metadata": {},
   "source": [
    "<h3>Training the knn model over the TF-idf weighted W2V implemented vector</h3> "
   ]
  },
  {
   "cell_type": "code",
   "execution_count": 35,
   "metadata": {},
   "outputs": [],
   "source": [
    "X1=LIST_VECTOR\n",
    "Y1=Class\n",
    "\n",
    "X_tfw2v, X_tfw2vtes, y_tfw2vtr, y_tfw2vtes = train_test_split(X1, Y1, test_size=0.2,shuffle=False,random_state=None)\n"
   ]
  },
  {
   "cell_type": "code",
   "execution_count": 39,
   "metadata": {},
   "outputs": [
    {
     "name": "stdout",
     "output_type": "stream",
     "text": [
      "\n",
      " The train accuracy for k = 1 is 79%\n",
      "\n",
      " The train accuracy for k = 3 is 82%\n",
      "\n",
      " The train accuracy for k = 5 is 83%\n",
      "\n",
      " The train accuracy for k = 7 is 84%\n",
      "\n",
      " The train accuracy for k = 9 is 84%\n",
      "\n",
      " The train accuracy for k = 11 is 84%\n",
      "\n",
      " The train accuracy for k = 13 is 84%\n",
      "\n",
      " The train accuracy for k = 15 is 84%\n",
      "\n",
      " The train accuracy for k = 17 is 84%\n",
      "\n",
      " The train accuracy for k = 19 is 84%\n",
      "\n",
      " The train accuracy for k = 21 is 84%\n",
      "\n",
      " The train accuracy for k = 23 is 84%\n",
      "\n",
      " The train accuracy for k = 25 is 84%\n",
      "\n",
      " The train accuracy for k = 27 is 84%\n",
      "\n",
      " The train accuracy for k = 29 is 84%\n"
     ]
    }
   ],
   "source": [
    "train(X_tfw2v,y_tfw2vtr, X_tfw2vtes,y_tfw2vtes ,\"brute\")"
   ]
  },
  {
   "cell_type": "markdown",
   "metadata": {},
   "source": [
    "<h3>Hyperparameter tuning the above model to find the right k.</h3>"
   ]
  },
  {
   "cell_type": "code",
   "execution_count": 40,
   "metadata": {},
   "outputs": [],
   "source": [
    "tfw2vcv,tfw2vneigh=crossval(X_tfw2v,y_tfw2vtr,\"brute\")"
   ]
  },
  {
   "cell_type": "code",
   "execution_count": 41,
   "metadata": {},
   "outputs": [
    {
     "name": "stdout",
     "output_type": "stream",
     "text": [
      "\n",
      "The optimal number of neighbors is 31.\n"
     ]
    },
    {
     "data": {
      "image/png": "[encoded data removed]",
      "text/plain": [
       "<Figure size 432x288 with 1 Axes>"
      ]
     },
     "metadata": {
      "needs_background": "light"
     },
     "output_type": "display_data"
    },
    {
     "name": "stdout",
     "output_type": "stream",
     "text": [
      "the misclassification error for each k value is :  [0.198 0.164 0.151 0.144 0.14  0.139 0.138 0.137 0.138 0.137 0.137 0.137\n",
      " 0.137 0.137 0.137 0.136 0.137 0.137 0.138 0.138 0.138 0.139 0.139 0.139\n",
      " 0.139]\n"
     ]
    }
   ],
   "source": [
    "#FINDING THE OPTIMAL VALUE \n",
    "tfw2v_Optimal_k= errorplot(tfw2vcv,tfw2vneigh)\n"
   ]
  },
  {
   "cell_type": "markdown",
   "metadata": {},
   "source": [
    "<h3>Testing the model over the test set</h3>"
   ]
  },
  {
   "cell_type": "code",
   "execution_count": 42,
   "metadata": {},
   "outputs": [
    {
     "name": "stdout",
     "output_type": "stream",
     "text": [
      "\n",
      "The accuracy of the knn classifier for k = 31 is 84.516667%\n"
     ]
    }
   ],
   "source": [
    "tfw2v_y_Pre,tfw2v_Acc=Optimal_test(X_tfw2v,y_tfw2vtr, X_tfw2vtes,y_tfw2vtes,tfw2v_Optimal_k,\"brute\")"
   ]
  },
  {
   "cell_type": "markdown",
   "metadata": {},
   "source": [
    "<h3>Confusion matrix of the above model</h3>"
   ]
  },
  {
   "cell_type": "code",
   "execution_count": 43,
   "metadata": {},
   "outputs": [
    {
     "name": "stdout",
     "output_type": "stream",
     "text": [
      "[[ 149  883]\n",
      " [  46 4922]]\n"
     ]
    },
    {
     "data": {
      "image/png": "[encoded data removed]",
      "text/plain": [
       "<Figure size 648x648 with 2 Axes>"
      ]
     },
     "metadata": {
      "needs_background": "light"
     },
     "output_type": "display_data"
    },
    {
     "name": "stdout",
     "output_type": "stream",
     "text": [
      "\n",
      "+-------------------------------------------------------------+\n",
      "| The performance metrics of the above model are as follows:  |\n",
      "+---------------------------------+---------------------------+\n",
      "|             Metrics             |           Scores          |\n",
      "+---------------------------------+---------------------------+\n",
      "|     Classification_accuracy     |     84.51666666666667     |\n",
      "|       Classification_error      |     15.483333333333333    |\n",
      "|          True positive          |            4922           |\n",
      "|          False positive         |            883            |\n",
      "|          True negative          |            149            |\n",
      "|          False negative         |             46            |\n",
      "|        True positive rate       |     99.07407407407408     |\n",
      "|       False negative rate       |     0.9259259259259258    |\n",
      "|        True negative rate       |     14.437984496124031    |\n",
      "|       False positive rate       |     85.56201550387597     |\n",
      "|         Precision value         |     84.78897502153316     |\n",
      "|           Recall value          |     99.07407407407408     |\n",
      "|          f1_score value         |     91.37658962220367     |\n",
      "+---------------------------------+---------------------------+\n"
     ]
    }
   ],
   "source": [
    "Confusion_metric(y_tfw2vtes,tfw2v_y_Pre,tfw2v_Acc)"
   ]
  },
  {
   "cell_type": "markdown",
   "metadata": {},
   "source": [
    "<h2>Observations</h2>\n",
    "<ul>\n",
    "    <li>The train accuracy of the above model is 84.51% at 31 as a optimal value.</li>\n",
    "    <li>But after analyzing the confusion matrix the model is not sensible at all because the True positive value is dominating so as the TPR values as compared to the other metrics.\n",
    "    <li>The True negative and the False negative rates are very miniscule which leads to decreased TNR which is very bad for a classification model.</li>\n",
    "    <li>The model is not at all classiffying the negative reviews and the model is really dumb.</li>\n",
    "    <li>The model is facing a very heavy bias problem and underfitting a lot since the optimal k value is 31.</li>\n",
    "    <li>So accuracy as a metric cannot be trusted in a imbalanced dataset, the model's performance may improve if we use another approach such as:-</li>\n",
    "        <ul>\n",
    "            <li>1)KD-tree approach.</li>\n",
    "            <li>2)Oversampling techniques.</li>\n",
    "        </ul>\n",
    " </ul"
   ]
  },
  {
   "cell_type": "markdown",
   "metadata": {},
   "source": [
    "<h2>Oversampling the datapoints by using the SMOTE technique.</h2>"
   ]
  },
  {
   "cell_type": "code",
   "execution_count": 44,
   "metadata": {},
   "outputs": [
    {
     "name": "stdout",
     "output_type": "stream",
     "text": [
      "\n",
      " The train accuracy for k = 1 is 68%\n",
      "\n",
      " The train accuracy for k = 3 is 71%\n",
      "\n",
      " The train accuracy for k = 5 is 72%\n",
      "\n",
      " The train accuracy for k = 7 is 72%\n",
      "\n",
      " The train accuracy for k = 9 is 72%\n",
      "\n",
      " The train accuracy for k = 11 is 72%\n",
      "\n",
      " The train accuracy for k = 13 is 72%\n",
      "\n",
      " The train accuracy for k = 15 is 72%\n",
      "\n",
      " The train accuracy for k = 17 is 72%\n",
      "\n",
      " The train accuracy for k = 19 is 72%\n",
      "\n",
      " The train accuracy for k = 21 is 72%\n",
      "\n",
      " The train accuracy for k = 23 is 72%\n",
      "\n",
      " The train accuracy for k = 25 is 72%\n",
      "\n",
      " The train accuracy for k = 27 is 72%\n",
      "\n",
      " The train accuracy for k = 29 is 72%\n"
     ]
    }
   ],
   "source": [
    "Train_x,Train_y,Test_x,Test_y=Bal_train (X_tfw2v,y_tfw2vtr, X_tfw2vtes,y_tfw2vtes,\"brute\")"
   ]
  },
  {
   "cell_type": "markdown",
   "metadata": {},
   "source": [
    "<h3>Hyperparameter tuning the above model to find the right k.</h3>"
   ]
  },
  {
   "cell_type": "code",
   "execution_count": 46,
   "metadata": {},
   "outputs": [],
   "source": [
    "TFW2vcv,TFW2vneigh=crossval(Train_x,Train_y,\"brute\")"
   ]
  },
  {
   "cell_type": "code",
   "execution_count": 47,
   "metadata": {},
   "outputs": [
    {
     "name": "stdout",
     "output_type": "stream",
     "text": [
      "\n",
      "The optimal number of neighbors is 1.\n"
     ]
    },
    {
     "data": {
      "image/png": "[encoded data removed]",
      "text/plain": [
       "<Figure size 432x288 with 1 Axes>"
      ]
     },
     "metadata": {
      "needs_background": "light"
     },
     "output_type": "display_data"
    },
    {
     "name": "stdout",
     "output_type": "stream",
     "text": [
      "the misclassification error for each k value is :  [0.13  0.163 0.184 0.198 0.208 0.215 0.222 0.226 0.231 0.234 0.237 0.24\n",
      " 0.243 0.244 0.246 0.248 0.25  0.251 0.253 0.254 0.256 0.258 0.26  0.261\n",
      " 0.262]\n"
     ]
    }
   ],
   "source": [
    "#FINDING THE OPTIMAL VALUE \n",
    "TFW2v_Optimal_k= errorplot(TFW2vcv,TFW2vneigh)\n"
   ]
  },
  {
   "cell_type": "markdown",
   "metadata": {},
   "source": [
    "<h3>Testing the model over the test set</h3>"
   ]
  },
  {
   "cell_type": "code",
   "execution_count": 48,
   "metadata": {},
   "outputs": [
    {
     "name": "stdout",
     "output_type": "stream",
     "text": [
      "\n",
      "The accuracy of the knn classifier for k = 1 is 68.357488%\n"
     ]
    }
   ],
   "source": [
    "TFW2v_y_Pre,TFW2v_Acc=Optimal_test(Train_x,Train_y,Test_x,Test_y,W2v_Optimal_k,\"brute\")"
   ]
  },
  {
   "cell_type": "markdown",
   "metadata": {},
   "source": [
    "<h3>Confusion matrix of the above model</h3>"
   ]
  },
  {
   "cell_type": "code",
   "execution_count": 50,
   "metadata": {},
   "outputs": [
    {
     "name": "stdout",
     "output_type": "stream",
     "text": [
      "[[3021 1947]\n",
      " [1197 3771]]\n"
     ]
    },
    {
     "data": {
      "image/png": "[encoded data removed]",
      "text/plain": [
       "<Figure size 648x648 with 2 Axes>"
      ]
     },
     "metadata": {
      "needs_background": "light"
     },
     "output_type": "display_data"
    },
    {
     "name": "stdout",
     "output_type": "stream",
     "text": [
      "\n",
      "+-------------------------------------------------------------+\n",
      "| The performance metrics of the above model are as follows:  |\n",
      "+---------------------------------+---------------------------+\n",
      "|             Metrics             |           Scores          |\n",
      "+---------------------------------+---------------------------+\n",
      "|     Classification_accuracy     |     68.35748792270532     |\n",
      "|       Classification_error      |     31.642512077294686    |\n",
      "|          True positive          |            3771           |\n",
      "|          False positive         |            1947           |\n",
      "|          True negative          |            3021           |\n",
      "|          False negative         |            1197           |\n",
      "|        True positive rate       |     75.90579710144928     |\n",
      "|       False negative rate       |     24.094202898550723    |\n",
      "|        True negative rate       |     60.809178743961354    |\n",
      "|       False positive rate       |     39.190821256038646    |\n",
      "|         Precision value         |     65.94963273871983     |\n",
      "|           Recall value          |     75.90579710144928     |\n",
      "|          f1_score value         |     70.57832678270634     |\n",
      "+---------------------------------+---------------------------+\n"
     ]
    }
   ],
   "source": [
    "Confusion_metric(Test_y,TFW2v_y_Pre,TFW2v_Acc)"
   ]
  },
  {
   "cell_type": "markdown",
   "metadata": {},
   "source": [
    "<h2>Observations</h2>\n",
    "<ul>\n",
    "    <li>The Test accuracy of the model is around 68.35% which is quite low for a classification model.</li>\n",
    "    <li>The optimal K value is 1 which means the model overfitts which reduces the model performance.</li>\n",
    "    <li>The Performance metrics are quite good as compared to the previous unbalanced model inspite of the low accuracy of the classification model.</li>\n",
    "    <li>The True Positive value is good as compared to the True negative.</li>\n",
    "    <li>The main reason the low accuracy is because of considerable FNR and FPR values which is quite alarming.</li>\n",
    "    <li>Here the model is overfitting but still the model is stable and sensible as compared to the previous models.</li>\n",
    "  "
   ]
  },
  {
   "cell_type": "markdown",
   "metadata": {},
   "source": [
    "<h2>Conclusion:-</h2>\n",
    "<ul>\n",
    "    <li>So by implementing all the four techniques of vectorization I have come to these conclusions:-</li>\n",
    "        <ol>\n",
    "            <li>The results in both the approachs with Kd-tree and Brute are not that much similar and the Kd_tree method may yield better results if trained on larger datapoints.</li>\n",
    "            <li>The Knn-algorithm suffers from curse of dimensionality specially with tf-idf vectorization technique and Dense Kd_tree implementation.</li>\n",
    "            <li>The KNN-model overfits and underfitts easily if the model is trained over an Imbalanced datasets and accuracy as a metric cannot be trusted completely.</li>\n",
    "            <li>The Kd_tree approach is very much computationally expensive and time consuming.</li>\n",
    "            <li>The usage of Synthetic minority oversampling technique (SMOTE) is usefull in imbalanced text data as it made the models stable as compared to the imbalanced datasets but it overfitts easily.</li>\n",
    "            <li>From my observations I can conclude that KNN-algorithm does not work well with the text data due to high dimensions.</li>\n",
    "        </ol>\n"
   ]
  },
  {
   "cell_type": "code",
   "execution_count": null,
   "metadata": {},
   "outputs": [],
   "source": []
  }
 ],
 "metadata": {
  "kernelspec": {
   "display_name": "Python 3",
   "language": "python",
   "name": "python3"
  },
  "language_info": {
   "codemirror_mode": {
    "name": "ipython",
    "version": 3
   },
   "file_extension": ".py",
   "mimetype": "text/x-python",
   "name": "python",
   "nbconvert_exporter": "python",
   "pygments_lexer": "ipython3",
   "version": "3.6.5"
  }
 },
 "nbformat": 4,
 "nbformat_minor": 2
}
