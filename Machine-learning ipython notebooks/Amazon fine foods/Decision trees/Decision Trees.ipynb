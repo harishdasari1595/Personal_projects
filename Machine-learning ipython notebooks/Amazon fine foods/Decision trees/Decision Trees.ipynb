{
 "cells": [
  {
   "cell_type": "markdown",
   "metadata": {},
   "source": [
    "## Implementing the Decison-tree classiffier over the Amazon-fine food reviews dataset"
   ]
  },
  {
   "cell_type": "code",
   "execution_count": 2,
   "metadata": {},
   "outputs": [],
   "source": [
    "#Importing all the relevant libraries\n",
    "\n",
    "%matplotlib inline\n",
    "\n",
    "import sqlite3\n",
    "import pandas as pd\n",
    "import numpy as np\n",
    "import nltk\n",
    "import string\n",
    "import matplotlib.pyplot as plt\n",
    "import seaborn as sns\n",
    "from sklearn.feature_extraction.text import TfidfTransformer\n",
    "from sklearn.feature_extraction.text import TfidfVectorizer\n",
    "import itertools\n",
    "from sklearn.feature_extraction.text import CountVectorizer\n",
    "from sklearn.metrics import confusion_matrix\n",
    "from sklearn.metrics import precision_score\n",
    "from sklearn.metrics import recall_score\n",
    "from sklearn.metrics import f1_score\n",
    "from prettytable import PrettyTable\n",
    "from sklearn.cross_validation import train_test_split\n",
    "from sklearn.metrics import accuracy_score\n",
    "from sklearn.cross_validation import cross_val_score\n",
    "from collections import Counter\n",
    "from sklearn import cross_validation\n",
    "from sklearn.model_selection import train_test_split\n",
    "import warnings\n",
    "warnings.filterwarnings(action='ignore')\n",
    "from sklearn.grid_search import GridSearchCV\n",
    "from sklearn.tree import DecisionTreeClassifier\n",
    "from sklearn import tree\n",
    "from sklearn import metrics\n",
    "from sklearn.model_selection import RandomizedSearchCV\n",
    "from imblearn.over_sampling import SMOTE\n"
   ]
  },
  {
   "cell_type": "markdown",
   "metadata": {},
   "source": [
    "<h3>Connecting to the pre-processed SQLite Table.</h3>"
   ]
  },
  {
   "cell_type": "code",
   "execution_count": 4,
   "metadata": {},
   "outputs": [],
   "source": [
    "#Connecting to the SQL table\n",
    "con = sqlite3.connect('final.sqlite')\n",
    "\n",
    "#Reading data from the database\n",
    "                                                                        \n",
    "Data = pd.read_sql_query(\"\"\"\n",
    "SELECT *\n",
    "FROM Reviews \"\"\",con)\n",
    "Data.shape\n",
    "\n",
    "# Drop index column\n",
    "Data.drop(columns=['index'],inplace=True)\n"
   ]
  },
  {
   "cell_type": "markdown",
   "metadata": {},
   "source": [
    "<h3>Processing the data for the further use.</h3>"
   ]
  },
  {
   "cell_type": "code",
   "execution_count": 5,
   "metadata": {},
   "outputs": [
    {
     "data": {
      "text/html": [
       "<div>\n",
       "<style scoped>\n",
       "    .dataframe tbody tr th:only-of-type {\n",
       "        vertical-align: middle;\n",
       "    }\n",
       "\n",
       "    .dataframe tbody tr th {\n",
       "        vertical-align: top;\n",
       "    }\n",
       "\n",
       "    .dataframe thead th {\n",
       "        text-align: right;\n",
       "    }\n",
       "</style>\n",
       "<table border=\"1\" class=\"dataframe\">\n",
       "  <thead>\n",
       "    <tr style=\"text-align: right;\">\n",
       "      <th></th>\n",
       "      <th>Id</th>\n",
       "      <th>ProductId</th>\n",
       "      <th>UserId</th>\n",
       "      <th>ProfileName</th>\n",
       "      <th>HelpfulnessNumerator</th>\n",
       "      <th>HelpfulnessDenominator</th>\n",
       "      <th>Score</th>\n",
       "      <th>Time</th>\n",
       "      <th>Summary</th>\n",
       "      <th>Text</th>\n",
       "      <th>CleanedText</th>\n",
       "    </tr>\n",
       "  </thead>\n",
       "  <tbody>\n",
       "    <tr>\n",
       "      <th>0</th>\n",
       "      <td>150524</td>\n",
       "      <td>0006641040</td>\n",
       "      <td>ACITT7DI6IDDL</td>\n",
       "      <td>shari zychinski</td>\n",
       "      <td>0</td>\n",
       "      <td>0</td>\n",
       "      <td>positive</td>\n",
       "      <td>1970-01-01 00:00:00.939340800</td>\n",
       "      <td>EVERY book is educational</td>\n",
       "      <td>this witty little book makes my son laugh at l...</td>\n",
       "      <td>witti littl book make son laugh loud recit car...</td>\n",
       "    </tr>\n",
       "    <tr>\n",
       "      <th>1</th>\n",
       "      <td>150506</td>\n",
       "      <td>0006641040</td>\n",
       "      <td>A2IW4PEEKO2R0U</td>\n",
       "      <td>Tracy</td>\n",
       "      <td>1</td>\n",
       "      <td>1</td>\n",
       "      <td>positive</td>\n",
       "      <td>1970-01-01 00:00:01.194739200</td>\n",
       "      <td>Love the book, miss the hard cover version</td>\n",
       "      <td>I grew up reading these Sendak books, and watc...</td>\n",
       "      <td>grew read sendak book watch realli rosi movi i...</td>\n",
       "    </tr>\n",
       "    <tr>\n",
       "      <th>2</th>\n",
       "      <td>150507</td>\n",
       "      <td>0006641040</td>\n",
       "      <td>A1S4A3IQ2MU7V4</td>\n",
       "      <td>sally sue \"sally sue\"</td>\n",
       "      <td>1</td>\n",
       "      <td>1</td>\n",
       "      <td>positive</td>\n",
       "      <td>1970-01-01 00:00:01.191456000</td>\n",
       "      <td>chicken soup with rice months</td>\n",
       "      <td>This is a fun way for children to learn their ...</td>\n",
       "      <td>fun way children learn month year learn poem t...</td>\n",
       "    </tr>\n",
       "    <tr>\n",
       "      <th>3</th>\n",
       "      <td>150508</td>\n",
       "      <td>0006641040</td>\n",
       "      <td>AZGXZ2UUK6X</td>\n",
       "      <td>Catherine Hallberg \"(Kate)\"</td>\n",
       "      <td>1</td>\n",
       "      <td>1</td>\n",
       "      <td>positive</td>\n",
       "      <td>1970-01-01 00:00:01.076025600</td>\n",
       "      <td>a good swingy rhythm for reading aloud</td>\n",
       "      <td>This is a great little book to read aloud- it ...</td>\n",
       "      <td>great littl book read nice rhythm well good re...</td>\n",
       "    </tr>\n",
       "    <tr>\n",
       "      <th>4</th>\n",
       "      <td>150509</td>\n",
       "      <td>0006641040</td>\n",
       "      <td>A3CMRKGE0P909G</td>\n",
       "      <td>Teresa</td>\n",
       "      <td>3</td>\n",
       "      <td>4</td>\n",
       "      <td>positive</td>\n",
       "      <td>1970-01-01 00:00:01.018396800</td>\n",
       "      <td>A great way to learn the months</td>\n",
       "      <td>This is a book of poetry about the months of t...</td>\n",
       "      <td>book poetri month year goe month cute littl po...</td>\n",
       "    </tr>\n",
       "  </tbody>\n",
       "</table>\n",
       "</div>"
      ],
      "text/plain": [
       "       Id   ProductId          UserId                  ProfileName  \\\n",
       "0  150524  0006641040   ACITT7DI6IDDL              shari zychinski   \n",
       "1  150506  0006641040  A2IW4PEEKO2R0U                        Tracy   \n",
       "2  150507  0006641040  A1S4A3IQ2MU7V4        sally sue \"sally sue\"   \n",
       "3  150508  0006641040     AZGXZ2UUK6X  Catherine Hallberg \"(Kate)\"   \n",
       "4  150509  0006641040  A3CMRKGE0P909G                       Teresa   \n",
       "\n",
       "   HelpfulnessNumerator  HelpfulnessDenominator     Score  \\\n",
       "0                     0                       0  positive   \n",
       "1                     1                       1  positive   \n",
       "2                     1                       1  positive   \n",
       "3                     1                       1  positive   \n",
       "4                     3                       4  positive   \n",
       "\n",
       "                           Time                                     Summary  \\\n",
       "0 1970-01-01 00:00:00.939340800                   EVERY book is educational   \n",
       "1 1970-01-01 00:00:01.194739200  Love the book, miss the hard cover version   \n",
       "2 1970-01-01 00:00:01.191456000               chicken soup with rice months   \n",
       "3 1970-01-01 00:00:01.076025600      a good swingy rhythm for reading aloud   \n",
       "4 1970-01-01 00:00:01.018396800             A great way to learn the months   \n",
       "\n",
       "                                                Text  \\\n",
       "0  this witty little book makes my son laugh at l...   \n",
       "1  I grew up reading these Sendak books, and watc...   \n",
       "2  This is a fun way for children to learn their ...   \n",
       "3  This is a great little book to read aloud- it ...   \n",
       "4  This is a book of poetry about the months of t...   \n",
       "\n",
       "                                         CleanedText  \n",
       "0  witti littl book make son laugh loud recit car...  \n",
       "1  grew read sendak book watch realli rosi movi i...  \n",
       "2  fun way children learn month year learn poem t...  \n",
       "3  great littl book read nice rhythm well good re...  \n",
       "4  book poetri month year goe month cute littl po...  "
      ]
     },
     "execution_count": 5,
     "metadata": {},
     "output_type": "execute_result"
    }
   ],
   "source": [
    "#SETTING THE TIME COLUMN TO STANDARD DATE-TIME\n",
    "\n",
    "Data[\"Time\"]=pd.to_datetime(Data.Time)\n",
    "Data.head(5)"
   ]
  },
  {
   "cell_type": "code",
   "execution_count": 6,
   "metadata": {},
   "outputs": [
    {
     "data": {
      "text/html": [
       "<div>\n",
       "<style scoped>\n",
       "    .dataframe tbody tr th:only-of-type {\n",
       "        vertical-align: middle;\n",
       "    }\n",
       "\n",
       "    .dataframe tbody tr th {\n",
       "        vertical-align: top;\n",
       "    }\n",
       "\n",
       "    .dataframe thead th {\n",
       "        text-align: right;\n",
       "    }\n",
       "</style>\n",
       "<table border=\"1\" class=\"dataframe\">\n",
       "  <thead>\n",
       "    <tr style=\"text-align: right;\">\n",
       "      <th></th>\n",
       "      <th>Id</th>\n",
       "      <th>ProductId</th>\n",
       "      <th>UserId</th>\n",
       "      <th>ProfileName</th>\n",
       "      <th>HelpfulnessNumerator</th>\n",
       "      <th>HelpfulnessDenominator</th>\n",
       "      <th>Score</th>\n",
       "      <th>Summary</th>\n",
       "      <th>Text</th>\n",
       "      <th>CleanedText</th>\n",
       "    </tr>\n",
       "    <tr>\n",
       "      <th>Time</th>\n",
       "      <th></th>\n",
       "      <th></th>\n",
       "      <th></th>\n",
       "      <th></th>\n",
       "      <th></th>\n",
       "      <th></th>\n",
       "      <th></th>\n",
       "      <th></th>\n",
       "      <th></th>\n",
       "      <th></th>\n",
       "    </tr>\n",
       "  </thead>\n",
       "  <tbody>\n",
       "    <tr>\n",
       "      <th>1970-01-01 00:00:00.939340800</th>\n",
       "      <td>150524</td>\n",
       "      <td>0006641040</td>\n",
       "      <td>ACITT7DI6IDDL</td>\n",
       "      <td>shari zychinski</td>\n",
       "      <td>0</td>\n",
       "      <td>0</td>\n",
       "      <td>positive</td>\n",
       "      <td>EVERY book is educational</td>\n",
       "      <td>this witty little book makes my son laugh at l...</td>\n",
       "      <td>witti littl book make son laugh loud recit car...</td>\n",
       "    </tr>\n",
       "    <tr>\n",
       "      <th>1970-01-01 00:00:00.940809600</th>\n",
       "      <td>150501</td>\n",
       "      <td>0006641040</td>\n",
       "      <td>AJ46FKXOVC7NR</td>\n",
       "      <td>Nicholas A Mesiano</td>\n",
       "      <td>2</td>\n",
       "      <td>2</td>\n",
       "      <td>positive</td>\n",
       "      <td>This whole series is great way to spend time w...</td>\n",
       "      <td>I can remember seeing the show when it aired o...</td>\n",
       "      <td>rememb see show air televis year ago child sis...</td>\n",
       "    </tr>\n",
       "    <tr>\n",
       "      <th>1970-01-01 00:00:00.947376000</th>\n",
       "      <td>374422</td>\n",
       "      <td>B00004CI84</td>\n",
       "      <td>A1048CYU0OV4O8</td>\n",
       "      <td>Judy L. Eans</td>\n",
       "      <td>2</td>\n",
       "      <td>2</td>\n",
       "      <td>positive</td>\n",
       "      <td>GREAT</td>\n",
       "      <td>THIS IS ONE MOVIE THAT SHOULD BE IN YOUR MOVIE...</td>\n",
       "      <td>one movi movi collect fill comedi action whate...</td>\n",
       "    </tr>\n",
       "    <tr>\n",
       "      <th>1970-01-01 00:00:00.951523200</th>\n",
       "      <td>374450</td>\n",
       "      <td>B00004CI84</td>\n",
       "      <td>ACJR7EQF9S6FP</td>\n",
       "      <td>Jeremy Robertson</td>\n",
       "      <td>2</td>\n",
       "      <td>3</td>\n",
       "      <td>positive</td>\n",
       "      <td>Bettlejuice...Bettlejuice...BETTLEJUICE!</td>\n",
       "      <td>What happens when you say his name three times...</td>\n",
       "      <td>happen say name three time michael keaten star...</td>\n",
       "    </tr>\n",
       "    <tr>\n",
       "      <th>1970-01-01 00:00:00.959990400</th>\n",
       "      <td>451903</td>\n",
       "      <td>B00004CXX9</td>\n",
       "      <td>A2DEE7F9XKP3ZR</td>\n",
       "      <td>jerome</td>\n",
       "      <td>0</td>\n",
       "      <td>1</td>\n",
       "      <td>positive</td>\n",
       "      <td>Research</td>\n",
       "      <td>I'm getting crazy.&lt;p&gt;Is it really impossible t...</td>\n",
       "      <td>get crazi realli imposs today find french vhs ...</td>\n",
       "    </tr>\n",
       "  </tbody>\n",
       "</table>\n",
       "</div>"
      ],
      "text/plain": [
       "                                   Id   ProductId          UserId  \\\n",
       "Time                                                                \n",
       "1970-01-01 00:00:00.939340800  150524  0006641040   ACITT7DI6IDDL   \n",
       "1970-01-01 00:00:00.940809600  150501  0006641040   AJ46FKXOVC7NR   \n",
       "1970-01-01 00:00:00.947376000  374422  B00004CI84  A1048CYU0OV4O8   \n",
       "1970-01-01 00:00:00.951523200  374450  B00004CI84   ACJR7EQF9S6FP   \n",
       "1970-01-01 00:00:00.959990400  451903  B00004CXX9  A2DEE7F9XKP3ZR   \n",
       "\n",
       "                                      ProfileName  HelpfulnessNumerator  \\\n",
       "Time                                                                      \n",
       "1970-01-01 00:00:00.939340800     shari zychinski                     0   \n",
       "1970-01-01 00:00:00.940809600  Nicholas A Mesiano                     2   \n",
       "1970-01-01 00:00:00.947376000        Judy L. Eans                     2   \n",
       "1970-01-01 00:00:00.951523200    Jeremy Robertson                     2   \n",
       "1970-01-01 00:00:00.959990400              jerome                     0   \n",
       "\n",
       "                               HelpfulnessDenominator     Score  \\\n",
       "Time                                                              \n",
       "1970-01-01 00:00:00.939340800                       0  positive   \n",
       "1970-01-01 00:00:00.940809600                       2  positive   \n",
       "1970-01-01 00:00:00.947376000                       2  positive   \n",
       "1970-01-01 00:00:00.951523200                       3  positive   \n",
       "1970-01-01 00:00:00.959990400                       1  positive   \n",
       "\n",
       "                                                                         Summary  \\\n",
       "Time                                                                               \n",
       "1970-01-01 00:00:00.939340800                          EVERY book is educational   \n",
       "1970-01-01 00:00:00.940809600  This whole series is great way to spend time w...   \n",
       "1970-01-01 00:00:00.947376000                                              GREAT   \n",
       "1970-01-01 00:00:00.951523200           Bettlejuice...Bettlejuice...BETTLEJUICE!   \n",
       "1970-01-01 00:00:00.959990400                                           Research   \n",
       "\n",
       "                                                                            Text  \\\n",
       "Time                                                                               \n",
       "1970-01-01 00:00:00.939340800  this witty little book makes my son laugh at l...   \n",
       "1970-01-01 00:00:00.940809600  I can remember seeing the show when it aired o...   \n",
       "1970-01-01 00:00:00.947376000  THIS IS ONE MOVIE THAT SHOULD BE IN YOUR MOVIE...   \n",
       "1970-01-01 00:00:00.951523200  What happens when you say his name three times...   \n",
       "1970-01-01 00:00:00.959990400  I'm getting crazy.<p>Is it really impossible t...   \n",
       "\n",
       "                                                                     CleanedText  \n",
       "Time                                                                              \n",
       "1970-01-01 00:00:00.939340800  witti littl book make son laugh loud recit car...  \n",
       "1970-01-01 00:00:00.940809600  rememb see show air televis year ago child sis...  \n",
       "1970-01-01 00:00:00.947376000  one movi movi collect fill comedi action whate...  \n",
       "1970-01-01 00:00:00.951523200  happen say name three time michael keaten star...  \n",
       "1970-01-01 00:00:00.959990400  get crazi realli imposs today find french vhs ...  "
      ]
     },
     "execution_count": 6,
     "metadata": {},
     "output_type": "execute_result"
    }
   ],
   "source": [
    "#Setting Time column as index of the dataframe \n",
    "Data.set_index(\"Time\",inplace=True)\n",
    "\n",
    "#Sampling the above data\n",
    "\n",
    "Sampled_data=Data.sample(n=150000,replace='False')\n",
    "Sorted=Sampled_data.sort_index()\n",
    "Sorted.head()"
   ]
  },
  {
   "cell_type": "code",
   "execution_count": 7,
   "metadata": {},
   "outputs": [
    {
     "data": {
      "image/png": "[encoded data removed]",
      "text/plain": [
       "<Figure size 432x288 with 1 Axes>"
      ]
     },
     "metadata": {
      "needs_background": "light"
     },
     "output_type": "display_data"
    },
    {
     "data": {
      "text/plain": [
       "<Figure size 432x288 with 0 Axes>"
      ]
     },
     "metadata": {},
     "output_type": "display_data"
    }
   ],
   "source": [
    "polarity=Sorted[\"Score\"]\n",
    "sns.countplot(x=\"Score\",data=Sorted,palette=\"hls\")\n",
    "plt.show()\n",
    "plt.savefig(\"count_plot\")\n"
   ]
  },
  {
   "cell_type": "markdown",
   "metadata": {},
   "source": [
    "<h3>Splitting the data into 80:20 partitions sets</h3>"
   ]
  },
  {
   "cell_type": "code",
   "execution_count": 8,
   "metadata": {},
   "outputs": [],
   "source": [
    "def data_split(x,y):\n",
    "    #Splitting the model into 70:30 split of Training and Cross_validate split\n",
    "    X_1, X_test, y_1, y_test = train_test_split(x, y, test_size=0.3,shuffle=False,random_state=None)\n",
    "\n",
    "# split the train data set into cross validation train and cross validation test\n",
    "    X_tr, X_cv, y_tr, y_cv = train_test_split(X_1, y_1, test_size=0.3,shuffle=False,random_state=None)\n",
    "    \n",
    "    return X_tr,y_tr,X_cv,y_cv,X_test,y_test"
   ]
  },
  {
   "cell_type": "markdown",
   "metadata": {},
   "source": [
    "<h3>Preparing the data for further use</h3>"
   ]
  },
  {
   "cell_type": "code",
   "execution_count": 9,
   "metadata": {},
   "outputs": [
    {
     "name": "stdout",
     "output_type": "stream",
     "text": [
      "The shape of x_train is: (73500, 10)\n",
      "the shape of y_train is: (73500,)\n",
      "the shape of x_test is: (45000, 10)\n",
      "the shape of y_test is: (45000,)\n"
     ]
    }
   ],
   "source": [
    "X=Sorted\n",
    "Y=polarity\n",
    "\n",
    "X_tr,y_tr,X_cv,y_cv,X_test,y_test=data_split(X,Y)\n",
    "\n",
    "print(\"The shape of x_train is:\",X_tr.shape)\n",
    "print(\"the shape of y_train is:\",y_tr.shape)\n",
    "print(\"the shape of x_test is:\",X_test.shape)\n",
    "print(\"the shape of y_test is:\",y_test.shape)"
   ]
  },
  {
   "cell_type": "markdown",
   "metadata": {},
   "source": [
    "<h3>Utility functions for training & testing the data</h3>"
   ]
  },
  {
   "cell_type": "code",
   "execution_count": 21,
   "metadata": {},
   "outputs": [],
   "source": [
    "def train(X_tr, y_tr,X_cv,y_cv):\n",
    "    \n",
    "    clf = DecisionTreeClassifier(random_state=0,max_depth=None,class_weight=\"balanced\")\n",
    "    Model = clf.fit(X_tr, y_tr)\n",
    "\n",
    "    print(\"\\nThe model score on train set is= \", Model.score(X_tr,y_tr))\n",
    "\n",
    "    Y_pred=Model.predict(X_cv)\n",
    "\n",
    "    accuracy = accuracy_score(y_cv, Y_pred, normalize=True) * float(100)\n",
    "\n",
    "    print('\\nThe accuracy of Decision tree over cross_val set is =  %d%% ' % ( accuracy))\n",
    "    return Y_pred,accuracy\n",
    "\n",
    "\n",
    "\n",
    "\n",
    "def tuned_test(X_tr, y_tr,X_test,y_test,d):\n",
    "    \n",
    "    Best_clf= DecisionTreeClassifier(random_state=0,max_depth=d,class_weight=\"balanced\")\n",
    "\n",
    "    Best_Model = Best_clf.fit(X_tr, y_tr)\n",
    "\n",
    "    print(\"\\nThe model score on train set is= \", Best_Model.score(X_tr,y_tr))\n",
    "\n",
    "    Y_pred=Best_Model.predict(X_test)\n",
    "    \n",
    "    best_accuracy = accuracy_score(y_test, Y_pred, normalize=True) * float(100)\n",
    "\n",
    "    print('\\nThe accuracy of Decision tree over test set is =  %d%% ' % ( best_accuracy))\n",
    "    return Y_pred,best_accuracy\n",
    "\n",
    "\n",
    "def cv_results(X_cv, y_cv):\n",
    "    cv_erro_array1 = []\n",
    "    depth = [x for x in range(2, 10)]\n",
    "    \n",
    "    for d in depth:\n",
    "        print(\"--------------------------------------------------------------------------------------------------------\")\n",
    "        print(\"for depth =\", d)\n",
    "        Clf = DecisionTreeClassifier(random_state=0,max_depth=(d),class_weight=\"balanced\")\n",
    "        Scores = cross_val_score(Clf, X_cv, y_cv, cv=10,scoring='accuracy',n_jobs=-1)\n",
    "        cv_erro_array1.append(Scores.mean())\n",
    "    \n",
    "        mse=[1- x for x in cv_erro_array1]\n",
    "        # determining best alpha\n",
    "        #Best_alpha = alpha[mse.index(min(mse))]\n",
    "        print(\"\\nthe misclassification error for each depth value is : \", np.round(mse,3))\n",
    "        #print(\"\\nthe 10-fold CV_accuracy for each alpha is :\",Scores)\n",
    "    \n",
    "    #plt.subplot(1,2,1)\n",
    "    \n",
    "    fig, ax = plt.subplots()\n",
    "    ax.plot(depth,mse,c='g')\n",
    "    for i, txt in enumerate(np.round(mse,3)):\n",
    "        ax.annotate((depth[i],str(txt)), (depth[i],mse[i]))\n",
    "    plt.grid()\n",
    "    plt.title(\"Cross Validation Error for each depth value\")\n",
    "    plt.xlabel(\"Depth d's\")\n",
    "    plt.ylabel(\"Error measure\")\n",
    "    plt.show()\n",
    "\n",
    "    Best_depth = np.round(depth[mse.index(min(mse))])\n",
    "    print('\\nThe optimal number of depth value is %d.' % Best_depth)\n",
    "\n",
    "\n",
    "\n"
   ]
  },
  {
   "cell_type": "markdown",
   "metadata": {},
   "source": [
    "<h3>Utility function for plotting the confusion matrix.</h3>"
   ]
  },
  {
   "cell_type": "code",
   "execution_count": 11,
   "metadata": {},
   "outputs": [],
   "source": [
    "from sklearn.metrics import confusion_matrix\n",
    "def Confusion_metric(y_test,y_pred,acc):\n",
    "    print(metrics.confusion_matrix(y_test,y_pred))\n",
    "    confusion=metrics.confusion_matrix(y_test,y_pred)\n",
    "\n",
    "    plt.figure(figsize=(9,9))\n",
    "    sns.heatmap(confusion, annot=True, fmt=\".3f\", linewidths=.5, square = True, cmap = 'Blues_r');\n",
    "    plt.ylabel('Predicted label');\n",
    "    plt.xlabel('Actual label');\n",
    "    all_sample_title = 'Accuracy Score: {0}'.format( acc)\n",
    "    plt.title(all_sample_title, size = 15);\n",
    "    plt.show()\n",
    "\n",
    "#Storing the values of the confusion matrix\n",
    "    TN=confusion[0,0]\n",
    "    FP=confusion[0,1]\n",
    "    FN=confusion[1,0]\n",
    "    TP=confusion[1,1]\n",
    "\n",
    "# use float to perform true division, not integer division\n",
    "    Class_acc=((TP + TN) / float(TP + TN + FP + FN))*100\n",
    "\n",
    "#Code for classification error\n",
    "\n",
    "    classification_error = ((FP + FN) / float(TP + TN + FP + FN))*100\n",
    "    \n",
    "\n",
    "#Code for finding the TPR,FPR,TNR,FNR\n",
    "\n",
    "    TPR = (TP / float(FN + TP))*100\n",
    "\n",
    "    FNR = (FN / float(FN + TP))*100\n",
    "\n",
    "    TNR=(TN / float(TN + FP))*100\n",
    "\n",
    "    FPR=(FP / float(TN + FP))*100\n",
    "    \n",
    "#Code for finding the Precision,Recall & F1_score    \n",
    "   \n",
    "    precision = (TP/float(TP+FP))*100\n",
    "    \n",
    "    recall= (TP / float(FN + TP))*100\n",
    "    \n",
    "    F1_s= ((float(precision*recall)/float(precision+recall))*2)\n",
    "    \n",
    "    print()\n",
    "    \n",
    "    ptable=PrettyTable()\n",
    "    ptable.title=\"The performance metrics of the above model are as follows: \"\n",
    "    ptable.field_names=[\"Metrics\",\"Scores\"]\n",
    "    ptable.add_row([\"Classification_accuracy\",Class_acc])\n",
    "    ptable.add_row([\"Classification_error\",classification_error])\n",
    "    ptable.add_row([\"True positive\",TP])\n",
    "    ptable.add_row([\"False positive\",FP])\n",
    "    ptable.add_row([\"True negative\",TN])\n",
    "    ptable.add_row([\"False negative\",FN])\n",
    "    ptable.add_row([\"True positive rate\",TPR])\n",
    "    ptable.add_row([\"False negative rate\",FNR])\n",
    "    ptable.add_row([\"True negative rate\",TNR])\n",
    "    ptable.add_row([\"False positive rate\",FPR])\n",
    "    ptable.add_row([\"Precision value\",precision])\n",
    "    ptable.add_row([\"Recall value\",recall])\n",
    "    ptable.add_row([\"f1_score value\",F1_s])\n",
    "    \n",
    "    print(ptable)\n",
    "    "
   ]
  },
  {
   "cell_type": "code",
   "execution_count": 51,
   "metadata": {},
   "outputs": [],
   "source": [
    "\n",
    "def conclusion_table():\n",
    "    print()\n",
    "    ptable=PrettyTable()\n",
    "    ptable.title=\"The comparisons of all the vectorizers are as follows: \"\n",
    "    ptable.field_names=[\"Vectorizer\",\"Algorithm\",\"Scores\",\"Status\"]\n",
    "    ptable.add_row([\"Bag-Of-Words\",\"Decision-Tree-Classiffier\",accuracy,\"Overfitt\"])\n",
    "    ptable.add_row([\"Tf-IDF\",\"Decision-Tree-Classiffier\",accur ,\"Overfitt\"])\n",
    "    ptable.add_row([\"Average-word2vec\",\"Decision-Tree-Classiffier\",accura ,\"Overfitt\"])\n",
    "    ptable.add_row([\"TF-IDF-Weighted-word2vec\",\"Decision-Tree-Classiffier\",tfaccura ,\"Overfitt\"])\n",
    "      \n",
    "    print(ptable)\n",
    "    \n",
    "    "
   ]
  },
  {
   "cell_type": "markdown",
   "metadata": {},
   "source": [
    "<h3>Utility function for vectorizing the data</h3>"
   ]
  },
  {
   "cell_type": "code",
   "execution_count": 12,
   "metadata": {},
   "outputs": [],
   "source": [
    "#Function for vectorizing the train data\n",
    "from sklearn.preprocessing import StandardScaler\n",
    "scaler=StandardScaler(with_mean=False)\n",
    "\n",
    "\n",
    "def vec_train(vect,X_tr):\n",
    "    import warnings\n",
    "    warnings.filterwarnings(\"ignore\")\n",
    "\n",
    "    count_vect = vect #in scikit-learn\n",
    "    BOW = count_vect.fit_transform(X_tr.values)\n",
    "\n",
    "#Standardizing the vectorized data\n",
    "    standardized_data = scaler.fit_transform(BOW)\n",
    "    standardized_data.shape\n",
    "    return count_vect,standardized_data\n",
    "\n",
    "\n",
    "#Function for vectorizing the CV data\n",
    "\n",
    "def vec_cv(count,X_cv):\n",
    "    cv=count.transform(X_cv.values)\n",
    "    cv.get_shape()\n",
    "\n",
    "    std_cv=scaler.transform(cv)\n",
    "    std_cv.shape\n",
    "    return std_cv\n",
    "\n",
    "\n",
    "#Function for vectorizing the test data\n",
    "\n",
    "def vec_test(count,X_test):\n",
    "    test=count.transform(X_test.values)\n",
    "    test.get_shape()\n",
    "\n",
    "    std_data=scaler.transform(test)\n",
    "    std_data.shape\n",
    "    return std_data\n",
    "\n",
    "#Funtion for printing the total number of top features\n",
    "def top_tfidf_feats(name,row, features, top_n=25):\n",
    "    ''' Get top n tfidf values in row and return them with their corresponding feature names.'''\n",
    "    topn_ids = np.argsort(row)[::-1][:top_n]\n",
    "    top_feats = [(features[i], row[i]) for i in topn_ids]\n",
    "    df = pd.DataFrame(top_feats)\n",
    "    df.columns = ['feature', name]\n",
    "    return df\n",
    "\n",
    "#Function for displaying top frequent 50 tokens distributions \n",
    "from yellowbrick.text import FreqDistVisualizer\n",
    "from sklearn.feature_extraction.text import CountVectorizer\n",
    "def display_token(Vect,data):\n",
    "\n",
    "    vectorizer = Vect\n",
    "    docs       = vectorizer.fit_transform(data)\n",
    "    features   = vectorizer.get_feature_names()\n",
    "    \n",
    "    visualizer = FreqDistVisualizer(features=features)\n",
    "    visualizer.fit(docs)\n",
    "    visualizer.poof()\n",
    "\n",
    "\n",
    "\n",
    "\n",
    "\n"
   ]
  },
  {
   "cell_type": "markdown",
   "metadata": {},
   "source": [
    "<h3>Implementing the Bag-of words vectorizer</h3>"
   ]
  },
  {
   "cell_type": "code",
   "execution_count": 13,
   "metadata": {},
   "outputs": [
    {
     "name": "stdout",
     "output_type": "stream",
     "text": [
      "The shape of the X_train is:  (73500, 29756)\n",
      "The shape of the X_cv is:  (31500, 29756)\n",
      "The shape of the X_test is:  (45000, 29756)\n",
      "\n",
      "Top 25 feaures acording to the Bow score are as follows\n"
     ]
    },
    {
     "data": {
      "text/html": [
       "<div>\n",
       "<style scoped>\n",
       "    .dataframe tbody tr th:only-of-type {\n",
       "        vertical-align: middle;\n",
       "    }\n",
       "\n",
       "    .dataframe tbody tr th {\n",
       "        vertical-align: top;\n",
       "    }\n",
       "\n",
       "    .dataframe thead th {\n",
       "        text-align: right;\n",
       "    }\n",
       "</style>\n",
       "<table border=\"1\" class=\"dataframe\">\n",
       "  <thead>\n",
       "    <tr style=\"text-align: right;\">\n",
       "      <th></th>\n",
       "      <th>feature</th>\n",
       "      <th>bow</th>\n",
       "    </tr>\n",
       "  </thead>\n",
       "  <tbody>\n",
       "    <tr>\n",
       "      <th>0</th>\n",
       "      <td>televis</td>\n",
       "      <td>67.784587</td>\n",
       "    </tr>\n",
       "    <tr>\n",
       "      <th>1</th>\n",
       "      <td>preschool</td>\n",
       "      <td>52.183137</td>\n",
       "    </tr>\n",
       "    <tr>\n",
       "      <th>2</th>\n",
       "      <td>song</td>\n",
       "      <td>45.833249</td>\n",
       "    </tr>\n",
       "    <tr>\n",
       "      <th>3</th>\n",
       "      <td>thirti</td>\n",
       "      <td>35.308593</td>\n",
       "    </tr>\n",
       "    <tr>\n",
       "      <th>4</th>\n",
       "      <td>teach</td>\n",
       "      <td>34.166100</td>\n",
       "    </tr>\n",
       "    <tr>\n",
       "      <th>5</th>\n",
       "      <td>seri</td>\n",
       "      <td>32.651272</td>\n",
       "    </tr>\n",
       "    <tr>\n",
       "      <th>6</th>\n",
       "      <td>student</td>\n",
       "      <td>20.112397</td>\n",
       "    </tr>\n",
       "    <tr>\n",
       "      <th>7</th>\n",
       "      <td>book</td>\n",
       "      <td>18.799685</td>\n",
       "    </tr>\n",
       "    <tr>\n",
       "      <th>8</th>\n",
       "      <td>sister</td>\n",
       "      <td>11.680474</td>\n",
       "    </tr>\n",
       "    <tr>\n",
       "      <th>9</th>\n",
       "      <td>school</td>\n",
       "      <td>11.466476</td>\n",
       "    </tr>\n",
       "    <tr>\n",
       "      <th>10</th>\n",
       "      <td>child</td>\n",
       "      <td>11.147448</td>\n",
       "    </tr>\n",
       "    <tr>\n",
       "      <th>11</th>\n",
       "      <td>air</td>\n",
       "      <td>10.443262</td>\n",
       "    </tr>\n",
       "    <tr>\n",
       "      <th>12</th>\n",
       "      <td>show</td>\n",
       "      <td>9.254517</td>\n",
       "    </tr>\n",
       "    <tr>\n",
       "      <th>13</th>\n",
       "      <td>tradit</td>\n",
       "      <td>8.764491</td>\n",
       "    </tr>\n",
       "    <tr>\n",
       "      <th>14</th>\n",
       "      <td>children</td>\n",
       "      <td>8.457772</td>\n",
       "    </tr>\n",
       "    <tr>\n",
       "      <th>15</th>\n",
       "      <td>along</td>\n",
       "      <td>8.337187</td>\n",
       "    </tr>\n",
       "    <tr>\n",
       "      <th>16</th>\n",
       "      <td>later</td>\n",
       "      <td>8.281381</td>\n",
       "    </tr>\n",
       "    <tr>\n",
       "      <th>17</th>\n",
       "      <td>rememb</td>\n",
       "      <td>7.625671</td>\n",
       "    </tr>\n",
       "    <tr>\n",
       "      <th>18</th>\n",
       "      <td>ago</td>\n",
       "      <td>6.107664</td>\n",
       "    </tr>\n",
       "    <tr>\n",
       "      <th>19</th>\n",
       "      <td>turn</td>\n",
       "      <td>6.015751</td>\n",
       "    </tr>\n",
       "    <tr>\n",
       "      <th>20</th>\n",
       "      <td>live</td>\n",
       "      <td>5.432616</td>\n",
       "    </tr>\n",
       "    <tr>\n",
       "      <th>21</th>\n",
       "      <td>see</td>\n",
       "      <td>4.070845</td>\n",
       "    </tr>\n",
       "    <tr>\n",
       "      <th>22</th>\n",
       "      <td>someth</td>\n",
       "      <td>3.805621</td>\n",
       "    </tr>\n",
       "    <tr>\n",
       "      <th>23</th>\n",
       "      <td>whole</td>\n",
       "      <td>3.477331</td>\n",
       "    </tr>\n",
       "    <tr>\n",
       "      <th>24</th>\n",
       "      <td>bought</td>\n",
       "      <td>3.311197</td>\n",
       "    </tr>\n",
       "  </tbody>\n",
       "</table>\n",
       "</div>"
      ],
      "text/plain": [
       "      feature        bow\n",
       "0     televis  67.784587\n",
       "1   preschool  52.183137\n",
       "2        song  45.833249\n",
       "3      thirti  35.308593\n",
       "4       teach  34.166100\n",
       "5        seri  32.651272\n",
       "6     student  20.112397\n",
       "7        book  18.799685\n",
       "8      sister  11.680474\n",
       "9      school  11.466476\n",
       "10      child  11.147448\n",
       "11        air  10.443262\n",
       "12       show   9.254517\n",
       "13     tradit   8.764491\n",
       "14   children   8.457772\n",
       "15      along   8.337187\n",
       "16      later   8.281381\n",
       "17     rememb   7.625671\n",
       "18        ago   6.107664\n",
       "19       turn   6.015751\n",
       "20       live   5.432616\n",
       "21        see   4.070845\n",
       "22     someth   3.805621\n",
       "23      whole   3.477331\n",
       "24     bought   3.311197"
      ]
     },
     "execution_count": 13,
     "metadata": {},
     "output_type": "execute_result"
    }
   ],
   "source": [
    "#Initializing the count vectorizer \n",
    "Count_vect=CountVectorizer()\n",
    "\n",
    "#vectorizing the X_train set\n",
    "count,x_tr=vec_train(Count_vect,X_tr[\"CleanedText\"])\n",
    "\n",
    "print(\"The shape of the X_train is: \",x_tr.shape)\n",
    "\n",
    "#Vectgorizing the X_crossvalidation set\n",
    "x_cv=vec_cv(count,X_cv[\"CleanedText\"])\n",
    "print(\"The shape of the X_cv is: \",x_cv.shape)\n",
    "\n",
    "\n",
    "#Vectorizing the X_test set\n",
    "x_test=vec_test(count,X_test[\"CleanedText\"])\n",
    "print(\"The shape of the X_test is: \",x_test.shape)\n",
    "\n",
    "\n",
    "#Printing the total length of the features\n",
    "print(\"\\nTop 25 feaures acording to the Bow score are as follows\")\n",
    "features = Count_vect.get_feature_names()\n",
    "len(features)\n",
    "\n",
    "\n",
    "top_Bow = top_tfidf_feats(\"bow\",x_tr[1,:].toarray()[0],features,25)\n",
    "top_Bow\n",
    "\n",
    "\n"
   ]
  },
  {
   "cell_type": "markdown",
   "metadata": {},
   "source": [
    "### <h3>Displaying the top frequency distribution of the top 50 tokens"
   ]
  },
  {
   "cell_type": "code",
   "execution_count": 13,
   "metadata": {},
   "outputs": [
    {
     "data": {
      "image/png": "[encoded data removed]",
      "text/plain": [
       "<Figure size 576x396 with 1 Axes>"
      ]
     },
     "metadata": {},
     "output_type": "display_data"
    }
   ],
   "source": [
    "display_token(Count_vect,X_tr[\"CleanedText\"])"
   ]
  },
  {
   "cell_type": "markdown",
   "metadata": {},
   "source": [
    "### Training the Decision tree classifier model over the cross-validation set using default values"
   ]
  },
  {
   "cell_type": "code",
   "execution_count": 14,
   "metadata": {},
   "outputs": [
    {
     "name": "stdout",
     "output_type": "stream",
     "text": [
      "\n",
      "The model score on train set is=  1.0\n",
      "\n",
      "The accuracy of Decision tree over cross_val set is =  81% \n",
      "Wall time: 35.1 s\n"
     ]
    }
   ],
   "source": [
    "%%time\n",
    "\n",
    "pred,acc=train(x_tr,y_tr,x_cv,y_cv)"
   ]
  },
  {
   "cell_type": "markdown",
   "metadata": {},
   "source": [
    "### Confusion matrix of the model is as follows "
   ]
  },
  {
   "cell_type": "code",
   "execution_count": 46,
   "metadata": {},
   "outputs": [
    {
     "name": "stdout",
     "output_type": "stream",
     "text": [
      "[[ 2956  2507]\n",
      " [ 3269 22768]]\n"
     ]
    },
    {
     "data": {
      "image/png": "[encoded data removed]",
      "text/plain": [
       "<Figure size 648x648 with 2 Axes>"
      ]
     },
     "metadata": {},
     "output_type": "display_data"
    },
    {
     "name": "stdout",
     "output_type": "stream",
     "text": [
      "\n",
      "+-------------------------------------------------------------+\n",
      "| The performance metrics of the above model are as follows:  |\n",
      "+---------------------------------+---------------------------+\n",
      "|             Metrics             |           Scores          |\n",
      "+---------------------------------+---------------------------+\n",
      "|     Classification_accuracy     |     81.66349206349206     |\n",
      "|       Classification_error      |     18.336507936507935    |\n",
      "|          True positive          |           22768           |\n",
      "|          False positive         |            2507           |\n",
      "|          True negative          |            2956           |\n",
      "|          False negative         |            3269           |\n",
      "|        True positive rate       |     87.44479010638706     |\n",
      "|       False negative rate       |     12.555209893612934    |\n",
      "|        True negative rate       |     54.10946366465312     |\n",
      "|       False positive rate       |     45.89053633534688     |\n",
      "|         Precision value         |     90.08110781404551     |\n",
      "|           Recall value          |     87.44479010638706     |\n",
      "|          f1_score value         |     88.74337386966012     |\n",
      "+---------------------------------+---------------------------+\n"
     ]
    }
   ],
   "source": [
    "Confusion_metric(y_cv,pred,acc)"
   ]
  },
  {
   "cell_type": "markdown",
   "metadata": {},
   "source": [
    "## Observations\n",
    "<ul>\n",
    "   <li>The train accuracy of the above model is 81.422% but is quite misleading which can be observed by analyzing the performance metrics of the confusion matrix.</li>\n",
    "   <li>The False positive rate and the false negative rate is quite high which is not good for an classification model.</li>\n",
    "   <li>The True negative rate is quite low which is very bad as the negative reviews are not properly classified and the model is facing a bias problem which can be improved after tuning the hyperparameters.</li>\n",
    "    "
   ]
  },
  {
   "cell_type": "markdown",
   "metadata": {},
   "source": [
    "### Tuning the hyperparameters by performing 10k-fold Cross validation technique"
   ]
  },
  {
   "cell_type": "code",
   "execution_count": 16,
   "metadata": {},
   "outputs": [
    {
     "name": "stdout",
     "output_type": "stream",
     "text": [
      "--------------------------------------------------------------------------------------------------------\n",
      "for depth = 2\n",
      "\n",
      "the misclassification error for each depth value is :  [0.544]\n",
      "--------------------------------------------------------------------------------------------------------\n",
      "for depth = 3\n",
      "\n",
      "the misclassification error for each depth value is :  [0.544 0.426]\n",
      "--------------------------------------------------------------------------------------------------------\n",
      "for depth = 4\n",
      "\n",
      "the misclassification error for each depth value is :  [0.544 0.426 0.399]\n",
      "--------------------------------------------------------------------------------------------------------\n",
      "for depth = 5\n",
      "\n",
      "the misclassification error for each depth value is :  [0.544 0.426 0.399 0.4  ]\n",
      "--------------------------------------------------------------------------------------------------------\n",
      "for depth = 6\n",
      "\n",
      "the misclassification error for each depth value is :  [0.544 0.426 0.399 0.4   0.346]\n",
      "--------------------------------------------------------------------------------------------------------\n",
      "for depth = 7\n",
      "\n",
      "the misclassification error for each depth value is :  [0.544 0.426 0.399 0.4   0.346 0.317]\n",
      "--------------------------------------------------------------------------------------------------------\n",
      "for depth = 8\n",
      "\n",
      "the misclassification error for each depth value is :  [0.544 0.426 0.399 0.4   0.346 0.317 0.28 ]\n",
      "--------------------------------------------------------------------------------------------------------\n",
      "for depth = 9\n",
      "\n",
      "the misclassification error for each depth value is :  [0.544 0.426 0.399 0.4   0.346 0.317 0.28  0.27 ]\n"
     ]
    },
    {
     "data": {
      "image/png": "[encoded data removed]",
      "text/plain": [
       "<Figure size 576x396 with 1 Axes>"
      ]
     },
     "metadata": {},
     "output_type": "display_data"
    },
    {
     "name": "stdout",
     "output_type": "stream",
     "text": [
      "\n",
      "The optimal number of depth value is 9.\n"
     ]
    }
   ],
   "source": [
    "cv_results(x_tr,y_tr)"
   ]
  },
  {
   "cell_type": "markdown",
   "metadata": {},
   "source": [
    "### Testing the model with the optimal depth value over the Test set"
   ]
  },
  {
   "cell_type": "code",
   "execution_count": 47,
   "metadata": {},
   "outputs": [
    {
     "name": "stdout",
     "output_type": "stream",
     "text": [
      "\n",
      "The model score on train set is=  0.7459319727891156\n",
      "\n",
      "The accuracy of Decision tree over test set is =  73% \n"
     ]
    }
   ],
   "source": [
    "y_pred,accuracy=tuned_test(x_tr,y_tr,x_test,y_test,d=9)"
   ]
  },
  {
   "cell_type": "markdown",
   "metadata": {},
   "source": [
    "### Confusion matrix of the above model is as follows"
   ]
  },
  {
   "cell_type": "code",
   "execution_count": 48,
   "metadata": {},
   "outputs": [
    {
     "name": "stdout",
     "output_type": "stream",
     "text": [
      "[[ 5794  2149]\n",
      " [ 9813 27244]]\n"
     ]
    },
    {
     "data": {
      "image/png": "[encoded data removed]",
      "text/plain": [
       "<Figure size 648x648 with 2 Axes>"
      ]
     },
     "metadata": {},
     "output_type": "display_data"
    },
    {
     "name": "stdout",
     "output_type": "stream",
     "text": [
      "\n",
      "+-------------------------------------------------------------+\n",
      "| The performance metrics of the above model are as follows:  |\n",
      "+---------------------------------+---------------------------+\n",
      "|             Metrics             |           Scores          |\n",
      "+---------------------------------+---------------------------+\n",
      "|     Classification_accuracy     |     73.41777777777779     |\n",
      "|       Classification_error      |     26.582222222222224    |\n",
      "|          True positive          |           27244           |\n",
      "|          False positive         |            2149           |\n",
      "|          True negative          |            5794           |\n",
      "|          False negative         |            9813           |\n",
      "|        True positive rate       |     73.51917316566372     |\n",
      "|       False negative rate       |     26.48082683433629     |\n",
      "|        True negative rate       |     72.94473120987033     |\n",
      "|       False positive rate       |     27.055268790129674    |\n",
      "|         Precision value         |     92.68873541319361     |\n",
      "|           Recall value          |     73.51917316566372     |\n",
      "|          f1_score value         |     81.99849510910461     |\n",
      "+---------------------------------+---------------------------+\n"
     ]
    }
   ],
   "source": [
    "Confusion_metric(y_test,y_pred,accuracy)"
   ]
  },
  {
   "cell_type": "markdown",
   "metadata": {},
   "source": [
    "## Observations\n",
    "<ul>\n",
    "    <li>The test accuracy with optimal depth is 73.41% which is quite low for a classification model.</li>\n",
    "    <li>This drop in accuracy is due to increase in the false negative rates which is hampering the model's performance.</li>\n",
    "    <li>But still the model is good and stable because of high True positive and negative rates as compared to the default model.</li>\n",
    "    <li>The precision and the recall values are good but the recall value is very low which is quite alarming.</li>\n",
    "    <li>Since descion trees tends to overfitt as the depth increases so this might be reason for low accuracy.</li>\n",
    "    "
   ]
  },
  {
   "cell_type": "markdown",
   "metadata": {},
   "source": [
    "## Implementing the TF-idf Vectorizeration technique"
   ]
  },
  {
   "cell_type": "code",
   "execution_count": 18,
   "metadata": {},
   "outputs": [
    {
     "name": "stdout",
     "output_type": "stream",
     "text": [
      "The shape of the X_train is:  (73500, 875598)\n",
      "The shape of the X_cv is:  (31500, 875598)\n",
      "The shape of the X_test is:  (45000, 875598)\n",
      "\n",
      "Top 25 feaures acording to the Bow score are as follows\n"
     ]
    },
    {
     "data": {
      "text/html": [
       "<div>\n",
       "<style scoped>\n",
       "    .dataframe tbody tr th:only-of-type {\n",
       "        vertical-align: middle;\n",
       "    }\n",
       "\n",
       "    .dataframe tbody tr th {\n",
       "        vertical-align: top;\n",
       "    }\n",
       "\n",
       "    .dataframe thead th {\n",
       "        text-align: right;\n",
       "    }\n",
       "</style>\n",
       "<table border=\"1\" class=\"dataframe\">\n",
       "  <thead>\n",
       "    <tr style=\"text-align: right;\">\n",
       "      <th></th>\n",
       "      <th>feature</th>\n",
       "      <th>tfidf</th>\n",
       "    </tr>\n",
       "  </thead>\n",
       "  <tbody>\n",
       "    <tr>\n",
       "      <th>0</th>\n",
       "      <td>book children</td>\n",
       "      <td>271.110679</td>\n",
       "    </tr>\n",
       "    <tr>\n",
       "      <th>1</th>\n",
       "      <td>day thirti</td>\n",
       "      <td>271.110679</td>\n",
       "    </tr>\n",
       "    <tr>\n",
       "      <th>2</th>\n",
       "      <td>song student</td>\n",
       "      <td>271.110679</td>\n",
       "    </tr>\n",
       "    <tr>\n",
       "      <th>3</th>\n",
       "      <td>children tradit</td>\n",
       "      <td>271.110679</td>\n",
       "    </tr>\n",
       "    <tr>\n",
       "      <th>4</th>\n",
       "      <td>air televis</td>\n",
       "      <td>271.110679</td>\n",
       "    </tr>\n",
       "    <tr>\n",
       "      <th>5</th>\n",
       "      <td>student teach</td>\n",
       "      <td>271.110679</td>\n",
       "    </tr>\n",
       "    <tr>\n",
       "      <th>6</th>\n",
       "      <td>child sister</td>\n",
       "      <td>271.110679</td>\n",
       "    </tr>\n",
       "    <tr>\n",
       "      <th>7</th>\n",
       "      <td>sister later</td>\n",
       "      <td>271.110679</td>\n",
       "    </tr>\n",
       "    <tr>\n",
       "      <th>8</th>\n",
       "      <td>thirti someth</td>\n",
       "      <td>271.110679</td>\n",
       "    </tr>\n",
       "    <tr>\n",
       "      <th>9</th>\n",
       "      <td>tradit live</td>\n",
       "      <td>271.110679</td>\n",
       "    </tr>\n",
       "    <tr>\n",
       "      <th>10</th>\n",
       "      <td>show air</td>\n",
       "      <td>271.110679</td>\n",
       "    </tr>\n",
       "    <tr>\n",
       "      <th>11</th>\n",
       "      <td>use seri</td>\n",
       "      <td>271.110679</td>\n",
       "    </tr>\n",
       "    <tr>\n",
       "      <th>12</th>\n",
       "      <td>preschool turn</td>\n",
       "      <td>271.110679</td>\n",
       "    </tr>\n",
       "    <tr>\n",
       "      <th>13</th>\n",
       "      <td>teach preschool</td>\n",
       "      <td>271.110679</td>\n",
       "    </tr>\n",
       "    <tr>\n",
       "      <th>14</th>\n",
       "      <td>whole school</td>\n",
       "      <td>271.110679</td>\n",
       "    </tr>\n",
       "    <tr>\n",
       "      <th>15</th>\n",
       "      <td>school purchas</td>\n",
       "      <td>271.110679</td>\n",
       "    </tr>\n",
       "    <tr>\n",
       "      <th>16</th>\n",
       "      <td>book song</td>\n",
       "      <td>271.110679</td>\n",
       "    </tr>\n",
       "    <tr>\n",
       "      <th>17</th>\n",
       "      <td>seri book</td>\n",
       "      <td>255.991893</td>\n",
       "    </tr>\n",
       "    <tr>\n",
       "      <th>18</th>\n",
       "      <td>ago child</td>\n",
       "      <td>224.977363</td>\n",
       "    </tr>\n",
       "    <tr>\n",
       "      <th>19</th>\n",
       "      <td>televis year</td>\n",
       "      <td>218.374631</td>\n",
       "    </tr>\n",
       "    <tr>\n",
       "      <th>20</th>\n",
       "      <td>turn whole</td>\n",
       "      <td>192.496849</td>\n",
       "    </tr>\n",
       "    <tr>\n",
       "      <th>21</th>\n",
       "      <td>later bought</td>\n",
       "      <td>160.642759</td>\n",
       "    </tr>\n",
       "    <tr>\n",
       "      <th>22</th>\n",
       "      <td>along book</td>\n",
       "      <td>144.295057</td>\n",
       "    </tr>\n",
       "    <tr>\n",
       "      <th>23</th>\n",
       "      <td>see show</td>\n",
       "      <td>126.218655</td>\n",
       "    </tr>\n",
       "    <tr>\n",
       "      <th>24</th>\n",
       "      <td>purchas along</td>\n",
       "      <td>111.273414</td>\n",
       "    </tr>\n",
       "  </tbody>\n",
       "</table>\n",
       "</div>"
      ],
      "text/plain": [
       "            feature       tfidf\n",
       "0     book children  271.110679\n",
       "1        day thirti  271.110679\n",
       "2      song student  271.110679\n",
       "3   children tradit  271.110679\n",
       "4       air televis  271.110679\n",
       "5     student teach  271.110679\n",
       "6      child sister  271.110679\n",
       "7      sister later  271.110679\n",
       "8     thirti someth  271.110679\n",
       "9       tradit live  271.110679\n",
       "10         show air  271.110679\n",
       "11         use seri  271.110679\n",
       "12   preschool turn  271.110679\n",
       "13  teach preschool  271.110679\n",
       "14     whole school  271.110679\n",
       "15   school purchas  271.110679\n",
       "16        book song  271.110679\n",
       "17        seri book  255.991893\n",
       "18        ago child  224.977363\n",
       "19     televis year  218.374631\n",
       "20       turn whole  192.496849\n",
       "21     later bought  160.642759\n",
       "22       along book  144.295057\n",
       "23         see show  126.218655\n",
       "24    purchas along  111.273414"
      ]
     },
     "execution_count": 18,
     "metadata": {},
     "output_type": "execute_result"
    }
   ],
   "source": [
    "#Initializing the count vectorizer \n",
    "TF_vect=TfidfVectorizer(ngram_range=(1,2))\n",
    "\n",
    "#vectorizing the X_train set\n",
    "TF_count,X_tra=vec_train(TF_vect,X_tr[\"CleanedText\"])\n",
    "\n",
    "print(\"The shape of the X_train is: \",X_tra.shape)\n",
    "\n",
    "\n",
    "#Vectgorizing the X_crossvalidation set\n",
    "X_cv=vec_cv(TF_count,X_cv[\"CleanedText\"])\n",
    "print(\"The shape of the X_cv is: \",X_cv.shape)\n",
    "\n",
    "\n",
    "#Vectorizing the X_test set\n",
    "X_tes=vec_test(TF_count,X_test[\"CleanedText\"])\n",
    "print(\"The shape of the X_test is: \",X_tes.shape)\n",
    "\n",
    "\n",
    "#Printing the total length of the features\n",
    "print(\"\\nTop 25 feaures acording to the Bow score are as follows\")\n",
    "Features = TF_vect.get_feature_names()\n",
    "len(Features)\n",
    "\n",
    "\n",
    "top_tfidf = top_tfidf_feats(\"tfidf\",X_tra[1,:].toarray()[0],Features,25)\n",
    "top_tfidf\n",
    "\n",
    "\n"
   ]
  },
  {
   "cell_type": "markdown",
   "metadata": {},
   "source": [
    "### Displaying the frequency of the top 50 Tf-idf vectorized tokens"
   ]
  },
  {
   "cell_type": "code",
   "execution_count": 19,
   "metadata": {},
   "outputs": [
    {
     "data": {
      "image/png": "[encoded data removed]",
      "text/plain": [
       "<Figure size 576x396 with 1 Axes>"
      ]
     },
     "metadata": {},
     "output_type": "display_data"
    }
   ],
   "source": [
    "display_token(TF_vect,X_tr[\"CleanedText\"])"
   ]
  },
  {
   "cell_type": "markdown",
   "metadata": {},
   "source": [
    "### Training the above model over the cross-validated data"
   ]
  },
  {
   "cell_type": "code",
   "execution_count": 21,
   "metadata": {},
   "outputs": [
    {
     "name": "stdout",
     "output_type": "stream",
     "text": [
      "\n",
      "The model score on train set is=  1.0\n",
      "\n",
      "The accuracy of Decision tree over cross_val set is =  82% \n",
      "Wall time: 2min 41s\n"
     ]
    }
   ],
   "source": [
    "%%time\n",
    "\n",
    "Pred,Acc=train(X_tra,y_tr,X_cv,y_cv)"
   ]
  },
  {
   "cell_type": "markdown",
   "metadata": {},
   "source": [
    "### Confusion matrix of the above model is as follows"
   ]
  },
  {
   "cell_type": "code",
   "execution_count": 22,
   "metadata": {},
   "outputs": [
    {
     "name": "stdout",
     "output_type": "stream",
     "text": [
      "[[ 2579  2806]\n",
      " [ 2777 23338]]\n"
     ]
    },
    {
     "data": {
      "image/png": "[encoded data removed]",
      "text/plain": [
       "<Figure size 648x648 with 2 Axes>"
      ]
     },
     "metadata": {},
     "output_type": "display_data"
    },
    {
     "name": "stdout",
     "output_type": "stream",
     "text": [
      "\n",
      "+-------------------------------------------------------------+\n",
      "| The performance metrics of the above model are as follows:  |\n",
      "+---------------------------------+---------------------------+\n",
      "|             Metrics             |           Scores          |\n",
      "+---------------------------------+---------------------------+\n",
      "|     Classification_accuracy     |     82.27619047619048     |\n",
      "|       Classification_error      |     17.723809523809525    |\n",
      "|          True positive          |           23338           |\n",
      "|          False positive         |            2806           |\n",
      "|          True negative          |            2579           |\n",
      "|          False negative         |            2777           |\n",
      "|        True positive rate       |     89.36626459888953     |\n",
      "|       False negative rate       |     10.633735401110473    |\n",
      "|        True negative rate       |     47.89229340761374     |\n",
      "|       False positive rate       |     52.10770659238626     |\n",
      "|         Precision value         |      89.2671358629131     |\n",
      "|           Recall value          |     89.36626459888953     |\n",
      "|          f1_score value         |     89.31667272622896     |\n",
      "+---------------------------------+---------------------------+\n"
     ]
    }
   ],
   "source": [
    "Confusion_metric(y_cv,Pred,Acc)"
   ]
  },
  {
   "cell_type": "markdown",
   "metadata": {},
   "source": [
    "## Observations\n",
    "<ul>\n",
    "   <li>The train accuracy of the above model is 82.276% but is quite misleading which can be observed by analyzing the performance metrics of the confusion matrix.</li>\n",
    "   <li>The False positive rate and the false negative rate is quite high which is not good for an classification model.</li>\n",
    "   <li>The True negative rate is quite low which is very bad as the negative reviews are not properly classified and the model is facing a bias problem which can be improved after tuning the hyperparameters.</li>\n",
    "    "
   ]
  },
  {
   "cell_type": "markdown",
   "metadata": {},
   "source": [
    "### Tuning the Hyper-parameters by using 10k-fold Cross validation technique"
   ]
  },
  {
   "cell_type": "code",
   "execution_count": 22,
   "metadata": {},
   "outputs": [
    {
     "name": "stdout",
     "output_type": "stream",
     "text": [
      "--------------------------------------------------------------------------------------------------------\n",
      "for depth = 2\n",
      "\n",
      "the misclassification error for each depth value is :  [0.565]\n",
      "--------------------------------------------------------------------------------------------------------\n",
      "for depth = 3\n",
      "\n",
      "the misclassification error for each depth value is :  [0.565 0.467]\n",
      "--------------------------------------------------------------------------------------------------------\n",
      "for depth = 4\n",
      "\n",
      "the misclassification error for each depth value is :  [0.565 0.467 0.428]\n",
      "--------------------------------------------------------------------------------------------------------\n",
      "for depth = 5\n",
      "\n",
      "the misclassification error for each depth value is :  [0.565 0.467 0.428 0.423]\n",
      "--------------------------------------------------------------------------------------------------------\n",
      "for depth = 6\n",
      "\n",
      "the misclassification error for each depth value is :  [0.565 0.467 0.428 0.423 0.397]\n",
      "--------------------------------------------------------------------------------------------------------\n",
      "for depth = 7\n",
      "\n",
      "the misclassification error for each depth value is :  [0.565 0.467 0.428 0.423 0.397 0.349]\n",
      "--------------------------------------------------------------------------------------------------------\n",
      "for depth = 8\n",
      "\n",
      "the misclassification error for each depth value is :  [0.565 0.467 0.428 0.423 0.397 0.349 0.34 ]\n",
      "--------------------------------------------------------------------------------------------------------\n",
      "for depth = 9\n",
      "\n",
      "the misclassification error for each depth value is :  [0.565 0.467 0.428 0.423 0.397 0.349 0.34  0.315]\n"
     ]
    },
    {
     "data": {
      "image/png": "[encoded data removed]",
      "text/plain": [
       "<Figure size 576x396 with 1 Axes>"
      ]
     },
     "metadata": {},
     "output_type": "display_data"
    },
    {
     "name": "stdout",
     "output_type": "stream",
     "text": [
      "\n",
      "The optimal number of depth value is 9.\n"
     ]
    }
   ],
   "source": [
    "\n",
    "cv_results(X_tra,y_tr)"
   ]
  },
  {
   "cell_type": "markdown",
   "metadata": {},
   "source": [
    "### Training the Decision tree classiffier model with optimal depth value"
   ]
  },
  {
   "cell_type": "code",
   "execution_count": 23,
   "metadata": {},
   "outputs": [
    {
     "name": "stdout",
     "output_type": "stream",
     "text": [
      "\n",
      "The model score on train set is=  0.6937687074829932\n",
      "\n",
      "The accuracy of Decision tree over test set is =  69% \n"
     ]
    }
   ],
   "source": [
    "y_Pred,accur=tuned_test(X_tra,y_tr,X_tes,y_test,9)"
   ]
  },
  {
   "cell_type": "code",
   "execution_count": 24,
   "metadata": {},
   "outputs": [
    {
     "name": "stdout",
     "output_type": "stream",
     "text": [
      "[[ 6265  1678]\n",
      " [11838 25219]]\n"
     ]
    },
    {
     "data": {
      "image/png": "[encoded data removed]",
      "text/plain": [
       "<Figure size 648x648 with 2 Axes>"
      ]
     },
     "metadata": {},
     "output_type": "display_data"
    },
    {
     "name": "stdout",
     "output_type": "stream",
     "text": [
      "\n",
      "+-------------------------------------------------------------+\n",
      "| The performance metrics of the above model are as follows:  |\n",
      "+---------------------------------+---------------------------+\n",
      "|             Metrics             |           Scores          |\n",
      "+---------------------------------+---------------------------+\n",
      "|     Classification_accuracy     |     69.96444444444444     |\n",
      "|       Classification_error      |     30.035555555555554    |\n",
      "|          True positive          |           25219           |\n",
      "|          False positive         |            1678           |\n",
      "|          True negative          |            6265           |\n",
      "|          False negative         |           11838           |\n",
      "|        True positive rate       |     68.05461856059584     |\n",
      "|       False negative rate       |     31.945381439404162    |\n",
      "|        True negative rate       |     78.87448067480801     |\n",
      "|       False positive rate       |     21.125519325191995    |\n",
      "|         Precision value         |     93.76138602818158     |\n",
      "|           Recall value          |     68.05461856059584     |\n",
      "|          f1_score value         |     78.86605998061107     |\n",
      "+---------------------------------+---------------------------+\n"
     ]
    }
   ],
   "source": [
    "Confusion_metric(y_test,y_Pred,accur)"
   ]
  },
  {
   "cell_type": "markdown",
   "metadata": {},
   "source": [
    "## Observations\n",
    "<ul>\n",
    "    <li>The test accuracy with optimal depth is 68.96% which is quite low for a classification model.</li>\n",
    "    <li>This drop in accuracy is due to increase in the false negative rates and the False positive rates which is hampering the model's performance.</li>\n",
    "    <li>But still the model is good and stable because of high True positive and negative rates as compared to the default model.</li>\n",
    "    <li>The precision and the F1_scores values are good but the recall value is very low which is quite alarming.</li>\n",
    "    <li>Since descion trees tends to overfitt as the depth increases so this might be reason for low accuracy because here after tuning the depth parameter the optimal value was 9.</li>\n",
    "    <li>Let's see the performance of the model might increase after changing the vectorizers.</li>"
   ]
  },
  {
   "cell_type": "markdown",
   "metadata": {},
   "source": [
    "## Implementing the Average word2vectorization technique"
   ]
  },
  {
   "cell_type": "code",
   "execution_count": 25,
   "metadata": {},
   "outputs": [],
   "source": [
    "#code for finding the average word2vec\n",
    "\n",
    "#Utility function for implementing the Average-word2vec-vectorization techniques\n",
    "\n",
    "import gensim\n",
    "from gensim.models import word2vec\n",
    "from gensim.models import KeyedVectors\n",
    "\n",
    "def Average_word2Vec (X_tr,X_test):\n",
    "    \n",
    "# Train our own Word2Vec model using text corpus\n",
    "    Train_sentence_list=[]\n",
    "    for sentence in X_tr:\n",
    "        Train_sentence_list.append(sentence.split())\n",
    "    \n",
    "    Test_sentence_list=[]\n",
    "    for sentence in X_test:\n",
    "        Test_sentence_list.append(sentence.split())\n",
    "   \n",
    "    print(\"length of train list set is as follows: \",len(Train_sentence_list))\n",
    "    print(\"length of test list set is as follows : \",len(Test_sentence_list))\n",
    "    print(\"*\"*100)\n",
    "\n",
    "# Generate model and train our model on train data\n",
    "    w2v_model=w2v_model_train =gensim.models.Word2Vec(Train_sentence_list,min_count=5,size=50, workers=6)\n",
    "\n",
    "    # List of word in vocabulary \n",
    "    w2v_words = list(w2v_model_train.wv.vocab)\n",
    "    print(\"length of the W2v vocabulary is : \",len(w2v_words))\n",
    "\n",
    "#Finding the average word2vec over the train set\n",
    "    train_list = []\n",
    "    for sentence in Train_sentence_list:\n",
    "        word_2_vec = np.zeros(50)\n",
    "        cnt_words = 0\n",
    "        for word in sentence:\n",
    "            if word in w2v_words:\n",
    "                vec = w2v_model.wv[word]\n",
    "                word_2_vec += vec\n",
    "                cnt_words += 1\n",
    "        if cnt_words != 0 :\n",
    "            word_2_vec /= cnt_words\n",
    "        train_list.append(word_2_vec)\n",
    "    \n",
    " #Finding the average word2vec over the test set    \n",
    "    test_list = []\n",
    "    for sentence in Test_sentence_list:\n",
    "        word_2_vec = np.zeros(50)\n",
    "        cnt_words = 0\n",
    "        for word in sentence:\n",
    "            if word in w2v_words:\n",
    "                vec = w2v_model.wv[word]\n",
    "                word_2_vec += vec\n",
    "                cnt_words += 1\n",
    "        if cnt_words != 0 :\n",
    "            word_2_vec /= cnt_words\n",
    "        test_list.append(word_2_vec)\n",
    "    \n",
    "    \n",
    "    print(\"The size of the trained average word2vec is :\",len(train_list))\n",
    "    print(\"The dimensions of average word2vec is :\",len(train_list[0]))\n",
    "    print()\n",
    "    print(\"The size of the test average word2vec is :\",len(test_list))\n",
    "    print(\"The dimensions of the test average word2vec is :\",len(test_list[0]))\n",
    "    \n",
    "    return Train_sentence_list,Test_sentence_list,w2v_model,w2v_words,train_list,test_list\n",
    "\n",
    "\n"
   ]
  },
  {
   "cell_type": "markdown",
   "metadata": {},
   "source": [
    "### Preparing the Average word2vec data for further use "
   ]
  },
  {
   "cell_type": "code",
   "execution_count": 26,
   "metadata": {},
   "outputs": [
    {
     "name": "stdout",
     "output_type": "stream",
     "text": [
      "length of train list set is as follows:  73500\n",
      "length of test list set is as follows :  45000\n",
      "****************************************************************************************************\n",
      "length of the W2v vocabulary is :  11158\n",
      "The size of the trained average word2vec is : 73500\n",
      "The dimensions of average word2vec is : 50\n",
      "\n",
      "The size of the test average word2vec is : 45000\n",
      "The dimensions of the test average word2vec is : 50\n"
     ]
    }
   ],
   "source": [
    "Train=X_tr[\"CleanedText\"]\n",
    "Test=X_test[\"CleanedText\"]\n",
    "\n",
    "tr_list,tes_list,model,words,trw2v,testw2v=Average_word2Vec(Train,Test)"
   ]
  },
  {
   "cell_type": "markdown",
   "metadata": {},
   "source": [
    "### Training the Decision Tree classiffier with default hyperparameters"
   ]
  },
  {
   "cell_type": "code",
   "execution_count": 28,
   "metadata": {},
   "outputs": [
    {
     "name": "stdout",
     "output_type": "stream",
     "text": [
      "\n",
      "The model score on train set is=  1.0\n",
      "\n",
      "The accuracy of Decision tree over cross_val set is =  81% \n",
      "Wall time: 5.1 s\n"
     ]
    }
   ],
   "source": [
    "%%time\n",
    "w2v_pred,w2v_acc=train(trw2v,y_tr,testw2v,y_test)"
   ]
  },
  {
   "cell_type": "code",
   "execution_count": 29,
   "metadata": {},
   "outputs": [
    {
     "name": "stdout",
     "output_type": "stream",
     "text": [
      "[[ 3313  4630]\n",
      " [ 3746 33311]]\n"
     ]
    },
    {
     "data": {
      "image/png": "[encoded data removed]",
      "text/plain": [
       "<Figure size 648x648 with 2 Axes>"
      ]
     },
     "metadata": {},
     "output_type": "display_data"
    },
    {
     "name": "stdout",
     "output_type": "stream",
     "text": [
      "\n",
      "+-------------------------------------------------------------+\n",
      "| The performance metrics of the above model are as follows:  |\n",
      "+---------------------------------+---------------------------+\n",
      "|             Metrics             |           Scores          |\n",
      "+---------------------------------+---------------------------+\n",
      "|     Classification_accuracy     |     81.38666666666666     |\n",
      "|       Classification_error      |     18.613333333333333    |\n",
      "|          True positive          |           33311           |\n",
      "|          False positive         |            4630           |\n",
      "|          True negative          |            3313           |\n",
      "|          False negative         |            3746           |\n",
      "|        True positive rate       |     89.89124861699544     |\n",
      "|       False negative rate       |     10.108751383004561    |\n",
      "|        True negative rate       |     41.70968148054891     |\n",
      "|       False positive rate       |     58.29031851945109     |\n",
      "|         Precision value         |     87.79684246593395     |\n",
      "|           Recall value          |     89.89124861699544     |\n",
      "|          f1_score value         |     88.83170217872477     |\n",
      "+---------------------------------+---------------------------+\n"
     ]
    }
   ],
   "source": [
    "Confusion_metric(y_test,w2v_pred,w2v_acc)"
   ]
  },
  {
   "cell_type": "markdown",
   "metadata": {},
   "source": [
    "## Observations\n",
    "<ul>\n",
    "   <li>The train accuracy of the above model is 81.36% but is quite misleading which can be observed by analyzing the performance metrics of the confusion matrix.</li>\n",
    "   <li>The False positive rate and the false negative rate is quite high which is not good for an classification model.</li>\n",
    "   <li>The True negative rate is quite low which is very bad as the negative reviews are not properly classified and the model is facing a bias problem which can be improved after tuning the hyperparameters.</li>\n",
    " "
   ]
  },
  {
   "cell_type": "markdown",
   "metadata": {},
   "source": [
    "### Tuning the hyperparameters by using the 10k-fold cross validation technique"
   ]
  },
  {
   "cell_type": "code",
   "execution_count": 30,
   "metadata": {},
   "outputs": [
    {
     "name": "stdout",
     "output_type": "stream",
     "text": [
      "--------------------------------------------------------------------------------------------------------\n",
      "for depth = 2\n",
      "\n",
      "the misclassification error for each depth value is :  [0.422]\n",
      "--------------------------------------------------------------------------------------------------------\n",
      "for depth = 3\n",
      "\n",
      "the misclassification error for each depth value is :  [0.422 0.265]\n",
      "--------------------------------------------------------------------------------------------------------\n",
      "for depth = 4\n",
      "\n",
      "the misclassification error for each depth value is :  [0.422 0.265 0.289]\n",
      "--------------------------------------------------------------------------------------------------------\n",
      "for depth = 5\n",
      "\n",
      "the misclassification error for each depth value is :  [0.422 0.265 0.289 0.29 ]\n",
      "--------------------------------------------------------------------------------------------------------\n",
      "for depth = 6\n",
      "\n",
      "the misclassification error for each depth value is :  [0.422 0.265 0.289 0.29  0.269]\n",
      "--------------------------------------------------------------------------------------------------------\n",
      "for depth = 7\n",
      "\n",
      "the misclassification error for each depth value is :  [0.422 0.265 0.289 0.29  0.269 0.253]\n",
      "--------------------------------------------------------------------------------------------------------\n",
      "for depth = 8\n",
      "\n",
      "the misclassification error for each depth value is :  [0.422 0.265 0.289 0.29  0.269 0.253 0.243]\n",
      "--------------------------------------------------------------------------------------------------------\n",
      "for depth = 9\n",
      "\n",
      "the misclassification error for each depth value is :  [0.422 0.265 0.289 0.29  0.269 0.253 0.243 0.239]\n"
     ]
    },
    {
     "data": {
      "image/png": "[encoded data removed]",
      "text/plain": [
       "<Figure size 576x396 with 1 Axes>"
      ]
     },
     "metadata": {},
     "output_type": "display_data"
    },
    {
     "name": "stdout",
     "output_type": "stream",
     "text": [
      "\n",
      "The optimal number of depth value is 9.\n"
     ]
    }
   ],
   "source": [
    "cv_results(trw2v,y_tr)"
   ]
  },
  {
   "cell_type": "markdown",
   "metadata": {},
   "source": [
    "### Testing the model over the Test set by using the optimal depth value "
   ]
  },
  {
   "cell_type": "code",
   "execution_count": 31,
   "metadata": {},
   "outputs": [
    {
     "name": "stdout",
     "output_type": "stream",
     "text": [
      "\n",
      "The model score on train set is=  0.801795918367347\n",
      "\n",
      "The accuracy of Decision tree over test set is =  74% \n"
     ]
    }
   ],
   "source": [
    "y_Predi,accura=tuned_test(trw2v,y_tr,testw2v,y_test,9)"
   ]
  },
  {
   "cell_type": "markdown",
   "metadata": {},
   "source": [
    "### Confusion matrix of the above model is as follows   "
   ]
  },
  {
   "cell_type": "code",
   "execution_count": 32,
   "metadata": {},
   "outputs": [
    {
     "name": "stdout",
     "output_type": "stream",
     "text": [
      "[[ 5851  2092]\n",
      " [ 9581 27476]]\n"
     ]
    },
    {
     "data": {
      "image/png": "[encoded data removed]",
      "text/plain": [
       "<Figure size 648x648 with 2 Axes>"
      ]
     },
     "metadata": {},
     "output_type": "display_data"
    },
    {
     "name": "stdout",
     "output_type": "stream",
     "text": [
      "\n",
      "+-------------------------------------------------------------+\n",
      "| The performance metrics of the above model are as follows:  |\n",
      "+---------------------------------+---------------------------+\n",
      "|             Metrics             |           Scores          |\n",
      "+---------------------------------+---------------------------+\n",
      "|     Classification_accuracy     |           74.06           |\n",
      "|       Classification_error      |           25.94           |\n",
      "|          True positive          |           27476           |\n",
      "|          False positive         |            2092           |\n",
      "|          True negative          |            5851           |\n",
      "|          False negative         |            9581           |\n",
      "|        True positive rate       |     74.14523571794803     |\n",
      "|       False negative rate       |     25.854764282051974    |\n",
      "|        True negative rate       |      73.6623442024424     |\n",
      "|       False positive rate       |     26.337655797557595    |\n",
      "|         Precision value         |     92.92478354978356     |\n",
      "|           Recall value          |     74.14523571794803     |\n",
      "|          f1_score value         |      82.4795497185741     |\n",
      "+---------------------------------+---------------------------+\n"
     ]
    }
   ],
   "source": [
    "Confusion_metric(y_test,y_Predi,accura)"
   ]
  },
  {
   "cell_type": "markdown",
   "metadata": {},
   "source": [
    "### Observations\n",
    "<ul>\n",
    "    <li> The Test accuracy of the model is 74.06% which is low than default model but it is sensible as the diagonal element values are quite high as compared to other elements.</li>\n",
    "    <li>The False positive and the negative rates are 25% and 26% which is considerable and the main reason of decreasing the accuracy so here the model is little overfitting.</li>\n",
    "    <li>The model here is doing quite a good job in classiffying the model properly as compared to the previous vectorizers.\n",
    "    <li>So by Observing the the confusion matrix and the performance of the above model I can conclude that the model is quite stable and sensible in classifying the reviews properly.</li>\n",
    "    <li>So let's try the Tf-idf weighted word2vec vectorization technique and hope for the best results.</li>"
   ]
  },
  {
   "cell_type": "markdown",
   "metadata": {},
   "source": [
    "## Implementing the Tf-IDF Weighted word2vec Vectorization technique  "
   ]
  },
  {
   "cell_type": "code",
   "execution_count": 33,
   "metadata": {},
   "outputs": [],
   "source": [
    "\n",
    "def Tf_idf_vector( X_tr,train_list,test_list,model,words):\n",
    "    \n",
    "    Tfidf_vector=TfidfVectorizer()\n",
    "    Tf_train=Tfidf_vector.fit_transform( X_tr)\n",
    "    dictionary = dict(zip(Tfidf_vector.get_feature_names(), list(Tfidf_vector.idf_)))\n",
    "   \n",
    "    Train_sentence_list=train_list\n",
    "    Test_sentence_list=test_list\n",
    "    w2v_words=words\n",
    "    w2v_model= model\n",
    "    \n",
    "    train_list_vector=[]\n",
    "    row=0\n",
    "    for sentence in  Train_sentence_list:\n",
    "        word_2_vec=np.zeros(50)\n",
    "        weight_tfidf_sum=0\n",
    "        for word in sentence:\n",
    "            if word in w2v_words:\n",
    "                vec=w2v_model.wv[word]\n",
    "            #tfidf_value=Tf_train[row,Dimension.index(word)]\n",
    "                tf_idf = dictionary[word]*sentence.count(word)\n",
    "                word_2_vec +=(vec *tf_idf)\n",
    "                weight_tfidf_sum +=tf_idf\n",
    "        if weight_tfidf_sum !=0:\n",
    "            word_2_vec /=weight_tfidf_sum\n",
    "        train_list_vector.append(word_2_vec)\n",
    "        row +=1\n",
    "    print(len(train_list_vector))\n",
    "    print(len(train_list_vector[0]))\n",
    "\n",
    "#Code for preapring the test_list_vector    \n",
    "    TEST_LIST_VECTOR=[]\n",
    "    Row=0\n",
    "    for sentence in  Test_sentence_list:\n",
    "        word_2_vec=np.zeros(50)\n",
    "        weight_tf_sum=0\n",
    "        for word in sentence:\n",
    "            if word in w2v_words:\n",
    "                vec=w2v_model.wv[word]\n",
    "            #tfidf_value=Tf_test[Row,Dimension.index(word)]\n",
    "                tf_idf = dictionary[word]*sentence.count(word)\n",
    "                word_2_vec += (vec* tf_idf)\n",
    "                weight_tf_sum += tf_idf\n",
    "        if weight_tf_sum !=0:\n",
    "            word_2_vec /=weight_tf_sum\n",
    "        TEST_LIST_VECTOR.append(word_2_vec)\n",
    "        row += 1\n",
    "    print(len(TEST_LIST_VECTOR))\n",
    "    print(len(TEST_LIST_VECTOR[0]))\n",
    "\n",
    "    return train_list_vector,TEST_LIST_VECTOR\n",
    "\n"
   ]
  },
  {
   "cell_type": "markdown",
   "metadata": {},
   "source": [
    "### Preparing the TF-IDF weighted vectorized data for the further implementations"
   ]
  },
  {
   "cell_type": "code",
   "execution_count": 35,
   "metadata": {},
   "outputs": [
    {
     "name": "stdout",
     "output_type": "stream",
     "text": [
      "73500\n",
      "50\n",
      "45000\n",
      "50\n"
     ]
    }
   ],
   "source": [
    "Xtrain=X_tr[\"CleanedText\"]\n",
    "\n",
    "tfidf_tr,tfidf_test=Tf_idf_vector(Xtrain,tr_list,tes_list,model,words)"
   ]
  },
  {
   "cell_type": "markdown",
   "metadata": {},
   "source": [
    "### Training the Decision tree classiffier model by using the default parameters"
   ]
  },
  {
   "cell_type": "code",
   "execution_count": 38,
   "metadata": {},
   "outputs": [
    {
     "name": "stdout",
     "output_type": "stream",
     "text": [
      "\n",
      "The model score on train set is=  1.0\n",
      "\n",
      "The accuracy of Decision tree over cross_val set is =  79% \n"
     ]
    }
   ],
   "source": [
    "TF_pred,TF_acc=train(tfidf_tr,y_tr,tfidf_test,y_test)"
   ]
  },
  {
   "cell_type": "markdown",
   "metadata": {},
   "source": [
    "### Confusion matrix of the above model is as follows"
   ]
  },
  {
   "cell_type": "code",
   "execution_count": 39,
   "metadata": {},
   "outputs": [
    {
     "name": "stdout",
     "output_type": "stream",
     "text": [
      "[[ 2905  5038]\n",
      " [ 4148 32909]]\n"
     ]
    },
    {
     "data": {
      "image/png": "[encoded data removed]",
      "text/plain": [
       "<Figure size 648x648 with 2 Axes>"
      ]
     },
     "metadata": {},
     "output_type": "display_data"
    },
    {
     "name": "stdout",
     "output_type": "stream",
     "text": [
      "\n",
      "+-------------------------------------------------------------+\n",
      "| The performance metrics of the above model are as follows:  |\n",
      "+---------------------------------+---------------------------+\n",
      "|             Metrics             |           Scores          |\n",
      "+---------------------------------+---------------------------+\n",
      "|     Classification_accuracy     |     79.58666666666666     |\n",
      "|       Classification_error      |     20.413333333333334    |\n",
      "|          True positive          |           32909           |\n",
      "|          False positive         |            5038           |\n",
      "|          True negative          |            2905           |\n",
      "|          False negative         |            4148           |\n",
      "|        True positive rate       |     88.80643333243383     |\n",
      "|       False negative rate       |     11.193566667566182    |\n",
      "|        True negative rate       |     36.57308321792774     |\n",
      "|       False positive rate       |     63.42691678207226     |\n",
      "|         Precision value         |     86.72358816243708     |\n",
      "|           Recall value          |     88.80643333243383     |\n",
      "|          f1_score value         |     87.75265319182976     |\n",
      "+---------------------------------+---------------------------+\n"
     ]
    }
   ],
   "source": [
    "Confusion_metric(y_test,TF_pred,TF_acc) "
   ]
  },
  {
   "cell_type": "markdown",
   "metadata": {},
   "source": [
    "### Tuning the hyperaprameters by using 10k-fold Cross-validation technique"
   ]
  },
  {
   "cell_type": "code",
   "execution_count": 40,
   "metadata": {},
   "outputs": [
    {
     "name": "stdout",
     "output_type": "stream",
     "text": [
      "--------------------------------------------------------------------------------------------------------\n",
      "for depth = 2\n",
      "\n",
      "the misclassification error for each depth value is :  [0.42]\n",
      "--------------------------------------------------------------------------------------------------------\n",
      "for depth = 3\n",
      "\n",
      "the misclassification error for each depth value is :  [0.42  0.298]\n",
      "--------------------------------------------------------------------------------------------------------\n",
      "for depth = 4\n",
      "\n",
      "the misclassification error for each depth value is :  [0.42  0.298 0.28 ]\n",
      "--------------------------------------------------------------------------------------------------------\n",
      "for depth = 5\n",
      "\n",
      "the misclassification error for each depth value is :  [0.42  0.298 0.28  0.289]\n",
      "--------------------------------------------------------------------------------------------------------\n",
      "for depth = 6\n",
      "\n",
      "the misclassification error for each depth value is :  [0.42  0.298 0.28  0.289 0.294]\n",
      "--------------------------------------------------------------------------------------------------------\n",
      "for depth = 7\n",
      "\n",
      "the misclassification error for each depth value is :  [0.42  0.298 0.28  0.289 0.294 0.29 ]\n",
      "--------------------------------------------------------------------------------------------------------\n",
      "for depth = 8\n",
      "\n",
      "the misclassification error for each depth value is :  [0.42  0.298 0.28  0.289 0.294 0.29  0.28 ]\n",
      "--------------------------------------------------------------------------------------------------------\n",
      "for depth = 9\n",
      "\n",
      "the misclassification error for each depth value is :  [0.42  0.298 0.28  0.289 0.294 0.29  0.28  0.273]\n"
     ]
    },
    {
     "data": {
      "image/png": "[encoded data removed]",
      "text/plain": [
       "<Figure size 576x396 with 1 Axes>"
      ]
     },
     "metadata": {},
     "output_type": "display_data"
    },
    {
     "name": "stdout",
     "output_type": "stream",
     "text": [
      "\n",
      "The optimal number of depth value is 9.\n"
     ]
    }
   ],
   "source": [
    "cv_results(tfidf_tr,y_tr)"
   ]
  },
  {
   "cell_type": "markdown",
   "metadata": {},
   "source": [
    "### Testing the Decision tree model with optimal hyperparmeters"
   ]
  },
  {
   "cell_type": "code",
   "execution_count": 41,
   "metadata": {},
   "outputs": [
    {
     "name": "stdout",
     "output_type": "stream",
     "text": [
      "\n",
      "The model score on train set is=  0.7780136054421769\n",
      "\n",
      "The accuracy of Decision tree over test set is =  72% \n"
     ]
    }
   ],
   "source": [
    "tfy_Predi,tfaccura=tuned_test(tfidf_tr,y_tr,tfidf_test,y_test,9)"
   ]
  },
  {
   "cell_type": "markdown",
   "metadata": {},
   "source": [
    "### Confusion matrix of the model "
   ]
  },
  {
   "cell_type": "code",
   "execution_count": 42,
   "metadata": {},
   "outputs": [
    {
     "name": "stdout",
     "output_type": "stream",
     "text": [
      "[[ 5580  2363]\n",
      " [10136 26921]]\n"
     ]
    },
    {
     "data": {
      "image/png": "[encoded data removed]",
      "text/plain": [
       "<Figure size 648x648 with 2 Axes>"
      ]
     },
     "metadata": {},
     "output_type": "display_data"
    },
    {
     "name": "stdout",
     "output_type": "stream",
     "text": [
      "\n",
      "+-------------------------------------------------------------+\n",
      "| The performance metrics of the above model are as follows:  |\n",
      "+---------------------------------+---------------------------+\n",
      "|             Metrics             |           Scores          |\n",
      "+---------------------------------+---------------------------+\n",
      "|     Classification_accuracy     |     72.22444444444444     |\n",
      "|       Classification_error      |     27.775555555555552    |\n",
      "|          True positive          |           26921           |\n",
      "|          False positive         |            2363           |\n",
      "|          True negative          |            5580           |\n",
      "|          False negative         |           10136           |\n",
      "|        True positive rate       |     72.64754297433683     |\n",
      "|       False negative rate       |     27.352457025663167    |\n",
      "|        True negative rate       |     70.25053506231902     |\n",
      "|       False positive rate       |     29.749464937680976    |\n",
      "|         Precision value         |     91.93074716568775     |\n",
      "|           Recall value          |     72.64754297433683     |\n",
      "|          f1_score value         |     81.15946398154986     |\n",
      "+---------------------------------+---------------------------+\n"
     ]
    }
   ],
   "source": [
    "Confusion_metric(y_test,tfy_Predi,tfaccura) "
   ]
  },
  {
   "cell_type": "markdown",
   "metadata": {},
   "source": [
    "### Observations\n",
    "<ul>\n",
    "    <li> The Test accuracy of the model is 72.22% which is low than previous Avg-w2v-model but it is sensible as the diagonal element values are quite high as compared to other elements.</li>\n",
    "    <li>The False positive and the negative rates are 29% and 27% which is considerable and the main reason of decreasing the accuracy so here the model is little overfitting.</li>\n",
    "    <li>The model here is doing quite a good job in classiffying the model properly as compared to the previous vectorizers.\n",
    "    <li>So by Observing the the confusion matrix and the performance of the above model I can conclude that the model is quite stable and sensible in classifying the reviews properly.</li>\n",
    "    "
   ]
  },
  {
   "cell_type": "markdown",
   "metadata": {},
   "source": [
    "# <center>Conclusion</center>\n",
    "___"
   ]
  },
  {
   "cell_type": "code",
   "execution_count": 52,
   "metadata": {},
   "outputs": [
    {
     "name": "stdout",
     "output_type": "stream",
     "text": [
      "\n",
      "+-------------------------------------------------------------------------------------+\n",
      "|               The comparisons of all the vectorizers are as follows:                |\n",
      "+--------------------------+---------------------------+-------------------+----------+\n",
      "|        Vectorizer        |         Algorithm         |       Scores      |  Status  |\n",
      "+--------------------------+---------------------------+-------------------+----------+\n",
      "|       Bag-Of-Words       | Decision-Tree-Classiffier | 73.41777777777779 | Overfitt |\n",
      "|          Tf-IDF          | Decision-Tree-Classiffier | 69.96444444444444 | Overfitt |\n",
      "|     Average-word2vec     | Decision-Tree-Classiffier |       74.06       | Overfitt |\n",
      "| TF-IDF-Weighted-word2vec | Decision-Tree-Classiffier | 72.22444444444444 | Overfitt |\n",
      "+--------------------------+---------------------------+-------------------+----------+\n"
     ]
    }
   ],
   "source": [
    "conclusion_table()"
   ]
  },
  {
   "cell_type": "markdown",
   "metadata": {},
   "source": [
    "<ul>\n",
    "    <li>From the above comparison table I can conclude that Decision tree Classiffier easily overfitts in text data because of increased depth value even after tuning the hyperparameters.</li>\n",
    "    <li>The Average word2vec vectorizer gave the best accuracy as compared to the other vectorizers.</li>\n",
    "    <li>Decsion tree classiffier is not the goto model if the data is text or a high dimensional data.</li>\n",
    "    "
   ]
  },
  {
   "cell_type": "code",
   "execution_count": null,
   "metadata": {},
   "outputs": [],
   "source": []
  }
 ],
 "metadata": {
  "kernelspec": {
   "display_name": "Python 3",
   "language": "python",
   "name": "python3"
  },
  "language_info": {
   "codemirror_mode": {
    "name": "ipython",
    "version": 3
   },
   "file_extension": ".py",
   "mimetype": "text/x-python",
   "name": "python",
   "nbconvert_exporter": "python",
   "pygments_lexer": "ipython3",
   "version": "3.6.5"
  }
 },
 "nbformat": 4,
 "nbformat_minor": 2
}
